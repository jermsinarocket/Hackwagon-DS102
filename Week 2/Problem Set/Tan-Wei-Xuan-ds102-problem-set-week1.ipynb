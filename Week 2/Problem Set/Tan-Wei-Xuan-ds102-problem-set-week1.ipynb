{
 "cells": [
  {
   "cell_type": "markdown",
   "metadata": {},
   "source": [
    "<center><h2>DS102 Problem Set - Week 1</h2></center>\n",
    "**Hackwagon Academy**\n",
    "\n",
    "`HWA-DS102-PS1-201810`\n",
    "<hr>\n",
    "\n",
    "If you have any questions to the Problem Set, feel free to send a message to your TAs or Instructors in the Telegram chat. You are encouraged to also discuss the problem sets within your own groups.\n",
    "\n",
    "<div class=\"alert alert-success\">Before you start, fill in your details for this notebook and rename the notebook to `<your_name>-problem-set-week-1`, for example `jane-doe-problem-set-week-1`.</div>"
   ]
  },
  {
   "cell_type": "code",
   "execution_count": 1,
   "metadata": {
    "ExecuteTime": {
     "end_time": "2018-09-25T00:58:17.680076Z",
     "start_time": "2018-09-25T00:58:17.658209Z"
    }
   },
   "outputs": [],
   "source": [
    "# Name  : Tan Wei Xuan\n",
    "# Class : DS102 (Saturday/3.30pm)"
   ]
  },
  {
   "cell_type": "markdown",
   "metadata": {},
   "source": [
    "#### Datasets Required:\n",
    "\n",
    "- `kor-tourist-arrivals.csv`\n",
    "\n",
    "- `kor-tourist-departures.csv`\n",
    "\n",
    "- `spotify-100.csv`\n"
   ]
  },
  {
   "cell_type": "markdown",
   "metadata": {},
   "source": [
    "### Part 1 (7 Marks)\n",
    "\n",
    "The datasets `kor-tourist-arrivals.csv` and `kor-tourist-departures.csv` are given to you. They are taken from the [Korean Tourism Organization](https://kto.visitkorea.or.kr/eng/tourismStatics/keyFacts/KoreaMonthlyStatistics.kto) website. The definition of each column is as follows:\n",
    "\n",
    "<p></p>\n",
    "<center>`kor-tourist-arrivals.csv`</center>\n",
    "\n",
    "\n",
    "| col name | definition | datatype | example |\n",
    "| -------- | ---------- | -------- | ------- |\n",
    "| visitor_arrivals | The number of visitor arrivals | int | 3683779 |\n",
    "| year | The year of tourist arrivals | int | 2010 |\n",
    "\n",
    "\n",
    "<p></p>\n",
    "<p></p>\n",
    "<center>`kor-tourist-departures.csv`</center>\n",
    "\n",
    "| col name | definition | datatype | example |\n",
    "| -------- | ---------- | -------- | ------- |\n",
    "| visitor_departures | The number of visitor departures | int | 13736976 |\n",
    "| year | The year of tourist departures | int | 2010 |\n",
    "\n",
    "Using the datasets, answer the following questions. Mark breakdowns are stated in the question e.g. **`[1]`**. <span style=\"color:darkblue\">**Where stated, both the <u>code</u> and <u>typed answers</u> must be provided to receive full credit.**</span>"
   ]
  },
  {
   "cell_type": "code",
   "execution_count": 2,
   "metadata": {
    "ExecuteTime": {
     "end_time": "2018-09-25T00:58:18.630113Z",
     "start_time": "2018-09-25T00:58:17.703922Z"
    }
   },
   "outputs": [],
   "source": [
    "# import the relevant packages\n",
    "import pandas as pd\n",
    "import numpy as np\n",
    "import matplotlib.pyplot as plt"
   ]
  },
  {
   "cell_type": "markdown",
   "metadata": {},
   "source": [
    "** Read from CSV to `df`**\n",
    "\n",
    "Read the data from the `kor-tourist-arrivals.csv` CSV file into a `DataFrame` called `kor_arrivals_df`. Also read the data from the `kor-tourist-departures.csv` CSV file into a `DataFrame` called `kor_departures_df`."
   ]
  },
  {
   "cell_type": "code",
   "execution_count": 3,
   "metadata": {
    "ExecuteTime": {
     "end_time": "2018-09-25T00:58:18.643622Z",
     "start_time": "2018-09-25T00:58:18.632913Z"
    }
   },
   "outputs": [],
   "source": [
    "# Read from CSV to df\n",
    "kor_arrivals_df = pd.read_csv('kor-tourist-arrivals.csv')\n",
    "kor_departures_df = pd.read_csv('kor-tourist-departures.csv')\n"
   ]
  },
  {
   "cell_type": "markdown",
   "metadata": {},
   "source": [
    "**1A.** \n",
    "\n",
    "**i)** How many records are there in `kor_arrivals_df`? **`[0.5]`**"
   ]
  },
  {
   "cell_type": "code",
   "execution_count": 4,
   "metadata": {
    "ExecuteTime": {
     "end_time": "2018-09-25T00:58:18.656680Z",
     "start_time": "2018-09-25T00:58:18.649925Z"
    }
   },
   "outputs": [
    {
     "name": "stdout",
     "output_type": "stream",
     "text": [
      "Total Records:  19\n"
     ]
    }
   ],
   "source": [
    "# How many records are there in kor_arrivals_df?\n",
    "print(\"Total Records: \", len(kor_arrivals_df))\n",
    "\n",
    "# There are total of 19 records "
   ]
  },
  {
   "cell_type": "markdown",
   "metadata": {},
   "source": [
    "**ii)** What is the earliest and latest year in the tourist arrivals dataset? **`[0.5]`**"
   ]
  },
  {
   "cell_type": "code",
   "execution_count": 5,
   "metadata": {
    "ExecuteTime": {
     "end_time": "2018-09-25T00:58:18.671857Z",
     "start_time": "2018-09-25T00:58:18.665134Z"
    }
   },
   "outputs": [
    {
     "name": "stdout",
     "output_type": "stream",
     "text": [
      "Earliest Year:  1996\n",
      "Latest Year:  2014\n"
     ]
    }
   ],
   "source": [
    "# What is the earliest and latest year in the tourist arrivals dataset?\n",
    "\n",
    "#Earliest Year\n",
    "print(\"Earliest Year: \",kor_arrivals_df['year'].min())\n",
    "\n",
    "#Latest Year\n",
    "print(\"Latest Year: \",kor_arrivals_df['year'].max())\n",
    "\n",
    "# The earlist year in the tourist arrivals dataset is 1996\n",
    "# The latest year in the tourist arrivals dataset is 2014"
   ]
  },
  {
   "cell_type": "markdown",
   "metadata": {},
   "source": [
    "**1B.** \n",
    "\n",
    "**i)** How many records are there in `kor_departures_df`? **`[0.5]`**"
   ]
  },
  {
   "cell_type": "code",
   "execution_count": 6,
   "metadata": {
    "ExecuteTime": {
     "end_time": "2018-09-25T00:58:18.688616Z",
     "start_time": "2018-09-25T00:58:18.676510Z"
    }
   },
   "outputs": [
    {
     "name": "stdout",
     "output_type": "stream",
     "text": [
      "Total Records:  16\n"
     ]
    }
   ],
   "source": [
    "# How many records are there in kor_departures_df?\n",
    "# Write your code here\n",
    "print(\"Total Records: \",len(kor_departures_df))\n",
    "\n",
    "# There are a total of 16 records"
   ]
  },
  {
   "cell_type": "markdown",
   "metadata": {},
   "source": [
    "**ii)** What is the earliest and latest year in the tourist departures dataset? **`[0.5]`**"
   ]
  },
  {
   "cell_type": "code",
   "execution_count": 7,
   "metadata": {
    "ExecuteTime": {
     "end_time": "2018-09-25T00:58:18.699737Z",
     "start_time": "2018-09-25T00:58:18.692187Z"
    }
   },
   "outputs": [
    {
     "name": "stdout",
     "output_type": "stream",
     "text": [
      "Earliest Year:  2000\n",
      "Latest Year:  2015\n"
     ]
    }
   ],
   "source": [
    "# What is the earliest and latest year in the tourist departures dataset\n",
    "\n",
    "#Earliest Year\n",
    "print(\"Earliest Year: \",kor_departures_df['year'].min())\n",
    "\n",
    "#Latest Year\n",
    "print(\"Latest Year: \", kor_departures_df['year'].max())\n",
    "\n",
    "# The earlist year in the tourist arrivals dataset is 2000\n",
    "# The latest year in the tourist arrivals dataset is 2015"
   ]
  },
  {
   "cell_type": "markdown",
   "metadata": {},
   "source": [
    "**1C**. From $2005$ to $2010$, what was the average (mean) number of tourist departures per year? **`[1]`**"
   ]
  },
  {
   "cell_type": "code",
   "execution_count": 8,
   "metadata": {
    "ExecuteTime": {
     "end_time": "2018-09-25T00:58:18.714989Z",
     "start_time": "2018-09-25T00:58:18.703499Z"
    },
    "scrolled": false
   },
   "outputs": [
    {
     "name": "stdout",
     "output_type": "stream",
     "text": [
      "Mean : 10648052.5\n"
     ]
    }
   ],
   "source": [
    "# From 2005 to 2010, what is the average (mean) number of tourist departures per year?\n",
    "\n",
    "kor_departures_filt = kor_departures_df[(kor_departures_df['year'] >= 2005) & (kor_departures_df['year'] <= 2010)]\n",
    "\n",
    "print(\"Mean :\", kor_departures_filt['tourist_departures'].mean())\n",
    "\n",
    "# The average (mean) number of tourist departures per year Is 10648052.5"
   ]
  },
  {
   "cell_type": "markdown",
   "metadata": {},
   "source": [
    "**1D.** \n",
    "\n",
    "**i)** How many tourist arrivals were there in the year $2004$? **`[0.5]`**"
   ]
  },
  {
   "cell_type": "code",
   "execution_count": 9,
   "metadata": {
    "ExecuteTime": {
     "end_time": "2018-09-25T00:58:18.735599Z",
     "start_time": "2018-09-25T00:58:18.718446Z"
    }
   },
   "outputs": [
    {
     "name": "stdout",
     "output_type": "stream",
     "text": [
      "Tourist Arrivals (2004):  5818138\n"
     ]
    }
   ],
   "source": [
    "# How many tourist arrivals were there in the year 2004?\n",
    "\n",
    "print(\"Tourist Arrivals (2004): \",kor_arrivals_df[(kor_arrivals_df['year'] == 2004)]['tourist_arrivals'].values[0])\n",
    "\n",
    "# There were 5818138 tourist arrivals in the year 2004"
   ]
  },
  {
   "cell_type": "markdown",
   "metadata": {
    "ExecuteTime": {
     "end_time": "2018-09-24T12:54:19.603047Z",
     "start_time": "2018-09-24T12:54:19.598229Z"
    }
   },
   "source": [
    "**ii)** In which year were there $5,347,468$ tourist arrivals? **`[0.5]`**"
   ]
  },
  {
   "cell_type": "code",
   "execution_count": 10,
   "metadata": {
    "ExecuteTime": {
     "end_time": "2018-09-25T00:58:18.763842Z",
     "start_time": "2018-09-25T00:58:18.747567Z"
    },
    "scrolled": true
   },
   "outputs": [
    {
     "name": "stdout",
     "output_type": "stream",
     "text": [
      "Year:  2002\n"
     ]
    }
   ],
   "source": [
    "# In which year were there 5347468 tourist arrivals?\n",
    "# Write your code here\n",
    "print(\"Year: \",kor_arrivals_df[(kor_arrivals_df['tourist_arrivals'] == 5347468)]['year'].values[0])\n",
    "\n",
    "# There were 5,347,468 tourist arrivals in the year 2002"
   ]
  },
  {
   "cell_type": "markdown",
   "metadata": {},
   "source": [
    "**1E**. From 1996 to 2014, in what years were the number of tourist arrivals between $6,000,000$ and $12,000,000$? **`[1]`**"
   ]
  },
  {
   "cell_type": "code",
   "execution_count": 11,
   "metadata": {
    "ExecuteTime": {
     "end_time": "2018-09-25T00:58:18.800864Z",
     "start_time": "2018-09-25T00:58:18.767607Z"
    },
    "scrolled": true
   },
   "outputs": [
    {
     "data": {
      "text/html": [
       "<div>\n",
       "<style scoped>\n",
       "    .dataframe tbody tr th:only-of-type {\n",
       "        vertical-align: middle;\n",
       "    }\n",
       "\n",
       "    .dataframe tbody tr th {\n",
       "        vertical-align: top;\n",
       "    }\n",
       "\n",
       "    .dataframe thead th {\n",
       "        text-align: right;\n",
       "    }\n",
       "</style>\n",
       "<table border=\"1\" class=\"dataframe\">\n",
       "  <thead>\n",
       "    <tr style=\"text-align: right;\">\n",
       "      <th></th>\n",
       "      <th>year</th>\n",
       "      <th>tourist_arrivals</th>\n",
       "    </tr>\n",
       "  </thead>\n",
       "  <tbody>\n",
       "    <tr>\n",
       "      <th>9</th>\n",
       "      <td>2005</td>\n",
       "      <td>6022752</td>\n",
       "    </tr>\n",
       "    <tr>\n",
       "      <th>10</th>\n",
       "      <td>2006</td>\n",
       "      <td>6155046</td>\n",
       "    </tr>\n",
       "    <tr>\n",
       "      <th>11</th>\n",
       "      <td>2007</td>\n",
       "      <td>6448240</td>\n",
       "    </tr>\n",
       "    <tr>\n",
       "      <th>12</th>\n",
       "      <td>2008</td>\n",
       "      <td>6890841</td>\n",
       "    </tr>\n",
       "    <tr>\n",
       "      <th>13</th>\n",
       "      <td>2009</td>\n",
       "      <td>7817533</td>\n",
       "    </tr>\n",
       "    <tr>\n",
       "      <th>14</th>\n",
       "      <td>2010</td>\n",
       "      <td>8797658</td>\n",
       "    </tr>\n",
       "    <tr>\n",
       "      <th>15</th>\n",
       "      <td>2011</td>\n",
       "      <td>9794796</td>\n",
       "    </tr>\n",
       "    <tr>\n",
       "      <th>16</th>\n",
       "      <td>2012</td>\n",
       "      <td>11140028</td>\n",
       "    </tr>\n",
       "  </tbody>\n",
       "</table>\n",
       "</div>"
      ],
      "text/plain": [
       "    year  tourist_arrivals\n",
       "9   2005           6022752\n",
       "10  2006           6155046\n",
       "11  2007           6448240\n",
       "12  2008           6890841\n",
       "13  2009           7817533\n",
       "14  2010           8797658\n",
       "15  2011           9794796\n",
       "16  2012          11140028"
      ]
     },
     "execution_count": 11,
     "metadata": {},
     "output_type": "execute_result"
    }
   ],
   "source": [
    "# From 1996 to 2014, in what years was the number of tourist arrivals between 6000000 and 12000000?\n",
    "kor_arrivals_df[(kor_arrivals_df['tourist_arrivals'] >= 6000000) & (kor_arrivals_df['tourist_arrivals'] <= 12000000)]\n",
    "\n",
    "# The number of tourist arrivals between 6,000,000 and 12,000,000 in the years 2005, 2006, 2007, 2008, 2009, 2010, 2011 and 2012"
   ]
  },
  {
   "cell_type": "markdown",
   "metadata": {},
   "source": [
    "**1F**. What was the year with the <u>lowest</u> number of departures? **`[1]`**"
   ]
  },
  {
   "cell_type": "code",
   "execution_count": 12,
   "metadata": {
    "ExecuteTime": {
     "end_time": "2018-09-25T00:58:18.822694Z",
     "start_time": "2018-09-25T00:58:18.804576Z"
    },
    "scrolled": true
   },
   "outputs": [
    {
     "name": "stdout",
     "output_type": "stream",
     "text": [
      "Year with lowest departures:  2000\n"
     ]
    }
   ],
   "source": [
    "# What was the year with the lowest number of departures?\n",
    "\n",
    "print(\"Year with lowest departures: \",kor_departures_df.loc[kor_departures_df['tourist_departures'].idxmin()]['year'])\n",
    "\n",
    "# The year with the lowest number of departures is 2015"
   ]
  },
  {
   "cell_type": "markdown",
   "metadata": {},
   "source": [
    "**1G**. In 2012, how many more / less departures were there, compared to arrivals? **`[1]`**"
   ]
  },
  {
   "cell_type": "code",
   "execution_count": 13,
   "metadata": {
    "ExecuteTime": {
     "end_time": "2018-09-25T00:58:18.838439Z",
     "start_time": "2018-09-25T00:58:18.826051Z"
    }
   },
   "outputs": [
    {
     "name": "stdout",
     "output_type": "stream",
     "text": [
      "Departures MORE than Arrivals by:  2596948\n"
     ]
    }
   ],
   "source": [
    "# How many more / less departures were there, compared to arrivals in 2012?\n",
    "kor_arrivals_filt = kor_arrivals_df[(kor_arrivals_df['year'] == 2012)]['tourist_arrivals'].values[0]\n",
    "kor_departures_filt = kor_departures_df[(kor_departures_df['year'] == 2012)]['tourist_departures'].values[0]\n",
    "\n",
    "diff = kor_departures_filt - kor_arrivals_filt\n",
    "\n",
    "if(diff > 0):\n",
    "    print(\"Departures MORE than Arrivals by: \", diff)\n",
    "else:\n",
    "    print(\"Departures LESS than arrivals by \", diff )\n",
    "\n",
    "# There are 2596948 more depatures than arrivals in the year 2012."
   ]
  },
  {
   "cell_type": "markdown",
   "metadata": {},
   "source": [
    "<div class=\"alert alert-success\">\n",
    "**Checkpoint**: When you have completed Part 1, upload your progress to eLearn. eLearn only accepts the latest notebooks so if you have an existing notebook, your latest upload will **override** it.\n",
    "</div>\n",
    "\n",
    "### Part 2 (5 Marks)\n",
    "\n",
    "The dataset `spotify-100.csv` is given to you. They are taken from Kaggle's [Top Spotify Tracks of 2017](https://www.kaggle.com/nadintamer/top-tracks-of-2017). The definition of each column is as follows:\n",
    "\n",
    "<p></p>\n",
    "<center>`spotify-100.csv`</center>\n",
    "\n",
    "| col name | definition | datatype | example |\n",
    "| -------- | ---------- | -------- | ------- |\n",
    "| id | The id of a song | str | 1x5sYLZiu9r5E43kMlt9f |\n",
    "| name | The name of a song | str | Just Hold On |\n",
    "| artists | The artist/s that sang the song | str | Drake |\n",
    "| danceability | Danceability describes how suitable a track is for dancing based on a combination of musical elements including tempo, rhythm stability, beat strength, and overall regularity. A value of 0.0 is least danceable and 1.0 is most danceable. | float | 0.707 | \n",
    "| energy | Energy is a measure from 0.0 to 1.0 and represents a perceptual measure of intensity and activity. Typically, energetic tracks feel fast, loud, and noisy. For example, death metal has high energy, while a Bach prelude scores low on the scale. Perceptual features contributing to this attribute include dynamic range, perceived loudness, timbre, onset rate, and general entropy. | float | 0.932 |\n",
    "| key | The key the track is in. Integers map to pitches using standard Pitch Class notation. E.g. 0 = C, 1 = C♯/D♭, 2 = D, and so on. | float | 11.0 |\n",
    "| instrumentals | Predicts whether a track contains no vocals. \"Ooh\" and \"aah\" sounds are treated as instrumental in this context. Rap or spoken word tracks are clearly \"vocal\". The closer the instrumentalness value is to 1.0, the greater likelihood the track contains no vocal content. Values above 0.5 are intended to represent instrumental tracks, but confidence is higher as the value approaches 1.0. | float | 0.000016 |\n",
    "| duration_ms | The duration of the track in milliseconds. | float | 212459.0 | \n",
    "\n",
    "Using the dataset, answer the following questions. Mark breakdowns are stated in the question e.g. **`[1]`**. <span style=\"color:darkblue\">**Where stated, both the <u>code</u> and <u>typed answers</u> must be provided to receive full credit.**</span>"
   ]
  },
  {
   "cell_type": "markdown",
   "metadata": {},
   "source": [
    "** Read from CSV to `df`**\n",
    "\n",
    "Read the data from `spotify-100.csv` into `DataFrame` called `songs_df`. Specify the `sep` parameter accordingly. Refer to [the documentation](https://pandas.pydata.org/pandas-docs/stable/generated/pandas.read_csv.html) to help you."
   ]
  },
  {
   "cell_type": "code",
   "execution_count": 3,
   "metadata": {
    "ExecuteTime": {
     "end_time": "2018-09-25T00:58:18.858184Z",
     "start_time": "2018-09-25T00:58:18.842193Z"
    }
   },
   "outputs": [],
   "source": [
    "# Read from CSV to df\n",
    "songs_df = pd.read_csv('spotify-100.csv',sep='|')"
   ]
  },
  {
   "cell_type": "markdown",
   "metadata": {},
   "source": [
    "**2A.** What is the song with the lowest `duration_ms` in the dataset? **`[1]`**"
   ]
  },
  {
   "cell_type": "code",
   "execution_count": 4,
   "metadata": {
    "ExecuteTime": {
     "end_time": "2018-09-25T00:58:18.872339Z",
     "start_time": "2018-09-25T00:58:18.862611Z"
    }
   },
   "outputs": [
    {
     "name": "stdout",
     "output_type": "stream",
     "text": [
      "Song with the lowest duration_ms: \n",
      " name       Body Like A Back Road\n",
      "artists                 Sam Hunt\n",
      "Name: 97, dtype: object\n"
     ]
    }
   ],
   "source": [
    "# What is the song with the lowest duration_ms?\n",
    "\n",
    "print(\"Song with the lowest duration_ms: \\n\",songs_df.loc[songs_df['duration_ms'].idxmin()][['name','artists']])\n",
    "\n",
    "# The song with the lowest duration_ms is Body Like A Back Road by Sam Hunt"
   ]
  },
  {
   "cell_type": "markdown",
   "metadata": {},
   "source": [
    "**2B.** What is the mean of the `duration_ms` column in the dataset, ** in seconds**? **`[1]`**"
   ]
  },
  {
   "cell_type": "code",
   "execution_count": 16,
   "metadata": {
    "ExecuteTime": {
     "end_time": "2018-09-25T00:58:18.882248Z",
     "start_time": "2018-09-25T00:58:18.877094Z"
    }
   },
   "outputs": [
    {
     "name": "stdout",
     "output_type": "stream",
     "text": [
      "Mean of duration_ms(seconds):  218.38728\n"
     ]
    }
   ],
   "source": [
    "# What is the mean of the duration_ms column, in seconds?\n",
    "\n",
    "duration_ms_mean = songs_df.loc[:,\"duration_ms\"].mean()\n",
    "\n",
    "duration_seconds_mean = (duration_ms_mean/float(1000))\n",
    "\n",
    "print(\"Mean of duration_ms(seconds): \", duration_seconds_mean)\n",
    "\n",
    "#The mean of the duration_ms coloumn is 218.38728 seconds."
   ]
  },
  {
   "cell_type": "markdown",
   "metadata": {},
   "source": [
    "**2C.** What is the standard deviation of the `duration_ms` column in the dataset, ** in seconds**? **`[1]`**"
   ]
  },
  {
   "cell_type": "code",
   "execution_count": 17,
   "metadata": {
    "ExecuteTime": {
     "end_time": "2018-09-25T00:58:18.899736Z",
     "start_time": "2018-09-25T00:58:18.885963Z"
    }
   },
   "outputs": [
    {
     "name": "stdout",
     "output_type": "stream",
     "text": [
      "Standard Deviation of duration_ms(seconds):  32.851077720457745\n"
     ]
    }
   ],
   "source": [
    "# What is the standard deviation of the duration_ms column, in seconds?\n",
    "duration_ms_std = songs_df.loc[:,\"duration_ms\"].std()\n",
    "\n",
    "duration_seconds_std = (duration_ms_std/float(1000))\n",
    "\n",
    "print(\"Standard Deviation of duration_ms(seconds): \", duration_seconds_std)\n",
    "\n",
    "#The standard deviation of the duration_ms coloumn is 32.851077720457745 seconds."
   ]
  },
  {
   "cell_type": "markdown",
   "metadata": {},
   "source": [
    "**2D.** What is the skewness of the `danceability` column in the dataset? Does it mean that the series is right-tailed or left-tailed? **`[1]`**"
   ]
  },
  {
   "cell_type": "code",
   "execution_count": 14,
   "metadata": {
    "ExecuteTime": {
     "end_time": "2018-09-25T00:58:18.915768Z",
     "start_time": "2018-09-25T00:58:18.904172Z"
    }
   },
   "outputs": [
    {
     "name": "stdout",
     "output_type": "stream",
     "text": [
      "Skew value:  -0.8927224225971558\n"
     ]
    },
    {
     "data": {
      "image/png": "[encoded data removed]",
      "text/plain": [
       "<Figure size 1296x432 with 1 Axes>"
      ]
     },
     "metadata": {
      "needs_background": "light"
     },
     "output_type": "display_data"
    }
   ],
   "source": [
    "# What is the skewness of the danceability column in the dataset?\n",
    "print(\"Skew value: \", songs_df['danceability'].skew())\n",
    "\n",
    "# The skewness of the danceability column in the dataset is -0.8927224225971558\n",
    "\n",
    "# Is the series right-tailed or left-tailed?\n",
    "# The series is left-tailed since the skewness value is negative\n",
    "\n",
    "# Create the figure and the subplots\n",
    "plt.figure(figsize=(18, 6))\n",
    "#Plot the histogram for 'price'. \n",
    "ax1 = plt.subplot(111)\n",
    "songs_df['danceability'].plot(kind='hist', bins=20 , ax=ax1)\n",
    "ax1.set_xlabel(\"Danceability\", fontsize=14)\n",
    "plt.title(\"Histogram for Danceability, 20 bins\")\n",
    "# Show the plot\n",
    "plt.show()\n"
   ]
  },
  {
   "cell_type": "markdown",
   "metadata": {},
   "source": [
    "**2E.** What is the kurtosis calculation for the `energy` column in the dataset?  **`[1]`**"
   ]
  },
  {
   "cell_type": "code",
   "execution_count": 10,
   "metadata": {
    "ExecuteTime": {
     "end_time": "2018-09-25T00:58:18.930432Z",
     "start_time": "2018-09-25T00:58:18.920181Z"
    }
   },
   "outputs": [
    {
     "name": "stdout",
     "output_type": "stream",
     "text": [
      "Kurtosis:  -0.8328329240469872\n"
     ]
    }
   ],
   "source": [
    "# What is the kurtosis calculation for the energy column?\n",
    "print(\"Kurtosis: \", songs_df['energy'].kurt())\n",
    "\n",
    "# The kurtosis for the energy colomn is -0.8328329240469872\n"
   ]
  },
  {
   "cell_type": "markdown",
   "metadata": {},
   "source": [
    "<div class=\"alert alert-success\">\n",
    "**Checkpoint**: When you have completed Part 2, upload your progress to eLearn. eLearn only accepts the latest notebooks so if you have an existing notebook, your latest upload will **override** it.\n",
    "</div>"
   ]
  }
 ],
 "metadata": {
  "kernelspec": {
   "display_name": "Python 3",
   "language": "python",
   "name": "python3"
  },
  "language_info": {
   "codemirror_mode": {
    "name": "ipython",
    "version": 3
   },
   "file_extension": ".py",
   "mimetype": "text/x-python",
   "name": "python",
   "nbconvert_exporter": "python",
   "pygments_lexer": "ipython3",
   "version": "3.7.2"
  }
 },
 "nbformat": 4,
 "nbformat_minor": 2
}
