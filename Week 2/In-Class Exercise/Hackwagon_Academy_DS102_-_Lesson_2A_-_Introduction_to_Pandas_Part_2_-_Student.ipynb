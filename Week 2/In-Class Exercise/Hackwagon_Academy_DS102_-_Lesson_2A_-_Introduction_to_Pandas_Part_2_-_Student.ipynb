{
 "cells": [
  {
   "cell_type": "markdown",
   "metadata": {},
   "source": [
    "<center><img src=\"https://i2.wp.com/hackwagon.com/wp-content/uploads/2017/02/Logo-Web-Export.png?ssl=1\" width=200/></center>\n",
    "<h1> Hackwagon Academy DS102 Lesson 2A </h1>\n",
    "<h2> Introduction to Pandas Part 2</h2> \n",
    "<h3> Lesson Outline </h3>\n",
    "\n",
    "- 1. [Recap](#1)\n",
    "    - 1.1 [Series](#1.1)\n",
    "    - 1.2 [DataFrame](#1.2)\n",
    "    - 1.3 [Filtering](#1.3)\n",
    "    - 1.4 [Simple Aggregation](#1.4)\n",
    "    - [Practice I](#P1)\n",
    "- 2. [Data Preprocessing & Cleaning](#2)\n",
    "    - 2.1 [Functions Recap](#2.1)\n",
    "    - 2.2 [.apply()](#2.2)\n",
    "    - 2.3 [.replace()](#2.3)\n",
    "    - 2.4 [Pokemon Dataset](#2.4)\n",
    "    - [Practice II](#P2)\n",
    "- 3. [Pivot Tables](#3)\n",
    "    - 3.1 [Visualized](#3.1)\n",
    "    - 3.2 [Accessing](#3.2)"
   ]
  },
  {
   "cell_type": "markdown",
   "metadata": {},
   "source": [
    "<div class=\"alert alert-block alert-info\">\n",
    "<b>Datasets:</b>\n",
    "\n",
    "1. hackwagon-102pandassandbox.csv\n",
    "\n",
    "2. wines-3k.csv\n",
    "\n",
    "3. pokemon.csv\n",
    "</div>"
   ]
  },
  {
   "cell_type": "markdown",
   "metadata": {},
   "source": [
    "### Import Libraries"
   ]
  },
  {
   "cell_type": "code",
   "execution_count": null,
   "metadata": {},
   "outputs": [],
   "source": [
    "import pandas as pd\n",
    "import numpy as np"
   ]
  },
  {
   "cell_type": "markdown",
   "metadata": {},
   "source": [
    "<hr/>\n",
    "\n",
    "<a id='1'><h2><img src=\"https://images.vexels.com/media/users/3/153978/isolated/preview/483ef8b10a46e28d02293a31570c8c56-warning-sign-colored-stroke-icon-by-vexels.png\" width=23 align=\"left\"><font color=\"salmon\">&nbsp;1.</font><font color=\"salmon\"> Recap </font> </h2></a>"
   ]
  },
  {
   "cell_type": "markdown",
   "metadata": {},
   "source": [
    "<a id='1.1'><h3>1.1 DataFrame</h3></a>\n",
    "\n",
    "A two-dimensional, tabular data structure with labeled axes (rows and columns), and is the **primary** pandas data structure. You can think of a `DataFrame` as a spreadsheet in Python.\n",
    "A `DataFrame` is made up of multiple `Series` objects stuck together vertically and horizontally. <br>"
   ]
  },
  {
   "cell_type": "code",
   "execution_count": null,
   "metadata": {},
   "outputs": [],
   "source": [
    "feedback_df = pd.read_csv('hackwagon-102pandassandbox.csv')\n",
    "feedback_df.head()"
   ]
  },
  {
   "cell_type": "markdown",
   "metadata": {},
   "source": [
    "<a id='1.1'><h3>1.2 Series</h3></a>\n",
    "\n",
    "A `Series` == Row / Column of a `Dataframe`\n",
    "\n",
    "- Extracting a column from a `Dataframe` is very similar to accessing data in a `dictionary`. "
   ]
  },
  {
   "cell_type": "code",
   "execution_count": null,
   "metadata": {},
   "outputs": [],
   "source": [
    "feedback_df['Instructor']"
   ]
  },
  {
   "cell_type": "markdown",
   "metadata": {},
   "source": [
    "### Create New Column with Series \n",
    "\n",
    "We can create new columns to add to a DataFrame.\n",
    "\n",
    "```python\n",
    "    df['new_col_name'] = Series\n",
    "```"
   ]
  },
  {
   "cell_type": "code",
   "execution_count": null,
   "metadata": {},
   "outputs": [],
   "source": [
    "feedback_df['StudentsSquared'] = feedback_df['Students'] ** 2\n",
    "\n",
    "feedback_df.head()"
   ]
  },
  {
   "cell_type": "markdown",
   "metadata": {},
   "source": [
    "<a id='1.3'><h3>1.3 Filtering</h3></a>\n",
    "\n",
    "We can filter for results within a `DataFrame` to get the data we want. \n",
    "\n",
    "We specify the column we want to isolate in the DataFrame, then specify the boolean condition we are looking for. For example, we want to find the `Females` in the `Sex` column. \n",
    "\n",
    "```python\n",
    "df['sex'] == 'Females'\n",
    "\n",
    "# or for multiple conditions, we link them by & (and) or | (or) symbols\n",
    "# where each condition is surrounded by a ()\n",
    "\n",
    "(df['sex'] == 'Females') & (df['type_of_course'] == 'Medicine')\n",
    "\n",
    "```\n",
    "\n",
    "This gives us a Boolean Series of multiple `True` and `False` values. "
   ]
  },
  {
   "cell_type": "code",
   "execution_count": null,
   "metadata": {},
   "outputs": [],
   "source": [
    "ds101_only = feedback_df['ClassType'] == 'DS101'\n",
    "andre_only = feedback_df['Instructor'] == 'Andre'\n",
    "\n",
    "ds101_andre = feedback_df[ds101_only & andre_only]\n",
    "ds101_andre"
   ]
  },
  {
   "cell_type": "markdown",
   "metadata": {},
   "source": [
    "<a id='1.4'><h3>1.4 Simple Aggregation</h3></a>\n",
    "\n",
    "`Dataframes` and `Series` objects have many useful methods to help you compute statistics.\n",
    "\n",
    "<table>\n",
    "  <tr>\n",
    "    <th>Statistical measure</th>\n",
    "    <th>Dataframe method</th>\n",
    "    <th>Series method</th>\n",
    "    <th>Description</th>\n",
    "  </tr>\n",
    "  <tr>\n",
    "    <td>Mean</td>\n",
    "    <td>df.mean()</td>\n",
    "    <td>df['column_name'].mean()</td>\n",
    "    <td>Returns the mean of all columns / the selected column</td>\n",
    "  </tr>\n",
    "  <tr>\n",
    "    <td>Median</td>\n",
    "    <td>df.median()</td>\n",
    "    <td>df['column_name'].median()</td>\n",
    "    <td>Returns the median of all columns / the selected column</td>\n",
    "  </tr>\n",
    "  <tr>\n",
    "    <td>Standard Deviation</td>\n",
    "    <td>df.std()</td>\n",
    "    <td>df['column_name'].std()</td>\n",
    "    <td>Returns the standard deviation of all columns / the selected column</td>\n",
    "  </tr>\n",
    "  <tr>\n",
    "    <td>Sum</td>\n",
    "    <td>df.sum()</td>\n",
    "    <td>df['column_name'].std()</td>\n",
    "    <td>Returns the sum of all columns / the selected column</td>\n",
    "  </tr>\n",
    "  <tr>\n",
    "    <td>...</td>\n",
    "    <td>...</td>\n",
    "    <td>...</td>\n",
    "    <td>...</td>\n",
    "  </tr>\n",
    "</table>"
   ]
  },
  {
   "cell_type": "code",
   "execution_count": null,
   "metadata": {},
   "outputs": [],
   "source": [
    "feedback_df['Students'].mean()"
   ]
  },
  {
   "cell_type": "markdown",
   "metadata": {},
   "source": [
    "<a id='P1'><h2> <img src=\"https://cdn.shopify.com/s/files/1/1200/7374/products/book_aec28e76-52ec-44ab-bc01-41df1279c89f_550x825.png?v=1473897430\" width=25 align=\"left\"> <font color=\"darkorange\"> &nbsp; Practice I </font><font color=\"skyblue\"> * </font></h2></a>\n",
    "\n",
    "### Read Dataset\n",
    "\n",
    "Read the `wines-3k.csv` dataset as `wines_df` (don't forget the `sep='|'` parameter) and preview the dataset with `.head()`."
   ]
  },
  {
   "cell_type": "code",
   "execution_count": null,
   "metadata": {},
   "outputs": [],
   "source": []
  },
  {
   "cell_type": "markdown",
   "metadata": {},
   "source": [
    "### Filter for `Australia` wines and get their average `price`\n",
    "\n",
    "**Expected Output:**\n",
    "    \n",
    "    33.80232558139535"
   ]
  },
  {
   "cell_type": "code",
   "execution_count": null,
   "metadata": {},
   "outputs": [],
   "source": []
  },
  {
   "cell_type": "markdown",
   "metadata": {},
   "source": [
    "<a id='1'><h2><img src=\"https://images.vexels.com/media/users/3/153978/isolated/preview/483ef8b10a46e28d02293a31570c8c56-warning-sign-colored-stroke-icon-by-vexels.png\" width=23 align=\"left\"><font color=\"salmon\">&nbsp;2.</font><font color=\"salmon\"> Data Preprocessing & Cleaning </font> </h2></a>\n",
    "\n",
    "Pandas allow for quick data preprocessing and cleaning with useful methods such as:\n",
    "\n",
    "1. .apply()\n",
    "2. .replace()\n",
    "3. Pivot Table"
   ]
  },
  {
   "cell_type": "markdown",
   "metadata": {},
   "source": [
    "<a id='2.1'><h3>2.1 Functions Recap</h3></a>\n",
    "\n",
    "<img src='https://i.imgur.com/jhpovl8.png' width=\"350\">"
   ]
  },
  {
   "cell_type": "code",
   "execution_count": null,
   "metadata": {},
   "outputs": [],
   "source": [
    "def give_first_item(a_list):\n",
    "    return a_list[0]"
   ]
  },
  {
   "cell_type": "code",
   "execution_count": null,
   "metadata": {},
   "outputs": [],
   "source": [
    "print(give_first_item([10,20,30,40]))\n",
    "print(give_first_item([100,200,300]))"
   ]
  },
  {
   "cell_type": "markdown",
   "metadata": {},
   "source": [
    "### The Lambda \n",
    "\n",
    "The `lambda` reserved keyword is a short form way of making a function.\n",
    "\n",
    "<img src=\"https://i.imgur.com/dVP1PBy.png\" width='200'>"
   ]
  },
  {
   "cell_type": "code",
   "execution_count": null,
   "metadata": {},
   "outputs": [],
   "source": [
    "\n",
    "\n",
    "print(lambda_give_first([10,20,30,40]))\n",
    "print(lambda_give_first([100,200,300]))"
   ]
  },
  {
   "cell_type": "markdown",
   "metadata": {},
   "source": [
    "### Hackwagon Pandas Sandbox \n",
    "\n",
    "Open the pandas sandbox dataset"
   ]
  },
  {
   "cell_type": "code",
   "execution_count": null,
   "metadata": {},
   "outputs": [],
   "source": [
    "feedback_df = pd.read_csv('hackwagon-102pandassandbox.csv')\n",
    "feedback_df.head()"
   ]
  },
  {
   "cell_type": "markdown",
   "metadata": {},
   "source": [
    "<a id='2.2'><h3>2.2   .apply()</h3></a>\n",
    "\n",
    "The `.apply()` function is very useful for data cleaning a variable in a dataset. \n",
    "\n",
    "<img src=\"https://i.imgur.com/99M6Vl7.png\" width=\"400\">\n",
    "<img src=\"https://i.imgur.com/wRKXB85.png\" width=\"500\">\n",
    "\n",
    "Even after applying the method, <b>it does not change the column of df permanently.</b> The method returns a new Series object, where you can store it as another variable."
   ]
  },
  {
   "cell_type": "code",
   "execution_count": null,
   "metadata": {},
   "outputs": [],
   "source": [
    "increased_students = feedback_df['Students'].apply(lambda x: x+1)\n",
    "feedback_df['Students'] = increased_students\n",
    "feedback_df.head()"
   ]
  },
  {
   "cell_type": "markdown",
   "metadata": {},
   "source": [
    "<a id='2.3'><h3>2.3  .replace()</h3></a>\n",
    "\n",
    "The `.replace()` method works similarly to `.apply()` but just that its parameter takes in a <b>single value or a list</b> and it requires a second argument, a value to be replaced with.\n",
    "\n",
    "### Investigate Unique\n",
    "\n",
    "To effectively use replace properly, we need to first investigate if the number of unique values within a variable. We can do that by using `.unique()`. "
   ]
  },
  {
   "cell_type": "code",
   "execution_count": null,
   "metadata": {},
   "outputs": [],
   "source": []
  },
  {
   "cell_type": "markdown",
   "metadata": {},
   "source": [
    "### Use `.replace()`\n",
    "<img src=\"https://i.imgur.com/lW14HGv.png\" width=\"400\">\n",
    "<img src=\"https://i.imgur.com/u1deMLN.png\" width=\"500\">\n",
    "\n",
    "Similar to the `.apply()` method, even after applying the method, <b>it does not change the column of df permanently.</b> The method returns a new Series object. Therefore it needs to be stored back to the same column or a new column in the DataFrame."
   ]
  },
  {
   "cell_type": "code",
   "execution_count": null,
   "metadata": {},
   "outputs": [],
   "source": [
    "replaced = feedback_df['Rating'].replace(['Nil','Nope'], 0)\n",
    "feedback_df['Rating'] = replaced.apply(np.int) # To make sure row is numeric\n",
    "feedback_df.head()"
   ]
  },
  {
   "cell_type": "markdown",
   "metadata": {},
   "source": [
    "<a id='2.4'><h3>2.4  Pokemon Dataset</h3></a>\n",
    "\n",
    "Read the `pokemon.csv` as a DataFrame called `pokemon_df`."
   ]
  },
  {
   "cell_type": "code",
   "execution_count": null,
   "metadata": {},
   "outputs": [],
   "source": []
  },
  {
   "cell_type": "markdown",
   "metadata": {},
   "source": [
    "<a id='P1'><h2> <img src=\"https://cdn.shopify.com/s/files/1/1200/7374/products/book_aec28e76-52ec-44ab-bc01-41df1279c89f_550x825.png?v=1473897430\" width=25 align=\"left\"> <font color=\"darkorange\"> &nbsp; Practice II </font><font color=\"skyblue\"> * </font></h2></a>\n",
    "\n",
    "### Calculate Min Max\n",
    "\n",
    "Create 2 variables that has the maxmimum and minimum value of the `Speed` column, naming them `max_speed` and `min_speed`.\n",
    "\n",
    "**Expected Output:**\n",
    "``` python   \n",
    "    180 # max speed\n",
    "    5 # min speed\n",
    "```"
   ]
  },
  {
   "cell_type": "code",
   "execution_count": null,
   "metadata": {},
   "outputs": [],
   "source": []
  },
  {
   "cell_type": "markdown",
   "metadata": {},
   "source": [
    "### Create Normalise Function\n",
    "\n",
    "Using the two variables created above, prepare a function called `calculate_normalised_speed()` that has a parameter `speed`. Inside the function, it should return the result of the following formula:\n",
    "\n",
    "$$\n",
    "\\text{Normalised Speed}_x = \\frac{Speed_x - Speed_{min}}{Speed_{max} - Speed_{min}}\n",
    "$$\n",
    "\n",
    "_You can use `lambda` or `def`_"
   ]
  },
  {
   "cell_type": "code",
   "execution_count": null,
   "metadata": {},
   "outputs": [],
   "source": []
  },
  {
   "cell_type": "markdown",
   "metadata": {},
   "source": [
    "### Using `.apply()`, Create New Column\n",
    "\n",
    "Using the `.apply()` method on the `Speed` column, create a new column called `Normalised_Speed` to the `df`. <b>Make sure you store it back to the `pokemon_df`</b>"
   ]
  },
  {
   "cell_type": "code",
   "execution_count": null,
   "metadata": {},
   "outputs": [],
   "source": []
  },
  {
   "cell_type": "markdown",
   "metadata": {},
   "source": [
    "### Use `.head()` to preview newly altered df"
   ]
  },
  {
   "cell_type": "code",
   "execution_count": null,
   "metadata": {},
   "outputs": [],
   "source": []
  },
  {
   "cell_type": "markdown",
   "metadata": {},
   "source": [
    "### Use `.to_csv()` to save your preprocessed data\n",
    "\n",
    "Save the new df as a new csv file with the `.to_csv()` with `normalised_pokemon.csv` as the name in the ()."
   ]
  },
  {
   "cell_type": "code",
   "execution_count": null,
   "metadata": {},
   "outputs": [],
   "source": []
  },
  {
   "cell_type": "markdown",
   "metadata": {},
   "source": [
    "<a id='3'><h2><img src=\"https://images.vexels.com/media/users/3/153978/isolated/preview/483ef8b10a46e28d02293a31570c8c56-warning-sign-colored-stroke-icon-by-vexels.png\" width=23 align=\"left\"><font color=\"salmon\">&nbsp;3.</font><font color=\"salmon\"> Pivot Tables </font> </h2></a>\n",
    "\n",
    "Pivot Table is one of the most useful and powerful features in pandas but understanding them can be quite challenging. We shall keep our example simple for now, so that it is easy to understand by using our `hackwagon-102sandbox.csv`."
   ]
  },
  {
   "cell_type": "code",
   "execution_count": null,
   "metadata": {},
   "outputs": [],
   "source": [
    "feedback_df = pd.read_csv('hackwagon-102pandassandbox.csv')\n",
    "feedback_df.head()"
   ]
  },
  {
   "cell_type": "markdown",
   "metadata": {},
   "source": [
    "#### Clean the `Rating` Column by `.replace()`\n",
    "\n",
    "Remove all the `Nil` or `Nope` by using the `.replace()` method and place them as 0"
   ]
  },
  {
   "cell_type": "code",
   "execution_count": null,
   "metadata": {},
   "outputs": [],
   "source": [
    "replaced = feedback_df['Rating'].replace(['Nil','Nope'], 0)\n",
    "feedback_df['Rating'] = replaced.apply(np.int) # To make column numeric\n",
    "feedback_df.head()"
   ]
  },
  {
   "cell_type": "markdown",
   "metadata": {},
   "source": [
    "<a id='3.1'><h3>3.1 Visualized</h3></a>\n",
    "\n",
    "<img src=\"https://pbpython.com/images/pivot-table-datasheet.png\">"
   ]
  },
  {
   "cell_type": "code",
   "execution_count": null,
   "metadata": {},
   "outputs": [],
   "source": [
    "pivoted = pd.pivot_table(, # data (data frame)\n",
    "                        index=, \n",
    "                        columns=, # \n",
    "                        values=, # \n",
    "                        aggfunc=, # \n",
    "                        margins=True)\n",
    "pivoted"
   ]
  },
  {
   "cell_type": "markdown",
   "metadata": {},
   "source": [
    "**Credits**\n",
    "- [Wine Reviews, Kaggle](https://www.kaggle.com/zynicide/wine-reviews) for the dataset\n",
    "- [Pokemon with stats, Kaggle](https://www.kaggle.com/abcsds/pokemon) for the dataset"
   ]
  },
  {
   "cell_type": "code",
   "execution_count": null,
   "metadata": {},
   "outputs": [],
   "source": []
  }
 ],
 "metadata": {
  "kernelspec": {
   "display_name": "Python 3",
   "language": "python",
   "name": "python3"
  },
  "language_info": {
   "codemirror_mode": {
    "name": "ipython",
    "version": 3
   },
   "file_extension": ".py",
   "mimetype": "text/x-python",
   "name": "python",
   "nbconvert_exporter": "python",
   "pygments_lexer": "ipython3",
   "version": "3.6.8"
  }
 },
 "nbformat": 4,
 "nbformat_minor": 2
}
