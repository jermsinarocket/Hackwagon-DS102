{
 "cells": [
  {
   "cell_type": "markdown",
   "metadata": {},
   "source": [
    "<center><img src=\"https://i2.wp.com/hackwagon.com/wp-content/uploads/2017/02/Logo-Web-Export.png?ssl=1\" width=200/></center>\n",
    "<h1> Hackwagon Academy DS102 Lesson 2B </h1>\n",
    "<h2> Univariate & Categorical Analysis </h2> \n",
    "<h3> Lesson Outline </h3>\n",
    "\n",
    "- 1. [Univariate Analysis](#1)\n",
    "    - 1.1 [Interquartile Range (IQR)](#1.1)\n",
    "    - 1.2 [Outlier Detection](#1.2)\n",
    "    - 1.3 [Seattle Wages](#1.3)\n",
    "        - [Practice I](#P1)\n",
    "- 2. [Categorical Analysis](#2)\n",
    "    - 2.1 [GroupBy](#2.1)\n",
    "    - 2.2 [Data Aggregation](#2.2)\n",
    "    - 2.3 [Advanced Aggregation](#2.3)\n",
    "    - 2.4 [Pokemon Dataset](#2.4)\n",
    "        - [Practice II](#P2)"
   ]
  },
  {
   "cell_type": "markdown",
   "metadata": {},
   "source": [
    "<div class=\"alert alert-block alert-info\">\n",
    "<b>Datasets:</b>\n",
    "\n",
    "1. hackwagon-102pandassandbox.csv   \n",
    "2. seattle-wages-2k.csv\n",
    "3. pokemon.csv\n",
    "</div>"
   ]
  },
  {
   "cell_type": "markdown",
   "metadata": {},
   "source": [
    "### Import Libraries"
   ]
  },
  {
   "cell_type": "code",
   "execution_count": 3,
   "metadata": {},
   "outputs": [],
   "source": [
    "import re\n",
    "import pandas as pd\n",
    "import numpy as np\n",
    "\n",
    "#For plotting\n",
    "import matplotlib.pyplot as plt\n",
    "import matplotlib"
   ]
  },
  {
   "cell_type": "markdown",
   "metadata": {},
   "source": [
    "<a id='1'><h2><img src=\"https://images.vexels.com/media/users/3/153978/isolated/preview/483ef8b10a46e28d02293a31570c8c56-warning-sign-colored-stroke-icon-by-vexels.png\" width=23 align=\"left\"><font color=\"salmon\">&nbsp;1.</font><font color=\"salmon\"> Univariate Analysis</font> </h2></a>\n",
    "\n",
    "In Univariate Analysis, we want to understand a single variable dataset. The common measures include:\n",
    "\n",
    "1. Mean (Average)\n",
    "2. Median \n",
    "3. Mode \n",
    "4. Max & Min \n",
    "5. Spread \n",
    "\n",
    "One of the most useful measure is understanding the spread of a variable. To measure spread we need to understand the following: \n",
    "- Variance & Standard Deviation (learnt last lesson)\n",
    "- Interquartile Range \n",
    "\n",
    "Once we understand the spread of our dataset, we can also detect <b>outliers</b> within the dataset. We're now going to understand how to understand the spread and distribution of the dataset, then detect the outliers of our dataset."
   ]
  },
  {
   "cell_type": "markdown",
   "metadata": {},
   "source": [
    "<a id='1.1'><h3>1.1 Interquartile Range (IQR)</h3></a>\n",
    "\n",
    "A good statistic for summarizing a non-Gaussian (normal) distribution sample of data is the Interquartile Range, IQR. The values are arranged from the lowest to the highest, \n",
    "- the **first quartile** is the value where 25% of values are below the value. It is also called the 25th percentile\n",
    "- the **second quartile** is the value where 50% of values are below the value. It is also called the 50th percentile or the median\n",
    "- the **third quartile** is the value where 75% of values are below the value. It is also called the 75th percentile\n",
    "\n",
    "<img src=\"https://i.imgur.com/27S1Rkh.png\" width=\"400\">\n",
    "<img src=\"https://i.imgur.com/urMTl4I.png\" width=\"400\">\n",
    "<img src=\"https://i.imgur.com/9SIeV9P.png\" width=\"400\">"
   ]
  },
  {
   "cell_type": "markdown",
   "metadata": {},
   "source": [
    "<a id='1.2'><h3>1.2 Outlier Detection</h3></a>\n",
    "\n",
    "An outlier is an observation that is unlike the other observations. It is rare, or distinct, or does not fit in some way. Outliers can have many causes, such as:\n",
    "\n",
    "- Measurement or input error\n",
    "- Data corruption\n",
    "- True outlier observation (e.g. Michael Jordan in basketball)\n",
    "\n",
    "<img src=\"https://i.imgur.com/qB3Mynv.png\" width=\"500\">"
   ]
  },
  {
   "cell_type": "markdown",
   "metadata": {},
   "source": [
    "<a id='1.3'><h3>1.3 Seattle Wages</h3></a>\n",
    "\n",
    "Prepare the Seattle Wages dataset and let's investigate the possible outliers of this dataset based on `Hourly Rate`. \n",
    "\n",
    "### Load and preview dataset\n",
    "\n",
    "Open the `seattle-wages-2k.csv` and open it with pandas and store into a variable called `wages_df`. Preview the dataset with `.head()`."
   ]
  },
  {
   "cell_type": "code",
   "execution_count": 3,
   "metadata": {},
   "outputs": [
    {
     "data": {
      "text/html": [
       "<div>\n",
       "<style scoped>\n",
       "    .dataframe tbody tr th:only-of-type {\n",
       "        vertical-align: middle;\n",
       "    }\n",
       "\n",
       "    .dataframe tbody tr th {\n",
       "        vertical-align: top;\n",
       "    }\n",
       "\n",
       "    .dataframe thead th {\n",
       "        text-align: right;\n",
       "    }\n",
       "</style>\n",
       "<table border=\"1\" class=\"dataframe\">\n",
       "  <thead>\n",
       "    <tr style=\"text-align: right;\">\n",
       "      <th></th>\n",
       "      <th>Department</th>\n",
       "      <th>Job_Title</th>\n",
       "      <th>Hourly_Rate</th>\n",
       "    </tr>\n",
       "  </thead>\n",
       "  <tbody>\n",
       "    <tr>\n",
       "      <th>0</th>\n",
       "      <td>Seattle Public Utilities</td>\n",
       "      <td>Civil Engrng Spec,Assoc</td>\n",
       "      <td>38.67</td>\n",
       "    </tr>\n",
       "    <tr>\n",
       "      <th>1</th>\n",
       "      <td>Seattle Dept of Transportation</td>\n",
       "      <td>Bridge Elecl Maint Supv</td>\n",
       "      <td>46.15</td>\n",
       "    </tr>\n",
       "    <tr>\n",
       "      <th>2</th>\n",
       "      <td>City Light</td>\n",
       "      <td>Plng&amp;Dev Spec II</td>\n",
       "      <td>40.93</td>\n",
       "    </tr>\n",
       "    <tr>\n",
       "      <th>3</th>\n",
       "      <td>Seattle Center</td>\n",
       "      <td>Stage Tech *</td>\n",
       "      <td>30.42</td>\n",
       "    </tr>\n",
       "    <tr>\n",
       "      <th>4</th>\n",
       "      <td>Mayor's Office</td>\n",
       "      <td>Executive2</td>\n",
       "      <td>67.50</td>\n",
       "    </tr>\n",
       "  </tbody>\n",
       "</table>\n",
       "</div>"
      ],
      "text/plain": [
       "                       Department                Job_Title  Hourly_Rate\n",
       "0        Seattle Public Utilities  Civil Engrng Spec,Assoc        38.67\n",
       "1  Seattle Dept of Transportation  Bridge Elecl Maint Supv        46.15\n",
       "2                      City Light         Plng&Dev Spec II        40.93\n",
       "3                  Seattle Center             Stage Tech *        30.42\n",
       "4                  Mayor's Office               Executive2        67.50"
      ]
     },
     "execution_count": 3,
     "metadata": {},
     "output_type": "execute_result"
    }
   ],
   "source": [
    "wages_df = pd.read_csv('seattle-wages-2k.csv')\n",
    "wages_df.head()"
   ]
  },
  {
   "cell_type": "markdown",
   "metadata": {},
   "source": [
    "### Calculate the Quartiles\n",
    "\n",
    "Using `.quantile()` get Q1 and Q3 and store them in variables `quartile_1` and `quartile_3`. Inside this function set the `q=` parameter to the % of the quartile.\n",
    "\n",
    "**Expected Output:**\n",
    "```python\n",
    "    29.09 # quartile_1\n",
    "    47.9775 # quartile_3\n",
    "```"
   ]
  },
  {
   "cell_type": "code",
   "execution_count": 11,
   "metadata": {},
   "outputs": [
    {
     "data": {
      "text/plain": [
       "47.9775"
      ]
     },
     "execution_count": 11,
     "metadata": {},
     "output_type": "execute_result"
    }
   ],
   "source": [
    "# Calculate the quantiles\n",
    "quartile_1 = wages_df['Hourly_Rate'].quantile(q=0.25)\n",
    "quartile_3= wages_df['Hourly_Rate'].quantile(q=0.75)"
   ]
  },
  {
   "cell_type": "markdown",
   "metadata": {},
   "source": [
    "<a id='P1'><h2> <img src=\"https://cdn.shopify.com/s/files/1/1200/7374/products/book_aec28e76-52ec-44ab-bc01-41df1279c89f_550x825.png?v=1473897430\" width=25 align=\"left\"> <font color=\"darkorange\"> &nbsp; Practice I </font><font color=\"skyblue\"> * </font></h2></a>\n",
    "\n",
    "### Calculate the IQR \n",
    "\n",
    "Using the above variables, calculate the IQR and store it in the variable `IQR`.\n",
    "\n",
    "**Expected Output:**\n",
    "\n",
    "    18.8875"
   ]
  },
  {
   "cell_type": "code",
   "execution_count": 12,
   "metadata": {},
   "outputs": [
    {
     "data": {
      "text/plain": [
       "18.8875"
      ]
     },
     "execution_count": 12,
     "metadata": {},
     "output_type": "execute_result"
    }
   ],
   "source": [
    "# Calculate IQR\n",
    "IQR = quartile_3 - quartile_1\n",
    "\n",
    "IQR"
   ]
  },
  {
   "cell_type": "markdown",
   "metadata": {},
   "source": [
    "### Calculate Bounds\n",
    "\n",
    "Using the variables above, calculate the upper and lower bounds and store them into the variables `lower_bound` and `upper_bound`.\n",
    "\n",
    "**Expected Output:**\n",
    "```python\n",
    "    0.7587500000000027 # lower bound\n",
    "    76.30875 # upper bound\n",
    "```"
   ]
  },
  {
   "cell_type": "code",
   "execution_count": 17,
   "metadata": {},
   "outputs": [],
   "source": [
    "# Calculate Upper and Lower Bounds\n",
    "lower_bound = quartile_1 - 1.5*IQR\n",
    "\n",
    "upper_bound = quartile_3 + 1.5*IQR\n"
   ]
  },
  {
   "cell_type": "markdown",
   "metadata": {},
   "source": [
    "### Filter Data for Rows Within Bound\n",
    "\n",
    "Using what you have learnt about filtering, retrieve the data which are deemed as outliers. You should use the variables you've created above. Store this data as variable `outliers_df`.\n",
    "\n",
    "**Expected Output:**\n",
    "```python\n",
    "    print(len(outliers_df)) # 24\n",
    "```"
   ]
  },
  {
   "cell_type": "code",
   "execution_count": 20,
   "metadata": {},
   "outputs": [
    {
     "name": "stdout",
     "output_type": "stream",
     "text": [
      "24\n"
     ]
    }
   ],
   "source": [
    "# Get those outside the bounds\n",
    "cond1 = wages_df['Hourly_Rate'] > upper_bound \n",
    "cond2 = wages_df['Hourly_Rate'] < lower_bound\n",
    "outliers_df = wages_df[cond1 | cond2]\n",
    "print(len(outliers_df))"
   ]
  },
  {
   "cell_type": "markdown",
   "metadata": {},
   "source": [
    "### Visualise (End of Practice)\n",
    "\n",
    "When you've completed the above practice, you can cross check your answers with the visualisation below. "
   ]
  },
  {
   "cell_type": "code",
   "execution_count": 18,
   "metadata": {},
   "outputs": [
    {
     "data": {
      "image/png": "[encoded data removed]",
      "text/plain": [
       "<Figure size 216x864 with 1 Axes>"
      ]
     },
     "metadata": {
      "needs_background": "light"
     },
     "output_type": "display_data"
    }
   ],
   "source": [
    "# Visualise to confirm\n",
    "fig = plt.figure(figsize=(3, 12))\n",
    "# fig = plt.figure(figsize=(3, 100)) # Use this to examine the outliers in greater detail\n",
    "ax1 = plt.subplot(111)\n",
    "# Plot the boxplot and add the relevant features of the plot\n",
    "ax1.boxplot(wages_df['Hourly_Rate'], sym='+', whis=1.5)\n",
    "ax1.set_ylabel('Hourly Rate')\n",
    "ax1.set_title('Box plot for Hourly_Rate')\n",
    "plt.xticks([1], ['Employees'])\n",
    "# Set the yticks of the dataset\n",
    "ax1.set_yticks(np.arange(0, 120, 5))\n",
    "ax1.set_yticklabels(labels=np.arange(0, 120, 5), fontsize=8)\n",
    "# Use grid to show the gridlines in the plot\n",
    "ax1.yaxis.grid(True, linestyle='-', color='lightgrey', alpha=0.5)\n",
    "plt.show()"
   ]
  },
  {
   "cell_type": "markdown",
   "metadata": {},
   "source": [
    "### Use `.to_csv()` to save the outliers\n",
    "\n",
    "Save the new df as a new csv file with the `.to_csv()` with `outliers.csv` as the name in the ()."
   ]
  },
  {
   "cell_type": "code",
   "execution_count": 22,
   "metadata": {},
   "outputs": [],
   "source": [
    "outliers_df.to_csv('outliers.csv')"
   ]
  },
  {
   "cell_type": "markdown",
   "metadata": {},
   "source": [
    "<a id='2'><h2><img src=\"https://images.vexels.com/media/users/3/153978/isolated/preview/483ef8b10a46e28d02293a31570c8c56-warning-sign-colored-stroke-icon-by-vexels.png\" width=23 align=\"left\"><font color=\"salmon\">&nbsp;2.</font><font color=\"salmon\"> Categorical Analysis</font> </h2></a>"
   ]
  },
  {
   "cell_type": "code",
   "execution_count": 23,
   "metadata": {},
   "outputs": [
    {
     "data": {
      "text/html": [
       "<div>\n",
       "<style scoped>\n",
       "    .dataframe tbody tr th:only-of-type {\n",
       "        vertical-align: middle;\n",
       "    }\n",
       "\n",
       "    .dataframe tbody tr th {\n",
       "        vertical-align: top;\n",
       "    }\n",
       "\n",
       "    .dataframe thead th {\n",
       "        text-align: right;\n",
       "    }\n",
       "</style>\n",
       "<table border=\"1\" class=\"dataframe\">\n",
       "  <thead>\n",
       "    <tr style=\"text-align: right;\">\n",
       "      <th></th>\n",
       "      <th>ClassID</th>\n",
       "      <th>ClassType</th>\n",
       "      <th>Co-Instructor</th>\n",
       "      <th>Coordinating_TA</th>\n",
       "      <th>Instructor</th>\n",
       "      <th>Rating</th>\n",
       "      <th>Students</th>\n",
       "    </tr>\n",
       "  </thead>\n",
       "  <tbody>\n",
       "    <tr>\n",
       "      <th>0</th>\n",
       "      <td>1</td>\n",
       "      <td>DS101</td>\n",
       "      <td>False</td>\n",
       "      <td>Dick</td>\n",
       "      <td>Jon</td>\n",
       "      <td>Nil</td>\n",
       "      <td>40</td>\n",
       "    </tr>\n",
       "    <tr>\n",
       "      <th>1</th>\n",
       "      <td>2</td>\n",
       "      <td>DS101</td>\n",
       "      <td>True</td>\n",
       "      <td>Vera</td>\n",
       "      <td>Andre</td>\n",
       "      <td>7</td>\n",
       "      <td>43</td>\n",
       "    </tr>\n",
       "    <tr>\n",
       "      <th>2</th>\n",
       "      <td>3</td>\n",
       "      <td>DS102</td>\n",
       "      <td>False</td>\n",
       "      <td>Vera</td>\n",
       "      <td>Jon</td>\n",
       "      <td>9</td>\n",
       "      <td>41</td>\n",
       "    </tr>\n",
       "    <tr>\n",
       "      <th>3</th>\n",
       "      <td>4</td>\n",
       "      <td>DS102</td>\n",
       "      <td>True</td>\n",
       "      <td>Dick</td>\n",
       "      <td>Andre</td>\n",
       "      <td>Nope</td>\n",
       "      <td>44</td>\n",
       "    </tr>\n",
       "    <tr>\n",
       "      <th>4</th>\n",
       "      <td>5</td>\n",
       "      <td>DS101</td>\n",
       "      <td>True</td>\n",
       "      <td>Dick</td>\n",
       "      <td>Andre</td>\n",
       "      <td>10</td>\n",
       "      <td>45</td>\n",
       "    </tr>\n",
       "  </tbody>\n",
       "</table>\n",
       "</div>"
      ],
      "text/plain": [
       "   ClassID ClassType  Co-Instructor Coordinating_TA Instructor Rating  \\\n",
       "0        1     DS101          False            Dick        Jon    Nil   \n",
       "1        2     DS101           True            Vera      Andre      7   \n",
       "2        3     DS102          False            Vera        Jon      9   \n",
       "3        4     DS102           True            Dick      Andre   Nope   \n",
       "4        5     DS101           True            Dick      Andre     10   \n",
       "\n",
       "   Students  \n",
       "0        40  \n",
       "1        43  \n",
       "2        41  \n",
       "3        44  \n",
       "4        45  "
      ]
     },
     "execution_count": 23,
     "metadata": {},
     "output_type": "execute_result"
    }
   ],
   "source": [
    "feedback_df = pd.read_csv('hackwagon-102pandassandbox.csv')\n",
    "feedback_df.head()"
   ]
  },
  {
   "cell_type": "markdown",
   "metadata": {},
   "source": [
    "<a id='2.1'><h3>2.1 Groupby</h3></a>\n",
    "\n",
    "Groupby is one of the most useful methods when trying to categorize data within variable. As the name suggest, you are trying to <b>Group</b> the data <b>by</b> something.\n",
    "\n",
    "<img src=\"https://i.imgur.com/cfgImho.png\" width=\"500\">\n",
    "<img src=\"https://i.imgur.com/KrbyyNy.png\" width=\"500\">"
   ]
  },
  {
   "cell_type": "markdown",
   "metadata": {},
   "source": [
    "#### It is important to know that Groupby objects can't be seen, so don't be alarmed if you don't see it"
   ]
  },
  {
   "cell_type": "code",
   "execution_count": 25,
   "metadata": {},
   "outputs": [
    {
     "data": {
      "text/plain": [
       "<pandas.core.groupby.generic.DataFrameGroupBy object at 0x000001A2FB6DDF28>"
      ]
     },
     "execution_count": 25,
     "metadata": {},
     "output_type": "execute_result"
    }
   ],
   "source": [
    "classtype_gb = feedback_df.groupby('ClassType')\n",
    "classtype_gb"
   ]
  },
  {
   "cell_type": "markdown",
   "metadata": {},
   "source": [
    "<a id='2.2'><h3>2.2 Simple Aggregation</h3></a>\n",
    "\n",
    "With a Groupby object, you can apply many aggregation methods, applied to <b>numeric</b> columns, such as:\n",
    "\n",
    "1. `.sum()` - sums up based on category\n",
    "2. `.mean()` - gets average based on category\n",
    "3. `.min()` - gets minimum based on category\n",
    "4. `.max()` - gets maximum based on category\n",
    "5. `.size()` - gets count based on category\n",
    "\n",
    "and many more..\n",
    "\n",
    "<img src=\"https://i.imgur.com/8QKUYiL.png\" width=\"500\">"
   ]
  },
  {
   "cell_type": "code",
   "execution_count": 26,
   "metadata": {},
   "outputs": [
    {
     "data": {
      "text/html": [
       "<div>\n",
       "<style scoped>\n",
       "    .dataframe tbody tr th:only-of-type {\n",
       "        vertical-align: middle;\n",
       "    }\n",
       "\n",
       "    .dataframe tbody tr th {\n",
       "        vertical-align: top;\n",
       "    }\n",
       "\n",
       "    .dataframe thead th {\n",
       "        text-align: right;\n",
       "    }\n",
       "</style>\n",
       "<table border=\"1\" class=\"dataframe\">\n",
       "  <thead>\n",
       "    <tr style=\"text-align: right;\">\n",
       "      <th></th>\n",
       "      <th>ClassID</th>\n",
       "      <th>Co-Instructor</th>\n",
       "      <th>Students</th>\n",
       "    </tr>\n",
       "    <tr>\n",
       "      <th>ClassType</th>\n",
       "      <th></th>\n",
       "      <th></th>\n",
       "      <th></th>\n",
       "    </tr>\n",
       "  </thead>\n",
       "  <tbody>\n",
       "    <tr>\n",
       "      <th>DS101</th>\n",
       "      <td>8</td>\n",
       "      <td>2.0</td>\n",
       "      <td>128</td>\n",
       "    </tr>\n",
       "    <tr>\n",
       "      <th>DS102</th>\n",
       "      <td>7</td>\n",
       "      <td>1.0</td>\n",
       "      <td>85</td>\n",
       "    </tr>\n",
       "  </tbody>\n",
       "</table>\n",
       "</div>"
      ],
      "text/plain": [
       "           ClassID  Co-Instructor  Students\n",
       "ClassType                                  \n",
       "DS101            8            2.0       128\n",
       "DS102            7            1.0        85"
      ]
     },
     "execution_count": 26,
     "metadata": {},
     "output_type": "execute_result"
    }
   ],
   "source": [
    "classtype_gb.sum()"
   ]
  },
  {
   "cell_type": "markdown",
   "metadata": {},
   "source": [
    "<a id='2.3'><h3>2.3 Advanced Aggregation</h3></a>\n",
    "\n",
    "You can also have multiple aggregation methods put together within a Groupby object by using the `.agg()` where the function accepts a <b>Dictionary</b>, where the key is column name and the value is a <b>list</b> of methods mentioned above. \n",
    "\n",
    "<img src=\"https://i.imgur.com/erWO1yw.png\" width=\"500\">"
   ]
  },
  {
   "cell_type": "code",
   "execution_count": 27,
   "metadata": {},
   "outputs": [
    {
     "data": {
      "text/html": [
       "<div>\n",
       "<style scoped>\n",
       "    .dataframe tbody tr th:only-of-type {\n",
       "        vertical-align: middle;\n",
       "    }\n",
       "\n",
       "    .dataframe tbody tr th {\n",
       "        vertical-align: top;\n",
       "    }\n",
       "\n",
       "    .dataframe thead tr th {\n",
       "        text-align: left;\n",
       "    }\n",
       "\n",
       "    .dataframe thead tr:last-of-type th {\n",
       "        text-align: right;\n",
       "    }\n",
       "</style>\n",
       "<table border=\"1\" class=\"dataframe\">\n",
       "  <thead>\n",
       "    <tr>\n",
       "      <th></th>\n",
       "      <th colspan=\"3\" halign=\"left\">Students</th>\n",
       "    </tr>\n",
       "    <tr>\n",
       "      <th></th>\n",
       "      <th>max</th>\n",
       "      <th>min</th>\n",
       "      <th>sum</th>\n",
       "    </tr>\n",
       "    <tr>\n",
       "      <th>ClassType</th>\n",
       "      <th></th>\n",
       "      <th></th>\n",
       "      <th></th>\n",
       "    </tr>\n",
       "  </thead>\n",
       "  <tbody>\n",
       "    <tr>\n",
       "      <th>DS101</th>\n",
       "      <td>45</td>\n",
       "      <td>40</td>\n",
       "      <td>128</td>\n",
       "    </tr>\n",
       "    <tr>\n",
       "      <th>DS102</th>\n",
       "      <td>44</td>\n",
       "      <td>41</td>\n",
       "      <td>85</td>\n",
       "    </tr>\n",
       "  </tbody>\n",
       "</table>\n",
       "</div>"
      ],
      "text/plain": [
       "          Students         \n",
       "               max min  sum\n",
       "ClassType                  \n",
       "DS101           45  40  128\n",
       "DS102           44  41   85"
      ]
     },
     "execution_count": 27,
     "metadata": {},
     "output_type": "execute_result"
    }
   ],
   "source": [
    "agg_dictionary = {\n",
    "    \"Students\": [\"max\",\"min\",\"sum\"]\n",
    "}\n",
    "classtype_gb.agg(agg_dictionary)"
   ]
  },
  {
   "cell_type": "markdown",
   "metadata": {},
   "source": [
    "<a id='2.4'><h3>2.4 Pokemon Dataset</h3></a>\n",
    "\n",
    "### Load and preview dataset\n",
    "\n",
    "Open the `pokemon.csv` and open it with pandas as `pokemon_df`. Preview the dataset with `.head()`."
   ]
  },
  {
   "cell_type": "code",
   "execution_count": 4,
   "metadata": {},
   "outputs": [
    {
     "data": {
      "text/html": [
       "<div>\n",
       "<style scoped>\n",
       "    .dataframe tbody tr th:only-of-type {\n",
       "        vertical-align: middle;\n",
       "    }\n",
       "\n",
       "    .dataframe tbody tr th {\n",
       "        vertical-align: top;\n",
       "    }\n",
       "\n",
       "    .dataframe thead th {\n",
       "        text-align: right;\n",
       "    }\n",
       "</style>\n",
       "<table border=\"1\" class=\"dataframe\">\n",
       "  <thead>\n",
       "    <tr style=\"text-align: right;\">\n",
       "      <th></th>\n",
       "      <th>Pokemon_ID</th>\n",
       "      <th>Name</th>\n",
       "      <th>Type</th>\n",
       "      <th>HP</th>\n",
       "      <th>Attack</th>\n",
       "      <th>Defense</th>\n",
       "      <th>Speed</th>\n",
       "      <th>Legendary</th>\n",
       "    </tr>\n",
       "  </thead>\n",
       "  <tbody>\n",
       "    <tr>\n",
       "      <th>0</th>\n",
       "      <td>1</td>\n",
       "      <td>Bulbasaur</td>\n",
       "      <td>Grass</td>\n",
       "      <td>45</td>\n",
       "      <td>49</td>\n",
       "      <td>49</td>\n",
       "      <td>45</td>\n",
       "      <td>False</td>\n",
       "    </tr>\n",
       "    <tr>\n",
       "      <th>1</th>\n",
       "      <td>2</td>\n",
       "      <td>Ivysaur</td>\n",
       "      <td>Grass</td>\n",
       "      <td>60</td>\n",
       "      <td>62</td>\n",
       "      <td>63</td>\n",
       "      <td>60</td>\n",
       "      <td>False</td>\n",
       "    </tr>\n",
       "    <tr>\n",
       "      <th>2</th>\n",
       "      <td>3</td>\n",
       "      <td>Venusaur</td>\n",
       "      <td>Grass</td>\n",
       "      <td>80</td>\n",
       "      <td>82</td>\n",
       "      <td>83</td>\n",
       "      <td>80</td>\n",
       "      <td>False</td>\n",
       "    </tr>\n",
       "    <tr>\n",
       "      <th>3</th>\n",
       "      <td>3</td>\n",
       "      <td>VenusaurMega Venusaur</td>\n",
       "      <td>Grass</td>\n",
       "      <td>80</td>\n",
       "      <td>100</td>\n",
       "      <td>123</td>\n",
       "      <td>80</td>\n",
       "      <td>False</td>\n",
       "    </tr>\n",
       "    <tr>\n",
       "      <th>4</th>\n",
       "      <td>4</td>\n",
       "      <td>Charmander</td>\n",
       "      <td>Fire</td>\n",
       "      <td>39</td>\n",
       "      <td>52</td>\n",
       "      <td>43</td>\n",
       "      <td>65</td>\n",
       "      <td>False</td>\n",
       "    </tr>\n",
       "  </tbody>\n",
       "</table>\n",
       "</div>"
      ],
      "text/plain": [
       "   Pokemon_ID                   Name   Type  HP  Attack  Defense  Speed  \\\n",
       "0           1              Bulbasaur  Grass  45      49       49     45   \n",
       "1           2                Ivysaur  Grass  60      62       63     60   \n",
       "2           3               Venusaur  Grass  80      82       83     80   \n",
       "3           3  VenusaurMega Venusaur  Grass  80     100      123     80   \n",
       "4           4             Charmander   Fire  39      52       43     65   \n",
       "\n",
       "   Legendary  \n",
       "0      False  \n",
       "1      False  \n",
       "2      False  \n",
       "3      False  \n",
       "4      False  "
      ]
     },
     "execution_count": 4,
     "metadata": {},
     "output_type": "execute_result"
    }
   ],
   "source": [
    "pokemon_df = pd.read_csv('pokemon.csv')\n",
    "\n",
    "pokemon_df.head()"
   ]
  },
  {
   "cell_type": "markdown",
   "metadata": {},
   "source": [
    "<a id='P2'><h2> <img src=\"https://cdn.shopify.com/s/files/1/1200/7374/products/book_aec28e76-52ec-44ab-bc01-41df1279c89f_550x825.png?v=1473897430\" width=25 align=\"left\"> <font color=\"darkorange\"> &nbsp; Practice II </font><font color=\"skyblue\"> * </font></h2></a>\n",
    "\n",
    "### Filter by `Type`\n",
    "\n",
    "Filter the dataset to just `Grass`, `Fire` and `Water`. Store this in a new df called `grass_fire_water_df`.\n",
    "\n",
    "_Hint: use .isin()_"
   ]
  },
  {
   "cell_type": "code",
   "execution_count": 79,
   "metadata": {},
   "outputs": [
    {
     "data": {
      "text/html": [
       "<div>\n",
       "<style scoped>\n",
       "    .dataframe tbody tr th:only-of-type {\n",
       "        vertical-align: middle;\n",
       "    }\n",
       "\n",
       "    .dataframe tbody tr th {\n",
       "        vertical-align: top;\n",
       "    }\n",
       "\n",
       "    .dataframe thead th {\n",
       "        text-align: right;\n",
       "    }\n",
       "</style>\n",
       "<table border=\"1\" class=\"dataframe\">\n",
       "  <thead>\n",
       "    <tr style=\"text-align: right;\">\n",
       "      <th></th>\n",
       "      <th>Pokemon_ID</th>\n",
       "      <th>Name</th>\n",
       "      <th>Type</th>\n",
       "      <th>HP</th>\n",
       "      <th>Attack</th>\n",
       "      <th>Defense</th>\n",
       "      <th>Speed</th>\n",
       "      <th>Legendary</th>\n",
       "    </tr>\n",
       "  </thead>\n",
       "  <tbody>\n",
       "    <tr>\n",
       "      <th>0</th>\n",
       "      <td>1</td>\n",
       "      <td>Bulbasaur</td>\n",
       "      <td>Grass</td>\n",
       "      <td>45</td>\n",
       "      <td>49</td>\n",
       "      <td>49</td>\n",
       "      <td>45</td>\n",
       "      <td>False</td>\n",
       "    </tr>\n",
       "    <tr>\n",
       "      <th>1</th>\n",
       "      <td>2</td>\n",
       "      <td>Ivysaur</td>\n",
       "      <td>Grass</td>\n",
       "      <td>60</td>\n",
       "      <td>62</td>\n",
       "      <td>63</td>\n",
       "      <td>60</td>\n",
       "      <td>False</td>\n",
       "    </tr>\n",
       "    <tr>\n",
       "      <th>2</th>\n",
       "      <td>3</td>\n",
       "      <td>Venusaur</td>\n",
       "      <td>Grass</td>\n",
       "      <td>80</td>\n",
       "      <td>82</td>\n",
       "      <td>83</td>\n",
       "      <td>80</td>\n",
       "      <td>False</td>\n",
       "    </tr>\n",
       "    <tr>\n",
       "      <th>3</th>\n",
       "      <td>3</td>\n",
       "      <td>VenusaurMega Venusaur</td>\n",
       "      <td>Grass</td>\n",
       "      <td>80</td>\n",
       "      <td>100</td>\n",
       "      <td>123</td>\n",
       "      <td>80</td>\n",
       "      <td>False</td>\n",
       "    </tr>\n",
       "    <tr>\n",
       "      <th>4</th>\n",
       "      <td>4</td>\n",
       "      <td>Charmander</td>\n",
       "      <td>Fire</td>\n",
       "      <td>39</td>\n",
       "      <td>52</td>\n",
       "      <td>43</td>\n",
       "      <td>65</td>\n",
       "      <td>False</td>\n",
       "    </tr>\n",
       "  </tbody>\n",
       "</table>\n",
       "</div>"
      ],
      "text/plain": [
       "   Pokemon_ID                   Name   Type  HP  Attack  Defense  Speed  \\\n",
       "0           1              Bulbasaur  Grass  45      49       49     45   \n",
       "1           2                Ivysaur  Grass  60      62       63     60   \n",
       "2           3               Venusaur  Grass  80      82       83     80   \n",
       "3           3  VenusaurMega Venusaur  Grass  80     100      123     80   \n",
       "4           4             Charmander   Fire  39      52       43     65   \n",
       "\n",
       "   Legendary  \n",
       "0      False  \n",
       "1      False  \n",
       "2      False  \n",
       "3      False  \n",
       "4      False  "
      ]
     },
     "execution_count": 79,
     "metadata": {},
     "output_type": "execute_result"
    }
   ],
   "source": [
    "filter_cond = pokemon_df['Type'].isin({'Grass','Fire','Water'})\n",
    "\n",
    "grass_fire_water_df = pokemon_df[filter_cond]\n",
    "\n",
    "grass_fire_water_df.head()\n"
   ]
  },
  {
   "cell_type": "markdown",
   "metadata": {},
   "source": [
    "### Group by `Type`\n",
    "\n",
    "From the filtered DataFrame above, create a GroupBy object called `grass_fire_water_gb`."
   ]
  },
  {
   "cell_type": "code",
   "execution_count": 80,
   "metadata": {},
   "outputs": [],
   "source": [
    "grass_fire_water_gb = grass_fire_water_df.groupby('Type')"
   ]
  },
  {
   "cell_type": "markdown",
   "metadata": {},
   "source": [
    "### Get Number of Pokemons For Each `Type`\n",
    "\n",
    "From the above Groupby object, use `.size()` get the number of pokemon of each type.\n",
    "\n",
    "**Expected Output:**\n",
    "\n",
    "    Type\n",
    "    Fire      52\n",
    "    Grass     70\n",
    "    Water    112\n",
    "    dtype: int64"
   ]
  },
  {
   "cell_type": "code",
   "execution_count": 41,
   "metadata": {},
   "outputs": [
    {
     "data": {
      "text/plain": [
       "Type\n",
       "Fire      52\n",
       "Grass     70\n",
       "Water    112\n",
       "dtype: int64"
      ]
     },
     "execution_count": 41,
     "metadata": {},
     "output_type": "execute_result"
    }
   ],
   "source": [
    "grass_fire_water_gb.size()"
   ]
  },
  {
   "cell_type": "markdown",
   "metadata": {},
   "source": [
    "### Find Max HP Legendary and Non Legendary Pokemon\n",
    "\n",
    "1. Isolate the `HP` and `Legendary` columns in a DataFrame from `pokemon_df`\n",
    "2. Group by `Legendary`\n",
    "3. Apply `.max()` on the Groupby object.\n",
    "\n",
    "**Expected Output:**\n",
    "    \n",
    "<img src=\"https://i.imgur.com/zLftmod.png\" width=\"100\" align=\"left\">"
   ]
  },
  {
   "cell_type": "code",
   "execution_count": 6,
   "metadata": {},
   "outputs": [
    {
     "data": {
      "text/html": [
       "<div>\n",
       "<style scoped>\n",
       "    .dataframe tbody tr th:only-of-type {\n",
       "        vertical-align: middle;\n",
       "    }\n",
       "\n",
       "    .dataframe tbody tr th {\n",
       "        vertical-align: top;\n",
       "    }\n",
       "\n",
       "    .dataframe thead th {\n",
       "        text-align: right;\n",
       "    }\n",
       "</style>\n",
       "<table border=\"1\" class=\"dataframe\">\n",
       "  <thead>\n",
       "    <tr style=\"text-align: right;\">\n",
       "      <th></th>\n",
       "      <th>HP</th>\n",
       "    </tr>\n",
       "    <tr>\n",
       "      <th>Legendary</th>\n",
       "      <th></th>\n",
       "    </tr>\n",
       "  </thead>\n",
       "  <tbody>\n",
       "    <tr>\n",
       "      <th>False</th>\n",
       "      <td>255</td>\n",
       "    </tr>\n",
       "    <tr>\n",
       "      <th>True</th>\n",
       "      <td>150</td>\n",
       "    </tr>\n",
       "  </tbody>\n",
       "</table>\n",
       "</div>"
      ],
      "text/plain": [
       "            HP\n",
       "Legendary     \n",
       "False      255\n",
       "True       150"
      ]
     },
     "execution_count": 6,
     "metadata": {},
     "output_type": "execute_result"
    }
   ],
   "source": [
    "pokemon_iso = pokemon_df.loc[:,{'HP','Legendary'}]\n",
    "pokemon_gb =pokemon_iso.groupby('Legendary')\n",
    "\n",
    "pokemon_gb.max()"
   ]
  },
  {
   "cell_type": "markdown",
   "metadata": {},
   "source": [
    "**Credits**\n",
    "- [City of Seattle Wage Data](https://data.seattle.gov/City-Business/City-of-Seattle-Wage-Data/2khk-5ukd) for the dataset\n",
    "- [Pokemon with stats, Kaggle](https://www.kaggle.com/abcsds/pokemon) for the dataset"
   ]
  },
  {
   "cell_type": "code",
   "execution_count": 71,
   "metadata": {},
   "outputs": [
    {
     "name": "stdout",
     "output_type": "stream",
     "text": [
      "1.5682243758418617\n"
     ]
    },
    {
     "data": {
      "text/plain": [
       "<matplotlib.axes._subplots.AxesSubplot at 0x1a2ff847b38>"
      ]
     },
     "execution_count": 71,
     "metadata": {},
     "output_type": "execute_result"
    },
    {
     "data": {
      "image/png": "[encoded data removed]",
      "text/plain": [
       "<Figure size 432x288 with 1 Axes>"
      ]
     },
     "metadata": {},
     "output_type": "display_data"
    }
   ],
   "source": [
    "import seaborn as sns\n",
    "\n",
    "print(pokemon_df['HP'].skew())\n",
    "sns.set_style('darkgrid')\n",
    "sns.distplot(pokemon_df['HP'])"
   ]
  }
 ],
 "metadata": {
  "kernelspec": {
   "display_name": "Python 3",
   "language": "python",
   "name": "python3"
  },
  "language_info": {
   "codemirror_mode": {
    "name": "ipython",
    "version": 3
   },
   "file_extension": ".py",
   "mimetype": "text/x-python",
   "name": "python",
   "nbconvert_exporter": "python",
   "pygments_lexer": "ipython3",
   "version": "3.7.2"
  }
 },
 "nbformat": 4,
 "nbformat_minor": 2
}
