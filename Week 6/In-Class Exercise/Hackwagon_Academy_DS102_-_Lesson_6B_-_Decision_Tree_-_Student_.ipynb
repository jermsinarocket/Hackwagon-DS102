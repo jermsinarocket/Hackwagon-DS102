{
 "cells": [
  {
   "cell_type": "markdown",
   "metadata": {},
   "source": [
    "<center><img src=\"https://i2.wp.com/hackwagon.com/wp-content/uploads/2017/02/Logo-Web-Export.png?ssl=1\" width=200/></center>\n",
    "<h1> Hackwagon Academy DS102 Lesson 6B </h1>\n",
    "<h2> Decision Tree </h2> \n",
    "<h3> Lesson Outline </h3>\n",
    "\n",
    "- [Decision Tree Example - Iris Dataset](#1)\n",
    "- [Model Evaluation Example - Diabetes Dataset](#2)"
   ]
  },
  {
   "cell_type": "markdown",
   "metadata": {},
   "source": [
    "<a id='1'><h2><img src=\"https://images.vexels.com/media/users/3/153978/isolated/preview/483ef8b10a46e28d02293a31570c8c56-warning-sign-colored-stroke-icon-by-vexels.png\" width=23 align=\"left\"><font color=\"salmon\">&nbsp;</font><font color=\"salmon\"> Decision Tree Example - Iris Dataset </font> </h2></a>\n",
    "\n",
    "### Read Dataset"
   ]
  },
  {
   "cell_type": "code",
   "execution_count": 1,
   "metadata": {
    "ExecuteTime": {
     "end_time": "2019-07-27T10:17:48.474982Z",
     "start_time": "2019-07-27T10:17:46.900418Z"
    },
    "scrolled": true
   },
   "outputs": [
    {
     "data": {
      "text/html": [
       "<div>\n",
       "<style scoped>\n",
       "    .dataframe tbody tr th:only-of-type {\n",
       "        vertical-align: middle;\n",
       "    }\n",
       "\n",
       "    .dataframe tbody tr th {\n",
       "        vertical-align: top;\n",
       "    }\n",
       "\n",
       "    .dataframe thead th {\n",
       "        text-align: right;\n",
       "    }\n",
       "</style>\n",
       "<table border=\"1\" class=\"dataframe\">\n",
       "  <thead>\n",
       "    <tr style=\"text-align: right;\">\n",
       "      <th></th>\n",
       "      <th>sepal length (cm)</th>\n",
       "      <th>sepal width (cm)</th>\n",
       "      <th>petal length (cm)</th>\n",
       "      <th>petal width (cm)</th>\n",
       "      <th>target</th>\n",
       "      <th>target name</th>\n",
       "    </tr>\n",
       "  </thead>\n",
       "  <tbody>\n",
       "    <tr>\n",
       "      <th>0</th>\n",
       "      <td>5.1</td>\n",
       "      <td>3.5</td>\n",
       "      <td>1.4</td>\n",
       "      <td>0.2</td>\n",
       "      <td>0</td>\n",
       "      <td>setosa</td>\n",
       "    </tr>\n",
       "    <tr>\n",
       "      <th>1</th>\n",
       "      <td>4.9</td>\n",
       "      <td>3.0</td>\n",
       "      <td>1.4</td>\n",
       "      <td>0.2</td>\n",
       "      <td>0</td>\n",
       "      <td>setosa</td>\n",
       "    </tr>\n",
       "    <tr>\n",
       "      <th>2</th>\n",
       "      <td>4.7</td>\n",
       "      <td>3.2</td>\n",
       "      <td>1.3</td>\n",
       "      <td>0.2</td>\n",
       "      <td>0</td>\n",
       "      <td>setosa</td>\n",
       "    </tr>\n",
       "    <tr>\n",
       "      <th>3</th>\n",
       "      <td>4.6</td>\n",
       "      <td>3.1</td>\n",
       "      <td>1.5</td>\n",
       "      <td>0.2</td>\n",
       "      <td>0</td>\n",
       "      <td>setosa</td>\n",
       "    </tr>\n",
       "    <tr>\n",
       "      <th>4</th>\n",
       "      <td>5.0</td>\n",
       "      <td>3.6</td>\n",
       "      <td>1.4</td>\n",
       "      <td>0.2</td>\n",
       "      <td>0</td>\n",
       "      <td>setosa</td>\n",
       "    </tr>\n",
       "  </tbody>\n",
       "</table>\n",
       "</div>"
      ],
      "text/plain": [
       "   sepal length (cm)  sepal width (cm)  petal length (cm)  petal width (cm)  \\\n",
       "0                5.1               3.5                1.4               0.2   \n",
       "1                4.9               3.0                1.4               0.2   \n",
       "2                4.7               3.2                1.3               0.2   \n",
       "3                4.6               3.1                1.5               0.2   \n",
       "4                5.0               3.6                1.4               0.2   \n",
       "\n",
       "   target target name  \n",
       "0       0      setosa  \n",
       "1       0      setosa  \n",
       "2       0      setosa  \n",
       "3       0      setosa  \n",
       "4       0      setosa  "
      ]
     },
     "execution_count": 1,
     "metadata": {},
     "output_type": "execute_result"
    }
   ],
   "source": [
    "import pandas as  pd\n",
    "iris_df = pd.read_csv('iris-data.csv')\n",
    "iris_df.head()"
   ]
  },
  {
   "cell_type": "markdown",
   "metadata": {},
   "source": [
    "### Select Features"
   ]
  },
  {
   "cell_type": "code",
   "execution_count": 2,
   "metadata": {
    "ExecuteTime": {
     "end_time": "2019-07-27T10:17:50.646439Z",
     "start_time": "2019-07-27T10:17:50.642456Z"
    }
   },
   "outputs": [],
   "source": [
    "features = ['petal length (cm)', 'petal width (cm)']\n",
    "\n",
    "df_x = iris_df[features]\n",
    "df_y = iris_df['target name']"
   ]
  },
  {
   "cell_type": "markdown",
   "metadata": {},
   "source": [
    "### Train Test Split"
   ]
  },
  {
   "cell_type": "code",
   "execution_count": 3,
   "metadata": {
    "ExecuteTime": {
     "end_time": "2019-07-27T10:17:51.375229Z",
     "start_time": "2019-07-27T10:17:50.958475Z"
    }
   },
   "outputs": [],
   "source": [
    "from sklearn.model_selection import train_test_split\n",
    "\n",
    "x_train, x_test, y_train, y_test = train_test_split(df_x, \n",
    "                                                    df_y, \n",
    "                                                    test_size=0.20, # 20% Testing Data\n",
    "                                                    random_state=10)"
   ]
  },
  {
   "cell_type": "markdown",
   "metadata": {},
   "source": [
    "### Grow Tree\n",
    "\n",
    "Create a decision tree by using the `DecisionTreeClassifier` where your criterion is `entropy`."
   ]
  },
  {
   "cell_type": "code",
   "execution_count": 4,
   "metadata": {
    "ExecuteTime": {
     "end_time": "2019-07-27T10:17:51.410127Z",
     "start_time": "2019-07-27T10:17:51.376217Z"
    }
   },
   "outputs": [
    {
     "name": "stdout",
     "output_type": "stream",
     "text": [
      "Depth of Tree 7\n"
     ]
    }
   ],
   "source": [
    "from sklearn.tree import DecisionTreeClassifier\n",
    "\n",
    "iris_dtree = DecisionTreeClassifier(criterion='entropy')\n",
    "\n",
    "iris_dtree.fit(x_train, y_train)\n",
    "\n",
    "print(\"Depth of Tree\", iris_dtree.tree_.max_depth) # This tree has a maximum depth of x"
   ]
  },
  {
   "cell_type": "markdown",
   "metadata": {},
   "source": [
    "### Predict\n",
    "\n",
    "After growing the decision tree, you can use it to predict further Iris spieces by using `.predict()`.\n",
    "\n",
    "Note: `.predict()` only takes a DataFrame, or 2-D data structures. "
   ]
  },
  {
   "cell_type": "code",
   "execution_count": 5,
   "metadata": {
    "ExecuteTime": {
     "end_time": "2019-07-27T10:17:51.583939Z",
     "start_time": "2019-07-27T10:17:51.573006Z"
    }
   },
   "outputs": [
    {
     "data": {
      "text/html": [
       "<div>\n",
       "<style scoped>\n",
       "    .dataframe tbody tr th:only-of-type {\n",
       "        vertical-align: middle;\n",
       "    }\n",
       "\n",
       "    .dataframe tbody tr th {\n",
       "        vertical-align: top;\n",
       "    }\n",
       "\n",
       "    .dataframe thead th {\n",
       "        text-align: right;\n",
       "    }\n",
       "</style>\n",
       "<table border=\"1\" class=\"dataframe\">\n",
       "  <thead>\n",
       "    <tr style=\"text-align: right;\">\n",
       "      <th></th>\n",
       "      <th>0</th>\n",
       "      <th>1</th>\n",
       "    </tr>\n",
       "  </thead>\n",
       "  <tbody>\n",
       "    <tr>\n",
       "      <th>0</th>\n",
       "      <td>1.5</td>\n",
       "      <td>2.5</td>\n",
       "    </tr>\n",
       "  </tbody>\n",
       "</table>\n",
       "</div>"
      ],
      "text/plain": [
       "     0    1\n",
       "0  1.5  2.5"
      ]
     },
     "metadata": {},
     "output_type": "display_data"
    },
    {
     "data": {
      "text/plain": [
       "array(['setosa'], dtype=object)"
      ]
     },
     "execution_count": 5,
     "metadata": {},
     "output_type": "execute_result"
    }
   ],
   "source": [
    "custom_iris = [\n",
    "    # Petal Width , Petal Length\n",
    "    [1.5, 2.5]\n",
    "]\n",
    "custom_df = pd.DataFrame(custom_iris)\n",
    "\n",
    "display(custom_df)\n",
    "\n",
    "iris_dtree.predict(custom_df)"
   ]
  },
  {
   "cell_type": "markdown",
   "metadata": {},
   "source": [
    "### Feature Importance "
   ]
  },
  {
   "cell_type": "code",
   "execution_count": 6,
   "metadata": {
    "ExecuteTime": {
     "end_time": "2019-07-27T10:17:52.087231Z",
     "start_time": "2019-07-27T10:17:51.888591Z"
    }
   },
   "outputs": [
    {
     "data": {
      "text/plain": [
       "<BarContainer object of 2 artists>"
      ]
     },
     "execution_count": 6,
     "metadata": {},
     "output_type": "execute_result"
    }
   ],
   "source": [
    "import matplotlib.pyplot as plt\n",
    "\n",
    "fig, ax = plt.subplots()\n",
    "\n",
    "ax.barh(features, iris_dtree.feature_importances_)"
   ]
  },
  {
   "cell_type": "markdown",
   "metadata": {},
   "source": [
    "<a id='1'><h2><img src=\"https://images.vexels.com/media/users/3/153978/isolated/preview/483ef8b10a46e28d02293a31570c8c56-warning-sign-colored-stroke-icon-by-vexels.png\" width=23 align=\"left\"><font color=\"salmon\">&nbsp;</font><font color=\"salmon\"> Model Evaluation Example - Diabetes Dataset </font> </h2></a>\n",
    "\n",
    "Model evaluation is important in assessing whether your model is accurate, and if it requires adjusting/tuning to get better results. \n",
    "\n",
    "Here we will compare two different decision trees: \n",
    "\n",
    "1. Full Grown Tree\n",
    "2. Pruned Trees\n",
    "\n",
    "We will use the different metrics to compare their performance, through a confusion matrix. "
   ]
  },
  {
   "cell_type": "code",
   "execution_count": 7,
   "metadata": {
    "ExecuteTime": {
     "end_time": "2019-07-27T10:17:52.575133Z",
     "start_time": "2019-07-27T10:17:52.560125Z"
    }
   },
   "outputs": [
    {
     "data": {
      "text/html": [
       "<div>\n",
       "<style scoped>\n",
       "    .dataframe tbody tr th:only-of-type {\n",
       "        vertical-align: middle;\n",
       "    }\n",
       "\n",
       "    .dataframe tbody tr th {\n",
       "        vertical-align: top;\n",
       "    }\n",
       "\n",
       "    .dataframe thead th {\n",
       "        text-align: right;\n",
       "    }\n",
       "</style>\n",
       "<table border=\"1\" class=\"dataframe\">\n",
       "  <thead>\n",
       "    <tr style=\"text-align: right;\">\n",
       "      <th></th>\n",
       "      <th>Pregnancies</th>\n",
       "      <th>Glucose</th>\n",
       "      <th>BloodPressure</th>\n",
       "      <th>SkinThickness</th>\n",
       "      <th>Insulin</th>\n",
       "      <th>BMI</th>\n",
       "      <th>DiabetesPedigreeFunction</th>\n",
       "      <th>Age</th>\n",
       "      <th>Outcome</th>\n",
       "    </tr>\n",
       "  </thead>\n",
       "  <tbody>\n",
       "    <tr>\n",
       "      <th>0</th>\n",
       "      <td>0</td>\n",
       "      <td>141</td>\n",
       "      <td>84</td>\n",
       "      <td>26</td>\n",
       "      <td>0</td>\n",
       "      <td>32.4</td>\n",
       "      <td>0.433</td>\n",
       "      <td>22</td>\n",
       "      <td>0</td>\n",
       "    </tr>\n",
       "    <tr>\n",
       "      <th>1</th>\n",
       "      <td>4</td>\n",
       "      <td>83</td>\n",
       "      <td>86</td>\n",
       "      <td>19</td>\n",
       "      <td>0</td>\n",
       "      <td>29.3</td>\n",
       "      <td>0.317</td>\n",
       "      <td>34</td>\n",
       "      <td>0</td>\n",
       "    </tr>\n",
       "    <tr>\n",
       "      <th>2</th>\n",
       "      <td>1</td>\n",
       "      <td>128</td>\n",
       "      <td>82</td>\n",
       "      <td>17</td>\n",
       "      <td>183</td>\n",
       "      <td>27.5</td>\n",
       "      <td>0.115</td>\n",
       "      <td>22</td>\n",
       "      <td>0</td>\n",
       "    </tr>\n",
       "    <tr>\n",
       "      <th>3</th>\n",
       "      <td>9</td>\n",
       "      <td>112</td>\n",
       "      <td>82</td>\n",
       "      <td>32</td>\n",
       "      <td>175</td>\n",
       "      <td>34.2</td>\n",
       "      <td>0.260</td>\n",
       "      <td>36</td>\n",
       "      <td>1</td>\n",
       "    </tr>\n",
       "    <tr>\n",
       "      <th>4</th>\n",
       "      <td>2</td>\n",
       "      <td>71</td>\n",
       "      <td>70</td>\n",
       "      <td>27</td>\n",
       "      <td>0</td>\n",
       "      <td>28.0</td>\n",
       "      <td>0.586</td>\n",
       "      <td>22</td>\n",
       "      <td>0</td>\n",
       "    </tr>\n",
       "  </tbody>\n",
       "</table>\n",
       "</div>"
      ],
      "text/plain": [
       "   Pregnancies  Glucose  BloodPressure  SkinThickness  Insulin   BMI  \\\n",
       "0            0      141             84             26        0  32.4   \n",
       "1            4       83             86             19        0  29.3   \n",
       "2            1      128             82             17      183  27.5   \n",
       "3            9      112             82             32      175  34.2   \n",
       "4            2       71             70             27        0  28.0   \n",
       "\n",
       "   DiabetesPedigreeFunction  Age  Outcome  \n",
       "0                     0.433   22        0  \n",
       "1                     0.317   34        0  \n",
       "2                     0.115   22        0  \n",
       "3                     0.260   36        1  \n",
       "4                     0.586   22        0  "
      ]
     },
     "execution_count": 7,
     "metadata": {},
     "output_type": "execute_result"
    }
   ],
   "source": [
    "diabetes_df = pd.read_csv('diabetes-500.csv')\n",
    "\n",
    "diabetes_df.head()"
   ]
  },
  {
   "cell_type": "markdown",
   "metadata": {},
   "source": [
    "### Feature Selection \n",
    "\n",
    "In this dataset, the outcome variable is 1, has diabetes; 0, has no diabetes. The rest of the columns will be the features for training this tree."
   ]
  },
  {
   "cell_type": "code",
   "execution_count": 8,
   "metadata": {
    "ExecuteTime": {
     "end_time": "2019-07-27T10:17:52.962537Z",
     "start_time": "2019-07-27T10:17:52.948611Z"
    }
   },
   "outputs": [
    {
     "data": {
      "text/html": [
       "<div>\n",
       "<style scoped>\n",
       "    .dataframe tbody tr th:only-of-type {\n",
       "        vertical-align: middle;\n",
       "    }\n",
       "\n",
       "    .dataframe tbody tr th {\n",
       "        vertical-align: top;\n",
       "    }\n",
       "\n",
       "    .dataframe thead th {\n",
       "        text-align: right;\n",
       "    }\n",
       "</style>\n",
       "<table border=\"1\" class=\"dataframe\">\n",
       "  <thead>\n",
       "    <tr style=\"text-align: right;\">\n",
       "      <th></th>\n",
       "      <th>Pregnancies</th>\n",
       "      <th>Glucose</th>\n",
       "      <th>BloodPressure</th>\n",
       "      <th>SkinThickness</th>\n",
       "      <th>BMI</th>\n",
       "      <th>DiabetesPedigreeFunction</th>\n",
       "      <th>Age</th>\n",
       "    </tr>\n",
       "  </thead>\n",
       "  <tbody>\n",
       "    <tr>\n",
       "      <th>0</th>\n",
       "      <td>0</td>\n",
       "      <td>141</td>\n",
       "      <td>84</td>\n",
       "      <td>26</td>\n",
       "      <td>32.4</td>\n",
       "      <td>0.433</td>\n",
       "      <td>22</td>\n",
       "    </tr>\n",
       "    <tr>\n",
       "      <th>1</th>\n",
       "      <td>4</td>\n",
       "      <td>83</td>\n",
       "      <td>86</td>\n",
       "      <td>19</td>\n",
       "      <td>29.3</td>\n",
       "      <td>0.317</td>\n",
       "      <td>34</td>\n",
       "    </tr>\n",
       "    <tr>\n",
       "      <th>2</th>\n",
       "      <td>1</td>\n",
       "      <td>128</td>\n",
       "      <td>82</td>\n",
       "      <td>17</td>\n",
       "      <td>27.5</td>\n",
       "      <td>0.115</td>\n",
       "      <td>22</td>\n",
       "    </tr>\n",
       "    <tr>\n",
       "      <th>3</th>\n",
       "      <td>9</td>\n",
       "      <td>112</td>\n",
       "      <td>82</td>\n",
       "      <td>32</td>\n",
       "      <td>34.2</td>\n",
       "      <td>0.260</td>\n",
       "      <td>36</td>\n",
       "    </tr>\n",
       "    <tr>\n",
       "      <th>4</th>\n",
       "      <td>2</td>\n",
       "      <td>71</td>\n",
       "      <td>70</td>\n",
       "      <td>27</td>\n",
       "      <td>28.0</td>\n",
       "      <td>0.586</td>\n",
       "      <td>22</td>\n",
       "    </tr>\n",
       "  </tbody>\n",
       "</table>\n",
       "</div>"
      ],
      "text/plain": [
       "   Pregnancies  Glucose  BloodPressure  SkinThickness   BMI  \\\n",
       "0            0      141             84             26  32.4   \n",
       "1            4       83             86             19  29.3   \n",
       "2            1      128             82             17  27.5   \n",
       "3            9      112             82             32  34.2   \n",
       "4            2       71             70             27  28.0   \n",
       "\n",
       "   DiabetesPedigreeFunction  Age  \n",
       "0                     0.433   22  \n",
       "1                     0.317   34  \n",
       "2                     0.115   22  \n",
       "3                     0.260   36  \n",
       "4                     0.586   22  "
      ]
     },
     "metadata": {},
     "output_type": "display_data"
    },
    {
     "data": {
      "text/plain": [
       "0    0\n",
       "1    0\n",
       "2    0\n",
       "3    1\n",
       "4    0\n",
       "Name: Outcome, dtype: int64"
      ]
     },
     "metadata": {},
     "output_type": "display_data"
    }
   ],
   "source": [
    "features = [\n",
    "    'Pregnancies',\n",
    "    'Glucose',\n",
    "    'BloodPressure',\n",
    "    'SkinThickness',\n",
    "    'BMI',\n",
    "    'DiabetesPedigreeFunction',\n",
    "    'Age'\n",
    "]\n",
    "\n",
    "\n",
    "df_x = diabetes_df[features]\n",
    "df_y = diabetes_df['Outcome']\n",
    "\n",
    "display(df_x.head())\n",
    "display(df_y.head())"
   ]
  },
  {
   "cell_type": "markdown",
   "metadata": {},
   "source": [
    "### Train Test Split"
   ]
  },
  {
   "cell_type": "code",
   "execution_count": 9,
   "metadata": {
    "ExecuteTime": {
     "end_time": "2019-07-27T10:17:53.885961Z",
     "start_time": "2019-07-27T10:17:53.881951Z"
    }
   },
   "outputs": [],
   "source": [
    "x_train, x_test, y_train, y_test = train_test_split(df_x, \n",
    "                                                    df_y, \n",
    "                                                    test_size=0.20, # 20% Testing Data\n",
    "                                                    random_state=5)"
   ]
  },
  {
   "cell_type": "markdown",
   "metadata": {},
   "source": [
    "### Full Tree"
   ]
  },
  {
   "cell_type": "code",
   "execution_count": 10,
   "metadata": {
    "ExecuteTime": {
     "end_time": "2019-07-27T10:17:54.847816Z",
     "start_time": "2019-07-27T10:17:54.840842Z"
    }
   },
   "outputs": [
    {
     "name": "stdout",
     "output_type": "stream",
     "text": [
      "Depth of Tree 18\n"
     ]
    }
   ],
   "source": [
    "full_dia_dtree = DecisionTreeClassifier(criterion='entropy')\n",
    "\n",
    "full_dia_dtree.fit(x_train, y_train)\n",
    "print(\"Depth of Tree\", full_dia_dtree.tree_.max_depth) # This tree has a maximum depth of 18"
   ]
  },
  {
   "cell_type": "markdown",
   "metadata": {},
   "source": [
    "### Pruned Tree"
   ]
  },
  {
   "cell_type": "code",
   "execution_count": 11,
   "metadata": {
    "ExecuteTime": {
     "end_time": "2019-07-27T10:17:55.220910Z",
     "start_time": "2019-07-27T10:17:55.214953Z"
    }
   },
   "outputs": [
    {
     "name": "stdout",
     "output_type": "stream",
     "text": [
      "Depth of Tree 2\n"
     ]
    }
   ],
   "source": [
    "pruned_dia_dtree = DecisionTreeClassifier(criterion='entropy', \n",
    "                                           max_depth=2) # Change depth of Tree here\n",
    "\n",
    "pruned_dia_dtree.fit(x_train, y_train)\n",
    "\n",
    "print(\"Depth of Tree\", pruned_dia_dtree.tree_.max_depth) # This tree has a maximum depth of x"
   ]
  },
  {
   "cell_type": "markdown",
   "metadata": {},
   "source": [
    "### Testing Each Tree\n",
    "\n",
    "After each tree is trained, test them against the test data by using `.predict()` on both trees."
   ]
  },
  {
   "cell_type": "code",
   "execution_count": 12,
   "metadata": {
    "ExecuteTime": {
     "end_time": "2019-07-27T10:17:55.760869Z",
     "start_time": "2019-07-27T10:17:55.754797Z"
    }
   },
   "outputs": [
    {
     "name": "stdout",
     "output_type": "stream",
     "text": [
      "[0 0 1 1 0 0 1 0 0 1 1 1 1 1 0 1 0 1 0 1 1 0 0 0 1 0 0 0 0 0 0 1 1 0 0 1 0\n",
      " 1 0 0 0 0 0 0 0 0 1 1 1 0 0 0 0 0 1 0 0 1 0 1 0 0 1 0 1 1 0 1 0 0 0 0 0 0\n",
      " 0 1 1 1 0 0 0 1 1 0 0 1 0 1 0 0 1 0 1 0 0 1 0 0 0 1]\n",
      "-----\n",
      "[0 0 0 0 0 0 0 0 0 0 1 0 0 0 0 1 0 0 0 0 1 0 0 0 1 0 0 0 0 0 0 0 0 0 0 0 0\n",
      " 1 0 0 0 0 0 0 0 0 1 1 0 0 0 0 0 0 1 0 0 1 0 0 0 0 0 0 0 0 0 1 0 0 0 0 0 0\n",
      " 0 0 1 0 0 0 0 0 0 0 0 0 0 1 0 0 1 0 1 0 0 0 0 0 0 1]\n"
     ]
    }
   ],
   "source": [
    "full_results = full_dia_dtree.predict(x_test)\n",
    "print(full_results)\n",
    "\n",
    "print(\"-----\")\n",
    "\n",
    "pruned_results = pruned_dia_dtree.predict(x_test)\n",
    "print(pruned_results)"
   ]
  },
  {
   "cell_type": "markdown",
   "metadata": {},
   "source": [
    "### Create Confusion Matrix \n",
    "\n",
    "Create the two confusion matrices using the `sklearn.metrics.confusion_matrix` with the testing data. \n",
    "\n",
    "By using matplot lib, we can visualise the confusion matrices side by side for unpruned and pruned trees."
   ]
  },
  {
   "cell_type": "code",
   "execution_count": 13,
   "metadata": {
    "ExecuteTime": {
     "end_time": "2019-07-27T10:17:56.386009Z",
     "start_time": "2019-07-27T10:17:56.085633Z"
    }
   },
   "outputs": [
    {
     "data": {
      "image/png": "[encoded data removed]",
      "text/plain": [
       "<Figure size 1008x432 with 4 Axes>"
      ]
     },
     "metadata": {
      "needs_background": "light"
     },
     "output_type": "display_data"
    }
   ],
   "source": [
    "import matplotlib.pyplot as plt\n",
    "import seaborn as sns\n",
    "from sklearn.metrics import confusion_matrix\n",
    "\n",
    "cm_f = confusion_matrix(y_test, full_results)\n",
    "cm_p = confusion_matrix(y_test, pruned_results)\n",
    "\n",
    "fig, ax = plt.subplots(ncols=2, figsize=(14, 6))\n",
    "\n",
    "options = {\n",
    "    'annot': True,\n",
    "    'fmt': '.0f',\n",
    "    'annot_kws': {\"size\": 25 }\n",
    "}\n",
    "\n",
    "sns.heatmap(cm_f, ax=ax[0], **options)\n",
    "sns.heatmap(cm_p, ax=ax[1], **options)\n",
    "\n",
    "ax[0].set_title('Confusion Matrix for Unpruned')\n",
    "ax[1].set_title('Confusion Matrix for Pruned')\n",
    "\n",
    "plt.show()"
   ]
  },
  {
   "cell_type": "markdown",
   "metadata": {},
   "source": [
    "### Accuracy Scores\n",
    "\n",
    "You can compare the two trees by using `.accuracy()`, the same way you create the confusion matrix."
   ]
  },
  {
   "cell_type": "code",
   "execution_count": 14,
   "metadata": {
    "ExecuteTime": {
     "end_time": "2019-07-27T10:17:56.393953Z",
     "start_time": "2019-07-27T10:17:56.387970Z"
    }
   },
   "outputs": [
    {
     "name": "stdout",
     "output_type": "stream",
     "text": [
      "0.75\n",
      "0.78\n"
     ]
    }
   ],
   "source": [
    "print(full_dia_dtree.score(x_test, y_test))\n",
    "print(pruned_dia_dtree.score(x_test, y_test))"
   ]
  },
  {
   "cell_type": "markdown",
   "metadata": {},
   "source": [
    "### Feature Importance"
   ]
  },
  {
   "cell_type": "code",
   "execution_count": 15,
   "metadata": {
    "ExecuteTime": {
     "end_time": "2019-07-27T10:17:56.892509Z",
     "start_time": "2019-07-27T10:17:56.669130Z"
    }
   },
   "outputs": [
    {
     "data": {
      "text/plain": [
       "<BarContainer object of 7 artists>"
      ]
     },
     "execution_count": 15,
     "metadata": {},
     "output_type": "execute_result"
    },
    {
     "data": {
      "image/png": "[encoded data removed]",
      "text/plain": [
       "<Figure size 432x288 with 2 Axes>"
      ]
     },
     "metadata": {
      "needs_background": "light"
     },
     "output_type": "display_data"
    }
   ],
   "source": [
    "import matplotlib.pyplot as plt\n",
    "\n",
    "fig, ax = plt.subplots(nrows=2)\n",
    "\n",
    "ax[0].barh(features, full_dia_dtree.feature_importances_)\n",
    "\n",
    "ax[1].barh(features, pruned_dia_dtree.feature_importances_)"
   ]
  },
  {
   "cell_type": "markdown",
   "metadata": {},
   "source": [
    "<a id='1'><h2><img src=\"https://images.vexels.com/media/users/3/153978/isolated/preview/483ef8b10a46e28d02293a31570c8c56-warning-sign-colored-stroke-icon-by-vexels.png\" width=23 align=\"left\"><font color=\"salmon\">&nbsp;</font><font color=\"salmon\"> Bonus - Visualising Decision Tree </font> </h2></a>\n",
    "\n",
    "To visualise the decision trees, install these two libraries\n",
    "\n",
    "1. `pydotplus`\n",
    "2. `graphviz`\n",
    "\n",
    "**Note: You might face difficulties installing these libraries correctly. If you do please PM your TAs for help.**"
   ]
  },
  {
   "cell_type": "code",
   "execution_count": 16,
   "metadata": {
    "ExecuteTime": {
     "end_time": "2019-07-27T10:17:57.045545Z",
     "start_time": "2019-07-27T10:17:56.962529Z"
    }
   },
   "outputs": [
    {
     "data": {
      "image/svg+xml": [
       "<?xml version=\"1.0\" encoding=\"UTF-8\" standalone=\"no\"?>\r\n",
       "<!DOCTYPE svg PUBLIC \"-//W3C//DTD SVG 1.1//EN\"\r\n",
       " \"http://www.w3.org/Graphics/SVG/1.1/DTD/svg11.dtd\">\r\n",
       "<!-- Generated by graphviz version 2.38.0 (20140413.2041)\r\n",
       " -->\r\n",
       "<!-- Title: Tree Pages: 1 -->\r\n",
       "<svg width=\"594pt\" height=\"314pt\"\r\n",
       " viewBox=\"0.00 0.00 593.50 314.00\" xmlns=\"http://www.w3.org/2000/svg\" xmlns:xlink=\"http://www.w3.org/1999/xlink\">\r\n",
       "<g id=\"graph0\" class=\"graph\" transform=\"scale(1 1) rotate(0) translate(4 310)\">\r\n",
       "<title>Tree</title>\r\n",
       "<polygon fill=\"white\" stroke=\"none\" points=\"-4,4 -4,-310 589.5,-310 589.5,4 -4,4\"/>\r\n",
       "<!-- 0 -->\r\n",
       "<g id=\"node1\" class=\"node\"><title>0</title>\r\n",
       "<polygon fill=\"#e58139\" fill-opacity=\"0.466667\" stroke=\"black\" points=\"362,-306 228,-306 228,-223 362,-223 362,-306\"/>\r\n",
       "<text text-anchor=\"middle\" x=\"295\" y=\"-290.8\" font-family=\"Times New Roman,serif\" font-size=\"14.00\">Glucose &lt;= 154.5</text>\r\n",
       "<text text-anchor=\"middle\" x=\"295\" y=\"-275.8\" font-family=\"Times New Roman,serif\" font-size=\"14.00\">entropy = 0.932</text>\r\n",
       "<text text-anchor=\"middle\" x=\"295\" y=\"-260.8\" font-family=\"Times New Roman,serif\" font-size=\"14.00\">samples = 400</text>\r\n",
       "<text text-anchor=\"middle\" x=\"295\" y=\"-245.8\" font-family=\"Times New Roman,serif\" font-size=\"14.00\">value = [261, 139]</text>\r\n",
       "<text text-anchor=\"middle\" x=\"295\" y=\"-230.8\" font-family=\"Times New Roman,serif\" font-size=\"14.00\">class = Has Diabetes</text>\r\n",
       "</g>\r\n",
       "<!-- 1 -->\r\n",
       "<g id=\"node2\" class=\"node\"><title>1</title>\r\n",
       "<polygon fill=\"#e58139\" fill-opacity=\"0.647059\" stroke=\"black\" points=\"286,-187 152,-187 152,-104 286,-104 286,-187\"/>\r\n",
       "<text text-anchor=\"middle\" x=\"219\" y=\"-171.8\" font-family=\"Times New Roman,serif\" font-size=\"14.00\">BMI &lt;= 26.45</text>\r\n",
       "<text text-anchor=\"middle\" x=\"219\" y=\"-156.8\" font-family=\"Times New Roman,serif\" font-size=\"14.00\">entropy = 0.826</text>\r\n",
       "<text text-anchor=\"middle\" x=\"219\" y=\"-141.8\" font-family=\"Times New Roman,serif\" font-size=\"14.00\">samples = 331</text>\r\n",
       "<text text-anchor=\"middle\" x=\"219\" y=\"-126.8\" font-family=\"Times New Roman,serif\" font-size=\"14.00\">value = [245, 86]</text>\r\n",
       "<text text-anchor=\"middle\" x=\"219\" y=\"-111.8\" font-family=\"Times New Roman,serif\" font-size=\"14.00\">class = Has Diabetes</text>\r\n",
       "</g>\r\n",
       "<!-- 0&#45;&gt;1 -->\r\n",
       "<g id=\"edge1\" class=\"edge\"><title>0&#45;&gt;1</title>\r\n",
       "<path fill=\"none\" stroke=\"black\" d=\"M268.632,-222.907C262.914,-214.105 256.807,-204.703 250.902,-195.612\"/>\r\n",
       "<polygon fill=\"black\" stroke=\"black\" points=\"253.704,-193.5 245.321,-187.021 247.833,-197.313 253.704,-193.5\"/>\r\n",
       "<text text-anchor=\"middle\" x=\"240.126\" y=\"-207.775\" font-family=\"Times New Roman,serif\" font-size=\"14.00\">True</text>\r\n",
       "</g>\r\n",
       "<!-- 4 -->\r\n",
       "<g id=\"node5\" class=\"node\"><title>4</title>\r\n",
       "<polygon fill=\"#399de5\" fill-opacity=\"0.698039\" stroke=\"black\" points=\"435.5,-187 306.5,-187 306.5,-104 435.5,-104 435.5,-187\"/>\r\n",
       "<text text-anchor=\"middle\" x=\"371\" y=\"-171.8\" font-family=\"Times New Roman,serif\" font-size=\"14.00\">BMI &lt;= 29.1</text>\r\n",
       "<text text-anchor=\"middle\" x=\"371\" y=\"-156.8\" font-family=\"Times New Roman,serif\" font-size=\"14.00\">entropy = 0.781</text>\r\n",
       "<text text-anchor=\"middle\" x=\"371\" y=\"-141.8\" font-family=\"Times New Roman,serif\" font-size=\"14.00\">samples = 69</text>\r\n",
       "<text text-anchor=\"middle\" x=\"371\" y=\"-126.8\" font-family=\"Times New Roman,serif\" font-size=\"14.00\">value = [16, 53]</text>\r\n",
       "<text text-anchor=\"middle\" x=\"371\" y=\"-111.8\" font-family=\"Times New Roman,serif\" font-size=\"14.00\">class = No Diabetes</text>\r\n",
       "</g>\r\n",
       "<!-- 0&#45;&gt;4 -->\r\n",
       "<g id=\"edge4\" class=\"edge\"><title>0&#45;&gt;4</title>\r\n",
       "<path fill=\"none\" stroke=\"black\" d=\"M321.368,-222.907C327.086,-214.105 333.193,-204.703 339.098,-195.612\"/>\r\n",
       "<polygon fill=\"black\" stroke=\"black\" points=\"342.167,-197.313 344.679,-187.021 336.296,-193.5 342.167,-197.313\"/>\r\n",
       "<text text-anchor=\"middle\" x=\"349.874\" y=\"-207.775\" font-family=\"Times New Roman,serif\" font-size=\"14.00\">False</text>\r\n",
       "</g>\r\n",
       "<!-- 2 -->\r\n",
       "<g id=\"node3\" class=\"node\"><title>2</title>\r\n",
       "<polygon fill=\"#e58139\" fill-opacity=\"0.960784\" stroke=\"black\" points=\"134,-68 0,-68 0,-0 134,-0 134,-68\"/>\r\n",
       "<text text-anchor=\"middle\" x=\"67\" y=\"-52.8\" font-family=\"Times New Roman,serif\" font-size=\"14.00\">entropy = 0.238</text>\r\n",
       "<text text-anchor=\"middle\" x=\"67\" y=\"-37.8\" font-family=\"Times New Roman,serif\" font-size=\"14.00\">samples = 77</text>\r\n",
       "<text text-anchor=\"middle\" x=\"67\" y=\"-22.8\" font-family=\"Times New Roman,serif\" font-size=\"14.00\">value = [74, 3]</text>\r\n",
       "<text text-anchor=\"middle\" x=\"67\" y=\"-7.8\" font-family=\"Times New Roman,serif\" font-size=\"14.00\">class = Has Diabetes</text>\r\n",
       "</g>\r\n",
       "<!-- 1&#45;&gt;2 -->\r\n",
       "<g id=\"edge2\" class=\"edge\"><title>1&#45;&gt;2</title>\r\n",
       "<path fill=\"none\" stroke=\"black\" d=\"M162.401,-103.726C148.98,-94.0582 134.695,-83.767 121.376,-74.172\"/>\r\n",
       "<polygon fill=\"black\" stroke=\"black\" points=\"123.384,-71.305 113.224,-68.2996 119.292,-76.9846 123.384,-71.305\"/>\r\n",
       "</g>\r\n",
       "<!-- 3 -->\r\n",
       "<g id=\"node4\" class=\"node\"><title>3</title>\r\n",
       "<polygon fill=\"#e58139\" fill-opacity=\"0.513725\" stroke=\"black\" points=\"286,-68 152,-68 152,-0 286,-0 286,-68\"/>\r\n",
       "<text text-anchor=\"middle\" x=\"219\" y=\"-52.8\" font-family=\"Times New Roman,serif\" font-size=\"14.00\">entropy = 0.912</text>\r\n",
       "<text text-anchor=\"middle\" x=\"219\" y=\"-37.8\" font-family=\"Times New Roman,serif\" font-size=\"14.00\">samples = 254</text>\r\n",
       "<text text-anchor=\"middle\" x=\"219\" y=\"-22.8\" font-family=\"Times New Roman,serif\" font-size=\"14.00\">value = [171, 83]</text>\r\n",
       "<text text-anchor=\"middle\" x=\"219\" y=\"-7.8\" font-family=\"Times New Roman,serif\" font-size=\"14.00\">class = Has Diabetes</text>\r\n",
       "</g>\r\n",
       "<!-- 1&#45;&gt;3 -->\r\n",
       "<g id=\"edge3\" class=\"edge\"><title>1&#45;&gt;3</title>\r\n",
       "<path fill=\"none\" stroke=\"black\" d=\"M219,-103.726C219,-95.5175 219,-86.8595 219,-78.56\"/>\r\n",
       "<polygon fill=\"black\" stroke=\"black\" points=\"222.5,-78.2996 219,-68.2996 215.5,-78.2996 222.5,-78.2996\"/>\r\n",
       "</g>\r\n",
       "<!-- 5 -->\r\n",
       "<g id=\"node6\" class=\"node\"><title>5</title>\r\n",
       "<polygon fill=\"#e58139\" fill-opacity=\"0.498039\" stroke=\"black\" points=\"438,-68 304,-68 304,-0 438,-0 438,-68\"/>\r\n",
       "<text text-anchor=\"middle\" x=\"371\" y=\"-52.8\" font-family=\"Times New Roman,serif\" font-size=\"14.00\">entropy = 0.918</text>\r\n",
       "<text text-anchor=\"middle\" x=\"371\" y=\"-37.8\" font-family=\"Times New Roman,serif\" font-size=\"14.00\">samples = 12</text>\r\n",
       "<text text-anchor=\"middle\" x=\"371\" y=\"-22.8\" font-family=\"Times New Roman,serif\" font-size=\"14.00\">value = [8, 4]</text>\r\n",
       "<text text-anchor=\"middle\" x=\"371\" y=\"-7.8\" font-family=\"Times New Roman,serif\" font-size=\"14.00\">class = Has Diabetes</text>\r\n",
       "</g>\r\n",
       "<!-- 4&#45;&gt;5 -->\r\n",
       "<g id=\"edge5\" class=\"edge\"><title>4&#45;&gt;5</title>\r\n",
       "<path fill=\"none\" stroke=\"black\" d=\"M371,-103.726C371,-95.5175 371,-86.8595 371,-78.56\"/>\r\n",
       "<polygon fill=\"black\" stroke=\"black\" points=\"374.5,-78.2996 371,-68.2996 367.5,-78.2996 374.5,-78.2996\"/>\r\n",
       "</g>\r\n",
       "<!-- 6 -->\r\n",
       "<g id=\"node7\" class=\"node\"><title>6</title>\r\n",
       "<polygon fill=\"#399de5\" fill-opacity=\"0.835294\" stroke=\"black\" points=\"585.5,-68 456.5,-68 456.5,-0 585.5,-0 585.5,-68\"/>\r\n",
       "<text text-anchor=\"middle\" x=\"521\" y=\"-52.8\" font-family=\"Times New Roman,serif\" font-size=\"14.00\">entropy = 0.585</text>\r\n",
       "<text text-anchor=\"middle\" x=\"521\" y=\"-37.8\" font-family=\"Times New Roman,serif\" font-size=\"14.00\">samples = 57</text>\r\n",
       "<text text-anchor=\"middle\" x=\"521\" y=\"-22.8\" font-family=\"Times New Roman,serif\" font-size=\"14.00\">value = [8, 49]</text>\r\n",
       "<text text-anchor=\"middle\" x=\"521\" y=\"-7.8\" font-family=\"Times New Roman,serif\" font-size=\"14.00\">class = No Diabetes</text>\r\n",
       "</g>\r\n",
       "<!-- 4&#45;&gt;6 -->\r\n",
       "<g id=\"edge6\" class=\"edge\"><title>4&#45;&gt;6</title>\r\n",
       "<path fill=\"none\" stroke=\"black\" d=\"M426.854,-103.726C439.973,-94.1494 453.93,-83.9611 466.967,-74.4438\"/>\r\n",
       "<polygon fill=\"black\" stroke=\"black\" points=\"469.371,-77.0227 475.384,-68.2996 465.244,-71.3688 469.371,-77.0227\"/>\r\n",
       "</g>\r\n",
       "</g>\r\n",
       "</svg>\r\n"
      ],
      "text/plain": [
       "<graphviz.files.Source at 0x12f472ac3c8>"
      ]
     },
     "execution_count": 16,
     "metadata": {},
     "output_type": "execute_result"
    }
   ],
   "source": [
    "from sklearn.tree import export_graphviz\n",
    "from IPython.display import Image\n",
    "import graphviz\n",
    "import pydotplus\n",
    "import os\n",
    "os.environ[\"PATH\"] += os.pathsep + 'C:/Program Files (x86)/Graphviz2.38/bin/'\n",
    "\n",
    "dot_data = export_graphviz(\n",
    "    pruned_dia_dtree,  # Select Tree\n",
    "    out_file=None,\n",
    "    feature_names=features,  # Names of the Features\n",
    "    class_names=['Has Diabetes', 'No Diabetes'],  # Target Names\n",
    "    filled=True)\n",
    "graph = graphviz.Source(dot_data)\n",
    "\n",
    "graph\n",
    "# graph.render(\"diab\",view=True)"
   ]
  },
  {
   "cell_type": "code",
   "execution_count": null,
   "metadata": {},
   "outputs": [],
   "source": []
  }
 ],
 "metadata": {
  "kernelspec": {
   "display_name": "Python 3",
   "language": "python",
   "name": "python3"
  },
  "language_info": {
   "codemirror_mode": {
    "name": "ipython",
    "version": 3
   },
   "file_extension": ".py",
   "mimetype": "text/x-python",
   "name": "python",
   "nbconvert_exporter": "python",
   "pygments_lexer": "ipython3",
   "version": "3.7.2"
  }
 },
 "nbformat": 4,
 "nbformat_minor": 2
}
