{
 "cells": [
  {
   "cell_type": "markdown",
   "metadata": {},
   "source": [
    "<center><h2>DS102 Problem Set - Week 3</h2></center>\n",
    "**Hackwagon Academy**\n",
    "\n",
    "`HWA-DS102-PS3-201810`\n",
    "<hr>\n",
    "\n",
    "If you have any questions to the Problem Set, feel free to send a message to your TAs or Instructors in the Telegram chat. You are encouraged to also discuss the problem sets within your own groups.\n",
    "\n",
    "<div class=\"alert alert-success\">Before you start, fill in your details for this notebook and rename the notebook to `<First_Name>_<Last_Name>-problem-set-week-3`, for example `jane-doe-problem-set-week-3`.</div>"
   ]
  },
  {
   "cell_type": "code",
   "execution_count": null,
   "metadata": {
    "ExecuteTime": {
     "end_time": "2018-10-01T12:52:56.498206Z",
     "start_time": "2018-10-01T12:52:56.492232Z"
    }
   },
   "outputs": [],
   "source": [
    "# Rename the notebook. Then, fill in your details here.\n",
    "# Name  : \n",
    "# Class : "
   ]
  },
  {
   "cell_type": "markdown",
   "metadata": {},
   "source": [
    "#### Datasets Required:\n",
    "\n",
    "- `sgp-literacy-rate.csv`\n",
    "\n",
    "- `insurance-claims.csv`\n",
    "\n",
    "- `ks-projects-15k.csv`\n",
    "\n",
    "- `wines-200.csv`\n",
    "\n",
    "- `loans-by-grade.csv`"
   ]
  },
  {
   "cell_type": "code",
   "execution_count": null,
   "metadata": {
    "ExecuteTime": {
     "end_time": "2018-10-01T12:52:58.213015Z",
     "start_time": "2018-10-01T12:52:56.501399Z"
    }
   },
   "outputs": [],
   "source": [
    "# import the relevant packages\n",
    "import pandas as pd\n",
    "import numpy as np\n",
    "import matplotlib.pyplot as plt\n",
    "import seaborn as sns\n",
    "# Set matplotlib inline\n",
    "%matplotlib inline"
   ]
  },
  {
   "cell_type": "markdown",
   "metadata": {},
   "source": [
    "### Part 1 (5 Marks)\n",
    "Mark breakdowns are stated in the question e.g. **`[1]`**. For questions wtih short answers, <span style=\"color:darkblue\">**both the <u>code</u> and <u>typed answers</u> must be provided to receive full credit.**</span> <span style=\"color:darkblue\">**For plotting, <u>all features</u> must be present to receive full credit.**</span>"
   ]
  },
  {
   "cell_type": "markdown",
   "metadata": {},
   "source": [
    "**1A**. \n",
    "\n",
    "**i)** What are the key features of a plot that needs to be explicitly stated? **`[0.5]`**"
   ]
  },
  {
   "cell_type": "code",
   "execution_count": null,
   "metadata": {
    "ExecuteTime": {
     "end_time": "2018-10-01T12:52:58.221037Z",
     "start_time": "2018-10-01T12:52:58.215961Z"
    }
   },
   "outputs": [],
   "source": [
    "# What are the key features of a plot that needs to be explicitly stated?\n",
    "# Code is not required.\n",
    "# (Type your answer here)\n",
    "#"
   ]
  },
  {
   "cell_type": "markdown",
   "metadata": {},
   "source": [
    "**ii)**  You are given the following data in `sgp-literacy-rate.csv`, taken from [World Bank Open Data](https://data.worldbank.org/indicator/SE.ADT.LITR.ZS?view=chart). The definition of each column is as follows:\n",
    "\n",
    "`sgp-literacy-rate.csv`\n",
    "\n",
    "| col name | definition | datatype | example |\n",
    "| -------- | ---------- | -------- | ------- |\n",
    "| literacy_rate | The percentage of people aged 15 and above who can both read and write | float | 96.716660 |\n",
    "| year | The year in which the literacy rate was obtained | int | 2010 |"
   ]
  },
  {
   "cell_type": "markdown",
   "metadata": {},
   "source": [
    "** Read from CSV to `df`**\n",
    "\n",
    "Read the data from the `sgp-literacy-rate.csv` CSV file into a `DataFrame` called `sgp_lr_df`."
   ]
  },
  {
   "cell_type": "code",
   "execution_count": null,
   "metadata": {
    "ExecuteTime": {
     "end_time": "2018-10-01T12:52:58.239202Z",
     "start_time": "2018-10-01T12:52:58.224782Z"
    }
   },
   "outputs": [],
   "source": [
    "# Read from CSV to sgp_lr_df. Write your code here.\n",
    "#"
   ]
  },
  {
   "cell_type": "markdown",
   "metadata": {},
   "source": [
    "The following code to plot the line graph is given to you. It plots the literacy rate of Singapore (% of people ages 15 and above) from 2010 to 2016. Perform the following steps:\n",
    "\n",
    "1. Run the code to plot the line graph. \n",
    "2. Using your answer from **1A** or otherwise, modify the code to add the missing features of the plot. **`[1]`**"
   ]
  },
  {
   "cell_type": "code",
   "execution_count": null,
   "metadata": {
    "ExecuteTime": {
     "end_time": "2018-10-01T12:52:58.524776Z",
     "start_time": "2018-10-01T12:52:58.244215Z"
    }
   },
   "outputs": [],
   "source": [
    "# Instructions: modify the code to add the missing features of the plot\n",
    "\n",
    "fig, ax1 = plt.subplots()\n",
    "sgp_lr_df.plot(kind='line', x='year', y='literacy_rate', ax=ax1, figsize=(10,5), marker='o')\n",
    "\n",
    "# Display the line graph\n",
    "plt.show()"
   ]
  },
  {
   "cell_type": "markdown",
   "metadata": {},
   "source": [
    "**1B.** You are given a baggage loss dataset from the [TSA Claims Database](https://www.kaggle.com/terminal-security-agency/tsa-claims-database). In this dataset, the `case_number` represents the unique ID associated with the case from the insurer and `claim_amount` is the amount of claim filed by the passenger, or the loss due to travelling borne by the passenger."
   ]
  },
  {
   "cell_type": "markdown",
   "metadata": {},
   "source": [
    "#### Read from CSV to `df`\n",
    "Read the dataset from `insurance-claims.csv` to a `DataFrame` called `ins_df`."
   ]
  },
  {
   "cell_type": "code",
   "execution_count": null,
   "metadata": {
    "ExecuteTime": {
     "end_time": "2018-10-01T12:52:58.797966Z",
     "start_time": "2018-10-01T12:52:58.787462Z"
    }
   },
   "outputs": [],
   "source": [
    "# Read from CSV to ins_df. Write your code here.\n",
    "#"
   ]
  },
  {
   "cell_type": "markdown",
   "metadata": {},
   "source": [
    "**i)** Plot a histogram for `claim_amount` using $8$ bins. Use the `bins` parameter to specify this. Also, as we do not need the KDE component, set the parameter `kde=False`. Ensure that **all features of the plot have to be shown** for full credit. Clue: Use `sns.distplot()`. **`[1]`**\n",
    "\n",
    "**Note**: If you see this error:\n",
    "\n",
    "```\n",
    "Warning: The 'normed' kwarg is deprecated, and has been replaced by the 'density' kwarg.\n",
    "```\n",
    "\n",
    "You can ignore it. The plot will not be affected."
   ]
  },
  {
   "cell_type": "code",
   "execution_count": null,
   "metadata": {
    "ExecuteTime": {
     "end_time": "2018-10-01T12:52:59.174036Z",
     "start_time": "2018-10-01T12:52:58.801939Z"
    },
    "scrolled": false
   },
   "outputs": [],
   "source": [
    "# Plot a histogram for claim_amount using 8 bins.\n",
    "# Write your code here."
   ]
  },
  {
   "cell_type": "markdown",
   "metadata": {},
   "source": [
    "**ii)** The following `DataFrame` called `ins_df_agg_c` is given to you. Run the code. What is the interpretation of `count` in `ins_df_agg_c` with respect to the plotted histogram in **i)** ?  **`[0.5]`**"
   ]
  },
  {
   "cell_type": "code",
   "execution_count": null,
   "metadata": {
    "ExecuteTime": {
     "end_time": "2018-10-01T12:52:59.201024Z",
     "start_time": "2018-10-01T12:52:59.177307Z"
    }
   },
   "outputs": [],
   "source": [
    "# No additional code is required.\n",
    "ins_df_agg = pd.cut(ins_df['claim_amount'], 8).reset_index(name='bin_range')\n",
    "ins_df_agg_c = ins_df_agg.groupby('bin_range').size().reset_index(name='count')\n",
    "ins_df_agg_c\n",
    "\n",
    "# What is the interpretation of count in ins_df_agg_c with respect to the plotted histogram?\n",
    "# (Type your answer here)\n",
    "#"
   ]
  },
  {
   "cell_type": "markdown",
   "metadata": {
    "ExecuteTime": {
     "end_time": "2018-09-30T05:05:18.886068Z",
     "start_time": "2018-09-30T05:05:13.885Z"
    }
   },
   "source": [
    "**1C.** You are given the details of some projects taken from the [KickStarter Projects](https://www.kaggle.com/kemical/kickstarter-projects) dataset. The definition of each column is as follows:\n",
    "\n",
    "`ks-projects-15k.csv`\n",
    "\n",
    "| col name | definition | datatype | example |\n",
    "| -------- | ---------- | -------- | ------- |\n",
    "| ID | internal kickstart ID | int | 59178964 |\n",
    "| name | name of a kickstarter project | str | I Believe in King The Kid |\n",
    "| main_category | category of a campaign | str | Music |\n",
    "| backers | the number of backers a project has | int | 444 |\n",
    "| usd_pledged_real | the amount that was pledged for the project, in USD | float | 27591.46 |\n",
    "| usd_goal_real | the fundraising goal of the project, in USD | float | 55000 | "
   ]
  },
  {
   "cell_type": "markdown",
   "metadata": {},
   "source": [
    "#### Read from CSV to `df`\n",
    "Read the dataset from `ks-projects-15k.csv` to a `DataFrame` called `kst_df`."
   ]
  },
  {
   "cell_type": "code",
   "execution_count": null,
   "metadata": {
    "ExecuteTime": {
     "end_time": "2018-10-01T12:52:59.227012Z",
     "start_time": "2018-10-01T12:52:59.204107Z"
    },
    "scrolled": true
   },
   "outputs": [],
   "source": [
    "# Read from CSV to kst_df. Write your code here.\n",
    "#"
   ]
  },
  {
   "cell_type": "markdown",
   "metadata": {},
   "source": [
    "**i)** Filter for all Kickstarter Projects where the total amount pledged in USD, or `usd_pledged_real` is greater than $\\$10000$.  Store this in a new `DataFrame` called `kst_df_10k`. **`[0.5]`**"
   ]
  },
  {
   "cell_type": "code",
   "execution_count": null,
   "metadata": {
    "ExecuteTime": {
     "end_time": "2018-10-01T12:52:59.237996Z",
     "start_time": "2018-10-01T12:52:59.230256Z"
    }
   },
   "outputs": [],
   "source": [
    "# Filter for all Kickstarter Projects where the usd_pledged_real is greater than 10000.\n",
    "# (Write your code here)\n",
    "#"
   ]
  },
  {
   "cell_type": "markdown",
   "metadata": {},
   "source": [
    "**ii)** Create a new `DataFrame`, `kst_df_agg` where the first column is the `main_category` and the second column is called `n`. In `kst_df_agg`, `main_category` is the main category of `kst_df_10k` and `n` is the number of projects belonging to that `main_category`. Hint: use `df.groupby().size()`.  **`[0.5]`**"
   ]
  },
  {
   "cell_type": "code",
   "execution_count": null,
   "metadata": {
    "ExecuteTime": {
     "end_time": "2018-10-01T12:52:59.258867Z",
     "start_time": "2018-10-01T12:52:59.241884Z"
    },
    "scrolled": false
   },
   "outputs": [],
   "source": [
    "# Create an aggregated df with 1 column being the main_category and the other column\n",
    "# being the no. of projects in that category.\n",
    "# (Write your code here)\n",
    "#"
   ]
  },
  {
   "cell_type": "markdown",
   "metadata": {},
   "source": [
    "**iii)** Using your answers to **(i)** and **(ii)** or otherwise, plot a bar graph where the $x$-axis is the `main_category` and the $y$-axis is the number of projects belonging to that `main_category`. **`[1]`**"
   ]
  },
  {
   "cell_type": "code",
   "execution_count": null,
   "metadata": {
    "ExecuteTime": {
     "end_time": "2018-10-01T12:52:59.715896Z",
     "start_time": "2018-10-01T12:52:59.262323Z"
    }
   },
   "outputs": [],
   "source": [
    "# Plot the bar graph where the x-axis is the main_category and \n",
    "# the y-axis is the number of projects belonging to that main_category\n",
    "# (Write your code here)\n",
    "#"
   ]
  },
  {
   "cell_type": "markdown",
   "metadata": {},
   "source": [
    "<div class=\"alert alert-success\">\n",
    "**Checkpoint**: When you have completed Part 1, upload your progress to eLearn. eLearn only accepts the latest notebooks so if you have an existing notebook, your latest upload will **override** it.\n",
    "</div>\n",
    "\n",
    "### Part 2 (7 Marks)\n",
    "For questions wtih short answers, <span style=\"color:darkblue\">**both the <u>code</u> and <u>typed answers</u> must be provided to receive full credit.**</span> <span style=\"color:darkblue\">**For plotting, <u>all features</u> must be present to receive full credit.**</span>"
   ]
  },
  {
   "cell_type": "markdown",
   "metadata": {},
   "source": [
    "\n",
    "**2A**. You are given the score and price of some bottles of wines taken from the [Wine Reviews](https://www.kaggle.com/zynicide/wine-reviews) dataset. The definition of each column is as follows:\n",
    "\n",
    "`wines-200.csv`\n",
    "\n",
    "| col name | definition | datatype | example |\n",
    "| -------- | ---------- | -------- | ------- |\n",
    "| country | The country that the wine is from | str | US |\n",
    "| points | The number of points WineEnthusiast rated the wine on a scale of 1-100 | int | 86 |\n",
    "| price | The price of the bottle of wine | float | 12.0 |\n",
    "\n",
    "#### Read from CSV to `df`\n",
    "Read the dataset from `wines-200.csv` to a `DataFrame` called `wines_df`."
   ]
  },
  {
   "cell_type": "code",
   "execution_count": null,
   "metadata": {
    "ExecuteTime": {
     "end_time": "2018-10-01T12:52:59.729220Z",
     "start_time": "2018-10-01T12:52:59.719328Z"
    },
    "scrolled": true
   },
   "outputs": [],
   "source": [
    "# Read from CSV to wines_df. Write your code here.\n",
    "#"
   ]
  },
  {
   "cell_type": "markdown",
   "metadata": {},
   "source": [
    "**i)**. Using `dropna()`, remove all records where the `price` value is not given. What is the `shape` of `wines_df` after removing the values?**`[0.5]`**"
   ]
  },
  {
   "cell_type": "code",
   "execution_count": null,
   "metadata": {
    "ExecuteTime": {
     "end_time": "2018-10-01T12:52:59.742389Z",
     "start_time": "2018-10-01T12:52:59.731970Z"
    }
   },
   "outputs": [],
   "source": [
    "# Remove the records where the price is not given\n",
    "# (Write your code here)\n",
    "#\n",
    "# What is the shape of wines_df after removing the values?\n",
    "# (Write your code here)"
   ]
  },
  {
   "cell_type": "markdown",
   "metadata": {},
   "source": [
    "**ii)**. Using your answers to **i)** or otherwise, plot a scatterplot where the $x$-axis represents the number of points a wine has received, and the $y$-axis is the price of the wine. Only plot for points where <u>both the point and price value exist</u>. The title, $x$-axis label and $y$-axis label **must be shown** to obtain full credit. **`[1]`**"
   ]
  },
  {
   "cell_type": "code",
   "execution_count": null,
   "metadata": {
    "ExecuteTime": {
     "end_time": "2018-10-01T12:52:59.761188Z",
     "start_time": "2018-10-01T12:52:59.756803Z"
    }
   },
   "outputs": [],
   "source": [
    "# Plot the scatterplot where the x-axis represents the number of points a wine has received, \n",
    "# and the y-axis is the price of the wine.\n",
    "# Write your code here\n",
    "#"
   ]
  },
  {
   "cell_type": "markdown",
   "metadata": {
    "ExecuteTime": {
     "end_time": "2018-08-08T07:08:47.260447Z",
     "start_time": "2018-08-08T07:08:47.255394Z"
    }
   },
   "source": [
    "**iii)** Complete the code below to plot a boxplot showing the distribution of the `point`s of the bottles of wines.  **`[0.5]`**"
   ]
  },
  {
   "cell_type": "code",
   "execution_count": null,
   "metadata": {
    "ExecuteTime": {
     "end_time": "2018-10-01T12:53:00.317929Z",
     "start_time": "2018-10-01T12:53:00.029081Z"
    },
    "scrolled": false
   },
   "outputs": [],
   "source": [
    "# Complete the code below to plot a boxplot.\n",
    "sns.set(style=\"whitegrid\")\n",
    "sns.boxplot(orient=\"h\", width=0.2)\n",
    "\n",
    "# Show the boxplot\n",
    "plt.show()"
   ]
  },
  {
   "cell_type": "markdown",
   "metadata": {},
   "source": [
    "**iv)** Using the plot of **iii)** to help you or otherwise, find the number of outliers for the `point`s distribtution of the wines dataset. **`[0.5]`**"
   ]
  },
  {
   "cell_type": "code",
   "execution_count": null,
   "metadata": {
    "ExecuteTime": {
     "end_time": "2018-10-01T12:53:00.332443Z",
     "start_time": "2018-10-01T12:53:00.321253Z"
    },
    "scrolled": true
   },
   "outputs": [],
   "source": [
    "# Find the number of outliers for the points distribtution of the wines dataset.\n",
    "# (Write your code here)\n",
    "# Hint: Use the following code to help you:\n",
    "p25 = np.percentile(wines_df['points'], 25)\n",
    "\n",
    "# How many outliers are there for the points distribtution of the wines dataset?\n",
    "# (Type your answer here)\n",
    "#"
   ]
  },
  {
   "cell_type": "markdown",
   "metadata": {},
   "source": [
    "<hr>\n",
    "**2B.** You are given the number of loans per term for each grade taken from a sample from the [Lending Club Dataset](https://www.kaggle.com/wendykan/lending-club-loan-data). The definition of each column is as below.\n",
    "\n",
    "`loans-by-grade.csv`\n",
    "\n",
    "| col name | definition | datatype | example |\n",
    "| -------- | ---------- | -------- | ------- |\n",
    "| grade | The grade scored | str | A |\n",
    "| 36 months | The number of loans with a 36 month term (repayment must be complete in 3 years) | int | 18572 |\n",
    "| 60 months | The number of loans with a 60 month term (repayment must be complete in 5 years) | int | 8013 |\n",
    "\n",
    "#### Read from CSV to `df`\n",
    "Read the dataset from `loans-by-grade.csv` to a `DataFrame` called `loans_df`."
   ]
  },
  {
   "cell_type": "code",
   "execution_count": null,
   "metadata": {
    "ExecuteTime": {
     "end_time": "2018-10-01T12:53:00.350481Z",
     "start_time": "2018-10-01T12:53:00.335685Z"
    }
   },
   "outputs": [],
   "source": [
    "# Read from CSV to loans_df. Write your code here.\n",
    "#"
   ]
  },
  {
   "cell_type": "markdown",
   "metadata": {},
   "source": [
    "**i)** Add a column to `loans_df` called `Total Loans`. This represents the total number of 36 & 60 month loans belonging to the grade. **`[0.5]`**."
   ]
  },
  {
   "cell_type": "code",
   "execution_count": null,
   "metadata": {
    "ExecuteTime": {
     "end_time": "2018-10-01T12:53:00.370573Z",
     "start_time": "2018-10-01T12:53:00.353990Z"
    }
   },
   "outputs": [],
   "source": [
    "#Add a column to loans_df called 'Total Loans'\n",
    "# Write your code here"
   ]
  },
  {
   "cell_type": "markdown",
   "metadata": {},
   "source": [
    "**ii)** \n",
    "- What proportion of the loans in Grade **A** are 36 month loans?\n",
    "- What proportion of the loans in Grade **A** are 60 month loans? \n",
    "\n",
    "**`[0.5]`**"
   ]
  },
  {
   "cell_type": "code",
   "execution_count": null,
   "metadata": {
    "ExecuteTime": {
     "end_time": "2018-10-01T12:53:00.380782Z",
     "start_time": "2018-10-01T12:53:00.373786Z"
    },
    "scrolled": true
   },
   "outputs": [],
   "source": [
    "# What proportion of the loans in Grade A are 36 month loans?\n",
    "# Code is not required. However, you could modify this line of code to help you\n",
    "# 0 / (18572 + 670)\n",
    "\n",
    "# (Type your answer here)\n",
    "#"
   ]
  },
  {
   "cell_type": "code",
   "execution_count": null,
   "metadata": {
    "ExecuteTime": {
     "end_time": "2018-10-01T12:53:00.390454Z",
     "start_time": "2018-10-01T12:53:00.383795Z"
    }
   },
   "outputs": [],
   "source": [
    "# What proportion of the loans in Grade A are 60 month loans?\n",
    "# Code is not required. However, you could modify this line of code to help you\n",
    "# 0 / (18572 + 670)\n",
    "\n",
    "# (Type your answer here)\n",
    "#"
   ]
  },
  {
   "cell_type": "markdown",
   "metadata": {},
   "source": [
    "**iii)** Using the answers to **i)** and **ii)** or otherwise, add 2 columns to `loan_df`:\n",
    "\n",
    "- `36 months percentage` is the proportion of loans that has a 36 month term **belonging to the grade**\n",
    "\n",
    "- `60 months percentage` is the proportion of loans that has a 60 month term **belonging to the grade**\n",
    "\n",
    "**`[1]`**"
   ]
  },
  {
   "cell_type": "code",
   "execution_count": null,
   "metadata": {
    "ExecuteTime": {
     "end_time": "2018-10-01T12:53:00.420082Z",
     "start_time": "2018-10-01T12:53:00.393912Z"
    }
   },
   "outputs": [],
   "source": [
    "# Write the code for adding the columns to loans_df below.\n",
    "# Write your code here\n",
    "#"
   ]
  },
  {
   "cell_type": "markdown",
   "metadata": {},
   "source": [
    "**iv)** Plot a stacked bar-graph where each bar in the $x$-axis is a grade and the $y$-axis represents the percentage of loans belonging to the grade. Hint: As **each bar represents a percentage**, all bars have the **same height** of $100\\%$. Also, use `DataFrame.plot(kind='bar', stacked=True)` and add more parameters accordingly. **`[1]`**"
   ]
  },
  {
   "cell_type": "code",
   "execution_count": null,
   "metadata": {
    "ExecuteTime": {
     "end_time": "2018-10-01T12:53:00.428920Z",
     "start_time": "2018-10-01T12:53:00.423331Z"
    }
   },
   "outputs": [],
   "source": [
    "# Write the code for plotting the stacked bar-graph below.\n",
    "# Write your code here\n",
    "#"
   ]
  },
  {
   "cell_type": "markdown",
   "metadata": {},
   "source": [
    "**2C**. You will be using the `wines-200.csv` again for this question. Read from the `wines-200.csv` dataset from **2A** to `wines_df2`. Remember to perform the `dropna()` step."
   ]
  },
  {
   "cell_type": "code",
   "execution_count": null,
   "metadata": {
    "ExecuteTime": {
     "end_time": "2018-10-01T12:53:00.819678Z",
     "start_time": "2018-10-01T12:53:00.805352Z"
    }
   },
   "outputs": [],
   "source": [
    "# Read from CSV file to wines_df2\n",
    "# Remember to dropna()\n",
    "# Write your code here."
   ]
  },
  {
   "cell_type": "markdown",
   "metadata": {},
   "source": [
    "**i) **Find the top 2 countries with the most wines in the dataset. **`[0.5]`**"
   ]
  },
  {
   "cell_type": "code",
   "execution_count": null,
   "metadata": {
    "ExecuteTime": {
     "end_time": "2018-10-01T12:53:00.841047Z",
     "start_time": "2018-10-01T12:53:00.824327Z"
    },
    "scrolled": true
   },
   "outputs": [],
   "source": [
    "# What are the top 2 countries in terms of number of wines produced?\n",
    "# Write your code here\n",
    "#\n",
    "\n",
    "# (Type your answer here)\n",
    "#"
   ]
  },
  {
   "cell_type": "markdown",
   "metadata": {},
   "source": [
    "**ii)** Using your answer in **(i)** or otherwise, debug and complete the following code to plot a violin plot of the wine prices of the top 2 countries with the most wines in the dataset. There should be a seperate violin plot for each country in the top 2. Refer to the [seaborn documentation](https://seaborn.pydata.org/generated/seaborn.violinplot.html), this [Stackoverflow answer](https://stackoverflow.com/questions/46134113/seaborn-violin-plot-from-pandas-dataframe-each-column-its-own-separate-violin-p) and this [Stackoverflow answer](https://stackoverflow.com/questions/48803619/what-is-the-correct-way-to-create-a-violin-plot-that-has-one-violin-split-by-hue) to help you. **`[1]`**"
   ]
  },
  {
   "cell_type": "code",
   "execution_count": null,
   "metadata": {
    "ExecuteTime": {
     "end_time": "2018-10-01T12:53:01.255360Z",
     "start_time": "2018-10-01T12:53:00.844257Z"
    },
    "scrolled": true
   },
   "outputs": [],
   "source": [
    "# Debug and complete the code for plotting the violin below.\n",
    "wines_df2['one'] = 1\n",
    "plt.figure(figsize=(16,8))\n",
    "sns.violinplot(x=\"one\", data=wines_df, palette=\"muted\")\n",
    "plt.show()"
   ]
  },
  {
   "cell_type": "markdown",
   "metadata": {},
   "source": [
    "<div class=\"alert alert-success\">\n",
    "**Checkpoint**: When you have completed Part 2, upload your progress to eLearn. eLearn only accepts the latest notebooks so if you have an existing notebook, your latest upload will **override** it.\n",
    "</div>"
   ]
  }
 ],
 "metadata": {
  "kernelspec": {
   "display_name": "Python 3",
   "language": "python",
   "name": "python3"
  },
  "language_info": {
   "codemirror_mode": {
    "name": "ipython",
    "version": 3
   },
   "file_extension": ".py",
   "mimetype": "text/x-python",
   "name": "python",
   "nbconvert_exporter": "python",
   "pygments_lexer": "ipython3",
   "version": "3.4.8"
  }
 },
 "nbformat": 4,
 "nbformat_minor": 2
}
