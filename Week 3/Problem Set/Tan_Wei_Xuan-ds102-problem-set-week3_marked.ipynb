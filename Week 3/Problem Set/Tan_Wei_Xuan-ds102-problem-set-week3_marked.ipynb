{
 "cells": [
  {
   "cell_type": "markdown",
   "metadata": {},
   "source": [
    "<center><h2>DS102 Problem Set - Week 3</h2></center>\n",
    "**Hackwagon Academy**\n",
    "\n",
    "`HWA-DS102-PS3-201810`\n",
    "<hr>\n",
    "\n",
    "If you have any questions to the Problem Set, feel free to send a message to your TAs or Instructors in the Telegram chat. You are encouraged to also discuss the problem sets within your own groups.\n",
    "\n",
    "<div class=\"alert alert-success\">Before you start, fill in your details for this notebook and rename the notebook to `<First_Name>_<Last_Name>-problem-set-week-3`, for example `jane-doe-problem-set-week-3`.</div>"
   ]
  },
  {
   "cell_type": "code",
   "execution_count": 1,
   "metadata": {
    "ExecuteTime": {
     "end_time": "2018-10-01T12:52:56.498206Z",
     "start_time": "2018-10-01T12:52:56.492232Z"
    }
   },
   "outputs": [],
   "source": [
    "# Name  : Tan Wei Xuan\n",
    "# Class : DS102, Saturday 3.30pm\n",
    "# score: 11.25/12"
   ]
  },
  {
   "cell_type": "markdown",
   "metadata": {},
   "source": [
    "#### Datasets Required:\n",
    "\n",
    "- `sgp-literacy-rate.csv`\n",
    "\n",
    "- `insurance-claims.csv`\n",
    "\n",
    "- `ks-projects-15k.csv`\n",
    "\n",
    "- `wines-200.csv`\n",
    "\n",
    "- `loans-by-grade.csv`"
   ]
  },
  {
   "cell_type": "code",
   "execution_count": 2,
   "metadata": {
    "ExecuteTime": {
     "end_time": "2018-10-01T12:52:58.213015Z",
     "start_time": "2018-10-01T12:52:56.501399Z"
    }
   },
   "outputs": [],
   "source": [
    "# import the relevant packages\n",
    "import pandas as pd\n",
    "import numpy as np\n",
    "import matplotlib.pyplot as plt\n",
    "import seaborn as sns\n",
    "# Set matplotlib inline\n",
    "%matplotlib inline"
   ]
  },
  {
   "cell_type": "markdown",
   "metadata": {},
   "source": [
    "### Part 1 (5 Marks)\n",
    "Mark breakdowns are stated in the question e.g. **`[1]`**. For questions wtih short answers, <span style=\"color:darkblue\">**both the <u>code</u> and <u>typed answers</u> must be provided to receive full credit.**</span> <span style=\"color:darkblue\">**For plotting, <u>all features</u> must be present to receive full credit.**</span>"
   ]
  },
  {
   "cell_type": "markdown",
   "metadata": {},
   "source": [
    "**1A**. \n",
    "\n",
    "**i)** What are the key features of a plot that needs to be explicitly stated? **`[0.5]`**"
   ]
  },
  {
   "cell_type": "code",
   "execution_count": 3,
   "metadata": {
    "ExecuteTime": {
     "end_time": "2018-10-01T12:52:58.221037Z",
     "start_time": "2018-10-01T12:52:58.215961Z"
    }
   },
   "outputs": [],
   "source": [
    "# What are the key features of a plot that needs to be explicitly stated?\n",
    "\n",
    "# The key features of a plot that needs to be explicitly stated are the title, legend, x-axis label and y-axis label\n",
    "# Well done, correct (0.5)"
   ]
  },
  {
   "cell_type": "markdown",
   "metadata": {},
   "source": [
    "**ii)**  You are given the following data in `sgp-literacy-rate.csv`, taken from [World Bank Open Data](https://data.worldbank.org/indicator/SE.ADT.LITR.ZS?view=chart). The definition of each column is as follows:\n",
    "\n",
    "`sgp-literacy-rate.csv`\n",
    "\n",
    "| col name | definition | datatype | example |\n",
    "| -------- | ---------- | -------- | ------- |\n",
    "| literacy_rate | The percentage of people aged 15 and above who can both read and write | float | 96.716660 |\n",
    "| year | The year in which the literacy rate was obtained | int | 2010 |"
   ]
  },
  {
   "cell_type": "markdown",
   "metadata": {},
   "source": [
    "** Read from CSV to `df`**\n",
    "\n",
    "Read the data from the `sgp-literacy-rate.csv` CSV file into a `DataFrame` called `sgp_lr_df`."
   ]
  },
  {
   "cell_type": "code",
   "execution_count": 4,
   "metadata": {
    "ExecuteTime": {
     "end_time": "2018-10-01T12:52:58.239202Z",
     "start_time": "2018-10-01T12:52:58.224782Z"
    }
   },
   "outputs": [
    {
     "data": {
      "text/html": [
       "<div>\n",
       "<style scoped>\n",
       "    .dataframe tbody tr th:only-of-type {\n",
       "        vertical-align: middle;\n",
       "    }\n",
       "\n",
       "    .dataframe tbody tr th {\n",
       "        vertical-align: top;\n",
       "    }\n",
       "\n",
       "    .dataframe thead th {\n",
       "        text-align: right;\n",
       "    }\n",
       "</style>\n",
       "<table border=\"1\" class=\"dataframe\">\n",
       "  <thead>\n",
       "    <tr style=\"text-align: right;\">\n",
       "      <th></th>\n",
       "      <th>literacy_rate</th>\n",
       "      <th>year</th>\n",
       "    </tr>\n",
       "  </thead>\n",
       "  <tbody>\n",
       "    <tr>\n",
       "      <th>0</th>\n",
       "      <td>95.857330</td>\n",
       "      <td>2010</td>\n",
       "    </tr>\n",
       "    <tr>\n",
       "      <th>1</th>\n",
       "      <td>96.186081</td>\n",
       "      <td>2011</td>\n",
       "    </tr>\n",
       "    <tr>\n",
       "      <th>2</th>\n",
       "      <td>96.369789</td>\n",
       "      <td>2012</td>\n",
       "    </tr>\n",
       "    <tr>\n",
       "      <th>3</th>\n",
       "      <td>96.548080</td>\n",
       "      <td>2013</td>\n",
       "    </tr>\n",
       "    <tr>\n",
       "      <th>4</th>\n",
       "      <td>96.716660</td>\n",
       "      <td>2014</td>\n",
       "    </tr>\n",
       "    <tr>\n",
       "      <th>5</th>\n",
       "      <td>96.825493</td>\n",
       "      <td>2015</td>\n",
       "    </tr>\n",
       "    <tr>\n",
       "      <th>6</th>\n",
       "      <td>97.049591</td>\n",
       "      <td>2016</td>\n",
       "    </tr>\n",
       "  </tbody>\n",
       "</table>\n",
       "</div>"
      ],
      "text/plain": [
       "   literacy_rate  year\n",
       "0      95.857330  2010\n",
       "1      96.186081  2011\n",
       "2      96.369789  2012\n",
       "3      96.548080  2013\n",
       "4      96.716660  2014\n",
       "5      96.825493  2015\n",
       "6      97.049591  2016"
      ]
     },
     "execution_count": 4,
     "metadata": {},
     "output_type": "execute_result"
    }
   ],
   "source": [
    "# Read from CSV to sgp_lr_df. Write your code here.\n",
    "sgp_lr_df = pd.read_csv('sgp-literacy-rate.csv', sep='|')\n",
    "\n",
    "sgp_lr_df"
   ]
  },
  {
   "cell_type": "markdown",
   "metadata": {},
   "source": [
    "The following code to plot the line graph is given to you. It plots the literacy rate of Singapore (% of people ages 15 and above) from 2010 to 2016. Perform the following steps:\n",
    "\n",
    "1. Run the code to plot the line graph. \n",
    "2. Using your answer from **1A** or otherwise, modify the code to add the missing features of the plot. **`[1]`**"
   ]
  },
  {
   "cell_type": "code",
   "execution_count": 5,
   "metadata": {
    "ExecuteTime": {
     "end_time": "2018-10-01T12:52:58.524776Z",
     "start_time": "2018-10-01T12:52:58.244215Z"
    }
   },
   "outputs": [
    {
     "data": {
      "image/png": "[encoded data removed]",
      "text/plain": [
       "<Figure size 720x360 with 1 Axes>"
      ]
     },
     "metadata": {
      "needs_background": "light"
     },
     "output_type": "display_data"
    }
   ],
   "source": [
    "# Instructions: modify the code to add the missing features of the plot\n",
    "\n",
    "filt_cond1 = sgp_lr_df['year'] >= 2010\n",
    "filt_cond2 = sgp_lr_df['year'] <= 2016\n",
    "\n",
    "sgp_lr_df_filt = sgp_lr_df[filt_cond1 & filt_cond2]\n",
    "\n",
    "fig, ax1 = plt.subplots()\n",
    "sgp_lr_df_filt.plot(kind='line', x='year', y='literacy_rate', ax=ax1, figsize=(10,5), marker='o')\n",
    "    \n",
    "plt.ylabel(\"Literacy Rate(%)\",fontsize=15)\n",
    "plt.yticks(np.arange(95.8, 97.2, 0.1))\n",
    "plt.xlabel(\"Year\",fontsize=15)\n",
    "plt.title(\"Literacy rate of Singapore (% of people ages 15 and above) from 2010 to 2016\",fontsize=15)\n",
    "ax1.legend([\"Literacy Rate(%)\"],fontsize=15,loc=2)\n",
    "\n",
    "#To show y-values on markers\n",
    "\n",
    "for x,y in zip(sgp_lr_df_filt['year'],sgp_lr_df_filt['literacy_rate']):\n",
    "\n",
    "    label = \"{:.6f}\".format(y)\n",
    "\n",
    "    plt.annotate(label, # this is the text\n",
    "                 (x,y), # this is the point to label\n",
    "                 textcoords=\"offset points\", # how to position the text\n",
    "                 xytext=(2,10), # distance from text to points (x,y)\n",
    "                 ha='left',\n",
    "                 fontsize = 13) # horizontal alignment can be left, right or center\n",
    "\n",
    "# Display the line graph\n",
    "plt.show()\n",
    "# Well done, correct (1)"
   ]
  },
  {
   "cell_type": "markdown",
   "metadata": {},
   "source": [
    "**1B.** You are given a baggage loss dataset from the [TSA Claims Database](https://www.kaggle.com/terminal-security-agency/tsa-claims-database). In this dataset, the `case_number` represents the unique ID associated with the case from the insurer and `claim_amount` is the amount of claim filed by the passenger, or the loss due to travelling borne by the passenger."
   ]
  },
  {
   "cell_type": "markdown",
   "metadata": {},
   "source": [
    "#### Read from CSV to `df`\n",
    "Read the dataset from `insurance-claims.csv` to a `DataFrame` called `ins_df`."
   ]
  },
  {
   "cell_type": "code",
   "execution_count": 6,
   "metadata": {
    "ExecuteTime": {
     "end_time": "2018-10-01T12:52:58.797966Z",
     "start_time": "2018-10-01T12:52:58.787462Z"
    }
   },
   "outputs": [
    {
     "data": {
      "text/html": [
       "<div>\n",
       "<style scoped>\n",
       "    .dataframe tbody tr th:only-of-type {\n",
       "        vertical-align: middle;\n",
       "    }\n",
       "\n",
       "    .dataframe tbody tr th {\n",
       "        vertical-align: top;\n",
       "    }\n",
       "\n",
       "    .dataframe thead th {\n",
       "        text-align: right;\n",
       "    }\n",
       "</style>\n",
       "<table border=\"1\" class=\"dataframe\">\n",
       "  <thead>\n",
       "    <tr style=\"text-align: right;\">\n",
       "      <th></th>\n",
       "      <th>case_number</th>\n",
       "      <th>claim_amount</th>\n",
       "    </tr>\n",
       "  </thead>\n",
       "  <tbody>\n",
       "    <tr>\n",
       "      <th>0</th>\n",
       "      <td>2004103065920</td>\n",
       "      <td>50.00</td>\n",
       "    </tr>\n",
       "    <tr>\n",
       "      <th>1</th>\n",
       "      <td>0226059M</td>\n",
       "      <td>312.50</td>\n",
       "    </tr>\n",
       "    <tr>\n",
       "      <th>2</th>\n",
       "      <td>2006012099982</td>\n",
       "      <td>90.00</td>\n",
       "    </tr>\n",
       "    <tr>\n",
       "      <th>3</th>\n",
       "      <td>2005010372123</td>\n",
       "      <td>216.00</td>\n",
       "    </tr>\n",
       "    <tr>\n",
       "      <th>4</th>\n",
       "      <td>2004092263584</td>\n",
       "      <td>178.74</td>\n",
       "    </tr>\n",
       "  </tbody>\n",
       "</table>\n",
       "</div>"
      ],
      "text/plain": [
       "     case_number  claim_amount\n",
       "0  2004103065920         50.00\n",
       "1       0226059M        312.50\n",
       "2  2006012099982         90.00\n",
       "3  2005010372123        216.00\n",
       "4  2004092263584        178.74"
      ]
     },
     "execution_count": 6,
     "metadata": {},
     "output_type": "execute_result"
    }
   ],
   "source": [
    "# Read from CSV to ins_df. Write your code here.\n",
    "ins_df = pd.read_csv('insurance-claims.csv')\n",
    "\n",
    "ins_df.head()"
   ]
  },
  {
   "cell_type": "markdown",
   "metadata": {},
   "source": [
    "**i)** Plot a histogram for `claim_amount` using $8$ bins. Use the `bins` parameter to specify this. Also, as we do not need the KDE component, set the parameter `kde=False`. Ensure that **all features of the plot have to be shown** for full credit. Clue: Use `sns.distplot()`. **`[1]`**\n",
    "\n",
    "**Note**: If you see this error:\n",
    "\n",
    "```\n",
    "Warning: The 'normed' kwarg is deprecated, and has been replaced by the 'density' kwarg.\n",
    "```\n",
    "\n",
    "You can ignore it. The plot will not be affected."
   ]
  },
  {
   "cell_type": "code",
   "execution_count": 7,
   "metadata": {
    "ExecuteTime": {
     "end_time": "2018-10-01T12:52:59.174036Z",
     "start_time": "2018-10-01T12:52:58.801939Z"
    }
   },
   "outputs": [
    {
     "data": {
      "image/png": "[encoded data removed]",
      "text/plain": [
       "<Figure size 1296x576 with 1 Axes>"
      ]
     },
     "metadata": {},
     "output_type": "display_data"
    }
   ],
   "source": [
    "\n",
    "sns.set(style='whitegrid', palette=\"deep\", font_scale=1.5, rc={\"figure.figsize\": [18, 8]})\n",
    "\n",
    "sns.distplot(ins_df['claim_amount'], norm_hist=False, kde=False, bins=8, hist_kws={\"alpha\": 1}\n",
    ").set(xlabel='Claim Amount (USD)', ylabel='Count')\n",
    "\n",
    "plt.title(\"Histogram of Claim Amount (USD), 8 bins\" ,fontsize=19)\n",
    "\n",
    "plt.show()\n",
    "\n",
    "# partially correct (0.75)\n",
    "# deduct 0.25 due to missing legend"
   ]
  },
  {
   "cell_type": "markdown",
   "metadata": {},
   "source": [
    "**ii)** The following `DataFrame` called `ins_df_agg_c` is given to you. Run the code. What is the interpretation of `count` in `ins_df_agg_c` with respect to the plotted histogram in **i)** ?  **`[0.5]`**"
   ]
  },
  {
   "cell_type": "code",
   "execution_count": 8,
   "metadata": {
    "ExecuteTime": {
     "end_time": "2018-10-01T12:52:59.201024Z",
     "start_time": "2018-10-01T12:52:59.177307Z"
    }
   },
   "outputs": [
    {
     "data": {
      "text/html": [
       "<div>\n",
       "<style scoped>\n",
       "    .dataframe tbody tr th:only-of-type {\n",
       "        vertical-align: middle;\n",
       "    }\n",
       "\n",
       "    .dataframe tbody tr th {\n",
       "        vertical-align: top;\n",
       "    }\n",
       "\n",
       "    .dataframe thead th {\n",
       "        text-align: right;\n",
       "    }\n",
       "</style>\n",
       "<table border=\"1\" class=\"dataframe\">\n",
       "  <thead>\n",
       "    <tr style=\"text-align: right;\">\n",
       "      <th></th>\n",
       "      <th>bin_range</th>\n",
       "      <th>count</th>\n",
       "    </tr>\n",
       "  </thead>\n",
       "  <tbody>\n",
       "    <tr>\n",
       "      <th>0</th>\n",
       "      <td>(1.011, 125.625]</td>\n",
       "      <td>1689</td>\n",
       "    </tr>\n",
       "    <tr>\n",
       "      <th>1</th>\n",
       "      <td>(125.625, 249.25]</td>\n",
       "      <td>440</td>\n",
       "    </tr>\n",
       "    <tr>\n",
       "      <th>2</th>\n",
       "      <td>(249.25, 372.875]</td>\n",
       "      <td>181</td>\n",
       "    </tr>\n",
       "    <tr>\n",
       "      <th>3</th>\n",
       "      <td>(372.875, 496.5]</td>\n",
       "      <td>76</td>\n",
       "    </tr>\n",
       "    <tr>\n",
       "      <th>4</th>\n",
       "      <td>(496.5, 620.125]</td>\n",
       "      <td>48</td>\n",
       "    </tr>\n",
       "    <tr>\n",
       "      <th>5</th>\n",
       "      <td>(620.125, 743.75]</td>\n",
       "      <td>26</td>\n",
       "    </tr>\n",
       "    <tr>\n",
       "      <th>6</th>\n",
       "      <td>(743.75, 867.375]</td>\n",
       "      <td>27</td>\n",
       "    </tr>\n",
       "    <tr>\n",
       "      <th>7</th>\n",
       "      <td>(867.375, 991.0]</td>\n",
       "      <td>13</td>\n",
       "    </tr>\n",
       "  </tbody>\n",
       "</table>\n",
       "</div>"
      ],
      "text/plain": [
       "           bin_range  count\n",
       "0   (1.011, 125.625]   1689\n",
       "1  (125.625, 249.25]    440\n",
       "2  (249.25, 372.875]    181\n",
       "3   (372.875, 496.5]     76\n",
       "4   (496.5, 620.125]     48\n",
       "5  (620.125, 743.75]     26\n",
       "6  (743.75, 867.375]     27\n",
       "7   (867.375, 991.0]     13"
      ]
     },
     "execution_count": 8,
     "metadata": {},
     "output_type": "execute_result"
    }
   ],
   "source": [
    "# No additional code is required.\n",
    "ins_df_agg = pd.cut(ins_df['claim_amount'], 8).reset_index(name='bin_range')\n",
    "ins_df_agg_c = ins_df_agg.groupby('bin_range').size().reset_index(name='count')\n",
    "ins_df_agg_c\n",
    "\n",
    "# What is the interpretation of count in ins_df_agg_c with respect to the plotted histogram?\n",
    "# The count in ins_df_agg_c refers to the total number of claims filed by passengers with respect to a range of claim amounts (There are 8 ranges based on the 8 bins specific in the histogram for part i).\n",
    "# For example, there are 1689 total number of claims filed by passengers for the claim amount ranging from 1.011 to 125.625.\n",
    "\n",
    "# partially correct (0.25)\n",
    "# need to mention that count corresponds to height of the vertical bars in the histogram"
   ]
  },
  {
   "cell_type": "markdown",
   "metadata": {
    "ExecuteTime": {
     "end_time": "2018-09-30T05:05:18.886068Z",
     "start_time": "2018-09-30T05:05:13.885Z"
    }
   },
   "source": [
    "**1C.** You are given the details of some projects taken from the [KickStarter Projects](https://www.kaggle.com/kemical/kickstarter-projects) dataset. The definition of each column is as follows:\n",
    "\n",
    "`ks-projects-15k.csv`\n",
    "\n",
    "| col name | definition | datatype | example |\n",
    "| -------- | ---------- | -------- | ------- |\n",
    "| ID | internal kickstart ID | int | 59178964 |\n",
    "| name | name of a kickstarter project | str | I Believe in King The Kid |\n",
    "| main_category | category of a campaign | str | Music |\n",
    "| backers | the number of backers a project has | int | 444 |\n",
    "| usd_pledged_real | the amount that was pledged for the project, in USD | float | 27591.46 |\n",
    "| usd_goal_real | the fundraising goal of the project, in USD | float | 55000 | "
   ]
  },
  {
   "cell_type": "markdown",
   "metadata": {},
   "source": [
    "#### Read from CSV to `df`\n",
    "Read the dataset from `ks-projects-15k.csv` to a `DataFrame` called `kst_df`."
   ]
  },
  {
   "cell_type": "code",
   "execution_count": 9,
   "metadata": {
    "ExecuteTime": {
     "end_time": "2018-10-01T12:52:59.227012Z",
     "start_time": "2018-10-01T12:52:59.204107Z"
    },
    "scrolled": true
   },
   "outputs": [
    {
     "data": {
      "text/html": [
       "<div>\n",
       "<style scoped>\n",
       "    .dataframe tbody tr th:only-of-type {\n",
       "        vertical-align: middle;\n",
       "    }\n",
       "\n",
       "    .dataframe tbody tr th {\n",
       "        vertical-align: top;\n",
       "    }\n",
       "\n",
       "    .dataframe thead th {\n",
       "        text-align: right;\n",
       "    }\n",
       "</style>\n",
       "<table border=\"1\" class=\"dataframe\">\n",
       "  <thead>\n",
       "    <tr style=\"text-align: right;\">\n",
       "      <th></th>\n",
       "      <th>ID</th>\n",
       "      <th>name</th>\n",
       "      <th>main_category</th>\n",
       "      <th>backers</th>\n",
       "      <th>usd_pledged_real</th>\n",
       "      <th>usd_goal_real</th>\n",
       "    </tr>\n",
       "  </thead>\n",
       "  <tbody>\n",
       "    <tr>\n",
       "      <th>0</th>\n",
       "      <td>200590717</td>\n",
       "      <td>Brian's Songs: Love. Friendship. Dreams... and...</td>\n",
       "      <td>Film &amp; Video</td>\n",
       "      <td>444</td>\n",
       "      <td>65050.50</td>\n",
       "      <td>55000.0</td>\n",
       "    </tr>\n",
       "    <tr>\n",
       "      <th>1</th>\n",
       "      <td>59178964</td>\n",
       "      <td>PUPPYCIDE: The Documentary</td>\n",
       "      <td>Film &amp; Video</td>\n",
       "      <td>958</td>\n",
       "      <td>60397.50</td>\n",
       "      <td>100000.0</td>\n",
       "    </tr>\n",
       "    <tr>\n",
       "      <th>2</th>\n",
       "      <td>1696773081</td>\n",
       "      <td>I Believe In King The Kid</td>\n",
       "      <td>Music</td>\n",
       "      <td>676</td>\n",
       "      <td>27591.46</td>\n",
       "      <td>20000.0</td>\n",
       "    </tr>\n",
       "    <tr>\n",
       "      <th>3</th>\n",
       "      <td>1072617654</td>\n",
       "      <td>Lullabies from the Heart with Robert Robinson</td>\n",
       "      <td>Music</td>\n",
       "      <td>146</td>\n",
       "      <td>22259.32</td>\n",
       "      <td>22000.0</td>\n",
       "    </tr>\n",
       "    <tr>\n",
       "      <th>4</th>\n",
       "      <td>1003478705</td>\n",
       "      <td>The Wheelhouse: A Farm to Table Restaurant in ...</td>\n",
       "      <td>Food</td>\n",
       "      <td>43</td>\n",
       "      <td>10205.00</td>\n",
       "      <td>10000.0</td>\n",
       "    </tr>\n",
       "  </tbody>\n",
       "</table>\n",
       "</div>"
      ],
      "text/plain": [
       "           ID                                               name  \\\n",
       "0   200590717  Brian's Songs: Love. Friendship. Dreams... and...   \n",
       "1    59178964                         PUPPYCIDE: The Documentary   \n",
       "2  1696773081                          I Believe In King The Kid   \n",
       "3  1072617654      Lullabies from the Heart with Robert Robinson   \n",
       "4  1003478705  The Wheelhouse: A Farm to Table Restaurant in ...   \n",
       "\n",
       "  main_category  backers  usd_pledged_real  usd_goal_real  \n",
       "0  Film & Video      444          65050.50        55000.0  \n",
       "1  Film & Video      958          60397.50       100000.0  \n",
       "2         Music      676          27591.46        20000.0  \n",
       "3         Music      146          22259.32        22000.0  \n",
       "4          Food       43          10205.00        10000.0  "
      ]
     },
     "execution_count": 9,
     "metadata": {},
     "output_type": "execute_result"
    }
   ],
   "source": [
    "# Read from CSV to kst_df. Write your code here.\n",
    "kst_df = pd.read_csv(\"ks-projects-15k.csv\")\n",
    "\n",
    "kst_df.head()"
   ]
  },
  {
   "cell_type": "markdown",
   "metadata": {},
   "source": [
    "**i)** Filter for all Kickstarter Projects where the total amount pledged in USD, or `usd_pledged_real` is greater than $\\$10000$.  Store this in a new `DataFrame` called `kst_df_10k`. **`[0.5]`**"
   ]
  },
  {
   "cell_type": "code",
   "execution_count": 10,
   "metadata": {
    "ExecuteTime": {
     "end_time": "2018-10-01T12:52:59.237996Z",
     "start_time": "2018-10-01T12:52:59.230256Z"
    }
   },
   "outputs": [
    {
     "data": {
      "text/html": [
       "<div>\n",
       "<style scoped>\n",
       "    .dataframe tbody tr th:only-of-type {\n",
       "        vertical-align: middle;\n",
       "    }\n",
       "\n",
       "    .dataframe tbody tr th {\n",
       "        vertical-align: top;\n",
       "    }\n",
       "\n",
       "    .dataframe thead th {\n",
       "        text-align: right;\n",
       "    }\n",
       "</style>\n",
       "<table border=\"1\" class=\"dataframe\">\n",
       "  <thead>\n",
       "    <tr style=\"text-align: right;\">\n",
       "      <th></th>\n",
       "      <th>ID</th>\n",
       "      <th>name</th>\n",
       "      <th>main_category</th>\n",
       "      <th>backers</th>\n",
       "      <th>usd_pledged_real</th>\n",
       "      <th>usd_goal_real</th>\n",
       "    </tr>\n",
       "  </thead>\n",
       "  <tbody>\n",
       "    <tr>\n",
       "      <th>0</th>\n",
       "      <td>200590717</td>\n",
       "      <td>Brian's Songs: Love. Friendship. Dreams... and...</td>\n",
       "      <td>Film &amp; Video</td>\n",
       "      <td>444</td>\n",
       "      <td>65050.50</td>\n",
       "      <td>55000.0</td>\n",
       "    </tr>\n",
       "    <tr>\n",
       "      <th>1</th>\n",
       "      <td>59178964</td>\n",
       "      <td>PUPPYCIDE: The Documentary</td>\n",
       "      <td>Film &amp; Video</td>\n",
       "      <td>958</td>\n",
       "      <td>60397.50</td>\n",
       "      <td>100000.0</td>\n",
       "    </tr>\n",
       "    <tr>\n",
       "      <th>2</th>\n",
       "      <td>1696773081</td>\n",
       "      <td>I Believe In King The Kid</td>\n",
       "      <td>Music</td>\n",
       "      <td>676</td>\n",
       "      <td>27591.46</td>\n",
       "      <td>20000.0</td>\n",
       "    </tr>\n",
       "    <tr>\n",
       "      <th>3</th>\n",
       "      <td>1072617654</td>\n",
       "      <td>Lullabies from the Heart with Robert Robinson</td>\n",
       "      <td>Music</td>\n",
       "      <td>146</td>\n",
       "      <td>22259.32</td>\n",
       "      <td>22000.0</td>\n",
       "    </tr>\n",
       "    <tr>\n",
       "      <th>4</th>\n",
       "      <td>1003478705</td>\n",
       "      <td>The Wheelhouse: A Farm to Table Restaurant in ...</td>\n",
       "      <td>Food</td>\n",
       "      <td>43</td>\n",
       "      <td>10205.00</td>\n",
       "      <td>10000.0</td>\n",
       "    </tr>\n",
       "    <tr>\n",
       "      <th>5</th>\n",
       "      <td>810597589</td>\n",
       "      <td>Heatit</td>\n",
       "      <td>Technology</td>\n",
       "      <td>252</td>\n",
       "      <td>16820.00</td>\n",
       "      <td>5000.0</td>\n",
       "    </tr>\n",
       "    <tr>\n",
       "      <th>6</th>\n",
       "      <td>1003481542</td>\n",
       "      <td>Air.Air! ~ Portable Air Quality Detector</td>\n",
       "      <td>Technology</td>\n",
       "      <td>292</td>\n",
       "      <td>21613.47</td>\n",
       "      <td>20000.0</td>\n",
       "    </tr>\n",
       "    <tr>\n",
       "      <th>7</th>\n",
       "      <td>101788707</td>\n",
       "      <td>The World's Best Running Shorts</td>\n",
       "      <td>Fashion</td>\n",
       "      <td>1129</td>\n",
       "      <td>69167.00</td>\n",
       "      <td>10000.0</td>\n",
       "    </tr>\n",
       "    <tr>\n",
       "      <th>8</th>\n",
       "      <td>1841330960</td>\n",
       "      <td>Adventures of Pip - Wii U, Xbox One, PC &amp; Mac</td>\n",
       "      <td>Games</td>\n",
       "      <td>1262</td>\n",
       "      <td>35510.99</td>\n",
       "      <td>90000.0</td>\n",
       "    </tr>\n",
       "    <tr>\n",
       "      <th>9</th>\n",
       "      <td>1712634105</td>\n",
       "      <td>The C12 by Bartaile - a convertible laptop bag</td>\n",
       "      <td>Design</td>\n",
       "      <td>554</td>\n",
       "      <td>92895.00</td>\n",
       "      <td>15000.0</td>\n",
       "    </tr>\n",
       "    <tr>\n",
       "      <th>10</th>\n",
       "      <td>356609358</td>\n",
       "      <td>CGR Supreme Series 1: Vol. 1-6 by Classic Game...</td>\n",
       "      <td>Film &amp; Video</td>\n",
       "      <td>161</td>\n",
       "      <td>19308.00</td>\n",
       "      <td>6500.0</td>\n",
       "    </tr>\n",
       "    <tr>\n",
       "      <th>11</th>\n",
       "      <td>1789916356</td>\n",
       "      <td>Edge Up Sports: Fantasy Football Can Be Fun Ag...</td>\n",
       "      <td>Technology</td>\n",
       "      <td>1296</td>\n",
       "      <td>53497.01</td>\n",
       "      <td>35000.0</td>\n",
       "    </tr>\n",
       "    <tr>\n",
       "      <th>12</th>\n",
       "      <td>200033955</td>\n",
       "      <td>Help \"Project\" The Lewis Theatre Into The Future!</td>\n",
       "      <td>Theater</td>\n",
       "      <td>259</td>\n",
       "      <td>39330.00</td>\n",
       "      <td>39000.0</td>\n",
       "    </tr>\n",
       "    <tr>\n",
       "      <th>13</th>\n",
       "      <td>1112826153</td>\n",
       "      <td>EVIL INTENT the board game</td>\n",
       "      <td>Games</td>\n",
       "      <td>604</td>\n",
       "      <td>39643.00</td>\n",
       "      <td>25000.0</td>\n",
       "    </tr>\n",
       "    <tr>\n",
       "      <th>14</th>\n",
       "      <td>284931806</td>\n",
       "      <td>Elby: A long lasting vulcanized shoe from Broo...</td>\n",
       "      <td>Design</td>\n",
       "      <td>115</td>\n",
       "      <td>38879.00</td>\n",
       "      <td>37000.0</td>\n",
       "    </tr>\n",
       "    <tr>\n",
       "      <th>15</th>\n",
       "      <td>407051177</td>\n",
       "      <td>12 Pairs of SUNGLASSES for the Price of 1 - sh...</td>\n",
       "      <td>Fashion</td>\n",
       "      <td>2958</td>\n",
       "      <td>321908.55</td>\n",
       "      <td>20000.0</td>\n",
       "    </tr>\n",
       "    <tr>\n",
       "      <th>16</th>\n",
       "      <td>2101214965</td>\n",
       "      <td>Ruggedized/Wearable iPhone 5 Case &amp; Mounts for...</td>\n",
       "      <td>Design</td>\n",
       "      <td>89</td>\n",
       "      <td>14877.00</td>\n",
       "      <td>75000.0</td>\n",
       "    </tr>\n",
       "    <tr>\n",
       "      <th>17</th>\n",
       "      <td>2111312326</td>\n",
       "      <td>The LIVE ART Documentary</td>\n",
       "      <td>Film &amp; Video</td>\n",
       "      <td>304</td>\n",
       "      <td>33964.26</td>\n",
       "      <td>20000.0</td>\n",
       "    </tr>\n",
       "    <tr>\n",
       "      <th>18</th>\n",
       "      <td>1757099940</td>\n",
       "      <td>Archon: Glory and Machination</td>\n",
       "      <td>Games</td>\n",
       "      <td>726</td>\n",
       "      <td>53861.51</td>\n",
       "      <td>15000.0</td>\n",
       "    </tr>\n",
       "    <tr>\n",
       "      <th>19</th>\n",
       "      <td>251961628</td>\n",
       "      <td>OLLO ZERO - Parkour and Freerunning Footwear</td>\n",
       "      <td>Design</td>\n",
       "      <td>451</td>\n",
       "      <td>47133.00</td>\n",
       "      <td>30000.0</td>\n",
       "    </tr>\n",
       "    <tr>\n",
       "      <th>20</th>\n",
       "      <td>1861042142</td>\n",
       "      <td>FAVOR - Feature Film</td>\n",
       "      <td>Film &amp; Video</td>\n",
       "      <td>283</td>\n",
       "      <td>21335.00</td>\n",
       "      <td>20000.0</td>\n",
       "    </tr>\n",
       "    <tr>\n",
       "      <th>21</th>\n",
       "      <td>1162251515</td>\n",
       "      <td>Carbon 6 Forged Carbon Fiber Glow Rings</td>\n",
       "      <td>Design</td>\n",
       "      <td>3431</td>\n",
       "      <td>408861.00</td>\n",
       "      <td>11500.0</td>\n",
       "    </tr>\n",
       "    <tr>\n",
       "      <th>22</th>\n",
       "      <td>1355418713</td>\n",
       "      <td>FIT Roller: Ultimate Warm Up, Performance, and...</td>\n",
       "      <td>Design</td>\n",
       "      <td>461</td>\n",
       "      <td>43000.00</td>\n",
       "      <td>35000.0</td>\n",
       "    </tr>\n",
       "    <tr>\n",
       "      <th>23</th>\n",
       "      <td>973411861</td>\n",
       "      <td>CordCruncher Headphones</td>\n",
       "      <td>Design</td>\n",
       "      <td>1548</td>\n",
       "      <td>66689.00</td>\n",
       "      <td>20000.0</td>\n",
       "    </tr>\n",
       "    <tr>\n",
       "      <th>24</th>\n",
       "      <td>1724820366</td>\n",
       "      <td>The Ultimate One - Quad Mountain (iPod Watch W...</td>\n",
       "      <td>Design</td>\n",
       "      <td>228</td>\n",
       "      <td>12340.00</td>\n",
       "      <td>7800.0</td>\n",
       "    </tr>\n",
       "    <tr>\n",
       "      <th>25</th>\n",
       "      <td>980827271</td>\n",
       "      <td>New music video to help support NYC's dance mu...</td>\n",
       "      <td>Music</td>\n",
       "      <td>72</td>\n",
       "      <td>10520.00</td>\n",
       "      <td>10000.0</td>\n",
       "    </tr>\n",
       "    <tr>\n",
       "      <th>26</th>\n",
       "      <td>194898988</td>\n",
       "      <td>Bisecu : The most advanced smart bike lock.</td>\n",
       "      <td>Technology</td>\n",
       "      <td>283</td>\n",
       "      <td>58771.00</td>\n",
       "      <td>30000.0</td>\n",
       "    </tr>\n",
       "    <tr>\n",
       "      <th>27</th>\n",
       "      <td>1638345552</td>\n",
       "      <td>ATELEIA Brass Pen and Leather Journal</td>\n",
       "      <td>Design</td>\n",
       "      <td>185</td>\n",
       "      <td>15270.00</td>\n",
       "      <td>10000.0</td>\n",
       "    </tr>\n",
       "    <tr>\n",
       "      <th>28</th>\n",
       "      <td>74878372</td>\n",
       "      <td>Lavender Hall</td>\n",
       "      <td>Film &amp; Video</td>\n",
       "      <td>133</td>\n",
       "      <td>10778.00</td>\n",
       "      <td>10000.0</td>\n",
       "    </tr>\n",
       "    <tr>\n",
       "      <th>29</th>\n",
       "      <td>1505295627</td>\n",
       "      <td>Hermanos</td>\n",
       "      <td>Film &amp; Video</td>\n",
       "      <td>34</td>\n",
       "      <td>10165.00</td>\n",
       "      <td>10000.0</td>\n",
       "    </tr>\n",
       "    <tr>\n",
       "      <th>...</th>\n",
       "      <td>...</td>\n",
       "      <td>...</td>\n",
       "      <td>...</td>\n",
       "      <td>...</td>\n",
       "      <td>...</td>\n",
       "      <td>...</td>\n",
       "    </tr>\n",
       "    <tr>\n",
       "      <th>2057</th>\n",
       "      <td>1337805244</td>\n",
       "      <td>Dinosaurs of the Wild West</td>\n",
       "      <td>Art</td>\n",
       "      <td>522</td>\n",
       "      <td>30431.00</td>\n",
       "      <td>15000.0</td>\n",
       "    </tr>\n",
       "    <tr>\n",
       "      <th>2058</th>\n",
       "      <td>362556944</td>\n",
       "      <td>Marlon: Connected, Compression Carry-on</td>\n",
       "      <td>Design</td>\n",
       "      <td>1533</td>\n",
       "      <td>312387.00</td>\n",
       "      <td>30000.0</td>\n",
       "    </tr>\n",
       "    <tr>\n",
       "      <th>2059</th>\n",
       "      <td>1484206426</td>\n",
       "      <td>Gotta Potty Wireless, Recordable, Dog Potty Tr...</td>\n",
       "      <td>Technology</td>\n",
       "      <td>174</td>\n",
       "      <td>26014.00</td>\n",
       "      <td>25000.0</td>\n",
       "    </tr>\n",
       "    <tr>\n",
       "      <th>2060</th>\n",
       "      <td>777411849</td>\n",
       "      <td>GLUTTON FOR PUNISHMENT, By Jack D. Alvino &amp; Ga...</td>\n",
       "      <td>Film &amp; Video</td>\n",
       "      <td>53</td>\n",
       "      <td>10360.00</td>\n",
       "      <td>5000.0</td>\n",
       "    </tr>\n",
       "    <tr>\n",
       "      <th>2061</th>\n",
       "      <td>98053871</td>\n",
       "      <td>Codename: Morningstar</td>\n",
       "      <td>Games</td>\n",
       "      <td>1250</td>\n",
       "      <td>74158.00</td>\n",
       "      <td>425000.0</td>\n",
       "    </tr>\n",
       "    <tr>\n",
       "      <th>2062</th>\n",
       "      <td>188584432</td>\n",
       "      <td>Growing Cities:  A film about Urban Farming in...</td>\n",
       "      <td>Film &amp; Video</td>\n",
       "      <td>802</td>\n",
       "      <td>39602.72</td>\n",
       "      <td>35000.0</td>\n",
       "    </tr>\n",
       "    <tr>\n",
       "      <th>2063</th>\n",
       "      <td>1628075982</td>\n",
       "      <td>The Diaper Bag</td>\n",
       "      <td>Fashion</td>\n",
       "      <td>3230</td>\n",
       "      <td>465399.00</td>\n",
       "      <td>25000.0</td>\n",
       "    </tr>\n",
       "    <tr>\n",
       "      <th>2064</th>\n",
       "      <td>1698720607</td>\n",
       "      <td>MagMod - Magnetic Speedlite Modifiers for Hot-...</td>\n",
       "      <td>Design</td>\n",
       "      <td>1759</td>\n",
       "      <td>210520.66</td>\n",
       "      <td>35000.0</td>\n",
       "    </tr>\n",
       "    <tr>\n",
       "      <th>2065</th>\n",
       "      <td>906216470</td>\n",
       "      <td>Tool Pen mini – Precision Bits</td>\n",
       "      <td>Design</td>\n",
       "      <td>4644</td>\n",
       "      <td>350119.00</td>\n",
       "      <td>15000.0</td>\n",
       "    </tr>\n",
       "    <tr>\n",
       "      <th>2066</th>\n",
       "      <td>1890679162</td>\n",
       "      <td>SlingSwatter</td>\n",
       "      <td>Design</td>\n",
       "      <td>66</td>\n",
       "      <td>12172.00</td>\n",
       "      <td>12000.0</td>\n",
       "    </tr>\n",
       "    <tr>\n",
       "      <th>2067</th>\n",
       "      <td>213769912</td>\n",
       "      <td>Vufine: a Handsfree Wearable Display</td>\n",
       "      <td>Technology</td>\n",
       "      <td>1466</td>\n",
       "      <td>241111.00</td>\n",
       "      <td>50000.0</td>\n",
       "    </tr>\n",
       "    <tr>\n",
       "      <th>2068</th>\n",
       "      <td>506933181</td>\n",
       "      <td>Geographies of Kinship - The Korean Adoption S...</td>\n",
       "      <td>Film &amp; Video</td>\n",
       "      <td>582</td>\n",
       "      <td>82227.00</td>\n",
       "      <td>75000.0</td>\n",
       "    </tr>\n",
       "    <tr>\n",
       "      <th>2069</th>\n",
       "      <td>513213159</td>\n",
       "      <td>The Austin Winery | Build the Barrel Room</td>\n",
       "      <td>Food</td>\n",
       "      <td>95</td>\n",
       "      <td>15510.00</td>\n",
       "      <td>50000.0</td>\n",
       "    </tr>\n",
       "    <tr>\n",
       "      <th>2070</th>\n",
       "      <td>1338630263</td>\n",
       "      <td>Russia Insider - Challenge the Media. Let's Pu...</td>\n",
       "      <td>Journalism</td>\n",
       "      <td>708</td>\n",
       "      <td>36340.00</td>\n",
       "      <td>20000.0</td>\n",
       "    </tr>\n",
       "    <tr>\n",
       "      <th>2071</th>\n",
       "      <td>1539476995</td>\n",
       "      <td>Short Order Crooks</td>\n",
       "      <td>Comics</td>\n",
       "      <td>609</td>\n",
       "      <td>20944.00</td>\n",
       "      <td>16000.0</td>\n",
       "    </tr>\n",
       "    <tr>\n",
       "      <th>2072</th>\n",
       "      <td>506514641</td>\n",
       "      <td>Space Roller: The futuristic dice for your Sci...</td>\n",
       "      <td>Games</td>\n",
       "      <td>3308</td>\n",
       "      <td>107274.00</td>\n",
       "      <td>15000.0</td>\n",
       "    </tr>\n",
       "    <tr>\n",
       "      <th>2073</th>\n",
       "      <td>54135581</td>\n",
       "      <td>Pret-A-Matcha: The Bottle Designed to Make Mat...</td>\n",
       "      <td>Design</td>\n",
       "      <td>129</td>\n",
       "      <td>17851.11</td>\n",
       "      <td>60000.0</td>\n",
       "    </tr>\n",
       "    <tr>\n",
       "      <th>2074</th>\n",
       "      <td>1187685851</td>\n",
       "      <td>RECKLESS DECK: Solving the Problem of \"What Sh...</td>\n",
       "      <td>Art</td>\n",
       "      <td>1362</td>\n",
       "      <td>68196.00</td>\n",
       "      <td>7500.0</td>\n",
       "    </tr>\n",
       "    <tr>\n",
       "      <th>2075</th>\n",
       "      <td>654440544</td>\n",
       "      <td>An Iranian Journey</td>\n",
       "      <td>Photography</td>\n",
       "      <td>96</td>\n",
       "      <td>11594.00</td>\n",
       "      <td>28000.0</td>\n",
       "    </tr>\n",
       "    <tr>\n",
       "      <th>2076</th>\n",
       "      <td>1795229107</td>\n",
       "      <td>Finding Shelter- Portraits of Volunteers and S...</td>\n",
       "      <td>Photography</td>\n",
       "      <td>203</td>\n",
       "      <td>18819.00</td>\n",
       "      <td>13000.0</td>\n",
       "    </tr>\n",
       "    <tr>\n",
       "      <th>2077</th>\n",
       "      <td>1401603807</td>\n",
       "      <td>Daniella Mason - \"Throw Me 'Round the World\"</td>\n",
       "      <td>Music</td>\n",
       "      <td>92</td>\n",
       "      <td>11135.00</td>\n",
       "      <td>7500.0</td>\n",
       "    </tr>\n",
       "    <tr>\n",
       "      <th>2078</th>\n",
       "      <td>755053328</td>\n",
       "      <td>Wild Divine: The Creation and Launch of Zen Jo...</td>\n",
       "      <td>Games</td>\n",
       "      <td>109</td>\n",
       "      <td>11602.00</td>\n",
       "      <td>80000.0</td>\n",
       "    </tr>\n",
       "    <tr>\n",
       "      <th>2079</th>\n",
       "      <td>1064563288</td>\n",
       "      <td>LIVING FEROCIOUSLY - magick, healing and urban...</td>\n",
       "      <td>Photography</td>\n",
       "      <td>452</td>\n",
       "      <td>40914.12</td>\n",
       "      <td>15000.0</td>\n",
       "    </tr>\n",
       "    <tr>\n",
       "      <th>2080</th>\n",
       "      <td>1083941577</td>\n",
       "      <td>PREMIUM ONE-First All-in One Dock for Apple Wa...</td>\n",
       "      <td>Technology</td>\n",
       "      <td>1616</td>\n",
       "      <td>202666.00</td>\n",
       "      <td>35000.0</td>\n",
       "    </tr>\n",
       "    <tr>\n",
       "      <th>2081</th>\n",
       "      <td>703465669</td>\n",
       "      <td>Michael J.Scott &amp; Asmeret Ghebremichael Finger...</td>\n",
       "      <td>Theater</td>\n",
       "      <td>122</td>\n",
       "      <td>12773.99</td>\n",
       "      <td>7000.0</td>\n",
       "    </tr>\n",
       "    <tr>\n",
       "      <th>2082</th>\n",
       "      <td>976957395</td>\n",
       "      <td>GardenSpace | Smart camera. Smart watering. Sm...</td>\n",
       "      <td>Technology</td>\n",
       "      <td>128</td>\n",
       "      <td>34069.00</td>\n",
       "      <td>25000.0</td>\n",
       "    </tr>\n",
       "    <tr>\n",
       "      <th>2083</th>\n",
       "      <td>969653859</td>\n",
       "      <td>KARV – Hand-carved solutions to man’s every da...</td>\n",
       "      <td>Fashion</td>\n",
       "      <td>77</td>\n",
       "      <td>13258.00</td>\n",
       "      <td>10000.0</td>\n",
       "    </tr>\n",
       "    <tr>\n",
       "      <th>2084</th>\n",
       "      <td>1108402853</td>\n",
       "      <td>Corter Leather Bottle Hook</td>\n",
       "      <td>Design</td>\n",
       "      <td>1247</td>\n",
       "      <td>58333.02</td>\n",
       "      <td>2200.0</td>\n",
       "    </tr>\n",
       "    <tr>\n",
       "      <th>2085</th>\n",
       "      <td>1188342000</td>\n",
       "      <td>BIG SCHOOL: Huge, maniacal drawing for print &amp;...</td>\n",
       "      <td>Art</td>\n",
       "      <td>574</td>\n",
       "      <td>30381.00</td>\n",
       "      <td>9500.0</td>\n",
       "    </tr>\n",
       "    <tr>\n",
       "      <th>2086</th>\n",
       "      <td>536001387</td>\n",
       "      <td>Lady Parts: The Webseries</td>\n",
       "      <td>Film &amp; Video</td>\n",
       "      <td>241</td>\n",
       "      <td>10272.00</td>\n",
       "      <td>10000.0</td>\n",
       "    </tr>\n",
       "  </tbody>\n",
       "</table>\n",
       "<p>2087 rows × 6 columns</p>\n",
       "</div>"
      ],
      "text/plain": [
       "              ID                                               name  \\\n",
       "0      200590717  Brian's Songs: Love. Friendship. Dreams... and...   \n",
       "1       59178964                         PUPPYCIDE: The Documentary   \n",
       "2     1696773081                          I Believe In King The Kid   \n",
       "3     1072617654      Lullabies from the Heart with Robert Robinson   \n",
       "4     1003478705  The Wheelhouse: A Farm to Table Restaurant in ...   \n",
       "5      810597589                                             Heatit   \n",
       "6     1003481542           Air.Air! ~ Portable Air Quality Detector   \n",
       "7      101788707                    The World's Best Running Shorts   \n",
       "8     1841330960      Adventures of Pip - Wii U, Xbox One, PC & Mac   \n",
       "9     1712634105     The C12 by Bartaile - a convertible laptop bag   \n",
       "10     356609358  CGR Supreme Series 1: Vol. 1-6 by Classic Game...   \n",
       "11    1789916356  Edge Up Sports: Fantasy Football Can Be Fun Ag...   \n",
       "12     200033955  Help \"Project\" The Lewis Theatre Into The Future!   \n",
       "13    1112826153                         EVIL INTENT the board game   \n",
       "14     284931806  Elby: A long lasting vulcanized shoe from Broo...   \n",
       "15     407051177  12 Pairs of SUNGLASSES for the Price of 1 - sh...   \n",
       "16    2101214965  Ruggedized/Wearable iPhone 5 Case & Mounts for...   \n",
       "17    2111312326                           The LIVE ART Documentary   \n",
       "18    1757099940                      Archon: Glory and Machination   \n",
       "19     251961628       OLLO ZERO - Parkour and Freerunning Footwear   \n",
       "20    1861042142                               FAVOR - Feature Film   \n",
       "21    1162251515            Carbon 6 Forged Carbon Fiber Glow Rings   \n",
       "22    1355418713  FIT Roller: Ultimate Warm Up, Performance, and...   \n",
       "23     973411861                            CordCruncher Headphones   \n",
       "24    1724820366  The Ultimate One - Quad Mountain (iPod Watch W...   \n",
       "25     980827271  New music video to help support NYC's dance mu...   \n",
       "26     194898988        Bisecu : The most advanced smart bike lock.   \n",
       "27    1638345552              ATELEIA Brass Pen and Leather Journal   \n",
       "28      74878372                                      Lavender Hall   \n",
       "29    1505295627                                           Hermanos   \n",
       "...          ...                                                ...   \n",
       "2057  1337805244                         Dinosaurs of the Wild West   \n",
       "2058   362556944            Marlon: Connected, Compression Carry-on   \n",
       "2059  1484206426  Gotta Potty Wireless, Recordable, Dog Potty Tr...   \n",
       "2060   777411849  GLUTTON FOR PUNISHMENT, By Jack D. Alvino & Ga...   \n",
       "2061    98053871                              Codename: Morningstar   \n",
       "2062   188584432  Growing Cities:  A film about Urban Farming in...   \n",
       "2063  1628075982                                     The Diaper Bag   \n",
       "2064  1698720607  MagMod - Magnetic Speedlite Modifiers for Hot-...   \n",
       "2065   906216470                     Tool Pen mini – Precision Bits   \n",
       "2066  1890679162                                       SlingSwatter   \n",
       "2067   213769912               Vufine: a Handsfree Wearable Display   \n",
       "2068   506933181  Geographies of Kinship - The Korean Adoption S...   \n",
       "2069   513213159          The Austin Winery | Build the Barrel Room   \n",
       "2070  1338630263  Russia Insider - Challenge the Media. Let's Pu...   \n",
       "2071  1539476995                                 Short Order Crooks   \n",
       "2072   506514641  Space Roller: The futuristic dice for your Sci...   \n",
       "2073    54135581  Pret-A-Matcha: The Bottle Designed to Make Mat...   \n",
       "2074  1187685851  RECKLESS DECK: Solving the Problem of \"What Sh...   \n",
       "2075   654440544                                 An Iranian Journey   \n",
       "2076  1795229107  Finding Shelter- Portraits of Volunteers and S...   \n",
       "2077  1401603807       Daniella Mason - \"Throw Me 'Round the World\"   \n",
       "2078   755053328  Wild Divine: The Creation and Launch of Zen Jo...   \n",
       "2079  1064563288  LIVING FEROCIOUSLY - magick, healing and urban...   \n",
       "2080  1083941577  PREMIUM ONE-First All-in One Dock for Apple Wa...   \n",
       "2081   703465669  Michael J.Scott & Asmeret Ghebremichael Finger...   \n",
       "2082   976957395  GardenSpace | Smart camera. Smart watering. Sm...   \n",
       "2083   969653859  KARV – Hand-carved solutions to man’s every da...   \n",
       "2084  1108402853                         Corter Leather Bottle Hook   \n",
       "2085  1188342000  BIG SCHOOL: Huge, maniacal drawing for print &...   \n",
       "2086   536001387                          Lady Parts: The Webseries   \n",
       "\n",
       "     main_category  backers  usd_pledged_real  usd_goal_real  \n",
       "0     Film & Video      444          65050.50        55000.0  \n",
       "1     Film & Video      958          60397.50       100000.0  \n",
       "2            Music      676          27591.46        20000.0  \n",
       "3            Music      146          22259.32        22000.0  \n",
       "4             Food       43          10205.00        10000.0  \n",
       "5       Technology      252          16820.00         5000.0  \n",
       "6       Technology      292          21613.47        20000.0  \n",
       "7          Fashion     1129          69167.00        10000.0  \n",
       "8            Games     1262          35510.99        90000.0  \n",
       "9           Design      554          92895.00        15000.0  \n",
       "10    Film & Video      161          19308.00         6500.0  \n",
       "11      Technology     1296          53497.01        35000.0  \n",
       "12         Theater      259          39330.00        39000.0  \n",
       "13           Games      604          39643.00        25000.0  \n",
       "14          Design      115          38879.00        37000.0  \n",
       "15         Fashion     2958         321908.55        20000.0  \n",
       "16          Design       89          14877.00        75000.0  \n",
       "17    Film & Video      304          33964.26        20000.0  \n",
       "18           Games      726          53861.51        15000.0  \n",
       "19          Design      451          47133.00        30000.0  \n",
       "20    Film & Video      283          21335.00        20000.0  \n",
       "21          Design     3431         408861.00        11500.0  \n",
       "22          Design      461          43000.00        35000.0  \n",
       "23          Design     1548          66689.00        20000.0  \n",
       "24          Design      228          12340.00         7800.0  \n",
       "25           Music       72          10520.00        10000.0  \n",
       "26      Technology      283          58771.00        30000.0  \n",
       "27          Design      185          15270.00        10000.0  \n",
       "28    Film & Video      133          10778.00        10000.0  \n",
       "29    Film & Video       34          10165.00        10000.0  \n",
       "...            ...      ...               ...            ...  \n",
       "2057           Art      522          30431.00        15000.0  \n",
       "2058        Design     1533         312387.00        30000.0  \n",
       "2059    Technology      174          26014.00        25000.0  \n",
       "2060  Film & Video       53          10360.00         5000.0  \n",
       "2061         Games     1250          74158.00       425000.0  \n",
       "2062  Film & Video      802          39602.72        35000.0  \n",
       "2063       Fashion     3230         465399.00        25000.0  \n",
       "2064        Design     1759         210520.66        35000.0  \n",
       "2065        Design     4644         350119.00        15000.0  \n",
       "2066        Design       66          12172.00        12000.0  \n",
       "2067    Technology     1466         241111.00        50000.0  \n",
       "2068  Film & Video      582          82227.00        75000.0  \n",
       "2069          Food       95          15510.00        50000.0  \n",
       "2070    Journalism      708          36340.00        20000.0  \n",
       "2071        Comics      609          20944.00        16000.0  \n",
       "2072         Games     3308         107274.00        15000.0  \n",
       "2073        Design      129          17851.11        60000.0  \n",
       "2074           Art     1362          68196.00         7500.0  \n",
       "2075   Photography       96          11594.00        28000.0  \n",
       "2076   Photography      203          18819.00        13000.0  \n",
       "2077         Music       92          11135.00         7500.0  \n",
       "2078         Games      109          11602.00        80000.0  \n",
       "2079   Photography      452          40914.12        15000.0  \n",
       "2080    Technology     1616         202666.00        35000.0  \n",
       "2081       Theater      122          12773.99         7000.0  \n",
       "2082    Technology      128          34069.00        25000.0  \n",
       "2083       Fashion       77          13258.00        10000.0  \n",
       "2084        Design     1247          58333.02         2200.0  \n",
       "2085           Art      574          30381.00         9500.0  \n",
       "2086  Film & Video      241          10272.00        10000.0  \n",
       "\n",
       "[2087 rows x 6 columns]"
      ]
     },
     "execution_count": 10,
     "metadata": {},
     "output_type": "execute_result"
    }
   ],
   "source": [
    "# Filter for all Kickstarter Projects where the usd_pledged_real is greater than 10000.\n",
    "filt_cond1 = kst_df['usd_pledged_real'] > 10000\n",
    "\n",
    "kst_df_10k = kst_df[filt_cond1]\n",
    "\n",
    "kst_df_10k\n",
    "# Well done, correct (0.5)"
   ]
  },
  {
   "cell_type": "markdown",
   "metadata": {},
   "source": [
    "**ii)** Create a new `DataFrame`, `kst_df_agg` where the first column is the `main_category` and the second column is called `n`. In `kst_df_agg`, `main_category` is the main category of `kst_df_10k` and `n` is the number of projects belonging to that `main_category`. Hint: use `df.groupby().size()`.  **`[0.5]`**"
   ]
  },
  {
   "cell_type": "code",
   "execution_count": 11,
   "metadata": {
    "ExecuteTime": {
     "end_time": "2018-10-01T12:52:59.258867Z",
     "start_time": "2018-10-01T12:52:59.241884Z"
    }
   },
   "outputs": [
    {
     "data": {
      "text/html": [
       "<div>\n",
       "<style scoped>\n",
       "    .dataframe tbody tr th:only-of-type {\n",
       "        vertical-align: middle;\n",
       "    }\n",
       "\n",
       "    .dataframe tbody tr th {\n",
       "        vertical-align: top;\n",
       "    }\n",
       "\n",
       "    .dataframe thead th {\n",
       "        text-align: right;\n",
       "    }\n",
       "</style>\n",
       "<table border=\"1\" class=\"dataframe\">\n",
       "  <thead>\n",
       "    <tr style=\"text-align: right;\">\n",
       "      <th></th>\n",
       "      <th>main_category</th>\n",
       "      <th>n</th>\n",
       "    </tr>\n",
       "  </thead>\n",
       "  <tbody>\n",
       "    <tr>\n",
       "      <th>0</th>\n",
       "      <td>Art</td>\n",
       "      <td>77</td>\n",
       "    </tr>\n",
       "    <tr>\n",
       "      <th>1</th>\n",
       "      <td>Comics</td>\n",
       "      <td>70</td>\n",
       "    </tr>\n",
       "    <tr>\n",
       "      <th>2</th>\n",
       "      <td>Crafts</td>\n",
       "      <td>13</td>\n",
       "    </tr>\n",
       "    <tr>\n",
       "      <th>3</th>\n",
       "      <td>Dance</td>\n",
       "      <td>11</td>\n",
       "    </tr>\n",
       "    <tr>\n",
       "      <th>4</th>\n",
       "      <td>Design</td>\n",
       "      <td>289</td>\n",
       "    </tr>\n",
       "    <tr>\n",
       "      <th>5</th>\n",
       "      <td>Fashion</td>\n",
       "      <td>94</td>\n",
       "    </tr>\n",
       "    <tr>\n",
       "      <th>6</th>\n",
       "      <td>Film &amp; Video</td>\n",
       "      <td>386</td>\n",
       "    </tr>\n",
       "    <tr>\n",
       "      <th>7</th>\n",
       "      <td>Food</td>\n",
       "      <td>155</td>\n",
       "    </tr>\n",
       "    <tr>\n",
       "      <th>8</th>\n",
       "      <td>Games</td>\n",
       "      <td>280</td>\n",
       "    </tr>\n",
       "    <tr>\n",
       "      <th>9</th>\n",
       "      <td>Journalism</td>\n",
       "      <td>12</td>\n",
       "    </tr>\n",
       "    <tr>\n",
       "      <th>10</th>\n",
       "      <td>Music</td>\n",
       "      <td>256</td>\n",
       "    </tr>\n",
       "    <tr>\n",
       "      <th>11</th>\n",
       "      <td>Photography</td>\n",
       "      <td>34</td>\n",
       "    </tr>\n",
       "    <tr>\n",
       "      <th>12</th>\n",
       "      <td>Publishing</td>\n",
       "      <td>122</td>\n",
       "    </tr>\n",
       "    <tr>\n",
       "      <th>13</th>\n",
       "      <td>Technology</td>\n",
       "      <td>241</td>\n",
       "    </tr>\n",
       "    <tr>\n",
       "      <th>14</th>\n",
       "      <td>Theater</td>\n",
       "      <td>47</td>\n",
       "    </tr>\n",
       "  </tbody>\n",
       "</table>\n",
       "</div>"
      ],
      "text/plain": [
       "   main_category    n\n",
       "0            Art   77\n",
       "1         Comics   70\n",
       "2         Crafts   13\n",
       "3          Dance   11\n",
       "4         Design  289\n",
       "5        Fashion   94\n",
       "6   Film & Video  386\n",
       "7           Food  155\n",
       "8          Games  280\n",
       "9     Journalism   12\n",
       "10         Music  256\n",
       "11   Photography   34\n",
       "12    Publishing  122\n",
       "13    Technology  241\n",
       "14       Theater   47"
      ]
     },
     "execution_count": 11,
     "metadata": {},
     "output_type": "execute_result"
    }
   ],
   "source": [
    "# Create an aggregated df with 1 column being the main_category and the other column\n",
    "# being the no. of projects in that category.\n",
    "\n",
    "kst_df_agg = kst_df_10k.groupby(['main_category']).size().reset_index()\n",
    "\n",
    "kst_df_agg.columns = ['main_category', 'n']\n",
    "\n",
    "kst_df_agg\n",
    "# Well done, correct (0.5)"
   ]
  },
  {
   "cell_type": "markdown",
   "metadata": {},
   "source": [
    "**iii)** Using your answers to **(i)** and **(ii)** or otherwise, plot a bar graph where the $x$-axis is the `main_category` and the $y$-axis is the number of projects belonging to that `main_category`. **`[1]`**"
   ]
  },
  {
   "cell_type": "code",
   "execution_count": 12,
   "metadata": {
    "ExecuteTime": {
     "end_time": "2018-10-01T12:52:59.715896Z",
     "start_time": "2018-10-01T12:52:59.262323Z"
    }
   },
   "outputs": [
    {
     "data": {
      "text/plain": [
       "Text(0.5, 1.0, 'Number of Projects by Categories')"
      ]
     },
     "execution_count": 12,
     "metadata": {},
     "output_type": "execute_result"
    },
    {
     "data": {
      "image/png": "[encoded data removed]",
      "text/plain": [
       "<Figure size 1152x432 with 1 Axes>"
      ]
     },
     "metadata": {},
     "output_type": "display_data"
    }
   ],
   "source": [
    "# Plot the bar graph where the x-axis is the main_category and \n",
    "# the y-axis is the number of projects belonging to that main_category\n",
    "\n",
    "fig, ax = plt.subplots()\n",
    "\n",
    "kst_df_agg.plot(kind = 'bar',\n",
    "               x='main_category',\n",
    "               y='n',\n",
    "               figsize=(16,6),\n",
    "               ax=ax,\n",
    "               color='tomato')\n",
    "\n",
    "ax.set_xlabel(\"Main Category\")\n",
    "ax.set_ylabel(\"Number of Projects\")\n",
    "ax.legend([\"Number of Projects\"])\n",
    "ax.set_title(\"Number of Projects by Categories\")\n",
    "# Well done, correct (1)"
   ]
  },
  {
   "cell_type": "markdown",
   "metadata": {},
   "source": [
    "<div class=\"alert alert-success\">\n",
    "**Checkpoint**: When you have completed Part 1, upload your progress to eLearn. eLearn only accepts the latest notebooks so if you have an existing notebook, your latest upload will **override** it.\n",
    "</div>\n",
    "\n",
    "### Part 2 (7 Marks)\n",
    "For questions wtih short answers, <span style=\"color:darkblue\">**both the <u>code</u> and <u>typed answers</u> must be provided to receive full credit.**</span> <span style=\"color:darkblue\">**For plotting, <u>all features</u> must be present to receive full credit.**</span>"
   ]
  },
  {
   "cell_type": "markdown",
   "metadata": {},
   "source": [
    "\n",
    "**2A**. You are given the score and price of some bottles of wines taken from the [Wine Reviews](https://www.kaggle.com/zynicide/wine-reviews) dataset. The definition of each column is as follows:\n",
    "\n",
    "`wines-200.csv`\n",
    "\n",
    "| col name | definition | datatype | example |\n",
    "| -------- | ---------- | -------- | ------- |\n",
    "| country | The country that the wine is from | str | US |\n",
    "| points | The number of points WineEnthusiast rated the wine on a scale of 1-100 | int | 86 |\n",
    "| price | The price of the bottle of wine | float | 12.0 |\n",
    "\n",
    "#### Read from CSV to `df`\n",
    "Read the dataset from `wines-200.csv` to a `DataFrame` called `wines_df`."
   ]
  },
  {
   "cell_type": "code",
   "execution_count": 13,
   "metadata": {
    "ExecuteTime": {
     "end_time": "2018-10-01T12:52:59.729220Z",
     "start_time": "2018-10-01T12:52:59.719328Z"
    },
    "scrolled": true
   },
   "outputs": [
    {
     "data": {
      "text/plain": [
       "(200, 3)"
      ]
     },
     "execution_count": 13,
     "metadata": {},
     "output_type": "execute_result"
    }
   ],
   "source": [
    "# Read from CSV to wines_df. Write your code here.\n",
    "wines_df = pd.read_csv(\"wines-200.csv\")\n",
    "wines_df.shape"
   ]
  },
  {
   "cell_type": "markdown",
   "metadata": {},
   "source": [
    "**i)**. Using `dropna()`, remove all records where the `price` value is not given. What is the `shape` of `wines_df` after removing the values?**`[0.5]`**"
   ]
  },
  {
   "cell_type": "code",
   "execution_count": 14,
   "metadata": {
    "ExecuteTime": {
     "end_time": "2018-10-01T12:52:59.742389Z",
     "start_time": "2018-10-01T12:52:59.731970Z"
    }
   },
   "outputs": [
    {
     "data": {
      "text/plain": [
       "(185, 3)"
      ]
     },
     "execution_count": 14,
     "metadata": {},
     "output_type": "execute_result"
    }
   ],
   "source": [
    "# Remove the records where the price is not given\n",
    "wines_df = wines_df.dropna(subset=['price'])\n",
    "# What is the shape of wines_df after removing the values?\n",
    "wines_df.shape\n",
    "# The Shape of Wines is 185 (rows) x 3(columns)\n",
    "# Well done, correct (0.5)"
   ]
  },
  {
   "cell_type": "markdown",
   "metadata": {},
   "source": [
    "**ii)**. Using your answers to **i)** or otherwise, plot a scatterplot where the $x$-axis represents the number of points a wine has received, and the $y$-axis is the price of the wine. Only plot for points where <u>both the point and price value exist</u>. The title, $x$-axis label and $y$-axis label **must be shown** to obtain full credit. **`[1]`**"
   ]
  },
  {
   "cell_type": "code",
   "execution_count": 15,
   "metadata": {
    "ExecuteTime": {
     "end_time": "2018-10-01T12:52:59.761188Z",
     "start_time": "2018-10-01T12:52:59.756803Z"
    }
   },
   "outputs": [
    {
     "data": {
      "text/plain": [
       "Text(0.5, 1.0, 'Price ($) vs Points')"
      ]
     },
     "execution_count": 15,
     "metadata": {},
     "output_type": "execute_result"
    },
    {
     "data": {
      "image/png": "[encoded data removed]",
      "text/plain": [
       "<Figure size 1296x576 with 1 Axes>"
      ]
     },
     "metadata": {},
     "output_type": "display_data"
    }
   ],
   "source": [
    "# Plot the scatterplot where the x-axis represents the number of points a wine has received, \n",
    "# and the y-axis is the price of the wine.\n",
    "\n",
    "#Drop points if NaN since price (Nan) has already being dropped previously\n",
    "wines_df = wines_df.dropna(subset=['points'])\n",
    "\n",
    "wines_df.plot(kind='scatter',\n",
    "             x ='points',\n",
    "             y ='price',\n",
    "             marker ='D',\n",
    "             s =60,\n",
    "             alpha = 0.6,\n",
    "             color = 'red')\n",
    "\n",
    "plt.xlabel(\"Points\")\n",
    "plt.ylabel(\"Price ($)\")\n",
    "plt.title(\"Price ($) vs Points\", fontsize=18)\n",
    "# partially correct (0.75)\n",
    "# deduct 0.25 for missing legend"
   ]
  },
  {
   "cell_type": "markdown",
   "metadata": {
    "ExecuteTime": {
     "end_time": "2018-08-08T07:08:47.260447Z",
     "start_time": "2018-08-08T07:08:47.255394Z"
    }
   },
   "source": [
    "**iii)** Complete the code below to plot a boxplot showing the distribution of the `point`s of the bottles of wines.  **`[0.5]`**"
   ]
  },
  {
   "cell_type": "code",
   "execution_count": 16,
   "metadata": {
    "ExecuteTime": {
     "end_time": "2018-10-01T12:53:00.317929Z",
     "start_time": "2018-10-01T12:53:00.029081Z"
    }
   },
   "outputs": [
    {
     "data": {
      "image/png": "[encoded data removed]",
      "text/plain": [
       "<Figure size 1296x576 with 1 Axes>"
      ]
     },
     "metadata": {},
     "output_type": "display_data"
    }
   ],
   "source": [
    "# Complete the code below to plot a boxplot.\n",
    "sns.set(style='whitegrid', palette=\"deep\", font_scale=1.5, rc={\"figure.figsize\": [18, 8]})\n",
    "\n",
    "flierprops = dict(marker='o', markersize=20)\n",
    "sns.boxplot(x='points',data = wines_df,orient=\"h\", width=0.2,flierprops=flierprops).set(xlabel='Points')\n",
    "\n",
    "plt.title(\"Distribution of Points of Bottles of Wines\",fontsize = 20)\n",
    "\n",
    "# Show the boxplot\n",
    "plt.show()\n",
    "# Well done, correct (0.5)"
   ]
  },
  {
   "cell_type": "markdown",
   "metadata": {},
   "source": [
    "**iv)** Using the plot of **iii)** to help you or otherwise, find the number of outliers for the `point`s distribtution of the wines dataset. **`[0.5]`**"
   ]
  },
  {
   "cell_type": "code",
   "execution_count": 27,
   "metadata": {
    "ExecuteTime": {
     "end_time": "2018-10-01T12:53:00.332443Z",
     "start_time": "2018-10-01T12:53:00.321253Z"
    },
    "scrolled": true
   },
   "outputs": [
    {
     "name": "stdout",
     "output_type": "stream",
     "text": [
      "There is/are 1 outlier(s) for the points distribution of the dataset\n"
     ]
    }
   ],
   "source": [
    "# Find the number of outliers for the points distribtution of the wines dataset.\n",
    "p25 = np.percentile(wines_df['points'], 25)\n",
    "p75 = np.percentile(wines_df['points'], 75)\n",
    "\n",
    "IQR = p75-p25\n",
    "\n",
    "lower_bound = p25 - 1.5*IQR\n",
    "\n",
    "upper_bound = p75 + 1.5*IQR\n",
    "\n",
    "cond1 = wines_df['points'] > upper_bound \n",
    "cond2 = wines_df['points'] < lower_bound\n",
    "\n",
    "outliers_df = wines_df[cond1 | cond2]\n",
    "\n",
    "print(\"There is/are\", len(outliers_df), \"outlier(s) for the points distribution of the dataset\")\n",
    "# How many outliers are there for the points distribtution of the wines dataset?\n",
    "# There is 1 outlier for the point distribution of the dataset\n",
    "# Well done, correct (0.5)"
   ]
  },
  {
   "cell_type": "markdown",
   "metadata": {},
   "source": [
    "<hr>\n",
    "**2B.** You are given the number of loans per term for each grade taken from a sample from the [Lending Club Dataset](https://www.kaggle.com/wendykan/lending-club-loan-data). The definition of each column is as below.\n",
    "\n",
    "`loans-by-grade.csv`\n",
    "\n",
    "| col name | definition | datatype | example |\n",
    "| -------- | ---------- | -------- | ------- |\n",
    "| grade | The grade scored | str | A |\n",
    "| 36 months | The number of loans with a 36 month term (repayment must be complete in 3 years) | int | 18572 |\n",
    "| 60 months | The number of loans with a 60 month term (repayment must be complete in 5 years) | int | 8013 |\n",
    "\n",
    "#### Read from CSV to `df`\n",
    "Read the dataset from `loans-by-grade.csv` to a `DataFrame` called `loans_df`."
   ]
  },
  {
   "cell_type": "code",
   "execution_count": 18,
   "metadata": {
    "ExecuteTime": {
     "end_time": "2018-10-01T12:53:00.350481Z",
     "start_time": "2018-10-01T12:53:00.335685Z"
    }
   },
   "outputs": [
    {
     "data": {
      "text/html": [
       "<div>\n",
       "<style scoped>\n",
       "    .dataframe tbody tr th:only-of-type {\n",
       "        vertical-align: middle;\n",
       "    }\n",
       "\n",
       "    .dataframe tbody tr th {\n",
       "        vertical-align: top;\n",
       "    }\n",
       "\n",
       "    .dataframe thead th {\n",
       "        text-align: right;\n",
       "    }\n",
       "</style>\n",
       "<table border=\"1\" class=\"dataframe\">\n",
       "  <thead>\n",
       "    <tr style=\"text-align: right;\">\n",
       "      <th></th>\n",
       "      <th>grade</th>\n",
       "      <th>36 months</th>\n",
       "      <th>60 months</th>\n",
       "    </tr>\n",
       "  </thead>\n",
       "  <tbody>\n",
       "    <tr>\n",
       "      <th>0</th>\n",
       "      <td>A</td>\n",
       "      <td>18572</td>\n",
       "      <td>670</td>\n",
       "    </tr>\n",
       "    <tr>\n",
       "      <th>1</th>\n",
       "      <td>B</td>\n",
       "      <td>27570</td>\n",
       "      <td>5572</td>\n",
       "    </tr>\n",
       "    <tr>\n",
       "      <th>2</th>\n",
       "      <td>C</td>\n",
       "      <td>21087</td>\n",
       "      <td>10739</td>\n",
       "    </tr>\n",
       "    <tr>\n",
       "      <th>3</th>\n",
       "      <td>D</td>\n",
       "      <td>9973</td>\n",
       "      <td>8013</td>\n",
       "    </tr>\n",
       "    <tr>\n",
       "      <th>4</th>\n",
       "      <td>E</td>\n",
       "      <td>2859</td>\n",
       "      <td>6296</td>\n",
       "    </tr>\n",
       "    <tr>\n",
       "      <th>5</th>\n",
       "      <td>F</td>\n",
       "      <td>580</td>\n",
       "      <td>2353</td>\n",
       "    </tr>\n",
       "    <tr>\n",
       "      <th>6</th>\n",
       "      <td>G</td>\n",
       "      <td>96</td>\n",
       "      <td>620</td>\n",
       "    </tr>\n",
       "  </tbody>\n",
       "</table>\n",
       "</div>"
      ],
      "text/plain": [
       "  grade  36 months  60 months\n",
       "0     A      18572        670\n",
       "1     B      27570       5572\n",
       "2     C      21087      10739\n",
       "3     D       9973       8013\n",
       "4     E       2859       6296\n",
       "5     F        580       2353\n",
       "6     G         96        620"
      ]
     },
     "execution_count": 18,
     "metadata": {},
     "output_type": "execute_result"
    }
   ],
   "source": [
    "# Read from CSV to loans_df. Write your code here.\n",
    "loans_df = pd.read_csv('loans-by-grade.csv')\n",
    "\n",
    "loans_df"
   ]
  },
  {
   "cell_type": "markdown",
   "metadata": {},
   "source": [
    "**i)** Add a column to `loans_df` called `Total Loans`. This represents the total number of 36 & 60 month loans belonging to the grade. **`[0.5]`**."
   ]
  },
  {
   "cell_type": "code",
   "execution_count": 19,
   "metadata": {
    "ExecuteTime": {
     "end_time": "2018-10-01T12:53:00.370573Z",
     "start_time": "2018-10-01T12:53:00.353990Z"
    }
   },
   "outputs": [
    {
     "data": {
      "text/html": [
       "<div>\n",
       "<style scoped>\n",
       "    .dataframe tbody tr th:only-of-type {\n",
       "        vertical-align: middle;\n",
       "    }\n",
       "\n",
       "    .dataframe tbody tr th {\n",
       "        vertical-align: top;\n",
       "    }\n",
       "\n",
       "    .dataframe thead th {\n",
       "        text-align: right;\n",
       "    }\n",
       "</style>\n",
       "<table border=\"1\" class=\"dataframe\">\n",
       "  <thead>\n",
       "    <tr style=\"text-align: right;\">\n",
       "      <th></th>\n",
       "      <th>grade</th>\n",
       "      <th>36 months</th>\n",
       "      <th>60 months</th>\n",
       "      <th>Total Loans</th>\n",
       "    </tr>\n",
       "  </thead>\n",
       "  <tbody>\n",
       "    <tr>\n",
       "      <th>0</th>\n",
       "      <td>A</td>\n",
       "      <td>18572</td>\n",
       "      <td>670</td>\n",
       "      <td>19242</td>\n",
       "    </tr>\n",
       "    <tr>\n",
       "      <th>1</th>\n",
       "      <td>B</td>\n",
       "      <td>27570</td>\n",
       "      <td>5572</td>\n",
       "      <td>33142</td>\n",
       "    </tr>\n",
       "    <tr>\n",
       "      <th>2</th>\n",
       "      <td>C</td>\n",
       "      <td>21087</td>\n",
       "      <td>10739</td>\n",
       "      <td>31826</td>\n",
       "    </tr>\n",
       "    <tr>\n",
       "      <th>3</th>\n",
       "      <td>D</td>\n",
       "      <td>9973</td>\n",
       "      <td>8013</td>\n",
       "      <td>17986</td>\n",
       "    </tr>\n",
       "    <tr>\n",
       "      <th>4</th>\n",
       "      <td>E</td>\n",
       "      <td>2859</td>\n",
       "      <td>6296</td>\n",
       "      <td>9155</td>\n",
       "    </tr>\n",
       "    <tr>\n",
       "      <th>5</th>\n",
       "      <td>F</td>\n",
       "      <td>580</td>\n",
       "      <td>2353</td>\n",
       "      <td>2933</td>\n",
       "    </tr>\n",
       "    <tr>\n",
       "      <th>6</th>\n",
       "      <td>G</td>\n",
       "      <td>96</td>\n",
       "      <td>620</td>\n",
       "      <td>716</td>\n",
       "    </tr>\n",
       "  </tbody>\n",
       "</table>\n",
       "</div>"
      ],
      "text/plain": [
       "  grade  36 months  60 months  Total Loans\n",
       "0     A      18572        670        19242\n",
       "1     B      27570       5572        33142\n",
       "2     C      21087      10739        31826\n",
       "3     D       9973       8013        17986\n",
       "4     E       2859       6296         9155\n",
       "5     F        580       2353         2933\n",
       "6     G         96        620          716"
      ]
     },
     "execution_count": 19,
     "metadata": {},
     "output_type": "execute_result"
    }
   ],
   "source": [
    "#Add a column to loans_df called 'Total Loans'\n",
    "loans_df['Total Loans']  = loans_df.apply(lambda x: x['36 months'] + x['60 months'],axis = 1)\n",
    "\n",
    "loans_df\n",
    "# Well done, correct (0.5)"
   ]
  },
  {
   "cell_type": "markdown",
   "metadata": {},
   "source": [
    "**ii)** \n",
    "- What proportion of the loans in Grade **A** are 36 month loans?\n",
    "- What proportion of the loans in Grade **A** are 60 month loans? \n",
    "\n",
    "**`[0.5]`**"
   ]
  },
  {
   "cell_type": "code",
   "execution_count": 20,
   "metadata": {
    "ExecuteTime": {
     "end_time": "2018-10-01T12:53:00.380782Z",
     "start_time": "2018-10-01T12:53:00.373786Z"
    },
    "scrolled": true
   },
   "outputs": [],
   "source": [
    "# What proportion of the loans in Grade A are 36 month loans?\n",
    "# Code is not required. However, you could modify this line of code to help you\n",
    "# 18572 / (18572 + 670)\n",
    "\n",
    "# The proportion of the loans in Grade A that are 36 month loans is 0.96518033 (Ratio)\n",
    "# Well done, correct (0.25)"
   ]
  },
  {
   "cell_type": "code",
   "execution_count": 21,
   "metadata": {
    "ExecuteTime": {
     "end_time": "2018-10-01T12:53:00.390454Z",
     "start_time": "2018-10-01T12:53:00.383795Z"
    }
   },
   "outputs": [],
   "source": [
    "# What proportion of the loans in Grade A are 60 month loans?\n",
    "# Code is not required. However, you could modify this line of code to help you\n",
    "# 670/ (18572 + 670)\n",
    "\n",
    "# The proportion of the loans in Grade A that are 60 month loan 0.03481967 (Ratio)\n",
    "# Well done, correct (0.25)"
   ]
  },
  {
   "cell_type": "markdown",
   "metadata": {},
   "source": [
    "**iii)** Using the answers to **i)** and **ii)** or otherwise, add 2 columns to `loan_df`:\n",
    "\n",
    "- `36 months percentage` is the proportion of loans that has a 36 month term **belonging to the grade**\n",
    "\n",
    "- `60 months percentage` is the proportion of loans that has a 60 month term **belonging to the grade**\n",
    "\n",
    "**`[1]`**"
   ]
  },
  {
   "cell_type": "code",
   "execution_count": 22,
   "metadata": {
    "ExecuteTime": {
     "end_time": "2018-10-01T12:53:00.420082Z",
     "start_time": "2018-10-01T12:53:00.393912Z"
    }
   },
   "outputs": [
    {
     "data": {
      "text/html": [
       "<div>\n",
       "<style scoped>\n",
       "    .dataframe tbody tr th:only-of-type {\n",
       "        vertical-align: middle;\n",
       "    }\n",
       "\n",
       "    .dataframe tbody tr th {\n",
       "        vertical-align: top;\n",
       "    }\n",
       "\n",
       "    .dataframe thead th {\n",
       "        text-align: right;\n",
       "    }\n",
       "</style>\n",
       "<table border=\"1\" class=\"dataframe\">\n",
       "  <thead>\n",
       "    <tr style=\"text-align: right;\">\n",
       "      <th></th>\n",
       "      <th>grade</th>\n",
       "      <th>36 months</th>\n",
       "      <th>60 months</th>\n",
       "      <th>Total Loans</th>\n",
       "      <th>36 months percentage</th>\n",
       "      <th>60 months percentage</th>\n",
       "    </tr>\n",
       "  </thead>\n",
       "  <tbody>\n",
       "    <tr>\n",
       "      <th>0</th>\n",
       "      <td>A</td>\n",
       "      <td>18572</td>\n",
       "      <td>670</td>\n",
       "      <td>19242</td>\n",
       "      <td>96.518033</td>\n",
       "      <td>3.481967</td>\n",
       "    </tr>\n",
       "    <tr>\n",
       "      <th>1</th>\n",
       "      <td>B</td>\n",
       "      <td>27570</td>\n",
       "      <td>5572</td>\n",
       "      <td>33142</td>\n",
       "      <td>83.187496</td>\n",
       "      <td>16.812504</td>\n",
       "    </tr>\n",
       "    <tr>\n",
       "      <th>2</th>\n",
       "      <td>C</td>\n",
       "      <td>21087</td>\n",
       "      <td>10739</td>\n",
       "      <td>31826</td>\n",
       "      <td>66.257148</td>\n",
       "      <td>33.742852</td>\n",
       "    </tr>\n",
       "    <tr>\n",
       "      <th>3</th>\n",
       "      <td>D</td>\n",
       "      <td>9973</td>\n",
       "      <td>8013</td>\n",
       "      <td>17986</td>\n",
       "      <td>55.448682</td>\n",
       "      <td>44.551318</td>\n",
       "    </tr>\n",
       "    <tr>\n",
       "      <th>4</th>\n",
       "      <td>E</td>\n",
       "      <td>2859</td>\n",
       "      <td>6296</td>\n",
       "      <td>9155</td>\n",
       "      <td>31.228837</td>\n",
       "      <td>68.771163</td>\n",
       "    </tr>\n",
       "    <tr>\n",
       "      <th>5</th>\n",
       "      <td>F</td>\n",
       "      <td>580</td>\n",
       "      <td>2353</td>\n",
       "      <td>2933</td>\n",
       "      <td>19.774974</td>\n",
       "      <td>80.225026</td>\n",
       "    </tr>\n",
       "    <tr>\n",
       "      <th>6</th>\n",
       "      <td>G</td>\n",
       "      <td>96</td>\n",
       "      <td>620</td>\n",
       "      <td>716</td>\n",
       "      <td>13.407821</td>\n",
       "      <td>86.592179</td>\n",
       "    </tr>\n",
       "  </tbody>\n",
       "</table>\n",
       "</div>"
      ],
      "text/plain": [
       "  grade  36 months  60 months  Total Loans  36 months percentage  \\\n",
       "0     A      18572        670        19242             96.518033   \n",
       "1     B      27570       5572        33142             83.187496   \n",
       "2     C      21087      10739        31826             66.257148   \n",
       "3     D       9973       8013        17986             55.448682   \n",
       "4     E       2859       6296         9155             31.228837   \n",
       "5     F        580       2353         2933             19.774974   \n",
       "6     G         96        620          716             13.407821   \n",
       "\n",
       "   60 months percentage  \n",
       "0              3.481967  \n",
       "1             16.812504  \n",
       "2             33.742852  \n",
       "3             44.551318  \n",
       "4             68.771163  \n",
       "5             80.225026  \n",
       "6             86.592179  "
      ]
     },
     "execution_count": 22,
     "metadata": {},
     "output_type": "execute_result"
    }
   ],
   "source": [
    "# Write the code for adding the columns to loans_df below.\n",
    "# Values on Percentage instead of Ratio\n",
    "loans_df['36 months percentage']  = loans_df.apply(lambda x: (x['36 months']/x['Total Loans'])*100,axis = 1)\n",
    "loans_df['60 months percentage']  = loans_df.apply(lambda x: (x['60 months']/x['Total Loans'])*100,axis = 1)\n",
    "\n",
    "loans_df\n",
    "# Well done, correct (1)"
   ]
  },
  {
   "cell_type": "markdown",
   "metadata": {},
   "source": [
    "**iv)** Plot a stacked bar-graph where each bar in the $x$-axis is a grade and the $y$-axis represents the percentage of loans belonging to the grade. Hint: As **each bar represents a percentage**, all bars have the **same height** of $100\\%$. Also, use `DataFrame.plot(kind='bar', stacked=True)` and add more parameters accordingly. **`[1]`**"
   ]
  },
  {
   "cell_type": "code",
   "execution_count": 23,
   "metadata": {
    "ExecuteTime": {
     "end_time": "2018-10-01T12:53:00.428920Z",
     "start_time": "2018-10-01T12:53:00.423331Z"
    }
   },
   "outputs": [
    {
     "data": {
      "image/png": "[encoded data removed]",
      "text/plain": [
       "<Figure size 1152x432 with 1 Axes>"
      ]
     },
     "metadata": {},
     "output_type": "display_data"
    }
   ],
   "source": [
    "# Write the code for plotting the stacked bar-graph below.\n",
    "loans_df = loans_df[['grade','36 months percentage', '60 months percentage']]\n",
    "loans_groupby_df = loans_df.set_index('grade')\n",
    "\n",
    "fig, ax1 = plt.subplots()\n",
    "\n",
    "loans_groupby_df.plot(kind = 'bar',\n",
    "                     stacked =True,\n",
    "                     figsize=(16,6),\n",
    "                     title = \"Loans (Percentage) by Grade, Loan Term\",\n",
    "                     ax = ax1)\n",
    "ax1.set_ylabel(\"Percentage (%)\")\n",
    "ax1.set_xlabel(\"Grade\")\n",
    "plt.show()\n",
    "# Well done, correct (1)"
   ]
  },
  {
   "cell_type": "markdown",
   "metadata": {},
   "source": [
    "**2C**. You will be using the `wines-200.csv` again for this question. Read from the `wines-200.csv` dataset from **2A** to `wines_df2`. Remember to perform the `dropna()` step."
   ]
  },
  {
   "cell_type": "code",
   "execution_count": 24,
   "metadata": {
    "ExecuteTime": {
     "end_time": "2018-10-01T12:53:00.819678Z",
     "start_time": "2018-10-01T12:53:00.805352Z"
    }
   },
   "outputs": [
    {
     "data": {
      "text/html": [
       "<div>\n",
       "<style scoped>\n",
       "    .dataframe tbody tr th:only-of-type {\n",
       "        vertical-align: middle;\n",
       "    }\n",
       "\n",
       "    .dataframe tbody tr th {\n",
       "        vertical-align: top;\n",
       "    }\n",
       "\n",
       "    .dataframe thead th {\n",
       "        text-align: right;\n",
       "    }\n",
       "</style>\n",
       "<table border=\"1\" class=\"dataframe\">\n",
       "  <thead>\n",
       "    <tr style=\"text-align: right;\">\n",
       "      <th></th>\n",
       "      <th>country</th>\n",
       "      <th>points</th>\n",
       "      <th>price</th>\n",
       "    </tr>\n",
       "  </thead>\n",
       "  <tbody>\n",
       "    <tr>\n",
       "      <th>0</th>\n",
       "      <td>US</td>\n",
       "      <td>86</td>\n",
       "      <td>50.0</td>\n",
       "    </tr>\n",
       "    <tr>\n",
       "      <th>1</th>\n",
       "      <td>Italy</td>\n",
       "      <td>92</td>\n",
       "      <td>48.0</td>\n",
       "    </tr>\n",
       "    <tr>\n",
       "      <th>2</th>\n",
       "      <td>France</td>\n",
       "      <td>89</td>\n",
       "      <td>19.0</td>\n",
       "    </tr>\n",
       "    <tr>\n",
       "      <th>3</th>\n",
       "      <td>US</td>\n",
       "      <td>92</td>\n",
       "      <td>34.0</td>\n",
       "    </tr>\n",
       "    <tr>\n",
       "      <th>4</th>\n",
       "      <td>US</td>\n",
       "      <td>84</td>\n",
       "      <td>20.0</td>\n",
       "    </tr>\n",
       "  </tbody>\n",
       "</table>\n",
       "</div>"
      ],
      "text/plain": [
       "  country  points  price\n",
       "0      US      86   50.0\n",
       "1   Italy      92   48.0\n",
       "2  France      89   19.0\n",
       "3      US      92   34.0\n",
       "4      US      84   20.0"
      ]
     },
     "execution_count": 24,
     "metadata": {},
     "output_type": "execute_result"
    }
   ],
   "source": [
    "# Read from CSV file to wines_df2\n",
    "# Remember to dropna()\n",
    "wines_df2 = pd.read_csv(\"wines-200.csv\")\n",
    "wines_df2 = wines_df2.dropna(subset=['price','points'])\n",
    "\n",
    "wines_df2.head()"
   ]
  },
  {
   "cell_type": "markdown",
   "metadata": {},
   "source": [
    "**i) **Find the top 2 countries with the most wines in the dataset. **`[0.5]`**"
   ]
  },
  {
   "cell_type": "code",
   "execution_count": 25,
   "metadata": {
    "ExecuteTime": {
     "end_time": "2018-10-01T12:53:00.841047Z",
     "start_time": "2018-10-01T12:53:00.824327Z"
    },
    "scrolled": true
   },
   "outputs": [
    {
     "name": "stdout",
     "output_type": "stream",
     "text": [
      "Top 2 Countries with the most wines in the dataset are ['US' 'Italy']\n"
     ]
    }
   ],
   "source": [
    "# What are the top 2 countries in terms of number of wines produced?\n",
    "wines_df2_gb = wines_df2.groupby(['country']).size().reset_index(name='Count')\n",
    "\n",
    "wines_top2 = wines_df2_gb.nlargest(2, ['Count'])['country'].values\n",
    "\n",
    "print(\"Top 2 Countries with the most wines in the dataset are\", wines_top2)\n",
    "\n",
    "# The top 2 countries with the most wines in the dataset are US and Italy\n",
    "# Well done, correct (0.5)"
   ]
  },
  {
   "cell_type": "markdown",
   "metadata": {},
   "source": [
    "**ii)** Using your answer in **(i)** or otherwise, debug and complete the following code to plot a violin plot of the wine prices of the top 2 countries with the most wines in the dataset. There should be a seperate violin plot for each country in the top 2. Refer to the [seaborn documentation](https://seaborn.pydata.org/generated/seaborn.violinplot.html), this [Stackoverflow answer](https://stackoverflow.com/questions/46134113/seaborn-violin-plot-from-pandas-dataframe-each-column-its-own-separate-violin-p) and this [Stackoverflow answer](https://stackoverflow.com/questions/48803619/what-is-the-correct-way-to-create-a-violin-plot-that-has-one-violin-split-by-hue) to help you. **`[1]`**"
   ]
  },
  {
   "cell_type": "code",
   "execution_count": 26,
   "metadata": {
    "ExecuteTime": {
     "end_time": "2018-10-01T12:53:01.255360Z",
     "start_time": "2018-10-01T12:53:00.844257Z"
    }
   },
   "outputs": [
    {
     "data": {
      "image/png": "[encoded data removed]",
      "text/plain": [
       "<Figure size 1080x1800 with 3 Axes>"
      ]
     },
     "metadata": {},
     "output_type": "display_data"
    }
   ],
   "source": [
    "# Debug and complete the code for plotting the violin below.\n",
    "\n",
    "#From (i) we know that US and Italy are the top 2 countries with the most wines\n",
    "\n",
    "filt_cond1 = wines_df2['country'] == wines_top2[0]\n",
    "filt_cond2 = wines_df2['country'] == wines_top2[1]\n",
    "\n",
    "wines_df2_filt = wines_df2[filt_cond1 | filt_cond2]\n",
    "\n",
    "fig = plt.figure(figsize=(15,25))\n",
    "fig.subplots_adjust(hspace=0.3)\n",
    "\n",
    "gs = fig.add_gridspec(3,2)\n",
    "\n",
    "ax1 = fig.add_subplot(gs[0, :])\n",
    "ax1 = sns.violinplot(x=\"country\",\n",
    "               y=\"price\",\n",
    "               scale=\"count\",\n",
    "               data = wines_df2_filt,\n",
    "               palette=\"seismic\",\n",
    "               hue=\"country\")\n",
    "\n",
    "ax1.set_title(\"Violin Plot (Individual)\")\n",
    "ax1.set_xlabel(\"Country\")\n",
    "ax1.set_ylabel(\"Price ($)\")\n",
    "\n",
    "ax2 = fig.add_subplot(gs[1, :])\n",
    "ax2 = sns.violinplot(x=\"country\",\n",
    "               y=\"price\",\n",
    "               scale=\"count\",\n",
    "               data = wines_df2_filt,\n",
    "               palette=\"seismic\",\n",
    "               split=\"true\",\n",
    "               hue=\"country\")\n",
    "\n",
    "ax2.set_title(\"Violin Plot (Split)\")\n",
    "ax2.set_xlabel(\"Country\")\n",
    "ax2.set_ylabel(\"Price ($)\")\n",
    "\n",
    "ax3 = fig.add_subplot(gs[2, :])\n",
    "ax3 = sns.violinplot(x=[\"US/Italy\"]*len(wines_df2_filt),\n",
    "               y=\"price\",\n",
    "               scale=\"count\",\n",
    "               data = wines_df2_filt,\n",
    "               palette=\"seismic\",\n",
    "               split=\"true\",\n",
    "               hue=\"country\")\n",
    "ax3.set_title(\"Violin Plot (Joined)\")\n",
    "ax3.set_xlabel(\"Country\")\n",
    "ax3.set_ylabel(\"Price ($)\")\n",
    "\n",
    "plt.show()\n",
    "# Well done, correct (1)"
   ]
  },
  {
   "cell_type": "markdown",
   "metadata": {},
   "source": [
    "<div class=\"alert alert-success\">\n",
    "**Checkpoint**: When you have completed Part 2, upload your progress to eLearn. eLearn only accepts the latest notebooks so if you have an existing notebook, your latest upload will **override** it.\n",
    "</div>"
   ]
  }
 ],
 "metadata": {
  "kernelspec": {
   "display_name": "Python 3",
   "language": "python",
   "name": "python3"
  },
  "language_info": {
   "codemirror_mode": {
    "name": "ipython",
    "version": 3
   },
   "file_extension": ".py",
   "mimetype": "text/x-python",
   "name": "python",
   "nbconvert_exporter": "python",
   "pygments_lexer": "ipython3",
   "version": "3.7.2"
  }
 },
 "nbformat": 4,
 "nbformat_minor": 4
}
