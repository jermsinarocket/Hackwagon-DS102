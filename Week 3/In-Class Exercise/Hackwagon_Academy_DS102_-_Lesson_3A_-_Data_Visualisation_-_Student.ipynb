{
 "cells": [
  {
   "cell_type": "markdown",
   "metadata": {},
   "source": [
    "<center><img src=\"https://i2.wp.com/hackwagon.com/wp-content/uploads/2017/02/Logo-Web-Export.png?ssl=1\" width=200/></center>\n",
    "<h1> Hackwagon Academy DS102 Lesson 3A </h1>\n",
    "<h2> Data Visualisation</h2> \n",
    "<h3> Lesson Outline </h3>\n",
    "\n",
    "- 1. [Matplotlib & Pandas](#1)\n",
    "    - 1.1 [Introduction](#1.1)\n",
    "    - 1.2 [Plotting](#1.2)\n",
    "    - 1.3 [Designing Your Plots](#1.3)\n",
    "        - 1.3.1 [Title, Labels, Ticks, Colors](#1.3.1)\n",
    "        - 1.3.2 [Markers, Alphas, Sizes](#1.3.2)\n",
    "    - 1.4 [Subplots](#1.4)\n",
    "    - 1.5 [Saving Figure](#1.5)\n",
    "    - [Practice I](#P1)\n",
    "- 2. [Types of Charts](#2)\n",
    "    - 2.1 [Distribution](#2.1)\n",
    "        - 2.1.1 [Boxplot](#2.1.1)\n",
    "        - 2.1.2 [Histogram](#2.1.2)\n",
    "    - 2.2 [Trends](#2.2)\n",
    "        - 2.2.1 [Line](#2.2.1)\n",
    "        - 2.2.2 [Scatter](#2.2.2)\n",
    "    - 2.3 [Categorical](#2.3)\n",
    "        - 2.3.1 [Barchart](#2.3.1)\n",
    "        - 2.3.2 [Clustered Bar Chart](#2.3.2)\n",
    "        - 2.3.3 [Stacked Bar Chart](#2.3.3)\n",
    "    - [Practice II](#P2)\n",
    "- 3. [Extras (Optional)](#3)\n",
    "    - 3.1 [Jointplot](#3.1)\n",
    "    - 3.2 [Wordcloud](#3.2)"
   ]
  },
  {
   "cell_type": "markdown",
   "metadata": {},
   "source": [
    "### Import Libraries"
   ]
  },
  {
   "cell_type": "code",
   "execution_count": null,
   "metadata": {},
   "outputs": [],
   "source": [
    "import pandas as pd\n",
    "import random\n",
    "import numpy as np\n",
    "import seaborn as sns\n",
    "import matplotlib.pyplot as plt\n",
    "# Display all floats rounded off to 1 decimal place\n",
    "pd.options.display.float_format = '{:,.1f}'.format\n",
    "# Plot static image in Jupyter notebook\n",
    "%matplotlib inline\n",
    "# Settings throughout the notebook\n",
    "sns.set()"
   ]
  },
  {
   "cell_type": "markdown",
   "metadata": {},
   "source": [
    "<hr/>\n",
    "\n",
    "<a id='1'><h2><img src=\"https://images.vexels.com/media/users/3/153978/isolated/preview/483ef8b10a46e28d02293a31570c8c56-warning-sign-colored-stroke-icon-by-vexels.png\" width=23 align=\"left\"><font color=\"salmon\">&nbsp;1.</font><font color=\"salmon\"> Matplotlib </font> </h2></a>"
   ]
  },
  {
   "cell_type": "markdown",
   "metadata": {},
   "source": [
    "<a id='1.1'><h3>1.1 Introduction</h3></a>\n",
    "\n",
    "Matplotlib is one of the first and many visualisation libraries like Seaborn use the similar syntax. \n",
    "\n",
    "Pros:\n",
    "1. Provides a standard for other visualisation libraries\n",
    "2. Leveraged by many other libraries\n",
    "\n",
    "Cons:\n",
    "1. Documentation that is difficult to understand\n",
    "2. Restrictive syntax\n",
    "\n",
    "<img src=\"https://i.imgur.com/uYYgeZ3.png\" width=\"300\">"
   ]
  },
  {
   "cell_type": "markdown",
   "metadata": {},
   "source": [
    "<a id='1.2'><h3>1.2 Plotting</h3></a>\n",
    "\n",
    "Creating visualisations is <b>very simple</b>, just tell yourself that you need 2 <b>lists</b> of data of the same <b>length</b> and put them into the library's function and <b><i>it just works!</i></b>"
   ]
  },
  {
   "cell_type": "code",
   "execution_count": null,
   "metadata": {},
   "outputs": [],
   "source": [
    "def create_random_numbers():\n",
    "    results = []\n",
    "    for i in range(10):\n",
    "        results.append(random.randrange(1,101,1))\n",
    "    return results"
   ]
  },
  {
   "cell_type": "code",
   "execution_count": null,
   "metadata": {},
   "outputs": [],
   "source": [
    "x = create_random_numbers()\n",
    "y = create_random_numbers()\n",
    "x.sort()\n",
    "y.sort()\n",
    "print(x)\n",
    "print(y)"
   ]
  },
  {
   "cell_type": "markdown",
   "metadata": {},
   "source": [
    "### Using matplotlib\n",
    "\n",
    "Plotting using matplotlib with basic Python lists is as follows. "
   ]
  },
  {
   "cell_type": "code",
   "execution_count": null,
   "metadata": {},
   "outputs": [],
   "source": []
  },
  {
   "cell_type": "markdown",
   "metadata": {},
   "source": [
    "### As A DataFrame\n"
   ]
  },
  {
   "cell_type": "code",
   "execution_count": null,
   "metadata": {},
   "outputs": [],
   "source": [
    "data = {\n",
    "    'x_values': x,\n",
    "    'y_values': y\n",
    "}\n",
    "random_df = pd.DataFrame(data)\n",
    "random_df"
   ]
  },
  {
   "cell_type": "markdown",
   "metadata": {},
   "source": [
    "### Plotting with Pandas \n",
    "\n",
    "Using pandas, many of matplotlib's functions are stored within the `.plot()` function. Switch between the different kinds of plots, just change the `kind=` parameter to suit your needs. \n",
    "\n",
    "<b>To fully understand the pandas plotting settings, read the documentation here: https://pandas.pydata.org/pandas-docs/stable/reference/api/pandas.DataFrame.plot.html</b>\n",
    "\n",
    "<img src=\"https://i.imgur.com/oxpzNPz.png\" width=400>"
   ]
  },
  {
   "cell_type": "code",
   "execution_count": null,
   "metadata": {},
   "outputs": [],
   "source": []
  },
  {
   "cell_type": "markdown",
   "metadata": {},
   "source": [
    "<a id='1.3'><h3>1.3 Designing Your Plots</h3></a>\n",
    "\n",
    "A good graph should contain the following features so it can easy to read and interpret:\n",
    "\n",
    "- Title\n",
    "- Legend\n",
    "- Axes Labels for both the horizontal or $x$-axis and the vertical or $y$-axis\n",
    "- Reasonable tick values\n",
    "\n",
    "### Anatomy of a Plot\n",
    "\n",
    "<img src=\"https://i.imgur.com/AKpvE3C.png\" width=400>"
   ]
  },
  {
   "cell_type": "markdown",
   "metadata": {},
   "source": [
    "<a id='1.3.1'><h3>1.3.1 Title, Labels, Ticks, Colors</h3></a>\n",
    "\n",
    "- Title - `plt.title()`\n",
    "- X and Y Axis Labels - `plt.xlabel()` & `plt.ylabel()`\n",
    "- Ticks - `plt.xticks()` & `plt.xticks()`\n",
    "- Color - `color=`"
   ]
  },
  {
   "cell_type": "code",
   "execution_count": null,
   "metadata": {},
   "outputs": [],
   "source": []
  },
  {
   "cell_type": "markdown",
   "metadata": {},
   "source": [
    "<a id='1.3.2'><h3>1.3.2 Markers, Alphas, Sizes</h3></a>\n",
    "\n",
    "When designing scatterplots, sometimes you want certain points to be more distinct than the others.\n",
    "\n",
    "- Markers - Design of each point: `marker=`\n",
    "- Alphas - Transparency of each point: `alpha=` (between 1 to 0, 1 being darkest, 0 being transparent)\n",
    "- Size - Size of each point: `s=`"
   ]
  },
  {
   "cell_type": "code",
   "execution_count": null,
   "metadata": {},
   "outputs": [],
   "source": []
  },
  {
   "cell_type": "markdown",
   "metadata": {},
   "source": [
    "<a id='1.4'><h3>1.4 Subplots</h3></a>\n",
    "\n",
    "To plot mulitple plots within a single figure, we need to understand the columns, rows and index that identify them. \n",
    "\n",
    "<img src=\"https://i.imgur.com/JrukTTS.png\" width=\"300\">"
   ]
  },
  {
   "cell_type": "code",
   "execution_count": null,
   "metadata": {},
   "outputs": [],
   "source": []
  },
  {
   "cell_type": "markdown",
   "metadata": {},
   "source": [
    "<a id='1.5'><h3>1.5 Saving Figures</h3></a>\n",
    "\n",
    "To save figures, use `.savefig()` with the name of the file inside the (). The filename should end with either a `.png` or `.jpg`"
   ]
  },
  {
   "cell_type": "code",
   "execution_count": null,
   "metadata": {},
   "outputs": [],
   "source": []
  },
  {
   "cell_type": "markdown",
   "metadata": {},
   "source": [
    "<a id='P1'><h2> <img src=\"https://cdn.shopify.com/s/files/1/1200/7374/products/book_aec28e76-52ec-44ab-bc01-41df1279c89f_550x825.png?v=1473897430\" width=25 align=\"left\"> <font color=\"darkorange\"> &nbsp; Practice I </font><font color=\"skyblue\"> * </font></h2></a>\n",
    "\n",
    "### South Korean Tourist Departures\n",
    "\n",
    "#### Read Dataset\n",
    "\n",
    "Read the `kor-tourist-departures.csv` dataset and save it as `kto_depart_df`. Preview the dataset to understand the nature of the dataset."
   ]
  },
  {
   "cell_type": "code",
   "execution_count": null,
   "metadata": {},
   "outputs": [],
   "source": []
  },
  {
   "cell_type": "markdown",
   "metadata": {},
   "source": [
    "#### Prepare Data\n",
    "\n",
    "Create a new column called `visitor_departures_m` after using `.apply` to change visitor departures from ones to millions (i.e divide by 1000000) "
   ]
  },
  {
   "cell_type": "code",
   "execution_count": null,
   "metadata": {},
   "outputs": [],
   "source": []
  },
  {
   "cell_type": "markdown",
   "metadata": {},
   "source": [
    "#### Visualise\n",
    "\n",
    "Using what you've learnt so far, visualise the dataset and get a similar design and label as the following line chart.\n",
    "\n",
    "<img src=\"https://i.imgur.com/FfL6pVJ.png\" width=800>"
   ]
  },
  {
   "cell_type": "code",
   "execution_count": null,
   "metadata": {},
   "outputs": [],
   "source": []
  },
  {
   "cell_type": "markdown",
   "metadata": {},
   "source": [
    "#### Export and Save Visualisation\n",
    "\n",
    "Using `plt.savefig()`, save the figure with the following name, `South Korean Tourist Departures.jpg`. "
   ]
  },
  {
   "cell_type": "code",
   "execution_count": null,
   "metadata": {},
   "outputs": [],
   "source": []
  },
  {
   "cell_type": "markdown",
   "metadata": {},
   "source": [
    "<center><h3> End of Practice I </h3></center>"
   ]
  },
  {
   "cell_type": "markdown",
   "metadata": {},
   "source": [
    "<a id='2'><h2><img src=\"https://images.vexels.com/media/users/3/153978/isolated/preview/483ef8b10a46e28d02293a31570c8c56-warning-sign-colored-stroke-icon-by-vexels.png\" width=23 align=\"left\"><font color=\"salmon\">&nbsp;2.</font><font color=\"salmon\"> Types of Charts </font> </h2></a>\n",
    "\n",
    "We'll go through several chart and examples and their use cases."
   ]
  },
  {
   "cell_type": "markdown",
   "metadata": {},
   "source": [
    "<a id='2.1'><h3>2.1 Understanding Distribution</h3></a>\n",
    "<a id='2.1.1'><h3>2.1.1 Boxplot(s)</h3></a>\n",
    "\n",
    "A boxplot is useful to check for outliers in a dataset. To plot a boxplot, simply use `plot(kind='box')` for the `Series`.\n",
    "\n",
    "### Wages Dataset"
   ]
  },
  {
   "cell_type": "code",
   "execution_count": null,
   "metadata": {},
   "outputs": [],
   "source": [
    "wages_df = pd.read_csv('wages-by-occupation.csv')\n",
    "wages_df.head()"
   ]
  },
  {
   "cell_type": "code",
   "execution_count": null,
   "metadata": {},
   "outputs": [],
   "source": [
    "# For box plots, you can only plot using a Series.\n",
    "fig = plt.figure()\n",
    "ax = fig.add_subplot(111)\n",
    "# Plot the boxplot. \n",
    "wages_df['Weekly_Wage_USD'].plot(kind='box', \n",
    "                            title=\"Box plot of Median weekly wages (US$) by Occupation\", \n",
    "                            figsize=(3, 6), ax=ax)\n",
    "# Set the label of the y-axis\n",
    "ax.set_ylabel(\"US$\")"
   ]
  },
  {
   "cell_type": "markdown",
   "metadata": {},
   "source": [
    "<a id='2.2.2'><h3>2.2.2 Histogram</h3></a>\n",
    "\n",
    "A histogram is used to plot the **count** of individual observations within a bin. Each bin has **a specified range** as determined by the position and width of the bar.\n",
    "\n",
    "Note: If you see the warning `The 'normed' kwarg is deprecated, and has been replaced by the 'density' kwarg.`, you can ignore it."
   ]
  },
  {
   "cell_type": "code",
   "execution_count": null,
   "metadata": {},
   "outputs": [],
   "source": [
    "# Plot a histogram for 'loan_amnt'. Use 15 bins.\n",
    "fig = plt.figure(figsize=(18, 8))\n",
    "ax1 = fig.add_subplot(111)\n",
    "\n",
    "wages_df.plot(kind='hist', \n",
    "              ax=ax1, \n",
    "              bins=15)\n",
    "\n",
    "# Set the title and y-axis label.\n",
    "ax1.set_title(\"Histogram of loan amount (USD), 15 bins\", fontsize=16)\n",
    "ax1.set_ylabel(\"No. of borrowers\")"
   ]
  },
  {
   "cell_type": "markdown",
   "metadata": {},
   "source": [
    "<a id='2.2'><h3>2.2 Spotting Trends</h3></a>\n",
    "<a id='2.2.1'><h3>2.2.1 Line</h3></a>\n",
    "\n",
    "\n",
    "A line graph is used to show **a trend in data over time**, or **time-series** data. The $x$-axis will have the various time periods (year, month, day, quarter etc.) and the $y$-axis will show the metric. "
   ]
  },
  {
   "cell_type": "markdown",
   "metadata": {},
   "source": [
    "### Singapore Births Dataset"
   ]
  },
  {
   "cell_type": "code",
   "execution_count": null,
   "metadata": {},
   "outputs": [],
   "source": [
    "births_df = pd.read_csv('sgp-births.csv')\n",
    "births_df.head()"
   ]
  },
  {
   "cell_type": "code",
   "execution_count": null,
   "metadata": {},
   "outputs": [],
   "source": [
    "# Always start by creating a figure and adding (empty) subplots.\n",
    "fig = plt.figure(figsize=(16,6))\n",
    "ax1 = fig.add_subplot(111)\n",
    "\n",
    "# Set the title here\n",
    "ax1.set_title(\"Total Births per Year in Singapore, 1977 - 2016\")\n",
    "\n",
    "# Plot the df here. specify the kind, x, y, figsize, marker='X' and ax params\n",
    "births_df.plot(kind='line', x='Year', y='Total Live-births', figsize=(16,6), ax=ax1, marker='X')\n",
    "\n",
    "#Adjust the x and y axes\n",
    "ax1.set_xticks(np.arange(1977, 2018, 2))\n",
    "ax1.set_yticks(np.arange(34000, 55000, 2000))\n",
    "\n",
    "#Set the y axis label here\n",
    "ax1.set_ylabel(\"No. of Births\")"
   ]
  },
  {
   "cell_type": "markdown",
   "metadata": {},
   "source": [
    "<a id='2.2.2'><h3>2.3 Scatter Plot</h3></a>\n",
    "\n",
    "A scatter graph can be used to **spot relationships between variables**. Each axis represents a variable, and each coordinate represents the *joint observation* of both variables. The closer all the points are closer to some defined line (linear, quadratic, exponential etc.), the stronger the correlation between the variables *based on that function*."
   ]
  },
  {
   "cell_type": "markdown",
   "metadata": {},
   "source": [
    "### Google vs. Apple Closing Prices"
   ]
  },
  {
   "cell_type": "code",
   "execution_count": null,
   "metadata": {},
   "outputs": [],
   "source": [
    "goog_df = pd.read_csv('goog-close.csv')\n",
    "aapl_df = pd.read_csv('aapl-close.csv')\n",
    "tech_shares_df = goog_df.merge(aapl_df, on='Date')\n",
    "print(tech_shares_df.head())"
   ]
  },
  {
   "cell_type": "code",
   "execution_count": null,
   "metadata": {},
   "outputs": [],
   "source": [
    "tech_shares_df.plot(kind='scatter', \n",
    "                       y='GOOG_Close',\n",
    "                       x='AAPL_Close',\n",
    "                       figsize=(7, 7),\n",
    "                       title=\"Scatterplot of AAPL Closing Price vs. GOOG Closing Price, 2017 Oct - 2018 Oct\")"
   ]
  },
  {
   "cell_type": "markdown",
   "metadata": {},
   "source": [
    "Also, it is useful to see how related the datasets are using `df.corr()`.\n",
    "\n",
    "**Conclusion**: With a (Pearson) correlation $\\rho=0.732$, the closing price of GOOG and AAPL have strong correlation. Note that strong correlation does **not imply** causation, which means the change in one variable directly causes the change in another variable. In this case, closing price of AAPL does **not necessarily directly impact** the closing price of GOOG. Additional research needs to be performed to ascertain this relationship.\n",
    "\n",
    "<div class=\"alert alert-info\">\n",
    "<b>DS102 Learning Guidelines: Additionally, </b> $\\rho = r$. Hence, if you intend to perform linear regression on these two security closing prices, you can find $r^2$ by taking the square of the correlation. Linear regression will be covered in Week 5.\n",
    "</div>"
   ]
  },
  {
   "cell_type": "code",
   "execution_count": null,
   "metadata": {},
   "outputs": [],
   "source": [
    "tech_shares_df['AAPL_Close'].corr(tech_shares_df['GOOG_Close'])"
   ]
  },
  {
   "cell_type": "markdown",
   "metadata": {},
   "source": [
    "<a id='2.3'><h3>2.3 Categorical Analysis</h3></a>\n",
    "<a id='2.3.1'><h3>2.3.1 Bar Charts</h3></a>\n",
    "\n",
    "Bar graphs are used to examine **cross-sectional** or **categorical** data. This involves looking at different **segments** of the population at **one point in time**. It could mean observations at a certain year, quarter or month.\n",
    "\n",
    "### Patient Admissions Dataset"
   ]
  },
  {
   "cell_type": "code",
   "execution_count": null,
   "metadata": {},
   "outputs": [],
   "source": [
    "admissions_df = pd.read_csv('patient-admissions.csv')\n",
    "admissions_df.head()"
   ]
  },
  {
   "cell_type": "code",
   "execution_count": null,
   "metadata": {},
   "outputs": [],
   "source": [
    "# Filter by Male\n",
    "admissions_g_df = admissions_df[admissions_df['gender'] == 'Male']\n",
    "\n",
    "fig, ax = plt.subplots()\n",
    "# Your turn: Plot the bar plot.\n",
    "# Specify the kind, x, y, title, figsize, ax and color='skyblue' params\n",
    "admissions_g_df.plot(kind='bar', x='age', y='percentage',\n",
    "                figsize=(16,6), ax=ax, color='skyblue')\n",
    "# Add the ylabel using ax.set_ylabel()\n",
    "ax.set_ylabel(\"Percentage of Admissions\")\n",
    "ax.set_title(\"Patient admissions by Age Group, 2014\")"
   ]
  },
  {
   "cell_type": "markdown",
   "metadata": {},
   "source": [
    "<a id='2.3.2'><h3>2.3.2 Clustered Bar Charts</h3></a>\n",
    "\n",
    "\n",
    "To plot a clustered bar plot, add **both** `Series` to the same subplot. Use `ax=ax` to for this. For the `position` parameter, the **rightmost bar is the smallest number**, starting from `1`. The `width` of the bar needs to be adjusted too. Finally, for the `color` value, use [this link](https://python-graph-gallery.com/100-calling-a-color-with-seaborn/) to find good color representations that are soothing for the eye."
   ]
  },
  {
   "cell_type": "code",
   "execution_count": null,
   "metadata": {},
   "outputs": [],
   "source": [
    "admissions_by_gender_df = pd.read_csv('patient-admissions-by-gender.csv')\n",
    "# admissions_by_gender_df = admissions_by_gender_df[['age', 'male_percentage', 'female_percentage']]\n",
    "# admissions_by_gender_df = admissions_by_gender_df.set_index('age')\n",
    "admissions_by_gender_df"
   ]
  },
  {
   "cell_type": "code",
   "execution_count": null,
   "metadata": {},
   "outputs": [],
   "source": [
    "width=0.20\n",
    "\n",
    "# Create the figure\n",
    "fig = plt.figure(figsize=(16,6))\n",
    "# Add the subplot\n",
    "ax = fig.add_subplot(111)\n",
    "\n",
    "# Plot the values for 'male_percentage' Specify position=1\n",
    "admissions_by_gender_df.plot(kind='bar', x='age', y='male_percentage', \n",
    "                             ax=ax, position=1, width=width, color='steelblue')\n",
    "# Plot the values for 'female_percentage' Specify position=2\n",
    "admissions_by_gender_df.plot(kind='bar', x='age', y='female_percentage', \n",
    "                             ax=ax, position=2, width=width, color='tomato')\n",
    "\n",
    "# Your turn: Add the title of the plot\n",
    "ax.set_title(\"Patient admissions by age group, segmented by gender\")\n",
    "ax.set_ylabel(\"Percentage of patients with gender\")"
   ]
  },
  {
   "cell_type": "markdown",
   "metadata": {},
   "source": [
    "<a id='2.3.2'><h3>2.3.2 Bar Charts</h3></a>\n",
    "\n",
    "A stacked bar chart can be used to see the number of observations within a cohort, and the cohort's cumulative sum. In this case, we want to see how many patients belonging to each age divided by gender. Hence, we group the data by these 2 columns."
   ]
  },
  {
   "cell_type": "code",
   "execution_count": null,
   "metadata": {},
   "outputs": [],
   "source": [
    "# Data Preparation\n",
    "admissions_by_gender_df = admissions_by_gender_df[['age', 'male_percentage', 'female_percentage']]\n",
    "admissions_by_gender_age_df = admissions_by_gender_df.set_index('age')\n",
    "display(admissions_by_gender_age_df)\n",
    "\n",
    "# Plot the stacked bar chart here\n",
    "fig, ax1 = plt.subplots()\n",
    "admissions_by_gender_age_df.plot(kind='bar', \n",
    "                                 stacked=True,  # <<< stacked\n",
    "                                 figsize=(16,6), \n",
    "                                 title=\"Patients by Age, Gender\",\n",
    "                                 ax=ax1)\n",
    "ax1.set_ylabel(\"Percentage\")\n",
    "plt.show()"
   ]
  },
  {
   "cell_type": "markdown",
   "metadata": {},
   "source": [
    "<a id='P2'><h2> <img src=\"https://cdn.shopify.com/s/files/1/1200/7374/products/book_aec28e76-52ec-44ab-bc01-41df1279c89f_550x825.png?v=1473897430\" width=25 align=\"left\"> <font color=\"darkorange\"> &nbsp; Practice II </font><font color=\"skyblue\"> * </font></h2></a>\n",
    "\n",
    "### Term Loans Visualisation\n",
    "\n",
    "Using everything you've learnt above, prepare the following visualisation based on the `loans-25k.csv` dataset.\n",
    "\n",
    "#### Read Dataset\n",
    "\n",
    "Read the `loans-25k.csv` dataset and save it as `loans_df`. Preview the dataset to understand the nature of the dataset."
   ]
  },
  {
   "cell_type": "code",
   "execution_count": null,
   "metadata": {},
   "outputs": [],
   "source": []
  },
  {
   "cell_type": "markdown",
   "metadata": {},
   "source": [
    "#### Isolate and Group\n",
    "\n",
    "Isolate the data to just the `term`, `grade` columns and store them as a separate DataFrame. After that, group them up by their `grade`, then `term` (using a list). Store the grouped data as `term_grade_group`."
   ]
  },
  {
   "cell_type": "code",
   "execution_count": null,
   "metadata": {},
   "outputs": [],
   "source": []
  },
  {
   "cell_type": "markdown",
   "metadata": {},
   "source": [
    "#### Size of Each Grade and Term\n",
    "\n",
    "Using the group, get the size of each object and <b>reset its index</b> so that it's now a flattened dataframe of the following output: \n",
    "\n",
    "<img src=\"https://i.imgur.com/fOvft3H.png\" width=200>\n",
    "\n",
    "After which, rename the columns to `Grade`, `Term`, `No. of Loans` respectively, by changing the `.columns` attribute."
   ]
  },
  {
   "cell_type": "code",
   "execution_count": null,
   "metadata": {},
   "outputs": [],
   "source": []
  },
  {
   "cell_type": "markdown",
   "metadata": {},
   "source": [
    "#### Pivot Table\n",
    "\n",
    "Using `pd.pivot_table`, change the structure of the DataFrame such that the index = `Grade`, columns = `Term`, values = `No. of Loans` and it is aggregated by the `np.sum` function. <b>Reset the pivoted_table's index</b> and change the columns to the following name `Grade`, `36 Months`, `60 Months`. \n",
    "\n",
    "Expected Final DataFrame: \n",
    "\n",
    "<img src=\"https://i.imgur.com/sFIaS5a.png\" width=200>"
   ]
  },
  {
   "cell_type": "code",
   "execution_count": null,
   "metadata": {},
   "outputs": [],
   "source": []
  },
  {
   "cell_type": "markdown",
   "metadata": {},
   "source": [
    "#### Visualise \n",
    "\n",
    "Using the prepared DataFrame above, prepare the following visualisation, matching a similar design and labels shown: \n",
    "\n",
    "<img src=\"https://i.imgur.com/HpST8Lc.png\" width=800>"
   ]
  },
  {
   "cell_type": "code",
   "execution_count": null,
   "metadata": {},
   "outputs": [],
   "source": []
  },
  {
   "cell_type": "markdown",
   "metadata": {},
   "source": [
    "#### Export and Save Visualisation\n",
    "\n",
    "Using `plt.savefig()`, save the figure with the following name, `No. of Loans by Grade and Terms.jpg`. "
   ]
  },
  {
   "cell_type": "code",
   "execution_count": null,
   "metadata": {},
   "outputs": [],
   "source": [
    "plt.savefig"
   ]
  },
  {
   "cell_type": "markdown",
   "metadata": {},
   "source": [
    "<center><h3> End of Practice II </h3></center>"
   ]
  },
  {
   "cell_type": "markdown",
   "metadata": {},
   "source": [
    "<a id='3'><h2><img src=\"https://images.vexels.com/media/users/3/153978/isolated/preview/483ef8b10a46e28d02293a31570c8c56-warning-sign-colored-stroke-icon-by-vexels.png\" width=23 align=\"left\"><font color=\"salmon\">&nbsp;3.</font><font color=\"salmon\"> Extras (Optional) </font> </h2></a>"
   ]
  },
  {
   "cell_type": "markdown",
   "metadata": {},
   "source": [
    "<a id='3.1'><h3>3.1 Jointplot</h3></a>\n",
    "\n",
    "A jointplot is used to see the **joint observation** of datapoints. One axis will show the distribution of one metric while the other axis will show the distribution of the other metric. \n",
    "\n",
    "Each hexagon **exists in a 2 dimensional space** that represents a bin corresponding to the **<u>concurrent</u> observation of $X=x$ and $Y=y$**. In this plot, the darker the hexagon, the more observations are in that bin."
   ]
  },
  {
   "cell_type": "code",
   "execution_count": null,
   "metadata": {},
   "outputs": [],
   "source": [
    "## Dataset 1: Credits at the end of the notebook\n",
    "# Read 'loans-25k.csv' data into loans_df.\n",
    "loans_df = pd.read_csv('loans-25k.csv')\n",
    "fig = plt.figure()\n",
    "\n",
    "# Plot the joint plot here. Set the x, y and kind='hex' parameter\n",
    "g = sns.jointplot(data=loans_df, \n",
    "                  x = 'loan_amnt', \n",
    "                  y = 'int_rate', \n",
    "                  kind='hex')\n",
    "\n",
    "# Set the size of the plot and the title.\n",
    "g.fig.suptitle('Loan Amount vs. Interest Rate of loans')\n",
    "g.fig.set_size_inches(8,8)\n",
    "\n",
    "# Shrink the plot by 10% so the title is visible.\n",
    "plt.subplots_adjust(top=0.9)"
   ]
  },
  {
   "cell_type": "markdown",
   "metadata": {},
   "source": [
    "<a id='3.2'><h3>3.2 Wordcloud</h3></a>\n",
    "\n",
    "A wordcloud is useful to find out what are common words in a corpus of texts. A corpus is simply a collection of text documents. Before building a wordcloud, first collect all the texts."
   ]
  },
  {
   "cell_type": "code",
   "execution_count": null,
   "metadata": {},
   "outputs": [],
   "source": [
    "from wordcloud import WordCloud\n",
    "import re"
   ]
  },
  {
   "cell_type": "code",
   "execution_count": null,
   "metadata": {},
   "outputs": [],
   "source": [
    "# Dataset 2: Credits at the end of the notebook\n",
    "# Read 'loans-descs-100.csv' data into desc_df. Use the sep = '|' parameter\n",
    "desc_df = pd.read_csv('loans-descs-100.csv', sep='|')\n",
    "descriptions_series = desc_df['desc']\n",
    "descriptions_list = descriptions_series.tolist()\n",
    "\n",
    "descriptions_list[:5]"
   ]
  },
  {
   "cell_type": "markdown",
   "metadata": {},
   "source": [
    "### Cleaning the Strings \n",
    "\n",
    "To build a wordcloud, all the descriptions need to be connected to form a long string. But, some cleaning needs to be done first. The next steps are used to collect these words:\n",
    "\n",
    "1. Remove `Borrower added on.. >` in the beginning of the string\n",
    "2. Remove HTML tags from the descriptions\n",
    "3. Remove special characters from the descriptions. Remove trailing and leading spaces, convert all words to lower case"
   ]
  },
  {
   "cell_type": "code",
   "execution_count": null,
   "metadata": {},
   "outputs": [],
   "source": [
    "descriptions_step1 = []\n",
    "for d in descriptions_list:\n",
    "    # Remove the first bunch of letters\n",
    "    d2 = re.sub('Borrower added on (\\d/?)+\\s>', '', d)\n",
    "    # Remove HTML tags\n",
    "    d2 = re.sub('<[a-z]+/?>', '', d2)\n",
    "    # Remove special characters\n",
    "    d2 = re.sub('[-_,$&!.;%]', '', d2)\n",
    "    # Convert to lower case, remove leading and trailing spaces\n",
    "    d2 = d2.strip().lower()   \n",
    "    descriptions_step1.append(d2)"
   ]
  },
  {
   "cell_type": "markdown",
   "metadata": {},
   "source": [
    "### Joining the Strings\n",
    "\n",
    "This for loop joins the descriptions together in one long string."
   ]
  },
  {
   "cell_type": "code",
   "execution_count": null,
   "metadata": {},
   "outputs": [],
   "source": [
    "long_str_descriptions = ''\n",
    "for d in descriptions_step1:\n",
    "    #simple string concatenation\n",
    "    long_str_descriptions = long_str_descriptions + ' ' + d"
   ]
  },
  {
   "cell_type": "markdown",
   "metadata": {},
   "source": [
    "### Visualise Wordcloud"
   ]
  },
  {
   "cell_type": "code",
   "execution_count": null,
   "metadata": {},
   "outputs": [],
   "source": [
    "plt.figure(figsize=(15,8))\n",
    "desc_wordcloud = WordCloud(\n",
    "    width=400, height=150,\n",
    "    background_color=\"white\", \n",
    "    max_words=150, relative_scaling = 1.0).generate(long_str_descriptions) # add long string in .generate()\n",
    "plt.imshow(desc_wordcloud)\n",
    "plt.axis(\"off\")\n",
    "plt.title(\"Wordcloud of descriptions for loans\", fontsize=20)\n",
    "plt.show()"
   ]
  },
  {
   "cell_type": "markdown",
   "metadata": {},
   "source": [
    "**Libraries**\n",
    "- [matplotlib](https://matplotlib.org/gallery/index.html)\n",
    "- [seaborn](https://seaborn.pydata.org/examples/index.html)\n",
    "\n",
    "**Credits**\n",
    "- [Korea Tourism Organisation](https://kto.visitkorea.or.kr/eng/tourismStatics/keyFacts/visitorArrivals.kto) for Dataset 1 & 7\n",
    "- [Singstat](https://www.singstat.gov.sg/find-data/search-by-theme/population/births-and-fertility/latest-data) for Dataset 2\n",
    "- [data.gov.sg](https://data.gov.sg/dataset/hospital-admissions) for Dataset 3\n",
    "- [Kaggle](https://www.kaggle.com/monkeasy/exploring-gender-equality-in-us-wages/data) for Dataset 4\n",
    "- [Yahoo Finance GOOG](https://finance.yahoo.com/quote/GOOG) and [Yahoo Finance AAPL](https://finance.yahoo.com/quote/AAPL) for Dataset 5 & 6\n",
    "\n",
    "\n",
    "\n",
    "**Liability Disclaimer**\n",
    "<p style=\"font-size:10px\">Notwithstanding any other provision of other agreements between Hackwagon and its trainees, in no event shall any party be liable to another party for any loss of anticipated profits or other consequential, special or indirect loss or damage of any nature arising at any time, whether arising under contract, tort (including negligence), strict liability or for any other cause whatsoever. The trainee understands and agrees that algorithms taught for financial markets are volatile and unpredictable in nature and that no warranty, either express or implied, is made by the company with respect thereto. By continuing with the lesson, the trainee agrees implicitly with the statements prior.</p>"
   ]
  },
  {
   "cell_type": "code",
   "execution_count": null,
   "metadata": {},
   "outputs": [],
   "source": []
  }
 ],
 "metadata": {
  "kernelspec": {
   "display_name": "Python 3",
   "language": "python",
   "name": "python3"
  },
  "language_info": {
   "codemirror_mode": {
    "name": "ipython",
    "version": 3
   },
   "file_extension": ".py",
   "mimetype": "text/x-python",
   "name": "python",
   "nbconvert_exporter": "python",
   "pygments_lexer": "ipython3",
   "version": "3.6.8"
  }
 },
 "nbformat": 4,
 "nbformat_minor": 2
}
