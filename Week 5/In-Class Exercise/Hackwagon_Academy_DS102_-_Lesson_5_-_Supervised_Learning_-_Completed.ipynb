{
 "cells": [
  {
   "cell_type": "markdown",
   "metadata": {},
   "source": [
    "<center><img src=\"https://i2.wp.com/hackwagon.com/wp-content/uploads/2017/02/Logo-Web-Export.png?ssl=1\" width=200/></center>\n",
    "<h1> Hackwagon Academy DS102 Lesson 5 </h1>\n",
    "<h2> Linear Regression </h2> \n",
    "<h3> Lesson Outline </h3>\n",
    "\n",
    "- 1. [Scikit Learn - SKLearn](#1)\n",
    "    - 1.1 [5 Standard Steps](#1.1)\n",
    "- 2. [Simple Linear Regression](#2)\n",
    "    - 2.1 [Example - Housing Prices](#2.1)\n",
    "    - [Practice I](#P1)\n",
    "- 3. [Multivariate Linear Regression](#3)\n",
    "    - 1.1 [Example - Housing Prices](#3.1)\n",
    "    - [Practice II](#P2)"
   ]
  },
  {
   "cell_type": "code",
   "execution_count": null,
   "metadata": {},
   "outputs": [],
   "source": [
    "!pip install sklearn"
   ]
  },
  {
   "cell_type": "markdown",
   "metadata": {},
   "source": [
    "<hr/>\n",
    "\n",
    "<a id='1'><h2><img src=\"https://images.vexels.com/media/users/3/153978/isolated/preview/483ef8b10a46e28d02293a31570c8c56-warning-sign-colored-stroke-icon-by-vexels.png\" width=23 align=\"left\"><font color=\"salmon\">&nbsp;1.</font><font color=\"salmon\"> Scikit Learn - SKLearn </font> </h2></a>\n",
    "\n",
    "<a id='1.1'><h3>5 Standard Steps</h3></a>\n",
    "\n",
    "**Step 1**: Choose a class of machine learning model from the library \n",
    "\n",
    "**Step 2**: Choose the model’s hyperparameters by instantiating with desired values (tuning)\n",
    "\n",
    "**Step 3**: Arrange data into features and target\n",
    "\n",
    "**Step 4**: Fit model to your data by using the fit() method of the model \n",
    "\n",
    "**Step 5**: Apply the model to new data:\n",
    "    - For supervised learning, using the predict() method\n",
    "    - For unsupervised learning, using the predict() or transform() method"
   ]
  },
  {
   "cell_type": "code",
   "execution_count": 1,
   "metadata": {},
   "outputs": [],
   "source": [
    "import numpy as np\n",
    "from sklearn import datasets, linear_model\n",
    "\n",
    "# Load the diabetes dataset\n",
    "diabetes = datasets.load_diabetes()\n",
    "\n",
    "# ----- STEP 1 & 2 ----- \n",
    "# Create linear regression object\n",
    "regr = linear_model.LinearRegression()\n",
    "\n",
    "#  ----- STEP 3 -----\n",
    "# Use only one feature\n",
    "diabetes_X = diabetes.data[:, np.newaxis, 2]\n",
    "\n",
    "# Split the data into training/testing sets\n",
    "diabetes_X_train = diabetes_X[:-20]\n",
    "diabetes_X_test = diabetes_X[-20:]\n",
    "\n",
    "# Split the targets into training/testing sets\n",
    "diabetes_y_train = diabetes.target[:-20]\n",
    "diabetes_y_test = diabetes.target[-20:]\n",
    "\n",
    "# ----- STEP 4 -----\n",
    "# Train the model using the training sets\n",
    "regr.fit(diabetes_X_train, diabetes_y_train)\n",
    "\n",
    "# ----- STEP 5 -----\n",
    "# Make predictions using the testing set\n",
    "diabetes_y_pred = regr.predict(diabetes_X_test)"
   ]
  },
  {
   "cell_type": "markdown",
   "metadata": {},
   "source": [
    "\n",
    "<a id='2'><h2><img src=\"https://images.vexels.com/media/users/3/153978/isolated/preview/483ef8b10a46e28d02293a31570c8c56-warning-sign-colored-stroke-icon-by-vexels.png\" width=23 align=\"left\"><font color=\"salmon\">&nbsp;2.</font><font color=\"salmon\"> Simple Linear Regression </font> </h2></a>\n",
    "\n",
    "<a id='2.1'><h3>2.1 Example - Tips </h3></a>\n",
    "\n"
   ]
  },
  {
   "cell_type": "code",
   "execution_count": 2,
   "metadata": {},
   "outputs": [
    {
     "data": {
      "text/html": [
       "<div>\n",
       "<style scoped>\n",
       "    .dataframe tbody tr th:only-of-type {\n",
       "        vertical-align: middle;\n",
       "    }\n",
       "\n",
       "    .dataframe tbody tr th {\n",
       "        vertical-align: top;\n",
       "    }\n",
       "\n",
       "    .dataframe thead th {\n",
       "        text-align: right;\n",
       "    }\n",
       "</style>\n",
       "<table border=\"1\" class=\"dataframe\">\n",
       "  <thead>\n",
       "    <tr style=\"text-align: right;\">\n",
       "      <th></th>\n",
       "      <th>ID</th>\n",
       "      <th>Tips</th>\n",
       "      <th>Meal</th>\n",
       "    </tr>\n",
       "  </thead>\n",
       "  <tbody>\n",
       "    <tr>\n",
       "      <th>0</th>\n",
       "      <td>1</td>\n",
       "      <td>10</td>\n",
       "      <td>80</td>\n",
       "    </tr>\n",
       "    <tr>\n",
       "      <th>1</th>\n",
       "      <td>2</td>\n",
       "      <td>25</td>\n",
       "      <td>150</td>\n",
       "    </tr>\n",
       "    <tr>\n",
       "      <th>2</th>\n",
       "      <td>3</td>\n",
       "      <td>12</td>\n",
       "      <td>75</td>\n",
       "    </tr>\n",
       "    <tr>\n",
       "      <th>3</th>\n",
       "      <td>4</td>\n",
       "      <td>8</td>\n",
       "      <td>60</td>\n",
       "    </tr>\n",
       "    <tr>\n",
       "      <th>4</th>\n",
       "      <td>5</td>\n",
       "      <td>15</td>\n",
       "      <td>100</td>\n",
       "    </tr>\n",
       "    <tr>\n",
       "      <th>5</th>\n",
       "      <td>6</td>\n",
       "      <td>20</td>\n",
       "      <td>150</td>\n",
       "    </tr>\n",
       "  </tbody>\n",
       "</table>\n",
       "</div>"
      ],
      "text/plain": [
       "   ID  Tips  Meal\n",
       "0   1    10    80\n",
       "1   2    25   150\n",
       "2   3    12    75\n",
       "3   4     8    60\n",
       "4   5    15   100\n",
       "5   6    20   150"
      ]
     },
     "execution_count": 2,
     "metadata": {},
     "output_type": "execute_result"
    }
   ],
   "source": [
    "import pandas as pd\n",
    "\n",
    "data = { \n",
    "    'ID': [1,2,3,4,5,6],\n",
    "    'Tips': [10, 25, 12, 8, 15, 20],\n",
    "    'Meal': [80, 150, 75, 60, 100, 150]\n",
    "}\n",
    "\n",
    "tips_df = pd.DataFrame(data)\n",
    "tips_df"
   ]
  },
  {
   "cell_type": "code",
   "execution_count": 3,
   "metadata": {},
   "outputs": [
    {
     "data": {
      "text/plain": [
       "LinearRegression(copy_X=True, fit_intercept=True, n_jobs=1, normalize=False)"
      ]
     },
     "execution_count": 3,
     "metadata": {},
     "output_type": "execute_result"
    }
   ],
   "source": [
    "from sklearn import datasets, linear_model\n",
    "\n",
    "# Step 1 & 2\n",
    "regr = linear_model.LinearRegression()\n",
    "\n",
    "# Step 3\n",
    "X = tips_df[['Meal']] # << Must use 2 square brackets\n",
    "y = tips_df[['Tips']] # << Must use 2 square brackets\n",
    "\n",
    "# Step 4\n",
    "regr.fit(X,y)"
   ]
  },
  {
   "cell_type": "markdown",
   "metadata": {},
   "source": [
    "Step 5 is in another cell because the model has been trained, there is not need to keep re-training the model again and again."
   ]
  },
  {
   "cell_type": "code",
   "execution_count": 4,
   "metadata": {},
   "outputs": [
    {
     "data": {
      "text/plain": [
       "array([[0.30971993]])"
      ]
     },
     "execution_count": 4,
     "metadata": {},
     "output_type": "execute_result"
    }
   ],
   "source": [
    "# Step 5 \n",
    "# Predicting Meal of $10 \n",
    "regr.predict([[10]]) # < Note that it's a list of lists"
   ]
  },
  {
   "cell_type": "code",
   "execution_count": 5,
   "metadata": {},
   "outputs": [
    {
     "name": "stdout",
     "output_type": "stream",
     "text": [
      "[[0.15881384]]\n",
      "[-1.27841845]\n"
     ]
    }
   ],
   "source": [
    "print(regr.coef_)\n",
    "print(regr.intercept_)\n",
    "\n",
    "#  Tips = -1.27  + 0.158 (Meal)\n",
    "# With every $1 increase in meal, tips would increase by $0.15"
   ]
  },
  {
   "cell_type": "markdown",
   "metadata": {},
   "source": [
    "### Housing Prices\n",
    "\n",
    "Filter to just two columns, where the predictor variable is `sqft_living` and the target variable `price`.  "
   ]
  },
  {
   "cell_type": "code",
   "execution_count": 6,
   "metadata": {},
   "outputs": [],
   "source": [
    "housing_x = pd.read_csv('housing_x.csv')\n",
    "price = pd.read_csv('housing_y.csv')"
   ]
  },
  {
   "cell_type": "markdown",
   "metadata": {},
   "source": [
    "### Train Test Split\n",
    "\n",
    "Filter to just to the `RunTime` and `Performance` as a DataFrame, `rt_perf_df`. Conduct `train_test_split()` to get the four splits of data. "
   ]
  },
  {
   "cell_type": "code",
   "execution_count": 9,
   "metadata": {},
   "outputs": [],
   "source": [
    "from sklearn.model_selection import train_test_split\n",
    "sqft_living = housing_x[['sqft_living']] # << must be a DataFrame (NOT housing['sqft_living'])\n",
    "\n",
    "X_train, X_test, y_train, y_test = train_test_split(sqft_living, price, random_state=42)"
   ]
  },
  {
   "cell_type": "markdown",
   "metadata": {},
   "source": [
    "### Fit Model\n",
    "\n",
    "Using the trained datasets, train the model."
   ]
  },
  {
   "cell_type": "code",
   "execution_count": 10,
   "metadata": {},
   "outputs": [
    {
     "data": {
      "text/plain": [
       "LinearRegression(copy_X=True, fit_intercept=True, n_jobs=1, normalize=False)"
      ]
     },
     "execution_count": 10,
     "metadata": {},
     "output_type": "execute_result"
    }
   ],
   "source": [
    "simple_housing_lr = linear_model.LinearRegression()\n",
    "\n",
    "simple_housing_lr.fit(X_train, y_train)"
   ]
  },
  {
   "cell_type": "markdown",
   "metadata": {},
   "source": [
    "### Interpret\n",
    "\n",
    "With the fitted model, interpret and create the linear equation of the model. "
   ]
  },
  {
   "cell_type": "code",
   "execution_count": 11,
   "metadata": {
    "scrolled": true
   },
   "outputs": [
    {
     "name": "stdout",
     "output_type": "stream",
     "text": [
      "[[276.61559523]]\n",
      "[-34785.44388888]\n"
     ]
    }
   ],
   "source": [
    "print(simple_housing_lr.coef_)\n",
    "print(simple_housing_lr.intercept_)\n",
    "\n",
    "# price = -34785.44 + 276.6(Sqft_living)\n",
    "# For every increase in SQFT_Living, price of the house increases by $276.6 "
   ]
  },
  {
   "cell_type": "markdown",
   "metadata": {},
   "source": [
    "### Predict \n",
    "\n",
    "Using `.predict()`, predict with a custom square-feet."
   ]
  },
  {
   "cell_type": "code",
   "execution_count": 12,
   "metadata": {},
   "outputs": [
    {
     "data": {
      "text/plain": [
       "array([[2731370.50837813]])"
      ]
     },
     "execution_count": 12,
     "metadata": {},
     "output_type": "execute_result"
    }
   ],
   "source": [
    "custom_sqft = 10000\n",
    "\n",
    "simple_housing_lr.predict([[custom_sqft]]) # IMPORTANT - It's a nested list "
   ]
  },
  {
   "cell_type": "markdown",
   "metadata": {},
   "source": [
    "### Assess Performance of Model\n",
    "\n",
    "Using `r2_score` calculate the R-squared score of the model."
   ]
  },
  {
   "cell_type": "code",
   "execution_count": 13,
   "metadata": {},
   "outputs": [
    {
     "name": "stdout",
     "output_type": "stream",
     "text": [
      "0.49434750583619946\n"
     ]
    }
   ],
   "source": [
    "from sklearn.metrics import r2_score \n",
    "fitted_values = simple_housing_lr.predict(X_test)\n",
    "\n",
    "print(r2_score(y_test, fitted_values))"
   ]
  },
  {
   "cell_type": "markdown",
   "metadata": {},
   "source": [
    "<a id='P1'><h2> <img src=\"https://cdn.shopify.com/s/files/1/1200/7374/products/book_aec28e76-52ec-44ab-bc01-41df1279c89f_550x825.png?v=1473897430\" width=25 align=\"left\"> <font color=\"darkorange\"> &nbsp; Practice I </font><font color=\"skyblue\"> * </font></h2></a>\n",
    "\n",
    "### Fitness Dataset\n",
    "\n",
    "Based on this fitness dataset, predict the `RunTime` based on the following predictors:\n",
    "\n",
    "1. Performance\n",
    "\n",
    "### Read  Dataset\n",
    "\n",
    "Read the `fitness-data.csv` as `fit_df`. "
   ]
  },
  {
   "cell_type": "code",
   "execution_count": 14,
   "metadata": {},
   "outputs": [
    {
     "data": {
      "text/html": [
       "<div>\n",
       "<style scoped>\n",
       "    .dataframe tbody tr th:only-of-type {\n",
       "        vertical-align: middle;\n",
       "    }\n",
       "\n",
       "    .dataframe tbody tr th {\n",
       "        vertical-align: top;\n",
       "    }\n",
       "\n",
       "    .dataframe thead th {\n",
       "        text-align: right;\n",
       "    }\n",
       "</style>\n",
       "<table border=\"1\" class=\"dataframe\">\n",
       "  <thead>\n",
       "    <tr style=\"text-align: right;\">\n",
       "      <th></th>\n",
       "      <th>Name</th>\n",
       "      <th>Gender</th>\n",
       "      <th>RunTime</th>\n",
       "      <th>Age</th>\n",
       "      <th>Weight</th>\n",
       "      <th>Oxygen_Consumption</th>\n",
       "      <th>Run_Pulse</th>\n",
       "      <th>Rest_Pulse</th>\n",
       "      <th>Maximum_Pulse</th>\n",
       "      <th>Performance</th>\n",
       "    </tr>\n",
       "  </thead>\n",
       "  <tbody>\n",
       "    <tr>\n",
       "      <th>0</th>\n",
       "      <td>Donna</td>\n",
       "      <td>F</td>\n",
       "      <td>8.17</td>\n",
       "      <td>42.0</td>\n",
       "      <td>68.15</td>\n",
       "      <td>59.57</td>\n",
       "      <td>166.0</td>\n",
       "      <td>40.0</td>\n",
       "      <td>172.0</td>\n",
       "      <td>90.0</td>\n",
       "    </tr>\n",
       "    <tr>\n",
       "      <th>1</th>\n",
       "      <td>Gracie</td>\n",
       "      <td>F</td>\n",
       "      <td>8.63</td>\n",
       "      <td>38.0</td>\n",
       "      <td>81.87</td>\n",
       "      <td>60.06</td>\n",
       "      <td>170.0</td>\n",
       "      <td>48.0</td>\n",
       "      <td>186.0</td>\n",
       "      <td>94.0</td>\n",
       "    </tr>\n",
       "    <tr>\n",
       "      <th>2</th>\n",
       "      <td>Luanne</td>\n",
       "      <td>F</td>\n",
       "      <td>8.65</td>\n",
       "      <td>43.0</td>\n",
       "      <td>85.84</td>\n",
       "      <td>54.30</td>\n",
       "      <td>156.0</td>\n",
       "      <td>45.0</td>\n",
       "      <td>168.0</td>\n",
       "      <td>83.0</td>\n",
       "    </tr>\n",
       "    <tr>\n",
       "      <th>3</th>\n",
       "      <td>Mimi</td>\n",
       "      <td>F</td>\n",
       "      <td>8.92</td>\n",
       "      <td>50.0</td>\n",
       "      <td>70.87</td>\n",
       "      <td>54.63</td>\n",
       "      <td>146.0</td>\n",
       "      <td>48.0</td>\n",
       "      <td>155.0</td>\n",
       "      <td>67.0</td>\n",
       "    </tr>\n",
       "    <tr>\n",
       "      <th>4</th>\n",
       "      <td>Chris</td>\n",
       "      <td>M</td>\n",
       "      <td>8.95</td>\n",
       "      <td>49.0</td>\n",
       "      <td>81.42</td>\n",
       "      <td>49.16</td>\n",
       "      <td>180.0</td>\n",
       "      <td>44.0</td>\n",
       "      <td>185.0</td>\n",
       "      <td>72.0</td>\n",
       "    </tr>\n",
       "  </tbody>\n",
       "</table>\n",
       "</div>"
      ],
      "text/plain": [
       "     Name Gender  RunTime   Age  Weight  Oxygen_Consumption  Run_Pulse  \\\n",
       "0   Donna      F     8.17  42.0   68.15               59.57      166.0   \n",
       "1  Gracie      F     8.63  38.0   81.87               60.06      170.0   \n",
       "2  Luanne      F     8.65  43.0   85.84               54.30      156.0   \n",
       "3    Mimi      F     8.92  50.0   70.87               54.63      146.0   \n",
       "4   Chris      M     8.95  49.0   81.42               49.16      180.0   \n",
       "\n",
       "   Rest_Pulse  Maximum_Pulse  Performance  \n",
       "0        40.0          172.0         90.0  \n",
       "1        48.0          186.0         94.0  \n",
       "2        45.0          168.0         83.0  \n",
       "3        48.0          155.0         67.0  \n",
       "4        44.0          185.0         72.0  "
      ]
     },
     "execution_count": 14,
     "metadata": {},
     "output_type": "execute_result"
    }
   ],
   "source": [
    "fit_df = pd.read_csv('fitness-data.csv')\n",
    "fit_df.head()"
   ]
  },
  {
   "cell_type": "markdown",
   "metadata": {},
   "source": [
    "### Train Test Split\n",
    "\n",
    "Filter to just to the `RunTime` and `Performance` as a DataFrame, `rt_perf_df`. Conduct `train_test_split()` to get the four splits of data. "
   ]
  },
  {
   "cell_type": "code",
   "execution_count": 15,
   "metadata": {},
   "outputs": [],
   "source": [
    "runtime_df = fit_df[['RunTime']]\n",
    "performance_df = fit_df[['Run_Pulse']]\n",
    "\n",
    "X_train, X_test, y_train, y_test = train_test_split(performance_df, runtime_df, random_state=42)"
   ]
  },
  {
   "cell_type": "markdown",
   "metadata": {},
   "source": [
    "### Fit Model\n",
    "\n",
    "Create a LinearRegression variable, named  `simple_performance_lr`. Using the trained datasets, train the model."
   ]
  },
  {
   "cell_type": "code",
   "execution_count": 16,
   "metadata": {},
   "outputs": [
    {
     "data": {
      "text/plain": [
       "LinearRegression(copy_X=True, fit_intercept=True, n_jobs=1, normalize=False)"
      ]
     },
     "execution_count": 16,
     "metadata": {},
     "output_type": "execute_result"
    }
   ],
   "source": [
    "simple_performance_lr = linear_model.LinearRegression()\n",
    "simple_performance_lr.fit(X_train, y_train)"
   ]
  },
  {
   "cell_type": "markdown",
   "metadata": {},
   "source": [
    "### Interpret\n",
    "\n",
    "With the fitted model, interpret and create the linear equation of the model. "
   ]
  },
  {
   "cell_type": "code",
   "execution_count": 17,
   "metadata": {},
   "outputs": [
    {
     "name": "stdout",
     "output_type": "stream",
     "text": [
      "[[0.0416063]]\n",
      "[3.30945214]\n"
     ]
    }
   ],
   "source": [
    "print(simple_performance_lr.coef_)\n",
    "print(simple_performance_lr.intercept_)\n",
    "\n",
    "# RunTime = 3.309 + 0.04(Run Pulse)\n",
    "# For every 1 increase in Run Pulse, run time increase by 0.04 minutes"
   ]
  },
  {
   "cell_type": "markdown",
   "metadata": {},
   "source": [
    "### Predict \n",
    "\n",
    "Using `.predict()`, predict with custom values. "
   ]
  },
  {
   "cell_type": "code",
   "execution_count": 18,
   "metadata": {},
   "outputs": [
    {
     "data": {
      "text/plain": [
       "array([[9.96646011]])"
      ]
     },
     "execution_count": 18,
     "metadata": {},
     "output_type": "execute_result"
    }
   ],
   "source": [
    "custom_pulse = 160\n",
    "\n",
    "simple_performance_lr.predict([[custom_pulse]])"
   ]
  },
  {
   "cell_type": "markdown",
   "metadata": {},
   "source": [
    "### Assess Performance of Model\n",
    "\n",
    "Using `r2_score` calculate the R-squared score of the model."
   ]
  },
  {
   "cell_type": "code",
   "execution_count": 19,
   "metadata": {},
   "outputs": [
    {
     "name": "stdout",
     "output_type": "stream",
     "text": [
      "-0.37580118367816695\n"
     ]
    }
   ],
   "source": [
    "from sklearn.metrics import r2_score \n",
    "fitted_values = simple_performance_lr.predict(X_test)\n",
    "\n",
    "print(r2_score(y_test, fitted_values))"
   ]
  },
  {
   "cell_type": "markdown",
   "metadata": {},
   "source": [
    "\n",
    "<a id='3'><h2><img src=\"https://images.vexels.com/media/users/3/153978/isolated/preview/483ef8b10a46e28d02293a31570c8c56-warning-sign-colored-stroke-icon-by-vexels.png\" width=23 align=\"left\"><font color=\"salmon\">&nbsp;3.</font><font color=\"salmon\"> Multivariate Linear Regression </font> </h2></a>\n",
    "\n",
    "<a id='3.1'><h3>3.1 Example - Housing Prices  </h3></a>\n",
    "\n",
    "This time, we'll apply more variables to the model and drop variables where necessary."
   ]
  },
  {
   "cell_type": "code",
   "execution_count": 21,
   "metadata": {},
   "outputs": [
    {
     "data": {
      "text/html": [
       "<div>\n",
       "<style scoped>\n",
       "    .dataframe tbody tr th:only-of-type {\n",
       "        vertical-align: middle;\n",
       "    }\n",
       "\n",
       "    .dataframe tbody tr th {\n",
       "        vertical-align: top;\n",
       "    }\n",
       "\n",
       "    .dataframe thead th {\n",
       "        text-align: right;\n",
       "    }\n",
       "</style>\n",
       "<table border=\"1\" class=\"dataframe\">\n",
       "  <thead>\n",
       "    <tr style=\"text-align: right;\">\n",
       "      <th></th>\n",
       "      <th>sqft_living</th>\n",
       "      <th>sqm_living</th>\n",
       "      <th>floors</th>\n",
       "    </tr>\n",
       "  </thead>\n",
       "  <tbody>\n",
       "    <tr>\n",
       "      <th>0</th>\n",
       "      <td>3500</td>\n",
       "      <td>106.71</td>\n",
       "      <td>2.0</td>\n",
       "    </tr>\n",
       "    <tr>\n",
       "      <th>1</th>\n",
       "      <td>1180</td>\n",
       "      <td>35.98</td>\n",
       "      <td>1.0</td>\n",
       "    </tr>\n",
       "    <tr>\n",
       "      <th>2</th>\n",
       "      <td>1260</td>\n",
       "      <td>38.41</td>\n",
       "      <td>1.5</td>\n",
       "    </tr>\n",
       "    <tr>\n",
       "      <th>3</th>\n",
       "      <td>1520</td>\n",
       "      <td>46.34</td>\n",
       "      <td>1.0</td>\n",
       "    </tr>\n",
       "    <tr>\n",
       "      <th>4</th>\n",
       "      <td>1780</td>\n",
       "      <td>54.27</td>\n",
       "      <td>1.0</td>\n",
       "    </tr>\n",
       "  </tbody>\n",
       "</table>\n",
       "</div>"
      ],
      "text/plain": [
       "   sqft_living  sqm_living  floors\n",
       "0         3500      106.71     2.0\n",
       "1         1180       35.98     1.0\n",
       "2         1260       38.41     1.5\n",
       "3         1520       46.34     1.0\n",
       "4         1780       54.27     1.0"
      ]
     },
     "metadata": {},
     "output_type": "display_data"
    },
    {
     "data": {
      "text/html": [
       "<div>\n",
       "<style scoped>\n",
       "    .dataframe tbody tr th:only-of-type {\n",
       "        vertical-align: middle;\n",
       "    }\n",
       "\n",
       "    .dataframe tbody tr th {\n",
       "        vertical-align: top;\n",
       "    }\n",
       "\n",
       "    .dataframe thead th {\n",
       "        text-align: right;\n",
       "    }\n",
       "</style>\n",
       "<table border=\"1\" class=\"dataframe\">\n",
       "  <thead>\n",
       "    <tr style=\"text-align: right;\">\n",
       "      <th></th>\n",
       "      <th>price</th>\n",
       "    </tr>\n",
       "  </thead>\n",
       "  <tbody>\n",
       "    <tr>\n",
       "      <th>0</th>\n",
       "      <td>788600</td>\n",
       "    </tr>\n",
       "    <tr>\n",
       "      <th>1</th>\n",
       "      <td>600000</td>\n",
       "    </tr>\n",
       "    <tr>\n",
       "      <th>2</th>\n",
       "      <td>523000</td>\n",
       "    </tr>\n",
       "    <tr>\n",
       "      <th>3</th>\n",
       "      <td>415000</td>\n",
       "    </tr>\n",
       "    <tr>\n",
       "      <th>4</th>\n",
       "      <td>535000</td>\n",
       "    </tr>\n",
       "  </tbody>\n",
       "</table>\n",
       "</div>"
      ],
      "text/plain": [
       "    price\n",
       "0  788600\n",
       "1  600000\n",
       "2  523000\n",
       "3  415000\n",
       "4  535000"
      ]
     },
     "metadata": {},
     "output_type": "display_data"
    }
   ],
   "source": [
    "# Read from CSV the following files: KX_train, KX_test, Ky_train, Ky_test\n",
    "x_all = pd.read_csv('housing_x.csv')\n",
    "y_all = pd.read_csv('housing_y.csv')\n",
    "display(x_all.head())\n",
    "display(y_all.head())"
   ]
  },
  {
   "cell_type": "markdown",
   "metadata": {},
   "source": [
    "### Feature Selection\n",
    "\n",
    "Detect for multicollinearity and drop variables where necessary by using `.corr()`."
   ]
  },
  {
   "cell_type": "code",
   "execution_count": 22,
   "metadata": {},
   "outputs": [
    {
     "data": {
      "text/html": [
       "<div>\n",
       "<style scoped>\n",
       "    .dataframe tbody tr th:only-of-type {\n",
       "        vertical-align: middle;\n",
       "    }\n",
       "\n",
       "    .dataframe tbody tr th {\n",
       "        vertical-align: top;\n",
       "    }\n",
       "\n",
       "    .dataframe thead th {\n",
       "        text-align: right;\n",
       "    }\n",
       "</style>\n",
       "<table border=\"1\" class=\"dataframe\">\n",
       "  <thead>\n",
       "    <tr style=\"text-align: right;\">\n",
       "      <th></th>\n",
       "      <th>sqft_living</th>\n",
       "      <th>sqm_living</th>\n",
       "      <th>floors</th>\n",
       "    </tr>\n",
       "  </thead>\n",
       "  <tbody>\n",
       "    <tr>\n",
       "      <th>sqft_living</th>\n",
       "      <td>1.000000</td>\n",
       "      <td>1.000000</td>\n",
       "      <td>0.348178</td>\n",
       "    </tr>\n",
       "    <tr>\n",
       "      <th>sqm_living</th>\n",
       "      <td>1.000000</td>\n",
       "      <td>1.000000</td>\n",
       "      <td>0.348179</td>\n",
       "    </tr>\n",
       "    <tr>\n",
       "      <th>floors</th>\n",
       "      <td>0.348178</td>\n",
       "      <td>0.348179</td>\n",
       "      <td>1.000000</td>\n",
       "    </tr>\n",
       "  </tbody>\n",
       "</table>\n",
       "</div>"
      ],
      "text/plain": [
       "             sqft_living  sqm_living    floors\n",
       "sqft_living     1.000000    1.000000  0.348178\n",
       "sqm_living      1.000000    1.000000  0.348179\n",
       "floors          0.348178    0.348179  1.000000"
      ]
     },
     "execution_count": 22,
     "metadata": {},
     "output_type": "execute_result"
    }
   ],
   "source": [
    "x_all.corr()"
   ]
  },
  {
   "cell_type": "markdown",
   "metadata": {},
   "source": [
    "### Train Test Split\n",
    "\n",
    "Drop and filter to the valid predictors in the model as a DataFrame, `housing_df`. Conduct `train_test_split()` to get the four splits of data. "
   ]
  },
  {
   "cell_type": "code",
   "execution_count": 23,
   "metadata": {},
   "outputs": [],
   "source": [
    "from sklearn.model_selection import train_test_split\n",
    "# Since either SQFT or SQM are highly correlated, drop either one\n",
    "\n",
    "housing_x = x_all[['sqft_living', 'floors']]\n",
    "\n",
    "X_train, X_test, y_train, y_test = train_test_split(housing_x, y_all, random_state=42)"
   ]
  },
  {
   "cell_type": "markdown",
   "metadata": {},
   "source": [
    "### Fit Model\n",
    "\n",
    "Create a LinearRegression variable, `multi_housing_lr`. With the train dataframes, use `.fit()` to train the model."
   ]
  },
  {
   "cell_type": "code",
   "execution_count": 24,
   "metadata": {},
   "outputs": [
    {
     "data": {
      "text/plain": [
       "LinearRegression(copy_X=True, fit_intercept=True, n_jobs=1, normalize=False)"
      ]
     },
     "execution_count": 24,
     "metadata": {},
     "output_type": "execute_result"
    }
   ],
   "source": [
    "multi_housing_lr = linear_model.LinearRegression()\n",
    "\n",
    "multi_housing_lr.fit(X_train, y_train)"
   ]
  },
  {
   "cell_type": "markdown",
   "metadata": {},
   "source": [
    "### Interpret\n",
    "\n",
    "With the fitted model, interpret and create the linear equation of the model. "
   ]
  },
  {
   "cell_type": "code",
   "execution_count": 25,
   "metadata": {},
   "outputs": [
    {
     "name": "stdout",
     "output_type": "stream",
     "text": [
      "[[  274.0203467  12566.86687756]]\n",
      "[-48237.31783364]\n"
     ]
    }
   ],
   "source": [
    "print(multi_housing_lr.coef_)\n",
    "print(multi_housing_lr.intercept_)\n",
    "\n",
    "# Housing Price = -48237.317 + 274 (SQFT_Living) + 12566.866 (Floors)"
   ]
  },
  {
   "cell_type": "markdown",
   "metadata": {},
   "source": [
    "### Assess Performance of Model\n",
    "\n",
    "Using `r2_score` calculate the R-squared score of the model."
   ]
  },
  {
   "cell_type": "code",
   "execution_count": 26,
   "metadata": {},
   "outputs": [
    {
     "name": "stdout",
     "output_type": "stream",
     "text": [
      "0.4947420580577476\n"
     ]
    }
   ],
   "source": [
    "from sklearn.metrics import r2_score \n",
    "fitted_values = multi_housing_lr.predict(X_test)\n",
    "\n",
    "print(r2_score(y_test, fitted_values))"
   ]
  },
  {
   "cell_type": "markdown",
   "metadata": {},
   "source": [
    "<a id='P2'><h2> <img src=\"https://cdn.shopify.com/s/files/1/1200/7374/products/book_aec28e76-52ec-44ab-bc01-41df1279c89f_550x825.png?v=1473897430\" width=25 align=\"left\"> <font color=\"darkorange\"> &nbsp; Practice II </font><font color=\"skyblue\"> * </font></h2></a>\n",
    "\n",
    "### Fitness Dataset\n",
    "\n",
    "Based on this fitness dataset, predict the `RunTime` based on the following predictors:\n",
    "\n",
    "1. Age\n",
    "2. Weight\n",
    "3. Oxygen_Consumption\n",
    "4. Run_Pulse\n",
    "5. Rest_Pulse\n",
    "6. Maximum_Pulse\n",
    "7. Performance\n",
    "\n",
    "### Read "
   ]
  },
  {
   "cell_type": "code",
   "execution_count": 27,
   "metadata": {},
   "outputs": [
    {
     "data": {
      "text/html": [
       "<div>\n",
       "<style scoped>\n",
       "    .dataframe tbody tr th:only-of-type {\n",
       "        vertical-align: middle;\n",
       "    }\n",
       "\n",
       "    .dataframe tbody tr th {\n",
       "        vertical-align: top;\n",
       "    }\n",
       "\n",
       "    .dataframe thead th {\n",
       "        text-align: right;\n",
       "    }\n",
       "</style>\n",
       "<table border=\"1\" class=\"dataframe\">\n",
       "  <thead>\n",
       "    <tr style=\"text-align: right;\">\n",
       "      <th></th>\n",
       "      <th>Name</th>\n",
       "      <th>Gender</th>\n",
       "      <th>RunTime</th>\n",
       "      <th>Age</th>\n",
       "      <th>Weight</th>\n",
       "      <th>Oxygen_Consumption</th>\n",
       "      <th>Run_Pulse</th>\n",
       "      <th>Rest_Pulse</th>\n",
       "      <th>Maximum_Pulse</th>\n",
       "      <th>Performance</th>\n",
       "    </tr>\n",
       "  </thead>\n",
       "  <tbody>\n",
       "    <tr>\n",
       "      <th>0</th>\n",
       "      <td>Donna</td>\n",
       "      <td>F</td>\n",
       "      <td>8.17</td>\n",
       "      <td>42.0</td>\n",
       "      <td>68.15</td>\n",
       "      <td>59.57</td>\n",
       "      <td>166.0</td>\n",
       "      <td>40.0</td>\n",
       "      <td>172.0</td>\n",
       "      <td>90.0</td>\n",
       "    </tr>\n",
       "    <tr>\n",
       "      <th>1</th>\n",
       "      <td>Gracie</td>\n",
       "      <td>F</td>\n",
       "      <td>8.63</td>\n",
       "      <td>38.0</td>\n",
       "      <td>81.87</td>\n",
       "      <td>60.06</td>\n",
       "      <td>170.0</td>\n",
       "      <td>48.0</td>\n",
       "      <td>186.0</td>\n",
       "      <td>94.0</td>\n",
       "    </tr>\n",
       "    <tr>\n",
       "      <th>2</th>\n",
       "      <td>Luanne</td>\n",
       "      <td>F</td>\n",
       "      <td>8.65</td>\n",
       "      <td>43.0</td>\n",
       "      <td>85.84</td>\n",
       "      <td>54.30</td>\n",
       "      <td>156.0</td>\n",
       "      <td>45.0</td>\n",
       "      <td>168.0</td>\n",
       "      <td>83.0</td>\n",
       "    </tr>\n",
       "    <tr>\n",
       "      <th>3</th>\n",
       "      <td>Mimi</td>\n",
       "      <td>F</td>\n",
       "      <td>8.92</td>\n",
       "      <td>50.0</td>\n",
       "      <td>70.87</td>\n",
       "      <td>54.63</td>\n",
       "      <td>146.0</td>\n",
       "      <td>48.0</td>\n",
       "      <td>155.0</td>\n",
       "      <td>67.0</td>\n",
       "    </tr>\n",
       "    <tr>\n",
       "      <th>4</th>\n",
       "      <td>Chris</td>\n",
       "      <td>M</td>\n",
       "      <td>8.95</td>\n",
       "      <td>49.0</td>\n",
       "      <td>81.42</td>\n",
       "      <td>49.16</td>\n",
       "      <td>180.0</td>\n",
       "      <td>44.0</td>\n",
       "      <td>185.0</td>\n",
       "      <td>72.0</td>\n",
       "    </tr>\n",
       "  </tbody>\n",
       "</table>\n",
       "</div>"
      ],
      "text/plain": [
       "     Name Gender  RunTime   Age  Weight  Oxygen_Consumption  Run_Pulse  \\\n",
       "0   Donna      F     8.17  42.0   68.15               59.57      166.0   \n",
       "1  Gracie      F     8.63  38.0   81.87               60.06      170.0   \n",
       "2  Luanne      F     8.65  43.0   85.84               54.30      156.0   \n",
       "3    Mimi      F     8.92  50.0   70.87               54.63      146.0   \n",
       "4   Chris      M     8.95  49.0   81.42               49.16      180.0   \n",
       "\n",
       "   Rest_Pulse  Maximum_Pulse  Performance  \n",
       "0        40.0          172.0         90.0  \n",
       "1        48.0          186.0         94.0  \n",
       "2        45.0          168.0         83.0  \n",
       "3        48.0          155.0         67.0  \n",
       "4        44.0          185.0         72.0  "
      ]
     },
     "execution_count": 27,
     "metadata": {},
     "output_type": "execute_result"
    }
   ],
   "source": [
    "fit_df = pd.read_csv('fitness-data.csv')\n",
    "fit_df.head()"
   ]
  },
  {
   "cell_type": "markdown",
   "metadata": {},
   "source": [
    "### Feature Selection\n",
    "\n",
    "With the variables above, detect for multicollinearity and drop variables where necessary by using `.corr()`."
   ]
  },
  {
   "cell_type": "code",
   "execution_count": 28,
   "metadata": {},
   "outputs": [
    {
     "data": {
      "text/html": [
       "<div>\n",
       "<style scoped>\n",
       "    .dataframe tbody tr th:only-of-type {\n",
       "        vertical-align: middle;\n",
       "    }\n",
       "\n",
       "    .dataframe tbody tr th {\n",
       "        vertical-align: top;\n",
       "    }\n",
       "\n",
       "    .dataframe thead th {\n",
       "        text-align: right;\n",
       "    }\n",
       "</style>\n",
       "<table border=\"1\" class=\"dataframe\">\n",
       "  <thead>\n",
       "    <tr style=\"text-align: right;\">\n",
       "      <th></th>\n",
       "      <th>Age</th>\n",
       "      <th>Weight</th>\n",
       "      <th>Oxygen_Consumption</th>\n",
       "      <th>Run_Pulse</th>\n",
       "      <th>Rest_Pulse</th>\n",
       "      <th>Maximum_Pulse</th>\n",
       "      <th>Performance</th>\n",
       "    </tr>\n",
       "  </thead>\n",
       "  <tbody>\n",
       "    <tr>\n",
       "      <th>Age</th>\n",
       "      <td>1.000000</td>\n",
       "      <td>-0.240505</td>\n",
       "      <td>-0.311618</td>\n",
       "      <td>-0.316065</td>\n",
       "      <td>-0.150873</td>\n",
       "      <td>-0.414903</td>\n",
       "      <td>-0.712570</td>\n",
       "    </tr>\n",
       "    <tr>\n",
       "      <th>Weight</th>\n",
       "      <td>-0.240505</td>\n",
       "      <td>1.000000</td>\n",
       "      <td>-0.162891</td>\n",
       "      <td>0.181516</td>\n",
       "      <td>0.043974</td>\n",
       "      <td>0.249381</td>\n",
       "      <td>0.089741</td>\n",
       "    </tr>\n",
       "    <tr>\n",
       "      <th>Oxygen_Consumption</th>\n",
       "      <td>-0.311618</td>\n",
       "      <td>-0.162891</td>\n",
       "      <td>1.000000</td>\n",
       "      <td>-0.398080</td>\n",
       "      <td>-0.399348</td>\n",
       "      <td>-0.236767</td>\n",
       "      <td>0.778902</td>\n",
       "    </tr>\n",
       "    <tr>\n",
       "      <th>Run_Pulse</th>\n",
       "      <td>-0.316065</td>\n",
       "      <td>0.181516</td>\n",
       "      <td>-0.398080</td>\n",
       "      <td>1.000000</td>\n",
       "      <td>0.352461</td>\n",
       "      <td>0.929754</td>\n",
       "      <td>-0.029435</td>\n",
       "    </tr>\n",
       "    <tr>\n",
       "      <th>Rest_Pulse</th>\n",
       "      <td>-0.150873</td>\n",
       "      <td>0.043974</td>\n",
       "      <td>-0.399348</td>\n",
       "      <td>0.352461</td>\n",
       "      <td>1.000000</td>\n",
       "      <td>0.305124</td>\n",
       "      <td>-0.225600</td>\n",
       "    </tr>\n",
       "    <tr>\n",
       "      <th>Maximum_Pulse</th>\n",
       "      <td>-0.414903</td>\n",
       "      <td>0.249381</td>\n",
       "      <td>-0.236767</td>\n",
       "      <td>0.929754</td>\n",
       "      <td>0.305124</td>\n",
       "      <td>1.000000</td>\n",
       "      <td>0.090016</td>\n",
       "    </tr>\n",
       "    <tr>\n",
       "      <th>Performance</th>\n",
       "      <td>-0.712570</td>\n",
       "      <td>0.089741</td>\n",
       "      <td>0.778902</td>\n",
       "      <td>-0.029435</td>\n",
       "      <td>-0.225600</td>\n",
       "      <td>0.090016</td>\n",
       "      <td>1.000000</td>\n",
       "    </tr>\n",
       "  </tbody>\n",
       "</table>\n",
       "</div>"
      ],
      "text/plain": [
       "                         Age    Weight  Oxygen_Consumption  Run_Pulse  \\\n",
       "Age                 1.000000 -0.240505           -0.311618  -0.316065   \n",
       "Weight             -0.240505  1.000000           -0.162891   0.181516   \n",
       "Oxygen_Consumption -0.311618 -0.162891            1.000000  -0.398080   \n",
       "Run_Pulse          -0.316065  0.181516           -0.398080   1.000000   \n",
       "Rest_Pulse         -0.150873  0.043974           -0.399348   0.352461   \n",
       "Maximum_Pulse      -0.414903  0.249381           -0.236767   0.929754   \n",
       "Performance        -0.712570  0.089741            0.778902  -0.029435   \n",
       "\n",
       "                    Rest_Pulse  Maximum_Pulse  Performance  \n",
       "Age                  -0.150873      -0.414903    -0.712570  \n",
       "Weight                0.043974       0.249381     0.089741  \n",
       "Oxygen_Consumption   -0.399348      -0.236767     0.778902  \n",
       "Run_Pulse             0.352461       0.929754    -0.029435  \n",
       "Rest_Pulse            1.000000       0.305124    -0.225600  \n",
       "Maximum_Pulse         0.305124       1.000000     0.090016  \n",
       "Performance          -0.225600       0.090016     1.000000  "
      ]
     },
     "execution_count": 28,
     "metadata": {},
     "output_type": "execute_result"
    }
   ],
   "source": [
    "fit_df[['Age', 'Weight', 'Oxygen_Consumption', 'Run_Pulse', 'Rest_Pulse', 'Maximum_Pulse', 'Performance']].corr()"
   ]
  },
  {
   "cell_type": "markdown",
   "metadata": {},
   "source": [
    "### Train Test Split\n",
    "\n",
    "Based on the correlation matrix, fliter for the __valid__ predictor variables and do `train_test_split` with the target variable `RunTime`. "
   ]
  },
  {
   "cell_type": "code",
   "execution_count": 29,
   "metadata": {},
   "outputs": [],
   "source": [
    "# Should drop either Max Pulse or Run Pulse\n",
    "all_x = fit_df[['Age', 'Weight', 'Oxygen_Consumption', 'Run_Pulse', 'Rest_Pulse', 'Maximum_Pulse', 'Performance']]\n",
    "all_y = fit_df[['RunTime']]\n",
    "\n",
    "X_train, X_test, y_train, y_test = train_test_split(all_x, all_y, random_state=42)"
   ]
  },
  {
   "cell_type": "markdown",
   "metadata": {},
   "source": [
    "### Fit Model\n",
    "\n",
    "Using the train dataframes, create a LinearRegression variable called `multi_runtime_lr`. Use `.fit()`, train the model."
   ]
  },
  {
   "cell_type": "code",
   "execution_count": 30,
   "metadata": {},
   "outputs": [
    {
     "data": {
      "text/plain": [
       "LinearRegression(copy_X=True, fit_intercept=True, n_jobs=1, normalize=False)"
      ]
     },
     "execution_count": 30,
     "metadata": {},
     "output_type": "execute_result"
    }
   ],
   "source": [
    "multi_runtime_lr = linear_model.LinearRegression()\n",
    "\n",
    "multi_runtime_lr.fit(X_train, y_train)"
   ]
  },
  {
   "cell_type": "markdown",
   "metadata": {},
   "source": [
    "### Interpret\n",
    "\n",
    "With the fitted model, interpret and create the linear equation of the model. "
   ]
  },
  {
   "cell_type": "code",
   "execution_count": 31,
   "metadata": {},
   "outputs": [
    {
     "name": "stdout",
     "output_type": "stream",
     "text": [
      "[[-0.18353192  0.01424313 -0.01806247  0.00129823  0.00402354  0.00080929\n",
      "  -0.09518856]]\n",
      "[23.91333899]\n"
     ]
    }
   ],
   "source": [
    "print(multi_runtime_lr.coef_)\n",
    "print(multi_runtime_lr.intercept_)\n",
    "\n",
    "# Run Time = 23.9 - 0.18 (Age) + 0.014 (Weight) - 0.018 (Oxygen_Consumption) \n",
    "#            + 0.0012 (Run_Pulse) + 0.004 (Rest_Pulse) + 0.0008 (Max_pulse) \n",
    "#            - 0.09518 (Performance)"
   ]
  },
  {
   "cell_type": "markdown",
   "metadata": {},
   "source": [
    "### Assess Performance of Model\n",
    "\n",
    "Using `r2_score` calculate the R-squared score of the model."
   ]
  },
  {
   "cell_type": "code",
   "execution_count": 35,
   "metadata": {},
   "outputs": [
    {
     "name": "stdout",
     "output_type": "stream",
     "text": [
      "0.9784039385590093\n"
     ]
    }
   ],
   "source": [
    "from sklearn.metrics import r2_score \n",
    "fitted_values = multi_runtime_lr.predict(X_test)\n",
    "p = 7\n",
    "\n",
    "print(r2_score(y_test, fitted_values))"
   ]
  },
  {
   "cell_type": "code",
   "execution_count": null,
   "metadata": {},
   "outputs": [],
   "source": []
  }
 ],
 "metadata": {
  "kernelspec": {
   "display_name": "Python 3",
   "language": "python",
   "name": "python3"
  },
  "language_info": {
   "codemirror_mode": {
    "name": "ipython",
    "version": 3
   },
   "file_extension": ".py",
   "mimetype": "text/x-python",
   "name": "python",
   "nbconvert_exporter": "python",
   "pygments_lexer": "ipython3",
   "version": "3.6.8"
  }
 },
 "nbformat": 4,
 "nbformat_minor": 2
}
