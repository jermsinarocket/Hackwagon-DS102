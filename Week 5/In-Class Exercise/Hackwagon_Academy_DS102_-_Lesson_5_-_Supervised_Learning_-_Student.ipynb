{
 "cells": [
  {
   "cell_type": "markdown",
   "metadata": {},
   "source": [
    "<center><img src=\"https://i2.wp.com/hackwagon.com/wp-content/uploads/2017/02/Logo-Web-Export.png?ssl=1\" width=200/></center>\n",
    "<h1> Hackwagon Academy DS102 Lesson 5 </h1>\n",
    "<h2> Linear Regression </h2> \n",
    "<h3> Lesson Outline </h3>\n",
    "\n",
    "- 1. [Scikit Learn - SKLearn](#1)\n",
    "    - 1.1 [5 Standard Steps](#1.1)\n",
    "- 2. [Simple Linear Regression](#2)\n",
    "    - 2.1 [Example - Housing Prices](#2.1)\n",
    "    - [Practice I](#P1)\n",
    "- 3. [Multivariate Linear Regression](#3)\n",
    "    - 1.1 [Example - Housing Prices](#3.1)\n",
    "    - [Practice II](#P2)"
   ]
  },
  {
   "cell_type": "markdown",
   "metadata": {},
   "source": [
    "<hr/>\n",
    "\n",
    "<a id='1'><h2><img src=\"https://images.vexels.com/media/users/3/153978/isolated/preview/483ef8b10a46e28d02293a31570c8c56-warning-sign-colored-stroke-icon-by-vexels.png\" width=23 align=\"left\"><font color=\"salmon\">&nbsp;1.</font><font color=\"salmon\"> Scikit Learn - SKLearn </font> </h2></a>\n",
    "\n",
    "<a id='1.1'><h3>5 Standard Steps</h3></a>\n",
    "\n",
    "**Step 1**: Choose a class of machine learning model from the library \n",
    "\n",
    "**Step 2**: Choose the model’s hyperparameters by instantiating with desired values (tuning)\n",
    "\n",
    "**Step 3**: Arrange data into features and target\n",
    "\n",
    "**Step 4**: Fit model to your data by using the fit() method of the model \n",
    "\n",
    "**Step 5**: Apply the model to new data:\n",
    "    - For supervised learning, using the predict() method\n",
    "    - For unsupervised learning, using the predict() or transform() method"
   ]
  },
  {
   "cell_type": "code",
   "execution_count": 30,
   "metadata": {
    "ExecuteTime": {
     "end_time": "2019-07-20T10:07:24.853226Z",
     "start_time": "2019-07-20T10:07:24.839268Z"
    }
   },
   "outputs": [],
   "source": [
    "import seaborn as sns\n",
    "import numpy as np\n",
    "from sklearn import datasets, linear_model\n",
    "\n",
    "# Load the diabetes dataset\n",
    "diabetes = datasets.load_diabetes()\n",
    "\n",
    "# ----- STEP 1 & 2 -----\n",
    "# Create linear regression object\n",
    "regr = linear_model.LinearRegression()\n",
    "\n",
    "#  ----- STEP 3 -----\n",
    "# Use only one feature\n",
    "diabetes_X = diabetes.data[:, np.newaxis, 2]\n",
    "\n",
    "# Split the data into training/testing sets\n",
    "diabetes_X_train = diabetes_X[:-20]\n",
    "diabetes_X_test = diabetes_X[-20:]\n",
    "\n",
    "# Split the targets into training/testing sets\n",
    "diabetes_y_train = diabetes.target[:-20]\n",
    "diabetes_y_test = diabetes.target[-20:]\n",
    "\n",
    "# ----- STEP 4 -----\n",
    "# Train the model using the training sets\n",
    "regr.fit(diabetes_X_train, diabetes_y_train)\n",
    "\n",
    "# ----- STEP 5 -----\n",
    "# Make predictions using the testing set\n",
    "diabetes_y_pred = regr.predict(diabetes_X_test)"
   ]
  },
  {
   "cell_type": "markdown",
   "metadata": {},
   "source": [
    "\n",
    "<a id='2'><h2><img src=\"https://images.vexels.com/media/users/3/153978/isolated/preview/483ef8b10a46e28d02293a31570c8c56-warning-sign-colored-stroke-icon-by-vexels.png\" width=23 align=\"left\"><font color=\"salmon\">&nbsp;2.</font><font color=\"salmon\"> Simple Linear Regression </font> </h2></a>\n",
    "\n",
    "<a id='2.1'><h3>2.1 Example - Tips </h3></a>\n",
    "\n"
   ]
  },
  {
   "cell_type": "code",
   "execution_count": 57,
   "metadata": {
    "ExecuteTime": {
     "end_time": "2019-07-20T10:09:05.449341Z",
     "start_time": "2019-07-20T10:09:05.287942Z"
    }
   },
   "outputs": [
    {
     "data": {
      "text/plain": [
       "<matplotlib.axes._subplots.AxesSubplot at 0x1cceac34860>"
      ]
     },
     "execution_count": 57,
     "metadata": {},
     "output_type": "execute_result"
    },
    {
     "data": {
      "image/png": "[encoded data removed]",
      "text/plain": [
       "<Figure size 1130.4x595.44 with 2 Axes>"
      ]
     },
     "metadata": {},
     "output_type": "display_data"
    }
   ],
   "source": [
    "import pandas as pd\n",
    "\n",
    "data = {\n",
    "    'ID': [1, 2, 3, 4, 5, 6],\n",
    "    'Tips': [10, 25, 12, 8, 15, 20],\n",
    "    'Meal': [80, 150, 75, 60, 100, 150]\n",
    "}\n",
    "\n",
    "tips_df = pd.DataFrame(data)\n",
    "tips_df\n",
    "\n",
    "sns.set(rc={'figure.figsize': (15.7, 8.27)})\n",
    "correlation_matrix = tips_df.corr().round(2)\n",
    "# annot = True to print the values inside the square\n",
    "sns.heatmap(data=correlation_matrix, annot=True)"
   ]
  },
  {
   "cell_type": "code",
   "execution_count": 2,
   "metadata": {},
   "outputs": [
    {
     "data": {
      "text/plain": [
       "LinearRegression(copy_X=True, fit_intercept=True, n_jobs=None,\n",
       "         normalize=False)"
      ]
     },
     "execution_count": 2,
     "metadata": {},
     "output_type": "execute_result"
    }
   ],
   "source": [
    "from sklearn import datasets, linear_model\n",
    "\n",
    "# Step 1 & 2\n",
    "regr = linear_model.LinearRegression()\n",
    "\n",
    "# Step 3\n",
    "X = tips_df[['Meal']]  # << Must use 2 square brackets\n",
    "y = tips_df[['Tips']]  # << Must use 2 square brackets\n",
    "\n",
    "# Step 4\n",
    "regr.fit(X, y)"
   ]
  },
  {
   "cell_type": "markdown",
   "metadata": {},
   "source": [
    "Step 5 is in another cell because the model has been trained, there is not need to keep re-training the model again and again."
   ]
  },
  {
   "cell_type": "code",
   "execution_count": 43,
   "metadata": {
    "ExecuteTime": {
     "end_time": "2019-07-20T10:07:58.639788Z",
     "start_time": "2019-07-20T10:07:58.635793Z"
    }
   },
   "outputs": [
    {
     "data": {
      "text/plain": [
       "array([9535.29747434])"
      ]
     },
     "execution_count": 43,
     "metadata": {},
     "output_type": "execute_result"
    }
   ],
   "source": [
    "# Step 5\n",
    "# Predicting Meal of $10\n",
    "regr.predict([[10]])  # < Note that it's a list of lists"
   ]
  },
  {
   "cell_type": "code",
   "execution_count": 44,
   "metadata": {
    "ExecuteTime": {
     "end_time": "2019-07-20T10:07:58.793024Z",
     "start_time": "2019-07-20T10:07:58.788037Z"
    }
   },
   "outputs": [
    {
     "name": "stdout",
     "output_type": "stream",
     "text": [
      "[938.23786125]\n",
      "152.91886182616167\n"
     ]
    }
   ],
   "source": [
    "print(regr.coef_)\n",
    "print(regr.intercept_)\n",
    "\n",
    "#  Tips = -1.27  + 0.158 (Meal)\n",
    "# With every $1 increase in meal, tips would increase by $0.15"
   ]
  },
  {
   "cell_type": "markdown",
   "metadata": {},
   "source": [
    "### Housing Prices\n",
    "\n",
    "Filter to just two columns, where the predictor variable is `sqft_living` and the target variable `price`.  "
   ]
  },
  {
   "cell_type": "code",
   "execution_count": 45,
   "metadata": {
    "ExecuteTime": {
     "end_time": "2019-07-20T10:07:59.127271Z",
     "start_time": "2019-07-20T10:07:59.113277Z"
    }
   },
   "outputs": [],
   "source": [
    "housing_x = pd.read_csv('housing_x.csv')\n",
    "price = pd.read_csv('housing_y.csv')"
   ]
  },
  {
   "cell_type": "markdown",
   "metadata": {},
   "source": [
    "### Train Test Split\n",
    "\n",
    "Filter to just to the `RunTime` and `Performance` as a DataFrame, `rt_perf_df`. Conduct `train_test_split()` to get the four splits of data. "
   ]
  },
  {
   "cell_type": "code",
   "execution_count": 46,
   "metadata": {
    "ExecuteTime": {
     "end_time": "2019-07-20T10:07:59.458077Z",
     "start_time": "2019-07-20T10:07:59.451097Z"
    }
   },
   "outputs": [],
   "source": [
    "from sklearn.model_selection import train_test_split\n",
    "sqft_living = housing_x[['sqft_living']] # << must be a DataFrame (NOT housing['sqft_living'])\n",
    "\n",
    "X_train, X_test, y_train, y_test = train_test_split(sqft_living, price, random_state=42)"
   ]
  },
  {
   "cell_type": "markdown",
   "metadata": {},
   "source": [
    "### Fit Model\n",
    "\n",
    "Using the trained datasets, train the model."
   ]
  },
  {
   "cell_type": "code",
   "execution_count": 47,
   "metadata": {
    "ExecuteTime": {
     "end_time": "2019-07-20T10:08:00.695177Z",
     "start_time": "2019-07-20T10:08:00.688196Z"
    }
   },
   "outputs": [
    {
     "data": {
      "text/plain": [
       "LinearRegression(copy_X=True, fit_intercept=True, n_jobs=None,\n",
       "         normalize=False)"
      ]
     },
     "execution_count": 47,
     "metadata": {},
     "output_type": "execute_result"
    }
   ],
   "source": [
    "simple_housing_lr = linear_model.LinearRegression()\n",
    "\n",
    "simple_housing_lr.fit(X_train, y_train)"
   ]
  },
  {
   "cell_type": "markdown",
   "metadata": {},
   "source": [
    "### Interpret\n",
    "\n",
    "With the fitted model, interpret and create the linear equation of the model. "
   ]
  },
  {
   "cell_type": "code",
   "execution_count": 48,
   "metadata": {
    "ExecuteTime": {
     "end_time": "2019-07-20T10:08:02.005351Z",
     "start_time": "2019-07-20T10:08:02.001361Z"
    },
    "scrolled": true
   },
   "outputs": [
    {
     "name": "stdout",
     "output_type": "stream",
     "text": [
      "[[276.61559523]]\n",
      "[-34785.44388888]\n"
     ]
    }
   ],
   "source": [
    "print(simple_housing_lr.coef_)\n",
    "print(simple_housing_lr.intercept_)\n",
    "\n",
    "# price = -34785.44 + 276.6(Sqft_living)\n",
    "# For every increase in SQFT_Living, price of the house increases by $276.6 "
   ]
  },
  {
   "cell_type": "markdown",
   "metadata": {},
   "source": [
    "### Predict \n",
    "\n",
    "Using `.predict()`, predict with a custom square-feet."
   ]
  },
  {
   "cell_type": "code",
   "execution_count": 49,
   "metadata": {
    "ExecuteTime": {
     "end_time": "2019-07-20T10:08:02.678089Z",
     "start_time": "2019-07-20T10:08:02.673092Z"
    }
   },
   "outputs": [
    {
     "data": {
      "text/plain": [
       "array([[2731370.50837813]])"
      ]
     },
     "execution_count": 49,
     "metadata": {},
     "output_type": "execute_result"
    }
   ],
   "source": [
    "custom_sqft = 10000\n",
    "\n",
    "simple_housing_lr.predict([[custom_sqft]]) # IMPORTANT - It's a nested list "
   ]
  },
  {
   "cell_type": "markdown",
   "metadata": {},
   "source": [
    "### Assess Performance of Model\n",
    "\n",
    "Using `r2_score` calculate the R-squared score of the model."
   ]
  },
  {
   "cell_type": "code",
   "execution_count": 50,
   "metadata": {
    "ExecuteTime": {
     "end_time": "2019-07-20T10:08:03.365107Z",
     "start_time": "2019-07-20T10:08:03.359160Z"
    }
   },
   "outputs": [
    {
     "name": "stdout",
     "output_type": "stream",
     "text": [
      "0.49434750583619946\n"
     ]
    }
   ],
   "source": [
    "from sklearn.metrics import r2_score \n",
    "fitted_values = simple_housing_lr.predict(X_test)\n",
    "\n",
    "print(r2_score(y_test, fitted_values))"
   ]
  },
  {
   "cell_type": "markdown",
   "metadata": {},
   "source": [
    "<a id='P1'><h2> <img src=\"https://cdn.shopify.com/s/files/1/1200/7374/products/book_aec28e76-52ec-44ab-bc01-41df1279c89f_550x825.png?v=1473897430\" width=25 align=\"left\"> <font color=\"darkorange\"> &nbsp; Practice I </font><font color=\"skyblue\"> * </font></h2></a>\n",
    "\n",
    "### Fitness Dataset\n",
    "\n",
    "Based on this fitness dataset, predict the `RunTime` based on the following predictors:\n",
    "\n",
    "1. Performance\n",
    "\n",
    "### Read  Dataset\n",
    "\n",
    "Read the `fitness-data.csv` as `fit_df`. "
   ]
  },
  {
   "cell_type": "code",
   "execution_count": 51,
   "metadata": {
    "ExecuteTime": {
     "end_time": "2019-07-20T10:08:04.711448Z",
     "start_time": "2019-07-20T10:08:04.695490Z"
    }
   },
   "outputs": [
    {
     "data": {
      "text/html": [
       "<div>\n",
       "<style scoped>\n",
       "    .dataframe tbody tr th:only-of-type {\n",
       "        vertical-align: middle;\n",
       "    }\n",
       "\n",
       "    .dataframe tbody tr th {\n",
       "        vertical-align: top;\n",
       "    }\n",
       "\n",
       "    .dataframe thead th {\n",
       "        text-align: right;\n",
       "    }\n",
       "</style>\n",
       "<table border=\"1\" class=\"dataframe\">\n",
       "  <thead>\n",
       "    <tr style=\"text-align: right;\">\n",
       "      <th></th>\n",
       "      <th>Name</th>\n",
       "      <th>Gender</th>\n",
       "      <th>RunTime</th>\n",
       "      <th>Age</th>\n",
       "      <th>Weight</th>\n",
       "      <th>Oxygen_Consumption</th>\n",
       "      <th>Run_Pulse</th>\n",
       "      <th>Rest_Pulse</th>\n",
       "      <th>Maximum_Pulse</th>\n",
       "      <th>Performance</th>\n",
       "    </tr>\n",
       "  </thead>\n",
       "  <tbody>\n",
       "    <tr>\n",
       "      <th>0</th>\n",
       "      <td>Donna</td>\n",
       "      <td>F</td>\n",
       "      <td>8.17</td>\n",
       "      <td>42.0</td>\n",
       "      <td>68.15</td>\n",
       "      <td>59.57</td>\n",
       "      <td>166.0</td>\n",
       "      <td>40.0</td>\n",
       "      <td>172.0</td>\n",
       "      <td>90.0</td>\n",
       "    </tr>\n",
       "    <tr>\n",
       "      <th>1</th>\n",
       "      <td>Gracie</td>\n",
       "      <td>F</td>\n",
       "      <td>8.63</td>\n",
       "      <td>38.0</td>\n",
       "      <td>81.87</td>\n",
       "      <td>60.06</td>\n",
       "      <td>170.0</td>\n",
       "      <td>48.0</td>\n",
       "      <td>186.0</td>\n",
       "      <td>94.0</td>\n",
       "    </tr>\n",
       "    <tr>\n",
       "      <th>2</th>\n",
       "      <td>Luanne</td>\n",
       "      <td>F</td>\n",
       "      <td>8.65</td>\n",
       "      <td>43.0</td>\n",
       "      <td>85.84</td>\n",
       "      <td>54.30</td>\n",
       "      <td>156.0</td>\n",
       "      <td>45.0</td>\n",
       "      <td>168.0</td>\n",
       "      <td>83.0</td>\n",
       "    </tr>\n",
       "    <tr>\n",
       "      <th>3</th>\n",
       "      <td>Mimi</td>\n",
       "      <td>F</td>\n",
       "      <td>8.92</td>\n",
       "      <td>50.0</td>\n",
       "      <td>70.87</td>\n",
       "      <td>54.63</td>\n",
       "      <td>146.0</td>\n",
       "      <td>48.0</td>\n",
       "      <td>155.0</td>\n",
       "      <td>67.0</td>\n",
       "    </tr>\n",
       "    <tr>\n",
       "      <th>4</th>\n",
       "      <td>Chris</td>\n",
       "      <td>M</td>\n",
       "      <td>8.95</td>\n",
       "      <td>49.0</td>\n",
       "      <td>81.42</td>\n",
       "      <td>49.16</td>\n",
       "      <td>180.0</td>\n",
       "      <td>44.0</td>\n",
       "      <td>185.0</td>\n",
       "      <td>72.0</td>\n",
       "    </tr>\n",
       "  </tbody>\n",
       "</table>\n",
       "</div>"
      ],
      "text/plain": [
       "     Name Gender  RunTime   Age  Weight  Oxygen_Consumption  Run_Pulse  \\\n",
       "0   Donna      F     8.17  42.0   68.15               59.57      166.0   \n",
       "1  Gracie      F     8.63  38.0   81.87               60.06      170.0   \n",
       "2  Luanne      F     8.65  43.0   85.84               54.30      156.0   \n",
       "3    Mimi      F     8.92  50.0   70.87               54.63      146.0   \n",
       "4   Chris      M     8.95  49.0   81.42               49.16      180.0   \n",
       "\n",
       "   Rest_Pulse  Maximum_Pulse  Performance  \n",
       "0        40.0          172.0         90.0  \n",
       "1        48.0          186.0         94.0  \n",
       "2        45.0          168.0         83.0  \n",
       "3        48.0          155.0         67.0  \n",
       "4        44.0          185.0         72.0  "
      ]
     },
     "execution_count": 51,
     "metadata": {},
     "output_type": "execute_result"
    }
   ],
   "source": [
    "fit_df = pd.read_csv('fitness-data.csv')\n",
    "\n",
    "fit_df.head()"
   ]
  },
  {
   "cell_type": "markdown",
   "metadata": {},
   "source": [
    "### Train Test Split\n",
    "\n",
    "Filter to just to the `RunTime` and `Performance` as a DataFrame, `rt_perf_df`. Conduct `train_test_split()` to get the four splits of data. "
   ]
  },
  {
   "cell_type": "code",
   "execution_count": 52,
   "metadata": {
    "ExecuteTime": {
     "end_time": "2019-07-20T10:08:05.065595Z",
     "start_time": "2019-07-20T10:08:05.057615Z"
    }
   },
   "outputs": [],
   "source": [
    "rt_perf_df = fit_df[['RunTime','Performance']]\n",
    "\n",
    "X_train, X_test, y_train, y_test = train_test_split(rt_perf_df[['RunTime']],rt_perf_df[['Performance']],random_state = 42)"
   ]
  },
  {
   "cell_type": "markdown",
   "metadata": {},
   "source": [
    "### Fit Model\n",
    "\n",
    "Create a LinearRegression variable, named  `simple_performance_lr`. Using the trained datasets, train the model."
   ]
  },
  {
   "cell_type": "code",
   "execution_count": 53,
   "metadata": {
    "ExecuteTime": {
     "end_time": "2019-07-20T10:08:05.779868Z",
     "start_time": "2019-07-20T10:08:05.773883Z"
    }
   },
   "outputs": [
    {
     "data": {
      "text/plain": [
       "LinearRegression(copy_X=True, fit_intercept=True, n_jobs=None,\n",
       "         normalize=False)"
      ]
     },
     "execution_count": 53,
     "metadata": {},
     "output_type": "execute_result"
    }
   ],
   "source": [
    "simple_performance_lr = linear_model.LinearRegression()\n",
    "\n",
    "simple_performance_lr.fit(X_train,y_train)"
   ]
  },
  {
   "cell_type": "markdown",
   "metadata": {},
   "source": [
    "### Interpret\n",
    "\n",
    "With the fitted model, interpret and create the linear equation of the model. "
   ]
  },
  {
   "cell_type": "code",
   "execution_count": 54,
   "metadata": {
    "ExecuteTime": {
     "end_time": "2019-07-20T10:08:06.215920Z",
     "start_time": "2019-07-20T10:08:06.212891Z"
    }
   },
   "outputs": [
    {
     "name": "stdout",
     "output_type": "stream",
     "text": [
      "[[-11.23132361]]\n",
      "[177.02963047]\n"
     ]
    }
   ],
   "source": [
    "print(simple_performance_lr.coef_)\n",
    "print(simple_performance_lr.intercept_)\n",
    "\n",
    "# Performance = 177.02963047 + -(11.21132361)\n",
    "# For every increase in run time, performance will decrease by 11.23132361"
   ]
  },
  {
   "cell_type": "markdown",
   "metadata": {},
   "source": [
    "### Plotting Linear Regression Graph\n",
    "\n",
    "The straight line can be seen in the plot, showing how linear regression attempts to draw a straight line that will best minimize the residual sum of squares between the observed responses in the dataset, and the responses predicted by the linear approximation."
   ]
  },
  {
   "cell_type": "code",
   "execution_count": 59,
   "metadata": {
    "ExecuteTime": {
     "end_time": "2019-07-20T10:09:22.362234Z",
     "start_time": "2019-07-20T10:09:22.236607Z"
    }
   },
   "outputs": [
    {
     "data": {
      "image/png": "[encoded data removed]",
      "text/plain": [
       "<Figure size 1130.4x595.44 with 1 Axes>"
      ]
     },
     "metadata": {},
     "output_type": "display_data"
    }
   ],
   "source": [
    "import matplotlib.pyplot as plt\n",
    "\n",
    "y_pred = simple_performance_lr.predict(X_test)\n",
    "\n",
    "plt.scatter(X_test, y_test,  color='black')\n",
    "plt.plot(X_test, y_pred, color='blue', linewidth=3)\n",
    "\n",
    "plt.show()"
   ]
  },
  {
   "cell_type": "markdown",
   "metadata": {},
   "source": [
    "### Predict \n",
    "\n",
    "Using `.predict()`, predict with custom values. "
   ]
  },
  {
   "cell_type": "code",
   "execution_count": 25,
   "metadata": {},
   "outputs": [
    {
     "data": {
      "text/plain": [
       "array([[86.0559092]])"
      ]
     },
     "execution_count": 25,
     "metadata": {},
     "output_type": "execute_result"
    }
   ],
   "source": [
    "simple_performance_lr.predict([[8.1]])"
   ]
  },
  {
   "cell_type": "markdown",
   "metadata": {},
   "source": [
    "### Assess Performance of Model\n",
    "\n",
    "Using `r2_score` calculate the R-squared score of the model."
   ]
  },
  {
   "cell_type": "code",
   "execution_count": 27,
   "metadata": {},
   "outputs": [
    {
     "name": "stdout",
     "output_type": "stream",
     "text": [
      "-0.1904585301796773\n"
     ]
    }
   ],
   "source": [
    "fitted_values = simple_performance_lr.predict(X_test)\n",
    "\n",
    "print(r2_score(y_test, fitted_values))"
   ]
  },
  {
   "cell_type": "markdown",
   "metadata": {},
   "source": [
    "\n",
    "<a id='3'><h2><img src=\"https://images.vexels.com/media/users/3/153978/isolated/preview/483ef8b10a46e28d02293a31570c8c56-warning-sign-colored-stroke-icon-by-vexels.png\" width=23 align=\"left\"><font color=\"salmon\">&nbsp;3.</font><font color=\"salmon\"> Multivariate Linear Regression </font> </h2></a>\n",
    "\n",
    "<a id='3.1'><h3>3.1 Example - Housing Prices  </h3></a>\n",
    "\n",
    "This time, we'll apply more variables to the model and drop variables where necessary."
   ]
  },
  {
   "cell_type": "code",
   "execution_count": 56,
   "metadata": {},
   "outputs": [
    {
     "data": {
      "text/html": [
       "<div>\n",
       "<style scoped>\n",
       "    .dataframe tbody tr th:only-of-type {\n",
       "        vertical-align: middle;\n",
       "    }\n",
       "\n",
       "    .dataframe tbody tr th {\n",
       "        vertical-align: top;\n",
       "    }\n",
       "\n",
       "    .dataframe thead th {\n",
       "        text-align: right;\n",
       "    }\n",
       "</style>\n",
       "<table border=\"1\" class=\"dataframe\">\n",
       "  <thead>\n",
       "    <tr style=\"text-align: right;\">\n",
       "      <th></th>\n",
       "      <th>sqft_living</th>\n",
       "      <th>sqm_living</th>\n",
       "      <th>floors</th>\n",
       "    </tr>\n",
       "  </thead>\n",
       "  <tbody>\n",
       "    <tr>\n",
       "      <th>0</th>\n",
       "      <td>3500</td>\n",
       "      <td>106.71</td>\n",
       "      <td>2.0</td>\n",
       "    </tr>\n",
       "    <tr>\n",
       "      <th>1</th>\n",
       "      <td>1180</td>\n",
       "      <td>35.98</td>\n",
       "      <td>1.0</td>\n",
       "    </tr>\n",
       "    <tr>\n",
       "      <th>2</th>\n",
       "      <td>1260</td>\n",
       "      <td>38.41</td>\n",
       "      <td>1.5</td>\n",
       "    </tr>\n",
       "    <tr>\n",
       "      <th>3</th>\n",
       "      <td>1520</td>\n",
       "      <td>46.34</td>\n",
       "      <td>1.0</td>\n",
       "    </tr>\n",
       "    <tr>\n",
       "      <th>4</th>\n",
       "      <td>1780</td>\n",
       "      <td>54.27</td>\n",
       "      <td>1.0</td>\n",
       "    </tr>\n",
       "  </tbody>\n",
       "</table>\n",
       "</div>"
      ],
      "text/plain": [
       "   sqft_living  sqm_living  floors\n",
       "0         3500      106.71     2.0\n",
       "1         1180       35.98     1.0\n",
       "2         1260       38.41     1.5\n",
       "3         1520       46.34     1.0\n",
       "4         1780       54.27     1.0"
      ]
     },
     "metadata": {},
     "output_type": "display_data"
    },
    {
     "data": {
      "text/html": [
       "<div>\n",
       "<style scoped>\n",
       "    .dataframe tbody tr th:only-of-type {\n",
       "        vertical-align: middle;\n",
       "    }\n",
       "\n",
       "    .dataframe tbody tr th {\n",
       "        vertical-align: top;\n",
       "    }\n",
       "\n",
       "    .dataframe thead th {\n",
       "        text-align: right;\n",
       "    }\n",
       "</style>\n",
       "<table border=\"1\" class=\"dataframe\">\n",
       "  <thead>\n",
       "    <tr style=\"text-align: right;\">\n",
       "      <th></th>\n",
       "      <th>price</th>\n",
       "    </tr>\n",
       "  </thead>\n",
       "  <tbody>\n",
       "    <tr>\n",
       "      <th>0</th>\n",
       "      <td>788600</td>\n",
       "    </tr>\n",
       "    <tr>\n",
       "      <th>1</th>\n",
       "      <td>600000</td>\n",
       "    </tr>\n",
       "    <tr>\n",
       "      <th>2</th>\n",
       "      <td>523000</td>\n",
       "    </tr>\n",
       "    <tr>\n",
       "      <th>3</th>\n",
       "      <td>415000</td>\n",
       "    </tr>\n",
       "    <tr>\n",
       "      <th>4</th>\n",
       "      <td>535000</td>\n",
       "    </tr>\n",
       "  </tbody>\n",
       "</table>\n",
       "</div>"
      ],
      "text/plain": [
       "    price\n",
       "0  788600\n",
       "1  600000\n",
       "2  523000\n",
       "3  415000\n",
       "4  535000"
      ]
     },
     "metadata": {},
     "output_type": "display_data"
    }
   ],
   "source": [
    "# Read from CSV the following files: KX_train, KX_test, Ky_train, Ky_test\n",
    "x_all = pd.read_csv('housing_x.csv')\n",
    "y_all = pd.read_csv('housing_y.csv')\n",
    "display(x_all.head())\n",
    "display(y_all.head())"
   ]
  },
  {
   "cell_type": "markdown",
   "metadata": {},
   "source": [
    "### Feature Selection\n",
    "\n",
    "Detect for multicollinearity and drop variables where necessary by using `.corr()`."
   ]
  },
  {
   "cell_type": "code",
   "execution_count": 95,
   "metadata": {},
   "outputs": [
    {
     "data": {
      "text/plain": [
       "<matplotlib.axes._subplots.AxesSubplot at 0x1f2ccbf79b0>"
      ]
     },
     "execution_count": 95,
     "metadata": {},
     "output_type": "execute_result"
    },
    {
     "data": {
      "image/png": "[encoded data removed]",
      "text/plain": [
       "<Figure size 432x288 with 2 Axes>"
      ]
     },
     "metadata": {
      "needs_background": "light"
     },
     "output_type": "display_data"
    }
   ],
   "source": [
    "# x_all.corr()\n",
    "\n",
    "correlation_matrix = x_all.corr().round(2)\n",
    "# annot = True to print the values inside the square\n",
    "sns.heatmap(data=correlation_matrix, annot=True)\n"
   ]
  },
  {
   "cell_type": "markdown",
   "metadata": {},
   "source": [
    "### Train Test Split\n",
    "\n",
    "Drop and filter to the valid predictors in the model as a DataFrame, `housing_df`. Conduct `train_test_split()` to get the four splits of data. "
   ]
  },
  {
   "cell_type": "code",
   "execution_count": 31,
   "metadata": {
    "ExecuteTime": {
     "end_time": "2019-07-20T10:07:44.957135Z",
     "start_time": "2019-07-20T10:07:44.947161Z"
    }
   },
   "outputs": [
    {
     "ename": "NameError",
     "evalue": "name 'x_all' is not defined",
     "output_type": "error",
     "traceback": [
      "\u001b[1;31m---------------------------------------------------------------------------\u001b[0m",
      "\u001b[1;31mNameError\u001b[0m                                 Traceback (most recent call last)",
      "\u001b[1;32m<ipython-input-31-b4296252ce8c>\u001b[0m in \u001b[0;36m<module>\u001b[1;34m\u001b[0m\n\u001b[0;32m      2\u001b[0m \u001b[1;31m# Since either SQFT or SQM are highly correlated, drop either one\u001b[0m\u001b[1;33m\u001b[0m\u001b[1;33m\u001b[0m\u001b[1;33m\u001b[0m\u001b[0m\n\u001b[0;32m      3\u001b[0m \u001b[1;33m\u001b[0m\u001b[0m\n\u001b[1;32m----> 4\u001b[1;33m \u001b[0mhousing_x\u001b[0m \u001b[1;33m=\u001b[0m \u001b[0mx_all\u001b[0m\u001b[1;33m[\u001b[0m\u001b[1;33m[\u001b[0m\u001b[1;34m'sqft_living'\u001b[0m\u001b[1;33m,\u001b[0m \u001b[1;34m'floors'\u001b[0m\u001b[1;33m]\u001b[0m\u001b[1;33m]\u001b[0m\u001b[1;33m\u001b[0m\u001b[1;33m\u001b[0m\u001b[0m\n\u001b[0m\u001b[0;32m      5\u001b[0m \u001b[1;33m\u001b[0m\u001b[0m\n\u001b[0;32m      6\u001b[0m \u001b[0mX_train\u001b[0m\u001b[1;33m,\u001b[0m \u001b[0mX_test\u001b[0m\u001b[1;33m,\u001b[0m \u001b[0my_train\u001b[0m\u001b[1;33m,\u001b[0m \u001b[0my_test\u001b[0m \u001b[1;33m=\u001b[0m \u001b[0mtrain_test_split\u001b[0m\u001b[1;33m(\u001b[0m\u001b[0mhousing_x\u001b[0m\u001b[1;33m,\u001b[0m \u001b[0my_all\u001b[0m\u001b[1;33m,\u001b[0m \u001b[0mrandom_state\u001b[0m\u001b[1;33m=\u001b[0m\u001b[1;36m42\u001b[0m\u001b[1;33m)\u001b[0m\u001b[1;33m\u001b[0m\u001b[1;33m\u001b[0m\u001b[0m\n",
      "\u001b[1;31mNameError\u001b[0m: name 'x_all' is not defined"
     ]
    }
   ],
   "source": [
    "from sklearn.model_selection import train_test_split\n",
    "# Since either SQFT or SQM are highly correlated, drop either one\n",
    "\n",
    "housing_x = x_all[['sqft_living', 'floors']]\n",
    "\n",
    "X_train, X_test, y_train, y_test = train_test_split(housing_x, y_all, random_state=42)"
   ]
  },
  {
   "cell_type": "markdown",
   "metadata": {},
   "source": [
    "### Fit Model\n",
    "\n",
    "Create a LinearRegression variable, `multi_housing_lr`. With the train dataframes, use `.fit()` to train the model."
   ]
  },
  {
   "cell_type": "code",
   "execution_count": 32,
   "metadata": {
    "ExecuteTime": {
     "end_time": "2019-07-20T10:07:45.224198Z",
     "start_time": "2019-07-20T10:07:45.218217Z"
    }
   },
   "outputs": [
    {
     "data": {
      "text/plain": [
       "LinearRegression(copy_X=True, fit_intercept=True, n_jobs=None,\n",
       "         normalize=False)"
      ]
     },
     "execution_count": 32,
     "metadata": {},
     "output_type": "execute_result"
    }
   ],
   "source": [
    "multi_housing_lr = linear_model.LinearRegression()\n",
    "\n",
    "multi_housing_lr.fit(X_train, y_train)"
   ]
  },
  {
   "cell_type": "markdown",
   "metadata": {},
   "source": [
    "### Interpret\n",
    "\n",
    "With the fitted model, interpret and create the linear equation of the model. "
   ]
  },
  {
   "cell_type": "code",
   "execution_count": 33,
   "metadata": {
    "ExecuteTime": {
     "end_time": "2019-07-20T10:07:45.765700Z",
     "start_time": "2019-07-20T10:07:45.761712Z"
    }
   },
   "outputs": [
    {
     "name": "stdout",
     "output_type": "stream",
     "text": [
      "[[-11.23132361]]\n",
      "[177.02963047]\n"
     ]
    }
   ],
   "source": [
    "print(multi_housing_lr.coef_)\n",
    "print(multi_housing_lr.intercept_)\n",
    "\n",
    "# Housing Price = -48237.317 + 274 (SQFT_Living) + 12566.866 (Floors)"
   ]
  },
  {
   "cell_type": "markdown",
   "metadata": {},
   "source": [
    "### Assess Performance of Model\n",
    "\n",
    "Using `r2_score` calculate the R-squared score of the model."
   ]
  },
  {
   "cell_type": "code",
   "execution_count": 34,
   "metadata": {
    "ExecuteTime": {
     "end_time": "2019-07-20T10:07:46.211706Z",
     "start_time": "2019-07-20T10:07:46.206679Z"
    }
   },
   "outputs": [
    {
     "name": "stdout",
     "output_type": "stream",
     "text": [
      "-0.1904585301796773\n"
     ]
    }
   ],
   "source": [
    "from sklearn.metrics import r2_score \n",
    "fitted_values = multi_housing_lr.predict(X_test)\n",
    "\n",
    "print(r2_score(y_test, fitted_values))"
   ]
  },
  {
   "cell_type": "markdown",
   "metadata": {},
   "source": [
    "<a id='P2'><h2> <img src=\"https://cdn.shopify.com/s/files/1/1200/7374/products/book_aec28e76-52ec-44ab-bc01-41df1279c89f_550x825.png?v=1473897430\" width=25 align=\"left\"> <font color=\"darkorange\"> &nbsp; Practice II </font><font color=\"skyblue\"> * </font></h2></a>\n",
    "\n",
    "### Fitness Dataset\n",
    "\n",
    "Based on this fitness dataset, predict the `RunTime` based on the following predictors:\n",
    "\n",
    "1. Age\n",
    "2. Weight\n",
    "3. Oxygen_Consumption\n",
    "4. Run_Pulse\n",
    "5. Rest_Pulse\n",
    "6. Maximum_Pulse\n",
    "7. Performance\n",
    "\n",
    "### Read "
   ]
  },
  {
   "cell_type": "code",
   "execution_count": 72,
   "metadata": {
    "ExecuteTime": {
     "end_time": "2019-07-20T10:15:16.745422Z",
     "start_time": "2019-07-20T10:15:16.742394Z"
    }
   },
   "outputs": [],
   "source": [
    "fitness_data = fit_df\n",
    "y_all = fit_df['RunTime']"
   ]
  },
  {
   "cell_type": "markdown",
   "metadata": {},
   "source": [
    "### Feature Selection\n",
    "\n",
    "With the variables above, detect for multicollinearity and drop variables where necessary by using `.corr()`."
   ]
  },
  {
   "cell_type": "code",
   "execution_count": 83,
   "metadata": {
    "ExecuteTime": {
     "end_time": "2019-07-20T10:18:58.982156Z",
     "start_time": "2019-07-20T10:18:58.614131Z"
    }
   },
   "outputs": [
    {
     "data": {
      "text/plain": [
       "<matplotlib.axes._subplots.AxesSubplot at 0x1cceacde550>"
      ]
     },
     "execution_count": 83,
     "metadata": {},
     "output_type": "execute_result"
    },
    {
     "data": {
      "image/png": "[encoded data removed]",
      "text/plain": [
       "<Figure size 1130.4x595.44 with 2 Axes>"
      ]
     },
     "metadata": {},
     "output_type": "display_data"
    }
   ],
   "source": [
    "fitness_data.corr()\n",
    "\n",
    "sns.heatmap(data=fitness_data.corr().round(2), annot=True)\n"
   ]
  },
  {
   "cell_type": "markdown",
   "metadata": {},
   "source": [
    "### Train Test Split\n",
    "\n",
    "Based on the correlation matrix, fliter for the __valid__ predictor variables and do `train_test_split` with the target variable `RunTime`. "
   ]
  },
  {
   "cell_type": "code",
   "execution_count": 74,
   "metadata": {
    "ExecuteTime": {
     "end_time": "2019-07-20T10:15:20.175347Z",
     "start_time": "2019-07-20T10:15:20.169366Z"
    }
   },
   "outputs": [],
   "source": [
    "from sklearn.model_selection import train_test_split\n",
    "# Oxygen Consumption and Performance has a strong correlation with Run Time\n",
    "\n",
    "x_all = fitness_data[['Oxygen_Consumption','Performance']]\n",
    "\n",
    "X_train, X_test, y_train, y_test = train_test_split(x_all, y_all, random_state=42)"
   ]
  },
  {
   "cell_type": "markdown",
   "metadata": {},
   "source": [
    "### Fit Model\n",
    "\n",
    "Using the train dataframes, create a LinearRegression variable called `multi_runtime_lr`. Use `.fit()`, train the model."
   ]
  },
  {
   "cell_type": "code",
   "execution_count": 75,
   "metadata": {
    "ExecuteTime": {
     "end_time": "2019-07-20T10:15:21.375605Z",
     "start_time": "2019-07-20T10:15:21.369601Z"
    }
   },
   "outputs": [
    {
     "data": {
      "text/plain": [
       "LinearRegression(copy_X=True, fit_intercept=True, n_jobs=None,\n",
       "         normalize=False)"
      ]
     },
     "execution_count": 75,
     "metadata": {},
     "output_type": "execute_result"
    }
   ],
   "source": [
    "multi_runtime_lr = linear_model.LinearRegression()\n",
    "\n",
    "multi_runtime_lr.fit(X_train,y_train)"
   ]
  },
  {
   "cell_type": "markdown",
   "metadata": {},
   "source": [
    "### Interpret\n",
    "\n",
    "With the fitted model, interpret and create the linear equation of the model. "
   ]
  },
  {
   "cell_type": "code",
   "execution_count": 78,
   "metadata": {
    "ExecuteTime": {
     "end_time": "2019-07-20T10:16:37.166723Z",
     "start_time": "2019-07-20T10:16:37.162772Z"
    }
   },
   "outputs": [
    {
     "name": "stdout",
     "output_type": "stream",
     "text": [
      "[-0.12009187 -0.03559525]\n",
      "18.30778603786936\n"
     ]
    }
   ],
   "source": [
    "print(multi_runtime_lr.coef_)\n",
    "print(multi_runtime_lr.intercept_)\n",
    "\n",
    "#Run Time = 18.30778603786936 -0.12009187 (Oxygen Consumption) - 0.03559525 (Performance)"
   ]
  },
  {
   "cell_type": "markdown",
   "metadata": {},
   "source": [
    "### Assess Performance of Model\n",
    "\n",
    "Using `r2_score` calculate the R-squared score of the model."
   ]
  },
  {
   "cell_type": "code",
   "execution_count": 79,
   "metadata": {
    "ExecuteTime": {
     "end_time": "2019-07-20T10:16:38.246218Z",
     "start_time": "2019-07-20T10:16:38.241232Z"
    }
   },
   "outputs": [
    {
     "name": "stdout",
     "output_type": "stream",
     "text": [
      "0.6697899064850712\n"
     ]
    }
   ],
   "source": [
    "fitted_values = multi_runtime_lr.predict(X_test)\n",
    "\n",
    "print(r2_score(y_test, fitted_values))"
   ]
  },
  {
   "cell_type": "code",
   "execution_count": 80,
   "metadata": {
    "ExecuteTime": {
     "end_time": "2019-07-20T10:16:39.605319Z",
     "start_time": "2019-07-20T10:16:39.600346Z"
    }
   },
   "outputs": [
    {
     "data": {
      "text/plain": [
       "array([12.86306063, 11.13580287, 10.88596356, 10.63770968, 10.70654656,\n",
       "       10.7809553 , 12.1119577 , 10.95119768])"
      ]
     },
     "execution_count": 80,
     "metadata": {},
     "output_type": "execute_result"
    }
   ],
   "source": [
    "fitted_values"
   ]
  }
 ],
 "metadata": {
  "kernelspec": {
   "display_name": "Python 3",
   "language": "python",
   "name": "python3"
  },
  "language_info": {
   "codemirror_mode": {
    "name": "ipython",
    "version": 3
   },
   "file_extension": ".py",
   "mimetype": "text/x-python",
   "name": "python",
   "nbconvert_exporter": "python",
   "pygments_lexer": "ipython3",
   "version": "3.7.2"
  }
 },
 "nbformat": 4,
 "nbformat_minor": 2
}
