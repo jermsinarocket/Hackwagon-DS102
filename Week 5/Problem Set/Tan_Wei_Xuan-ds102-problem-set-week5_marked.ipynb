{
 "cells": [
  {
   "cell_type": "markdown",
   "metadata": {},
   "source": [
    "<center><h2>DS102 Problem Set - Week 5</h2></center>\n",
    "**Hackwagon Academy**\n",
    "\n",
    "`HWA-DS102-PS5-201810`\n",
    "<hr>\n",
    "\n",
    "If you have any questions to the Problem Set, feel free to send a message to your TAs or Instructors in the Telegram chat. You are encouraged to also discuss the problem sets within your own groups.\n",
    "\n",
    "<div class=\"alert alert-success\">Before you start, fill in your details for this notebook and rename the notebook to `<First_Name>_<Last_Name>-problem-set-week-5`, for example `jane-doe-problem-set-week-5`.</div>"
   ]
  },
  {
   "cell_type": "code",
   "execution_count": 1,
   "metadata": {
    "ExecuteTime": {
     "end_time": "2019-07-24T10:44:37.529198Z",
     "start_time": "2019-07-24T10:44:37.525294Z"
    }
   },
   "outputs": [],
   "source": [
    "# Rename the notebook. Then, fill in your details here.\n",
    "# Name  : Tan Wei Xuan\n",
    "# Class : DS102, Saturday 3.30PM\n",
    "\n",
    "\n",
    "# score : 11.5/12"
   ]
  },
  {
   "cell_type": "markdown",
   "metadata": {},
   "source": [
    "#### Datasets Required:\n",
    "\n",
    "- `insurance-claims.csv`"
   ]
  },
  {
   "cell_type": "markdown",
   "metadata": {},
   "source": [
    "In this problem set, you will be using what you have learnt in DS102 to understand an applied problem in actuarial science, in particular the concept of **moral hazard**."
   ]
  },
  {
   "cell_type": "markdown",
   "metadata": {},
   "source": [
    "## Problem Statement\n",
    "In insurance, an **insurance policy** is a contract between a **policy holder** and the **insurance company**. For a fee or <u>premium</u>, the **policy holder** receives financial protection in the event of a loss. This **claim** due to the loss will be paid by the insurance company.\n",
    "\n",
    "The claim that is paid by the insurance company or **insurer** to the policy holder or **insured** (usually an individual) is subject to a **deductible**, a **co-insurance payment** and a **policy limit**. The definition for each of the terms is as follows:\n",
    " \n",
    "- A [Deductible](https://www.healthcare.gov/glossary/deductible/) is the minimum sum that is payable by the policy holder, before the insurance company needs to pay out to the policy holder.\n",
    "\n",
    "- A [Co-insurance](https://www.healthcare.gov/glossary/co-payment/) is the proportion of the bill that is payable by the insurance company. The remaining proportion is payable by the policy holder.\n",
    "\n",
    "- A [Out-of-pocket Limit / Policy Limit](https://www.healthcare.gov/glossary/out-of-pocket-maximum-limit/) is the maximum amount that the insurance company has to pay for a claim. The remaining amount needs to be paid by the policy holder."
   ]
  },
  {
   "cell_type": "markdown",
   "metadata": {},
   "source": [
    "Consider the following example:\n",
    "\n",
    "Two travellers, **A** and **B** paid for a travel insurance policy before their flights. This policy has a **deductible** of $d=\\$300$. The **co-insurance** ratio is $c=0.2$ or $20\\%$ and the** policy limit** is $l=\\$5,000$.\n",
    "\n",
    "**A.** Traveller **A** was not able to fly back due to a typhoon at the holiday destination. **A** files for a claim of $\\$2,000$ for **A**'s flight back. The payout from the insurer is calculated as follows:\n",
    "1. After subjecting to a deductible, the amount to be paid by the insurer is $2000-d=2000-300=1700$\n",
    "2. After subjecting to co-insurance, the amount to be paid is $(1-c)\\times 1700 = (1-0.2)\\times 1700=1360$\n",
    "\n",
    "and hence **A** will receive a claim amount of $\\$1360$ from the insurer and his out-of-pocket payment is $\\$640$.\n",
    "\n",
    "\n",
    "**B.** Traveller **B**'s valuables and laptop was stolen while travelling. **B** files for a claim of $\\$12,000$ which was the value of all the items stolen. The payout from the insurer is calculated as follows:\n",
    "1. After subjecting to a deductible, the amount to be paid by the insurer is $12000-d=12000-300=11700$\n",
    "2. After subjecting to co-insurance, the amount to be paid is $(1-c)\\times 11700 = (1-0.2)\\times 11700=9360$\n",
    "3. The policy limit is $l=5000$. Since the claim amount, $\\$9360$ is higher than $\\$5000$, the amount to be paid is <u>only the policy limit</u> of $\\$5000$\n",
    "\n",
    "and hence **B** will receive a claim amount of $\\$5000$ from the insurer and his out-of-pocket payment is $\\$7000$.\n",
    "\n",
    "<div class=\"alert alert-info\">**Problem Statement **<br/>In this problem, the task is to study the effects of each of the following instruments on the total amount the insurance company needs to pay out.</div>"
   ]
  },
  {
   "cell_type": "markdown",
   "metadata": {
    "ExecuteTime": {
     "end_time": "2018-09-26T15:09:59.402709Z",
     "start_time": "2018-09-26T15:09:59.396279Z"
    }
   },
   "source": [
    "## Dataset\n",
    "\n",
    "You are given a baggage loss dataset from the [TSA Claims Database](https://www.kaggle.com/terminal-security-agency/tsa-claims-database). In this dataset, the `case_number` represents the unique ID associated with the case from the insurer and `claim_amount` is the amount of claim filed by the passenger, or the loss due to travelling borne by the passenger.\n",
    "\n",
    "Answer the following questions. Mark breakdowns are stated in the question e.g. **`[1]`**. <span style=\"color:darkblue\">**Where stated, both the <u>code</u> and <u>typed answers</u> must be provided to receive full credit.**</span>"
   ]
  },
  {
   "cell_type": "code",
   "execution_count": 1,
   "metadata": {
    "ExecuteTime": {
     "end_time": "2019-07-24T11:11:18.251712Z",
     "start_time": "2019-07-24T11:11:18.245854Z"
    }
   },
   "outputs": [],
   "source": [
    "# import the relevant packages\n",
    "import pandas as pd\n",
    "import numpy as np\n",
    "import matplotlib.pyplot as plt\n",
    "%matplotlib inline"
   ]
  },
  {
   "cell_type": "markdown",
   "metadata": {},
   "source": [
    "### Read from CSV to `df`\n",
    "Read the dataset from `insurance-claims.csv` to a `DataFrame` called `df`."
   ]
  },
  {
   "cell_type": "code",
   "execution_count": 2,
   "metadata": {
    "ExecuteTime": {
     "end_time": "2019-07-24T11:11:19.123721Z",
     "start_time": "2019-07-24T11:11:19.110053Z"
    }
   },
   "outputs": [
    {
     "data": {
      "text/html": [
       "<div>\n",
       "<style scoped>\n",
       "    .dataframe tbody tr th:only-of-type {\n",
       "        vertical-align: middle;\n",
       "    }\n",
       "\n",
       "    .dataframe tbody tr th {\n",
       "        vertical-align: top;\n",
       "    }\n",
       "\n",
       "    .dataframe thead th {\n",
       "        text-align: right;\n",
       "    }\n",
       "</style>\n",
       "<table border=\"1\" class=\"dataframe\">\n",
       "  <thead>\n",
       "    <tr style=\"text-align: right;\">\n",
       "      <th></th>\n",
       "      <th>case_number</th>\n",
       "      <th>claim_amount</th>\n",
       "    </tr>\n",
       "  </thead>\n",
       "  <tbody>\n",
       "    <tr>\n",
       "      <th>0</th>\n",
       "      <td>2004103065920</td>\n",
       "      <td>50.00</td>\n",
       "    </tr>\n",
       "    <tr>\n",
       "      <th>1</th>\n",
       "      <td>0226059M</td>\n",
       "      <td>312.50</td>\n",
       "    </tr>\n",
       "    <tr>\n",
       "      <th>2</th>\n",
       "      <td>2006012099982</td>\n",
       "      <td>90.00</td>\n",
       "    </tr>\n",
       "    <tr>\n",
       "      <th>3</th>\n",
       "      <td>2005010372123</td>\n",
       "      <td>216.00</td>\n",
       "    </tr>\n",
       "    <tr>\n",
       "      <th>4</th>\n",
       "      <td>2004092263584</td>\n",
       "      <td>178.74</td>\n",
       "    </tr>\n",
       "  </tbody>\n",
       "</table>\n",
       "</div>"
      ],
      "text/plain": [
       "     case_number  claim_amount\n",
       "0  2004103065920         50.00\n",
       "1       0226059M        312.50\n",
       "2  2006012099982         90.00\n",
       "3  2005010372123        216.00\n",
       "4  2004092263584        178.74"
      ]
     },
     "execution_count": 2,
     "metadata": {},
     "output_type": "execute_result"
    }
   ],
   "source": [
    "# Read the dataset from CSV to a df. Write your code here\n",
    "df = pd.read_csv(\"insurance-claims.csv\")\n",
    "df.head()"
   ]
  },
  {
   "cell_type": "markdown",
   "metadata": {},
   "source": [
    "## Part 1 (6 Marks)"
   ]
  },
  {
   "cell_type": "markdown",
   "metadata": {
    "scrolled": true
   },
   "source": [
    "**1 i)** What is the mean of `claim_amount`? **`[0.5]`**"
   ]
  },
  {
   "cell_type": "code",
   "execution_count": 3,
   "metadata": {
    "ExecuteTime": {
     "end_time": "2019-07-24T11:11:20.293320Z",
     "start_time": "2019-07-24T11:11:20.284534Z"
    }
   },
   "outputs": [
    {
     "name": "stdout",
     "output_type": "stream",
     "text": [
      "count    2500.000000\n",
      "mean      131.412664\n",
      "std       158.855611\n",
      "min         2.000000\n",
      "25%        36.067500\n",
      "50%        71.125000\n",
      "75%       162.652500\n",
      "max       991.000000\n",
      "Name: claim_amount, dtype: float64\n"
     ]
    }
   ],
   "source": [
    "# What is the mean of claim_amount?\n",
    "df[\"claim_amount\"].mean()\n",
    "\n",
    "print(df[\"claim_amount\"].describe())\n",
    "# The mean of the claim amount is 131.41266399999998\n",
    "\n",
    "\n",
    "\n",
    "# correct (0.5)"
   ]
  },
  {
   "cell_type": "markdown",
   "metadata": {},
   "source": [
    "**1 ii)** What is the variance of `claim_amount`? **`[0.5]`**"
   ]
  },
  {
   "cell_type": "code",
   "execution_count": 4,
   "metadata": {
    "ExecuteTime": {
     "end_time": "2019-07-24T11:11:20.828556Z",
     "start_time": "2019-07-24T11:11:20.824609Z"
    }
   },
   "outputs": [
    {
     "data": {
      "text/plain": [
       "25235.105180495306"
      ]
     },
     "execution_count": 4,
     "metadata": {},
     "output_type": "execute_result"
    }
   ],
   "source": [
    "# What is the variance of claim_amount? \n",
    "df[\"claim_amount\"].var()\n",
    "\n",
    "# The variance of claim_amount is 25235.105180495306\n",
    "\n",
    "\n",
    "\n",
    "# correct (0.5)"
   ]
  },
  {
   "cell_type": "markdown",
   "metadata": {},
   "source": [
    "**1 iii)** \n",
    "- What is the skewness of `claim_amount`? **`[0.5]`**\n",
    "\n",
    "- How do you interpret the result of `claim_amount`'s skewness value? **`[0.5]`**"
   ]
  },
  {
   "cell_type": "code",
   "execution_count": 6,
   "metadata": {
    "ExecuteTime": {
     "end_time": "2019-07-24T11:11:21.333368Z",
     "start_time": "2019-07-24T11:11:21.328485Z"
    }
   },
   "outputs": [
    {
     "data": {
      "text/plain": [
       "2.4650649305683907"
      ]
     },
     "execution_count": 6,
     "metadata": {},
     "output_type": "execute_result"
    }
   ],
   "source": [
    "# What is the skewness of claim_amount? \n",
    "df[\"claim_amount\"].skew()\n",
    "\n",
    "# The skewness of claim_amount is 2.4650649305683907\n",
    "\n",
    "# How do you interpret the result of claim_amount's skewness value?\n",
    "# The series is right-tailed since the skewness value is positive. The skewness is considered to be high as skewness value is > 1. More of the claim amounts are lower than the mean.\n",
    "\n",
    "\n",
    "# correct (1)"
   ]
  },
  {
   "cell_type": "markdown",
   "metadata": {},
   "source": [
    "**1 iv)** Fill in the blanks: Using the interquartile-range method, a `claim_amount` is considered an outlier if it is below `______` or above `______`. **`[1]`**"
   ]
  },
  {
   "cell_type": "code",
   "execution_count": 7,
   "metadata": {
    "ExecuteTime": {
     "end_time": "2019-07-24T11:11:21.827278Z",
     "start_time": "2019-07-24T11:11:21.821392Z"
    }
   },
   "outputs": [
    {
     "name": "stdout",
     "output_type": "stream",
     "text": [
      "-153.81\n",
      "352.53\n"
     ]
    }
   ],
   "source": [
    "# Find the range of values an outlier of claim_amount can take (find the lower bound & upper bound)\n",
    "p25 = np.percentile(df[\"claim_amount\"], 25)\n",
    "\n",
    "p75 = np.percentile(df[\"claim_amount\"], 75)\n",
    "\n",
    "IQR = p75 - p25\n",
    "\n",
    "lower_bound = p25 - 1.5*IQR\n",
    "upper_bound = p75+ 1.5*IQR\n",
    "\n",
    "print(lower_bound)\n",
    "print(upper_bound)\n",
    "\n",
    "# A claim_amount is considered an outlier if it is below -153.81 or above 352.53\n",
    "\n",
    "\n",
    "# correct (1)"
   ]
  },
  {
   "cell_type": "markdown",
   "metadata": {},
   "source": [
    "**1 v)** What proportion of the observations in `claim_amount` are outliers? **`[1]`**"
   ]
  },
  {
   "cell_type": "code",
   "execution_count": 9,
   "metadata": {
    "ExecuteTime": {
     "end_time": "2019-07-24T11:11:22.356230Z",
     "start_time": "2019-07-24T11:11:22.348423Z"
    }
   },
   "outputs": [
    {
     "name": "stdout",
     "output_type": "stream",
     "text": [
      "Proportion: 0.0804\n",
      "Percentage 8.04\n"
     ]
    }
   ],
   "source": [
    "# What proportion of the observations in claim_amount are outliers?\n",
    "cond1 = df[\"claim_amount\"] > upper_bound \n",
    "cond2 = df[\"claim_amount\"] < lower_bound\n",
    "outliers_df = df[cond1 | cond2]\n",
    "prop_outlier = len(outliers_df[\"claim_amount\"]) / len(df[\"claim_amount\"])\n",
    "\n",
    "print(\"Proportion:\", prop_outlier)\n",
    "print(\"Percentage\", prop_outlier*100)\n",
    "\n",
    "# 0.0804 or 8.04% of the observations in claim_amount are outliers \n",
    "\n",
    "\n",
    "\n",
    "# correct (1)"
   ]
  },
  {
   "cell_type": "markdown",
   "metadata": {},
   "source": [
    "**1 vi)** Plot a Kernel Density Estimate (KDE) plot for `claim_amount` using `sns.kdeplot()`. Use the Gaussian kernel with bandwidth 25. In other words, add the parameters `kernel='gau'` and `bw=25` when plotting. Also add the parameter `shade=True` to shade the area under the graph.**`[1]`**\n",
    "\n",
    "Hint: Use the following lines to help you.\n",
    "```python\n",
    "ax1.set_xlabel(\"claim_amount\")\n",
    "ax1.set_ylabel(\"density\")\n",
    "ax1.set_title(\"KDE plot of claim_amount\")\n",
    "```"
   ]
  },
  {
   "cell_type": "code",
   "execution_count": 12,
   "metadata": {
    "ExecuteTime": {
     "end_time": "2019-07-24T11:11:23.938507Z",
     "start_time": "2019-07-24T11:11:23.739404Z"
    },
    "scrolled": false
   },
   "outputs": [
    {
     "data": {
      "text/plain": [
       "Text(0.5, 1.0, 'KDE plot of claim_amount')"
      ]
     },
     "execution_count": 12,
     "metadata": {},
     "output_type": "execute_result"
    },
    {
     "data": {
      "text/plain": [
       "<Figure size 720x432 with 0 Axes>"
      ]
     },
     "metadata": {},
     "output_type": "display_data"
    },
    {
     "data": {
      "image/png": "[encoded data removed]",
      "text/plain": [
       "<Figure size 1152x576 with 1 Axes>"
      ]
     },
     "metadata": {
      "needs_background": "light"
     },
     "output_type": "display_data"
    }
   ],
   "source": [
    "# Plot a KDE plot for claim_amount\n",
    "import seaborn as sns\n",
    "\n",
    "plt.figure(figsize=(10,6))\n",
    "\n",
    "fig = plt.figure(figsize=(16,8))\n",
    "\n",
    "ax1 = fig.add_subplot()\n",
    "\n",
    "ax1 = sns.kdeplot(df['claim_amount'], \n",
    "                  label='claim_amount',\n",
    "                  kernel = 'gau',\n",
    "                  bw = 25,\n",
    "                  shade = True)\n",
    "\n",
    "ax1.set_xlabel(\"claim_amount\")\n",
    "ax1.set_ylabel(\"density\")\n",
    "ax1.set_title(\"KDE plot of claim_amount\")\n",
    "\n",
    "\n",
    "\n",
    "# correct (1)"
   ]
  },
  {
   "cell_type": "markdown",
   "metadata": {},
   "source": [
    "**1 vii)** \n",
    "\n",
    "- What is the difference when calculating ($\\text{median}$ - $\\text{mean}$) of `claim_amount`? How will you interpret this value, in relation to the skewness of the distribution? Hint: Use the answers in **1 i)** and **1 vii)** to help you. **`[1]`**"
   ]
  },
  {
   "cell_type": "code",
   "execution_count": 26,
   "metadata": {
    "ExecuteTime": {
     "end_time": "2019-07-24T11:11:27.464779Z",
     "start_time": "2019-07-24T11:11:27.459898Z"
    }
   },
   "outputs": [
    {
     "name": "stdout",
     "output_type": "stream",
     "text": [
      "-60.28766399999998\n"
     ]
    }
   ],
   "source": [
    "# What is the difference when calculating (median - mean) of claim_amount? \n",
    "diff = df[\"claim_amount\"].median() - df[\"claim_amount\"].mean()\n",
    "print(diff)\n",
    "\n",
    "# The difference between median and mean is 60.28766399999998 (Mean greater than Median.\n",
    "\n",
    "# How will you interpret the value of (median - mean), in relation to the skewness\n",
    "# of the distribution?\n",
    "# For a series that is positively skewed, the mean will be greater than the median.\n",
    "\n",
    "\n",
    "\n",
    "# almost correct (0.75)\n",
    "# 50% of the observations / majority of observations are equal to or below the mean"
   ]
  },
  {
   "cell_type": "markdown",
   "metadata": {},
   "source": [
    "<div class=\"alert alert-success\">\n",
    "**Checkpoint**: When you have completed Part 1, upload your progress to eLearn. eLearn only accepts the latest notebooks so if you have an existing notebook, your latest upload will **override** it.\n",
    "</div>\n",
    "## Part 2 (6 Marks)\n",
    "\n",
    "For this question, the following values are defined:\n",
    "\n",
    "Instrument | Variable | Value\n",
    "--|--|--|\n",
    "**Deductible**|$d$|$50$\n",
    "**Co-insurance ratio**|$c$|$0.3$\n",
    "**Policy Limit **|$l$|$500$"
   ]
  },
  {
   "cell_type": "markdown",
   "metadata": {},
   "source": [
    "**2 i)** Write a function `compute_claim_after_deductible(claim_amount)` that takes in a claim amount `claim_amount` as the only parameter. `compute_claim_after_deductible()` returns `0` if the `claim_amount` is less than `50`, and returns (`claim_amount - 50`) if the claim amount is above `50`.\n",
    "\n",
    "Hint: You may use the following code to help you. If you do, take note that you need to correct the logic errors. **`[0.5]`**"
   ]
  },
  {
   "cell_type": "code",
   "execution_count": 13,
   "metadata": {
    "ExecuteTime": {
     "end_time": "2019-07-24T11:11:28.519603Z",
     "start_time": "2019-07-24T11:11:28.515698Z"
    }
   },
   "outputs": [],
   "source": [
    "# Write a function compute_claim_after_deductible(claim_amount)\n",
    "def compute_claim_after_deductible(claim_amount):\n",
    "    d = 50 \n",
    "    if(claim_amount < d):\n",
    "        return 0\n",
    "    else:\n",
    "        return (claim_amount - d)\n",
    "\n",
    "    \n",
    "# correct (0.5)"
   ]
  },
  {
   "cell_type": "markdown",
   "metadata": {},
   "source": [
    "**2 ii)** Now, create a new column `claim_amount_with_deductible`. This is the result of `apply`ing `compute_claim_after_deductible` to the column `claim_amount`. **`[0.5]`**"
   ]
  },
  {
   "cell_type": "code",
   "execution_count": 14,
   "metadata": {
    "ExecuteTime": {
     "end_time": "2019-07-24T11:11:32.006574Z",
     "start_time": "2019-07-24T11:11:31.994845Z"
    }
   },
   "outputs": [
    {
     "data": {
      "text/html": [
       "<div>\n",
       "<style scoped>\n",
       "    .dataframe tbody tr th:only-of-type {\n",
       "        vertical-align: middle;\n",
       "    }\n",
       "\n",
       "    .dataframe tbody tr th {\n",
       "        vertical-align: top;\n",
       "    }\n",
       "\n",
       "    .dataframe thead th {\n",
       "        text-align: right;\n",
       "    }\n",
       "</style>\n",
       "<table border=\"1\" class=\"dataframe\">\n",
       "  <thead>\n",
       "    <tr style=\"text-align: right;\">\n",
       "      <th></th>\n",
       "      <th>case_number</th>\n",
       "      <th>claim_amount</th>\n",
       "      <th>claim_amount_with_deductible</th>\n",
       "    </tr>\n",
       "  </thead>\n",
       "  <tbody>\n",
       "    <tr>\n",
       "      <th>0</th>\n",
       "      <td>2004103065920</td>\n",
       "      <td>50.00</td>\n",
       "      <td>0.00</td>\n",
       "    </tr>\n",
       "    <tr>\n",
       "      <th>1</th>\n",
       "      <td>0226059M</td>\n",
       "      <td>312.50</td>\n",
       "      <td>262.50</td>\n",
       "    </tr>\n",
       "    <tr>\n",
       "      <th>2</th>\n",
       "      <td>2006012099982</td>\n",
       "      <td>90.00</td>\n",
       "      <td>40.00</td>\n",
       "    </tr>\n",
       "    <tr>\n",
       "      <th>3</th>\n",
       "      <td>2005010372123</td>\n",
       "      <td>216.00</td>\n",
       "      <td>166.00</td>\n",
       "    </tr>\n",
       "    <tr>\n",
       "      <th>4</th>\n",
       "      <td>2004092263584</td>\n",
       "      <td>178.74</td>\n",
       "      <td>128.74</td>\n",
       "    </tr>\n",
       "  </tbody>\n",
       "</table>\n",
       "</div>"
      ],
      "text/plain": [
       "     case_number  claim_amount  claim_amount_with_deductible\n",
       "0  2004103065920         50.00                          0.00\n",
       "1       0226059M        312.50                        262.50\n",
       "2  2006012099982         90.00                         40.00\n",
       "3  2005010372123        216.00                        166.00\n",
       "4  2004092263584        178.74                        128.74"
      ]
     },
     "execution_count": 14,
     "metadata": {},
     "output_type": "execute_result"
    }
   ],
   "source": [
    "# Create a new column claim_amount_with_deductible by using Series.apply()\n",
    "df[\"claim_amount_with_deductible\"] = df[\"claim_amount\"].apply(compute_claim_after_deductible)\n",
    "\n",
    "df.head()\n",
    "\n",
    "\n",
    "# correct (0.5)"
   ]
  },
  {
   "cell_type": "markdown",
   "metadata": {},
   "source": [
    "**2 iii)** Plot a KDE plot for **both** `claim_amount` and `claim_amount_with_deductible` using `sns.kdeplot()`. They MUST be in the same KDE plot. \n",
    "Use the Gaussian kernel with bandwidth 25. In other words, add the parameters `kernel='gau', bw=25` when plotting. Also, add the parameters `shade=True` to shade the area under the KDE plot. **`[1]`**\n",
    "\n",
    "Hint: Use the following lines to help you.\n",
    "```python\n",
    "fig2 = plt.figure(figsize=(16, 8))\n",
    "ax1 = fig2.add_subplot(111)\n",
    "```"
   ]
  },
  {
   "cell_type": "code",
   "execution_count": 17,
   "metadata": {
    "ExecuteTime": {
     "end_time": "2019-07-24T11:11:32.650445Z",
     "start_time": "2019-07-24T11:11:32.392742Z"
    },
    "scrolled": false
   },
   "outputs": [
    {
     "data": {
      "text/plain": [
       "Text(0.5, 1.0, 'KDE plot of claim_amount vs claim_amount_with_deductible')"
      ]
     },
     "execution_count": 17,
     "metadata": {},
     "output_type": "execute_result"
    },
    {
     "data": {
      "image/png": "[encoded data removed]",
      "text/plain": [
       "<Figure size 1152x576 with 1 Axes>"
      ]
     },
     "metadata": {
      "needs_background": "light"
     },
     "output_type": "display_data"
    }
   ],
   "source": [
    "# Plot a KDE plot for both claim_amount and claim_amount_with_deductible. They MUST be\n",
    "# in the same plot.\n",
    "\n",
    "fig2 = plt.figure(figsize=(16, 8))\n",
    "ax1 = fig2.add_subplot(111)\n",
    "sns.kdeplot(df['claim_amount'], ax=ax1,kernel='gau',bw=25,shade = True)\n",
    "sns.kdeplot(df['claim_amount_with_deductible'], ax=ax1,kernel='gau',bw=25,shade = True)\n",
    "\n",
    "#Plot the mean for both KDE\n",
    "plt.axvline(df['claim_amount'].mean(), linestyle = '--', color = 'b',label=\"claim_amount's mean\")\n",
    "plt.axvline(df['claim_amount_with_deductible'].mean(), linestyle = '--', color = 'r',label=\"claim_amount_with_deductible's mean\")\n",
    "\n",
    "ax1.set_ylabel(\"Density\")\n",
    "ax1.legend(loc=7)\n",
    "ax1.set_title(\"KDE plot of claim_amount vs claim_amount_with_deductible\")\n",
    "\n",
    "\n",
    "# missing x axis label (0.25)"
   ]
  },
  {
   "cell_type": "markdown",
   "metadata": {},
   "source": [
    "**2 iv)** How has the deductible impacted the shape of the KDE plot? Describe the change in terms of the shift of the mean and the proportion of the observations having the value of 0.\n",
    "\n",
    "Hint: Consider using the results of `df.describe()` to explain your answer. **`[1]`**"
   ]
  },
  {
   "cell_type": "code",
   "execution_count": 30,
   "metadata": {
    "ExecuteTime": {
     "end_time": "2019-07-24T11:11:32.718792Z",
     "start_time": "2019-07-24T11:11:32.715836Z"
    }
   },
   "outputs": [],
   "source": [
    "# How has the deductible impacted the shape of the KDE plot? \n",
    "\n",
    "# Having the deductible has caused the KDE plot to be smaller (claim amounts are smaller) but with a higher density.\n",
    "# For claim amounts with deductible, the mean is shifted left and is lesser than the mean of claim amounts without deductible (seen from KDE plot above).\n",
    "# For claim amounts with deductible, the proportion of the observations having the value of zero is greater than that of claim amounts without deductible\n",
    "\n",
    "# correct (1)\n"
   ]
  },
  {
   "cell_type": "markdown",
   "metadata": {},
   "source": [
    "**2 v)** Write a function `compute_claim_payable_by_insurer(claim_amount)` that takes in a claim amount `claim_amount` as the only parameter. `compute_claim_payable_by_insurer()` performs the following:\n",
    "1. if the `claim_amount` is less than `50`, return `0` \n",
    "2. if the claim amount is above `50`, deduct `50` from the `claim_amount`, then calculate the copayment paid by the insurer which is $1-0.3=0.7$ of the remaining amount\n",
    "3. if the value calculated in step 2 exceeds the policy limit of `500`, then return `500`. If not, return the value calculated in step 2 \n",
    "\n",
    "Hint: You may use the following code to help you. If you do, take note that you need to correct the logic errors. **`[1]`**"
   ]
  },
  {
   "cell_type": "code",
   "execution_count": 18,
   "metadata": {
    "ExecuteTime": {
     "end_time": "2019-07-24T11:11:33.069149Z",
     "start_time": "2019-07-24T11:11:33.064270Z"
    }
   },
   "outputs": [],
   "source": [
    "# Write a function compute_claim_payable_by_insurer(claim_amount)\n",
    "\n",
    "def compute_claim_payable_by_insurer(claim_amount):\n",
    "    d = 50\n",
    "    c = 0.3\n",
    "    l= 500\n",
    "    \n",
    "    if(claim_amount < d):\n",
    "        return 0\n",
    "    else:\n",
    "        payout = (claim_amount - d)*(1-c)\n",
    "        if(payout > l):\n",
    "            return 500\n",
    "        else:\n",
    "            return payout\n",
    "        \n",
    "        \n",
    "# correct (1)"
   ]
  },
  {
   "cell_type": "markdown",
   "metadata": {},
   "source": [
    "**2 vi)** Now, create a new column `claim_amount_by_insurer`. This is the result of `apply`ing `compute_claim_payable_by_insurer()` to the column `claim_amount` **Be careful! Choose the correct column**. **`[0.5]`** "
   ]
  },
  {
   "cell_type": "code",
   "execution_count": 19,
   "metadata": {
    "ExecuteTime": {
     "end_time": "2019-07-24T11:11:33.459269Z",
     "start_time": "2019-07-24T11:11:33.436826Z"
    }
   },
   "outputs": [
    {
     "data": {
      "text/html": [
       "<div>\n",
       "<style scoped>\n",
       "    .dataframe tbody tr th:only-of-type {\n",
       "        vertical-align: middle;\n",
       "    }\n",
       "\n",
       "    .dataframe tbody tr th {\n",
       "        vertical-align: top;\n",
       "    }\n",
       "\n",
       "    .dataframe thead th {\n",
       "        text-align: right;\n",
       "    }\n",
       "</style>\n",
       "<table border=\"1\" class=\"dataframe\">\n",
       "  <thead>\n",
       "    <tr style=\"text-align: right;\">\n",
       "      <th></th>\n",
       "      <th>case_number</th>\n",
       "      <th>claim_amount</th>\n",
       "      <th>claim_amount_with_deductible</th>\n",
       "      <th>claim_amount_by_insurer</th>\n",
       "    </tr>\n",
       "  </thead>\n",
       "  <tbody>\n",
       "    <tr>\n",
       "      <th>0</th>\n",
       "      <td>2004103065920</td>\n",
       "      <td>50.00</td>\n",
       "      <td>0.00</td>\n",
       "      <td>0.000</td>\n",
       "    </tr>\n",
       "    <tr>\n",
       "      <th>1</th>\n",
       "      <td>0226059M</td>\n",
       "      <td>312.50</td>\n",
       "      <td>262.50</td>\n",
       "      <td>183.750</td>\n",
       "    </tr>\n",
       "    <tr>\n",
       "      <th>2</th>\n",
       "      <td>2006012099982</td>\n",
       "      <td>90.00</td>\n",
       "      <td>40.00</td>\n",
       "      <td>28.000</td>\n",
       "    </tr>\n",
       "    <tr>\n",
       "      <th>3</th>\n",
       "      <td>2005010372123</td>\n",
       "      <td>216.00</td>\n",
       "      <td>166.00</td>\n",
       "      <td>116.200</td>\n",
       "    </tr>\n",
       "    <tr>\n",
       "      <th>4</th>\n",
       "      <td>2004092263584</td>\n",
       "      <td>178.74</td>\n",
       "      <td>128.74</td>\n",
       "      <td>90.118</td>\n",
       "    </tr>\n",
       "    <tr>\n",
       "      <th>5</th>\n",
       "      <td>2006012600433</td>\n",
       "      <td>69.00</td>\n",
       "      <td>19.00</td>\n",
       "      <td>13.300</td>\n",
       "    </tr>\n",
       "    <tr>\n",
       "      <th>6</th>\n",
       "      <td>0806092M</td>\n",
       "      <td>40.00</td>\n",
       "      <td>0.00</td>\n",
       "      <td>0.000</td>\n",
       "    </tr>\n",
       "    <tr>\n",
       "      <th>7</th>\n",
       "      <td>2006072109864</td>\n",
       "      <td>15.00</td>\n",
       "      <td>0.00</td>\n",
       "      <td>0.000</td>\n",
       "    </tr>\n",
       "    <tr>\n",
       "      <th>8</th>\n",
       "      <td>2004102565645</td>\n",
       "      <td>250.00</td>\n",
       "      <td>200.00</td>\n",
       "      <td>140.000</td>\n",
       "    </tr>\n",
       "    <tr>\n",
       "      <th>9</th>\n",
       "      <td>0223181M</td>\n",
       "      <td>500.00</td>\n",
       "      <td>450.00</td>\n",
       "      <td>315.000</td>\n",
       "    </tr>\n",
       "    <tr>\n",
       "      <th>10</th>\n",
       "      <td>2006051706522</td>\n",
       "      <td>50.00</td>\n",
       "      <td>0.00</td>\n",
       "      <td>0.000</td>\n",
       "    </tr>\n",
       "    <tr>\n",
       "      <th>11</th>\n",
       "      <td>2009081062466</td>\n",
       "      <td>214.64</td>\n",
       "      <td>164.64</td>\n",
       "      <td>115.248</td>\n",
       "    </tr>\n",
       "    <tr>\n",
       "      <th>12</th>\n",
       "      <td>2004100564528</td>\n",
       "      <td>94.87</td>\n",
       "      <td>44.87</td>\n",
       "      <td>31.409</td>\n",
       "    </tr>\n",
       "    <tr>\n",
       "      <th>13</th>\n",
       "      <td>2007022621539</td>\n",
       "      <td>65.00</td>\n",
       "      <td>15.00</td>\n",
       "      <td>10.500</td>\n",
       "    </tr>\n",
       "    <tr>\n",
       "      <th>14</th>\n",
       "      <td>0502047L</td>\n",
       "      <td>15.00</td>\n",
       "      <td>0.00</td>\n",
       "      <td>0.000</td>\n",
       "    </tr>\n",
       "    <tr>\n",
       "      <th>15</th>\n",
       "      <td>2005031277895</td>\n",
       "      <td>20.00</td>\n",
       "      <td>0.00</td>\n",
       "      <td>0.000</td>\n",
       "    </tr>\n",
       "    <tr>\n",
       "      <th>16</th>\n",
       "      <td>0602090L</td>\n",
       "      <td>109.00</td>\n",
       "      <td>59.00</td>\n",
       "      <td>41.300</td>\n",
       "    </tr>\n",
       "    <tr>\n",
       "      <th>17</th>\n",
       "      <td>2005010372205</td>\n",
       "      <td>50.00</td>\n",
       "      <td>0.00</td>\n",
       "      <td>0.000</td>\n",
       "    </tr>\n",
       "    <tr>\n",
       "      <th>18</th>\n",
       "      <td>2006031603203</td>\n",
       "      <td>20.00</td>\n",
       "      <td>0.00</td>\n",
       "      <td>0.000</td>\n",
       "    </tr>\n",
       "    <tr>\n",
       "      <th>19</th>\n",
       "      <td>1107314M</td>\n",
       "      <td>15.06</td>\n",
       "      <td>0.00</td>\n",
       "      <td>0.000</td>\n",
       "    </tr>\n",
       "    <tr>\n",
       "      <th>20</th>\n",
       "      <td>2006112416158</td>\n",
       "      <td>21.00</td>\n",
       "      <td>0.00</td>\n",
       "      <td>0.000</td>\n",
       "    </tr>\n",
       "    <tr>\n",
       "      <th>21</th>\n",
       "      <td>2004122770902</td>\n",
       "      <td>250.00</td>\n",
       "      <td>200.00</td>\n",
       "      <td>140.000</td>\n",
       "    </tr>\n",
       "    <tr>\n",
       "      <th>22</th>\n",
       "      <td>2005100393670</td>\n",
       "      <td>66.51</td>\n",
       "      <td>16.51</td>\n",
       "      <td>11.557</td>\n",
       "    </tr>\n",
       "    <tr>\n",
       "      <th>23</th>\n",
       "      <td>2006083111817</td>\n",
       "      <td>13.00</td>\n",
       "      <td>0.00</td>\n",
       "      <td>0.000</td>\n",
       "    </tr>\n",
       "    <tr>\n",
       "      <th>24</th>\n",
       "      <td>0916028M</td>\n",
       "      <td>436.43</td>\n",
       "      <td>386.43</td>\n",
       "      <td>270.501</td>\n",
       "    </tr>\n",
       "    <tr>\n",
       "      <th>25</th>\n",
       "      <td>2004051752597</td>\n",
       "      <td>50.00</td>\n",
       "      <td>0.00</td>\n",
       "      <td>0.000</td>\n",
       "    </tr>\n",
       "    <tr>\n",
       "      <th>26</th>\n",
       "      <td>0805056M</td>\n",
       "      <td>6.00</td>\n",
       "      <td>0.00</td>\n",
       "      <td>0.000</td>\n",
       "    </tr>\n",
       "    <tr>\n",
       "      <th>27</th>\n",
       "      <td>2009051158499</td>\n",
       "      <td>396.61</td>\n",
       "      <td>346.61</td>\n",
       "      <td>242.627</td>\n",
       "    </tr>\n",
       "    <tr>\n",
       "      <th>28</th>\n",
       "      <td>2008092250185</td>\n",
       "      <td>11.98</td>\n",
       "      <td>0.00</td>\n",
       "      <td>0.000</td>\n",
       "    </tr>\n",
       "    <tr>\n",
       "      <th>29</th>\n",
       "      <td>2004121769192</td>\n",
       "      <td>152.58</td>\n",
       "      <td>102.58</td>\n",
       "      <td>71.806</td>\n",
       "    </tr>\n",
       "    <tr>\n",
       "      <th>...</th>\n",
       "      <td>...</td>\n",
       "      <td>...</td>\n",
       "      <td>...</td>\n",
       "      <td>...</td>\n",
       "    </tr>\n",
       "    <tr>\n",
       "      <th>2470</th>\n",
       "      <td>1217348M</td>\n",
       "      <td>293.06</td>\n",
       "      <td>243.06</td>\n",
       "      <td>170.142</td>\n",
       "    </tr>\n",
       "    <tr>\n",
       "      <th>2471</th>\n",
       "      <td>2008120353064</td>\n",
       "      <td>65.83</td>\n",
       "      <td>15.83</td>\n",
       "      <td>11.081</td>\n",
       "    </tr>\n",
       "    <tr>\n",
       "      <th>2472</th>\n",
       "      <td>2007071328330</td>\n",
       "      <td>25.00</td>\n",
       "      <td>0.00</td>\n",
       "      <td>0.000</td>\n",
       "    </tr>\n",
       "    <tr>\n",
       "      <th>2473</th>\n",
       "      <td>0428085L</td>\n",
       "      <td>53.00</td>\n",
       "      <td>3.00</td>\n",
       "      <td>2.100</td>\n",
       "    </tr>\n",
       "    <tr>\n",
       "      <th>2474</th>\n",
       "      <td>2007012319120</td>\n",
       "      <td>50.00</td>\n",
       "      <td>0.00</td>\n",
       "      <td>0.000</td>\n",
       "    </tr>\n",
       "    <tr>\n",
       "      <th>2475</th>\n",
       "      <td>2005103195424</td>\n",
       "      <td>22.40</td>\n",
       "      <td>0.00</td>\n",
       "      <td>0.000</td>\n",
       "    </tr>\n",
       "    <tr>\n",
       "      <th>2476</th>\n",
       "      <td>2005081290492</td>\n",
       "      <td>263.52</td>\n",
       "      <td>213.52</td>\n",
       "      <td>149.464</td>\n",
       "    </tr>\n",
       "    <tr>\n",
       "      <th>2477</th>\n",
       "      <td>2007042024275</td>\n",
       "      <td>8.60</td>\n",
       "      <td>0.00</td>\n",
       "      <td>0.000</td>\n",
       "    </tr>\n",
       "    <tr>\n",
       "      <th>2478</th>\n",
       "      <td>2004120168168</td>\n",
       "      <td>87.50</td>\n",
       "      <td>37.50</td>\n",
       "      <td>26.250</td>\n",
       "    </tr>\n",
       "    <tr>\n",
       "      <th>2479</th>\n",
       "      <td>1107172M</td>\n",
       "      <td>25.00</td>\n",
       "      <td>0.00</td>\n",
       "      <td>0.000</td>\n",
       "    </tr>\n",
       "    <tr>\n",
       "      <th>2480</th>\n",
       "      <td>2004092964195</td>\n",
       "      <td>20.00</td>\n",
       "      <td>0.00</td>\n",
       "      <td>0.000</td>\n",
       "    </tr>\n",
       "    <tr>\n",
       "      <th>2481</th>\n",
       "      <td>0707114M</td>\n",
       "      <td>119.16</td>\n",
       "      <td>69.16</td>\n",
       "      <td>48.412</td>\n",
       "    </tr>\n",
       "    <tr>\n",
       "      <th>2482</th>\n",
       "      <td>2004122170087</td>\n",
       "      <td>96.25</td>\n",
       "      <td>46.25</td>\n",
       "      <td>32.375</td>\n",
       "    </tr>\n",
       "    <tr>\n",
       "      <th>2483</th>\n",
       "      <td>2005110895752</td>\n",
       "      <td>99.00</td>\n",
       "      <td>49.00</td>\n",
       "      <td>34.300</td>\n",
       "    </tr>\n",
       "    <tr>\n",
       "      <th>2484</th>\n",
       "      <td>2004070858930</td>\n",
       "      <td>200.00</td>\n",
       "      <td>150.00</td>\n",
       "      <td>105.000</td>\n",
       "    </tr>\n",
       "    <tr>\n",
       "      <th>2485</th>\n",
       "      <td>2004052153010</td>\n",
       "      <td>75.00</td>\n",
       "      <td>25.00</td>\n",
       "      <td>17.500</td>\n",
       "    </tr>\n",
       "    <tr>\n",
       "      <th>2486</th>\n",
       "      <td>2005012474134</td>\n",
       "      <td>85.00</td>\n",
       "      <td>35.00</td>\n",
       "      <td>24.500</td>\n",
       "    </tr>\n",
       "    <tr>\n",
       "      <th>2487</th>\n",
       "      <td>2006120516657</td>\n",
       "      <td>76.44</td>\n",
       "      <td>26.44</td>\n",
       "      <td>18.508</td>\n",
       "    </tr>\n",
       "    <tr>\n",
       "      <th>2488</th>\n",
       "      <td>2006021401551</td>\n",
       "      <td>44.52</td>\n",
       "      <td>0.00</td>\n",
       "      <td>0.000</td>\n",
       "    </tr>\n",
       "    <tr>\n",
       "      <th>2489</th>\n",
       "      <td>2004062156742</td>\n",
       "      <td>400.00</td>\n",
       "      <td>350.00</td>\n",
       "      <td>245.000</td>\n",
       "    </tr>\n",
       "    <tr>\n",
       "      <th>2490</th>\n",
       "      <td>2008020639170</td>\n",
       "      <td>33.29</td>\n",
       "      <td>0.00</td>\n",
       "      <td>0.000</td>\n",
       "    </tr>\n",
       "    <tr>\n",
       "      <th>2491</th>\n",
       "      <td>2004060855152</td>\n",
       "      <td>297.50</td>\n",
       "      <td>247.50</td>\n",
       "      <td>173.250</td>\n",
       "    </tr>\n",
       "    <tr>\n",
       "      <th>2492</th>\n",
       "      <td>0219508M</td>\n",
       "      <td>175.00</td>\n",
       "      <td>125.00</td>\n",
       "      <td>87.500</td>\n",
       "    </tr>\n",
       "    <tr>\n",
       "      <th>2493</th>\n",
       "      <td>2006070709149</td>\n",
       "      <td>342.21</td>\n",
       "      <td>292.21</td>\n",
       "      <td>204.547</td>\n",
       "    </tr>\n",
       "    <tr>\n",
       "      <th>2494</th>\n",
       "      <td>2007033023271</td>\n",
       "      <td>42.40</td>\n",
       "      <td>0.00</td>\n",
       "      <td>0.000</td>\n",
       "    </tr>\n",
       "    <tr>\n",
       "      <th>2495</th>\n",
       "      <td>2008011838142</td>\n",
       "      <td>244.50</td>\n",
       "      <td>194.50</td>\n",
       "      <td>136.150</td>\n",
       "    </tr>\n",
       "    <tr>\n",
       "      <th>2496</th>\n",
       "      <td>25168</td>\n",
       "      <td>42.95</td>\n",
       "      <td>0.00</td>\n",
       "      <td>0.000</td>\n",
       "    </tr>\n",
       "    <tr>\n",
       "      <th>2497</th>\n",
       "      <td>2006073110247</td>\n",
       "      <td>12.00</td>\n",
       "      <td>0.00</td>\n",
       "      <td>0.000</td>\n",
       "    </tr>\n",
       "    <tr>\n",
       "      <th>2498</th>\n",
       "      <td>0703513M</td>\n",
       "      <td>25.00</td>\n",
       "      <td>0.00</td>\n",
       "      <td>0.000</td>\n",
       "    </tr>\n",
       "    <tr>\n",
       "      <th>2499</th>\n",
       "      <td>2004111967444</td>\n",
       "      <td>50.00</td>\n",
       "      <td>0.00</td>\n",
       "      <td>0.000</td>\n",
       "    </tr>\n",
       "  </tbody>\n",
       "</table>\n",
       "<p>2500 rows × 4 columns</p>\n",
       "</div>"
      ],
      "text/plain": [
       "        case_number  claim_amount  claim_amount_with_deductible  \\\n",
       "0     2004103065920         50.00                          0.00   \n",
       "1          0226059M        312.50                        262.50   \n",
       "2     2006012099982         90.00                         40.00   \n",
       "3     2005010372123        216.00                        166.00   \n",
       "4     2004092263584        178.74                        128.74   \n",
       "5     2006012600433         69.00                         19.00   \n",
       "6          0806092M         40.00                          0.00   \n",
       "7     2006072109864         15.00                          0.00   \n",
       "8     2004102565645        250.00                        200.00   \n",
       "9          0223181M        500.00                        450.00   \n",
       "10    2006051706522         50.00                          0.00   \n",
       "11    2009081062466        214.64                        164.64   \n",
       "12    2004100564528         94.87                         44.87   \n",
       "13    2007022621539         65.00                         15.00   \n",
       "14         0502047L         15.00                          0.00   \n",
       "15    2005031277895         20.00                          0.00   \n",
       "16         0602090L        109.00                         59.00   \n",
       "17    2005010372205         50.00                          0.00   \n",
       "18    2006031603203         20.00                          0.00   \n",
       "19         1107314M         15.06                          0.00   \n",
       "20    2006112416158         21.00                          0.00   \n",
       "21    2004122770902        250.00                        200.00   \n",
       "22    2005100393670         66.51                         16.51   \n",
       "23    2006083111817         13.00                          0.00   \n",
       "24         0916028M        436.43                        386.43   \n",
       "25    2004051752597         50.00                          0.00   \n",
       "26         0805056M          6.00                          0.00   \n",
       "27    2009051158499        396.61                        346.61   \n",
       "28    2008092250185         11.98                          0.00   \n",
       "29    2004121769192        152.58                        102.58   \n",
       "...             ...           ...                           ...   \n",
       "2470       1217348M        293.06                        243.06   \n",
       "2471  2008120353064         65.83                         15.83   \n",
       "2472  2007071328330         25.00                          0.00   \n",
       "2473       0428085L         53.00                          3.00   \n",
       "2474  2007012319120         50.00                          0.00   \n",
       "2475  2005103195424         22.40                          0.00   \n",
       "2476  2005081290492        263.52                        213.52   \n",
       "2477  2007042024275          8.60                          0.00   \n",
       "2478  2004120168168         87.50                         37.50   \n",
       "2479       1107172M         25.00                          0.00   \n",
       "2480  2004092964195         20.00                          0.00   \n",
       "2481       0707114M        119.16                         69.16   \n",
       "2482  2004122170087         96.25                         46.25   \n",
       "2483  2005110895752         99.00                         49.00   \n",
       "2484  2004070858930        200.00                        150.00   \n",
       "2485  2004052153010         75.00                         25.00   \n",
       "2486  2005012474134         85.00                         35.00   \n",
       "2487  2006120516657         76.44                         26.44   \n",
       "2488  2006021401551         44.52                          0.00   \n",
       "2489  2004062156742        400.00                        350.00   \n",
       "2490  2008020639170         33.29                          0.00   \n",
       "2491  2004060855152        297.50                        247.50   \n",
       "2492       0219508M        175.00                        125.00   \n",
       "2493  2006070709149        342.21                        292.21   \n",
       "2494  2007033023271         42.40                          0.00   \n",
       "2495  2008011838142        244.50                        194.50   \n",
       "2496          25168         42.95                          0.00   \n",
       "2497  2006073110247         12.00                          0.00   \n",
       "2498       0703513M         25.00                          0.00   \n",
       "2499  2004111967444         50.00                          0.00   \n",
       "\n",
       "      claim_amount_by_insurer  \n",
       "0                       0.000  \n",
       "1                     183.750  \n",
       "2                      28.000  \n",
       "3                     116.200  \n",
       "4                      90.118  \n",
       "5                      13.300  \n",
       "6                       0.000  \n",
       "7                       0.000  \n",
       "8                     140.000  \n",
       "9                     315.000  \n",
       "10                      0.000  \n",
       "11                    115.248  \n",
       "12                     31.409  \n",
       "13                     10.500  \n",
       "14                      0.000  \n",
       "15                      0.000  \n",
       "16                     41.300  \n",
       "17                      0.000  \n",
       "18                      0.000  \n",
       "19                      0.000  \n",
       "20                      0.000  \n",
       "21                    140.000  \n",
       "22                     11.557  \n",
       "23                      0.000  \n",
       "24                    270.501  \n",
       "25                      0.000  \n",
       "26                      0.000  \n",
       "27                    242.627  \n",
       "28                      0.000  \n",
       "29                     71.806  \n",
       "...                       ...  \n",
       "2470                  170.142  \n",
       "2471                   11.081  \n",
       "2472                    0.000  \n",
       "2473                    2.100  \n",
       "2474                    0.000  \n",
       "2475                    0.000  \n",
       "2476                  149.464  \n",
       "2477                    0.000  \n",
       "2478                   26.250  \n",
       "2479                    0.000  \n",
       "2480                    0.000  \n",
       "2481                   48.412  \n",
       "2482                   32.375  \n",
       "2483                   34.300  \n",
       "2484                  105.000  \n",
       "2485                   17.500  \n",
       "2486                   24.500  \n",
       "2487                   18.508  \n",
       "2488                    0.000  \n",
       "2489                  245.000  \n",
       "2490                    0.000  \n",
       "2491                  173.250  \n",
       "2492                   87.500  \n",
       "2493                  204.547  \n",
       "2494                    0.000  \n",
       "2495                  136.150  \n",
       "2496                    0.000  \n",
       "2497                    0.000  \n",
       "2498                    0.000  \n",
       "2499                    0.000  \n",
       "\n",
       "[2500 rows x 4 columns]"
      ]
     },
     "execution_count": 19,
     "metadata": {},
     "output_type": "execute_result"
    }
   ],
   "source": [
    "# Create a new column claim_amount_with_deductible by using Series.apply()\n",
    "df[\"claim_amount_by_insurer\"] = df[\"claim_amount\"].apply(compute_claim_payable_by_insurer)\n",
    "\n",
    "df\n",
    "\n",
    "\n",
    "# correct (0.5)"
   ]
  },
  {
   "cell_type": "markdown",
   "metadata": {
    "ExecuteTime": {
     "end_time": "2018-09-29T03:47:25.320211Z",
     "start_time": "2018-09-29T03:47:25.313846Z"
    }
   },
   "source": [
    "**2 vii)** Run the following cell to find out key statistics of the `df`. Fill in the blanks:\n",
    "\n",
    "The maximum of `claim_amount_by_insurer` is this equal to the `(  ?  )`. \n",
    "**`[0.5]`** "
   ]
  },
  {
   "cell_type": "code",
   "execution_count": 20,
   "metadata": {
    "ExecuteTime": {
     "end_time": "2019-07-24T11:11:33.955112Z",
     "start_time": "2019-07-24T11:11:33.759913Z"
    }
   },
   "outputs": [
    {
     "name": "stdout",
     "output_type": "stream",
     "text": [
      "=== SUMMARY STATISTICS ===\n",
      "       claim_amount  claim_amount_with_deductible  claim_amount_by_insurer\n",
      "count   2500.000000                   2500.000000              2500.000000\n",
      "mean     131.412664                     89.682040                61.883404\n",
      "std      158.855611                    153.500587               103.325938\n",
      "min        2.000000                      0.000000                 0.000000\n",
      "25%       36.067500                      0.000000                 0.000000\n",
      "50%       71.125000                     21.125000                14.787500\n",
      "75%      162.652500                    112.652500                78.856750\n",
      "max      991.000000                    941.000000               500.000000\n",
      "\n",
      "=== SKEWNESS OF SERIES ===\n",
      "claim_amount                    2.465065\n",
      "claim_amount_with_deductible    2.635603\n",
      "claim_amount_by_insurer         2.412770\n",
      "dtype: float64\n",
      "\n",
      "=== SUM OF SERIES ========\n",
      "claim_amount                    328531.660\n",
      "claim_amount_with_deductible    224205.100\n",
      "claim_amount_by_insurer         154708.511\n",
      "dtype: float64\n",
      "\n",
      "=== VARIANCE OF SERIES ===\n",
      "claim_amount                    25235.105180\n",
      "claim_amount_with_deductible    23562.430327\n",
      "claim_amount_by_insurer         10676.249418\n",
      "dtype: float64\n"
     ]
    },
    {
     "data": {
      "image/png": "[encoded data removed]",
      "text/plain": [
       "<Figure size 1152x432 with 1 Axes>"
      ]
     },
     "metadata": {
      "needs_background": "light"
     },
     "output_type": "display_data"
    }
   ],
   "source": [
    "print(\"=== SUMMARY STATISTICS ===\")\n",
    "print(df.describe())\n",
    "print()\n",
    "print(\"=== SKEWNESS OF SERIES ===\")\n",
    "print(df.skew())\n",
    "print()\n",
    "print(\"=== SUM OF SERIES ========\")\n",
    "print(df[['claim_amount', 'claim_amount_with_deductible', 'claim_amount_by_insurer']].sum())\n",
    "print()\n",
    "print(\"=== VARIANCE OF SERIES ===\")\n",
    "print(df[['claim_amount', 'claim_amount_with_deductible', 'claim_amount_by_insurer']].var())\n",
    "\n",
    "fig3 = plt.figure(figsize=(16, 6))\n",
    "ax1 = fig3.add_subplot(111)\n",
    "sns.kdeplot(df['claim_amount'], shade=True, kernel='gau', bw=25, ax=ax1, color='red')\n",
    "sns.kdeplot(df['claim_amount_by_insurer'], shade=True, kernel='gau', bw=25, ax=ax1, color='purple')\n",
    "ax1.set_xlabel(\"claim_amount\")\n",
    "ax1.set_ylabel(\"density\")\n",
    "ax1.set_title(\"KDE plot of claim_amount, loss and paid by insurer\",fontsize=16)\n",
    "plt.show()\n",
    "\n",
    "# No additional code is required.\n",
    "# Answer the following questions:\n",
    "# Fill in the blanks with one of the following: deductible, co-payment, policy limit\n",
    "# The maximum of claim_amount_by_insurer is this equal to the policy limit.\n",
    "\n",
    "\n",
    "\n",
    "# correct (0.5)"
   ]
  },
  {
   "cell_type": "markdown",
   "metadata": {},
   "source": [
    "**2 viii)** The definition of [moral hazard](https://www.investopedia.com/terms/m/moralhazard.asp). It states, with the application to property:\n",
    "\n",
    "> When a property owner obtains insurance on a property, the contract is based on the idea that the property owner will avoid situations that may damage the property. The **moral hazard** exists that the property owner, because of the availability of the insurance, may be less inclined to protect the property, since the payment from an insurance company lessens the burden on the property owner in the case of a disaster.\n",
    "\n",
    "Using the KDE plot and report in **2 vii)**, answer the following questions.\n",
    "\n",
    "**i)** When a traveller buys travel insurance for his/her trip, how does moral hazard exist? Explain by comparing how his / her behaviour changes when there is and when there isn't travel insurance for the trip.\n",
    "\n",
    "**ii)** By considering the burden of payment of both the insurer and insured, and using the concept of moral hazard, explain why an insurance company needs to implement a deductible, co-insurance and a policy limit for this travel insurance policy.\n",
    "\n",
    "**`[1]`** "
   ]
  },
  {
   "cell_type": "code",
   "execution_count": 34,
   "metadata": {
    "ExecuteTime": {
     "end_time": "2019-07-24T11:11:34.158159Z",
     "start_time": "2019-07-24T11:11:34.155232Z"
    }
   },
   "outputs": [],
   "source": [
    "# No additional code is required.\n",
    "# Answer the following questions: When a traveller buys travel insurance for his/her \n",
    "# trip, how does moral hazard exist?\n",
    "\n",
    "# When a traveller buys travel insurance, moral hazard exists as the traveller may engage him/herself to more risk-taking behaviours as the traveller no longer have to bear full costs of the behaviour\n",
    "# As oppose to a traveller without traveller insurance,the traveller will be more careful in his/her actions so that he or she will be less prone to exposure to any risks as he/she will have to pay full costs for his/her actions\n",
    "\n",
    "\n",
    "# correct (0.5)"
   ]
  },
  {
   "cell_type": "code",
   "execution_count": 35,
   "metadata": {
    "ExecuteTime": {
     "end_time": "2019-07-24T11:11:34.374951Z",
     "start_time": "2019-07-24T11:11:34.371996Z"
    }
   },
   "outputs": [],
   "source": [
    "# No additional code is required.\n",
    "# Why does an insurance company need to implement a deductible, \n",
    "# co-insurance and a policy limit for this travel insurance policy.\n",
    "\n",
    "# An insurance company need to implement a deductible, co-insurance and a policy limit for this travel insurance policy so as to mitigate the risk of moral hazards.\n",
    "# By implementing a deductible, travellers have to pay the specified deductible amount if they were to make a claim before the insurance company needs top pay out to the policy holder.\n",
    "# Together with a co-insurance, where only a specified proportion of the bill will be payable by the insurance company, travellers submitting a claim, will still have to pay if they were to submit a claim.\n",
    "# This will likely make travellers be more inclined towards protecting their property as causing damage to it will not be fully covered by the Insuruer.\n",
    "# By implenting a policy limit, the insurer can be protected from absurb claim amounts by travellers (E.g. Protecting Insurers from travellers that damages their own property in order to make ridiculous claim amounts from insurers)\n",
    "\n",
    "\n",
    "\n",
    "# CORRECT (0.5)"
   ]
  },
  {
   "cell_type": "markdown",
   "metadata": {},
   "source": [
    "<div class=\"alert alert-success\">\n",
    "**Checkpoint**: When you have completed Part 2, upload your progress to eLearn. eLearn only accepts the latest notebooks so if you have an existing notebook, your latest upload will **override** it.\n",
    "</div>\n",
    "\n",
    "**Credits**\n",
    "- [healthcare.gov](https://www.healthcare.gov/glossary/) for the definitions of instruments\n",
    "- [Investopedia](https://www.investopedia.com/terms/m/moralhazard.asp) for the definitions\n",
    "- [TSA Claims Database](https://www.kaggle.com/terminal-security-agency/tsa-claims-database) for the dataset"
   ]
  }
 ],
 "metadata": {
  "kernelspec": {
   "display_name": "Python 3",
   "language": "python",
   "name": "python3"
  },
  "language_info": {
   "codemirror_mode": {
    "name": "ipython",
    "version": 3
   },
   "file_extension": ".py",
   "mimetype": "text/x-python",
   "name": "python",
   "nbconvert_exporter": "python",
   "pygments_lexer": "ipython3",
   "version": "3.7.1"
  }
 },
 "nbformat": 4,
 "nbformat_minor": 2
}
