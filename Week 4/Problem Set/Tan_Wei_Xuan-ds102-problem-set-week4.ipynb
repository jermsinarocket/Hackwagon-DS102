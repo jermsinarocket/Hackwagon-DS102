{
 "cells": [
  {
   "cell_type": "markdown",
   "metadata": {},
   "source": [
    "<center><h2>DS102 Problem Set - Week 4</h2></center>\n",
    "**Hackwagon Academy**\n",
    "\n",
    "`HWA-DS102-PS4-201810`\n",
    "<hr>\n",
    "\n",
    "If you have any questions to the Problem Set, feel free to send a message to your TAs or Instructors in the Telegram chat. You are encouraged to also discuss the problem sets within your own groups.\n",
    "\n",
    "<div class=\"alert alert-success\">Before you start, fill in your details for this notebook and rename the notebook to `<First_Name>_<Last_Name>-problem-set-week-4`, for example `jane-doe-problem-set-week-4`.</div>"
   ]
  },
  {
   "cell_type": "code",
   "execution_count": null,
   "metadata": {
    "ExecuteTime": {
     "end_time": "2018-10-02T15:28:58.232682Z",
     "start_time": "2018-10-02T15:28:58.218800Z"
    }
   },
   "outputs": [],
   "source": [
    "# Name  : Tan Wei Xuan\n",
    "# Class : DS102, SAT 3.30PM"
   ]
  },
  {
   "cell_type": "markdown",
   "metadata": {},
   "source": [
    "#### Datasets Required:\n",
    "\n",
    "- `blogpost-1.txt`\n",
    "\n",
    "- `blogpost-2.txt`\n",
    "\n",
    "- `blogpost-1-terms.csv`\n",
    "\n",
    "- `blogpost-2-terms.csv`\n",
    "\n",
    "- `nltk-english-stopwords.csv`"
   ]
  },
  {
   "cell_type": "code",
   "execution_count": 1,
   "metadata": {
    "ExecuteTime": {
     "end_time": "2018-10-02T15:28:59.289294Z",
     "start_time": "2018-10-02T15:28:58.236550Z"
    }
   },
   "outputs": [],
   "source": [
    "# import the relevant packages\n",
    "import re\n",
    "import csv\n",
    "import pandas as pd\n",
    "import seaborn as sns\n",
    "import matplotlib.pyplot as plt"
   ]
  },
  {
   "cell_type": "code",
   "execution_count": 2,
   "metadata": {
    "ExecuteTime": {
     "end_time": "2018-10-02T15:43:42.244867Z",
     "start_time": "2018-10-02T15:43:42.238657Z"
    }
   },
   "outputs": [
    {
     "name": "stderr",
     "output_type": "stream",
     "text": [
      "[nltk_data] Downloading package stopwords to\n",
      "[nltk_data]     C:\\Users\\Jerms\\AppData\\Roaming\\nltk_data...\n",
      "[nltk_data]   Package stopwords is already up-to-date!\n",
      "[nltk_data] Downloading package words to\n",
      "[nltk_data]     C:\\Users\\Jerms\\AppData\\Roaming\\nltk_data...\n",
      "[nltk_data]   Package words is already up-to-date!\n"
     ]
    }
   ],
   "source": [
    "# import the relevant libraries from nltk\n",
    "import nltk\n",
    "nltk.download(\"stopwords\")\n",
    "nltk.download(\"words\")\n",
    "\n",
    "from nltk.stem import PorterStemmer\n",
    "from nltk.corpus import stopwords, words"
   ]
  },
  {
   "cell_type": "markdown",
   "metadata": {},
   "source": [
    "### Introduction\n",
    "In this problem set, you will be asked to perform text analysis on two blogposts about their holiday in S. Korea. By the end of the problem set, you would be able to retrieve keywords that are useful for a traveller who intends to plan for his/her holiday to S. Korea.\n",
    "\n",
    "### Part 1 (3 Marks)\n",
    "Mark breakdowns are stated in the question e.g. **`[1]`**. For questions wtih short answers, <span style=\"color:darkblue\">**both the <u>code</u> and <u>typed answers</u> must be provided to receive full credit.**</span>"
   ]
  },
  {
   "cell_type": "markdown",
   "metadata": {},
   "source": [
    "**1A**. \n",
    "\n",
    "**i)** Read `blogpost-1.txt` into a string variable called `post1`. This is the text from a blogpost titled [Seoul Travel Guide for Food Lovers!](https://migrationology.com/travel-guides/seoul-korea/) by Mark Wiens. Use `split()` and `len()` to find out how many tokens are there in `post1`. **`[0.5]`**"
   ]
  },
  {
   "cell_type": "code",
   "execution_count": 4,
   "metadata": {
    "ExecuteTime": {
     "end_time": "2018-10-02T15:28:59.714355Z",
     "start_time": "2018-10-02T15:28:59.697587Z"
    }
   },
   "outputs": [
    {
     "name": "stdout",
     "output_type": "stream",
     "text": [
      "There are 2966 tokens in post1\n"
     ]
    }
   ],
   "source": [
    "# Read blogpost-1.txt into a string variable called post1\n",
    "post1 = ''\n",
    "with open('blogpost-1.txt', encoding=\"utf8\") as f1:\n",
    "    post1 = f1.read()    \n",
    "\n",
    "# How many tokens are there in post1?\n",
    "post1_split = post1.split()\n",
    "\n",
    "print(\"There are\", len(post1_split), \"tokens in post1\")\n",
    "# There are 2966 tokens in post1 "
   ]
  },
  {
   "cell_type": "markdown",
   "metadata": {},
   "source": [
    "**ii)** Read `blogpost-2.txt` into a string variable called `post2`. This is the text from a blogpost titled [JESSICA'S SEOUL TRAVEL DIARY 2017](http://www.jessica-chaw.com/2017/04/jessicas-seoul-travel-diary-2017.html) by Jessica Chaw. Using `split()` and `len()` to find out how many tokens there are in `post2`. **`[1]`**"
   ]
  },
  {
   "cell_type": "code",
   "execution_count": 5,
   "metadata": {
    "ExecuteTime": {
     "end_time": "2018-10-02T15:28:59.730822Z",
     "start_time": "2018-10-02T15:28:59.719765Z"
    }
   },
   "outputs": [
    {
     "name": "stdout",
     "output_type": "stream",
     "text": [
      "There are 1302 tokens in post2\n"
     ]
    }
   ],
   "source": [
    "# Read blogpost-2.txt into a string variable called post2\n",
    "post2 = ''\n",
    "with open('blogpost-2.txt', encoding=\"utf8\") as f1:\n",
    "    post2 = f1.read() \n",
    "    \n",
    "# How many tokens are there in post2?\n",
    "post2_split = post2.split()\n",
    "\n",
    "print(\"There are\", len(post2_split), \"tokens in post2\")\n",
    "# There are 1302 tokens in post2"
   ]
  },
  {
   "cell_type": "markdown",
   "metadata": {},
   "source": [
    "**1B**.\n",
    "\n",
    "**i)** Using string indexing or otherwise, store the first 1000 characters from `post1` in a string called `s1`. Convert all the characters in `s1` into lower case. `print()` your result. **`[0.5]`**"
   ]
  },
  {
   "cell_type": "code",
   "execution_count": 6,
   "metadata": {
    "ExecuteTime": {
     "end_time": "2018-10-02T15:28:59.742520Z",
     "start_time": "2018-10-02T15:28:59.734508Z"
    }
   },
   "outputs": [
    {
     "name": "stdout",
     "output_type": "stream",
     "text": [
      "in this seoul travel guide for food lovers i’m going to share with you practical information about where to stay, how to get around, and most importantly, what to eat when you’re in seoul.\n",
      "there are a lot of amazing things about seoul, but for you and i as food lovers, it’s the never ending amount of delicious food that makes seoul such an exciting city.\n",
      "seoul travel guide for food lovers!\n",
      "incheon international airport near seoul\n",
      "arriving and leaving seoul\n",
      "there are a number of ways you could enter seoul, but likely, if you take an international flight from a different country, you’ll land at incheon international airport.\n",
      "incheon international airport\n",
      "incheon international airport is a giant airport that caters to basically the entire northern part of south korea, and is located approximately 1 hour by train from the center of seoul. the airport is very nice and modern with easy transportation facilities (and there’s free wifi as well). i’ve even spent the night at seoul incheon airpo\n"
     ]
    }
   ],
   "source": [
    "# Construct and print s1\n",
    "s1 = ''\n",
    "\n",
    "#First 1000 CHARS, not Strings\n",
    "s1 = post1[:1000]\n",
    "s1 = s1.lower()\n",
    "    \n",
    "print(s1)"
   ]
  },
  {
   "cell_type": "markdown",
   "metadata": {},
   "source": [
    "**ii)**. Slice the first 2000 characters from `post2` and store them in in a string called `s2`. `print()` the result `s2`. Then, instantiate a new string `s3` by uncommenting the line below. What does the line to get `s3` do? Explain in terms of the differences between what you see across `s2` and `s3`. **`[1]`**"
   ]
  },
  {
   "cell_type": "code",
   "execution_count": 7,
   "metadata": {
    "ExecuteTime": {
     "end_time": "2018-10-02T15:28:59.752523Z",
     "start_time": "2018-10-02T15:28:59.745805Z"
    },
    "scrolled": false
   },
   "outputs": [
    {
     "name": "stdout",
     "output_type": "stream",
     "text": [
      "--- s2 -----\n",
      "Hi guys, I'm back from my Korea trip with my brother! It's my second time in Seoul (the last time I visited Seoul was last year May) and to be honest, I still couldn't get enough of this city! This time around, I didn't go to a lot of tourist spots like how I did during my first Korea trip. So if you haven't been to Seoul and are looking for a Seoul travel itinerary + tips for first-timers, you can read my Korea Travel Guide, which I wrote last year.\n",
      "\n",
      "OK, if you are following my Instagram, you would have probably already seen my pictures with my boyfriend, which I haven't really shared/announced on my blog..I am not sure if you guys could remember, but my previous blog post \"The Last Hug\" was actually about him. Just to clear off some of your doubts, my boyfriend is not a Korean oppa lolol. He is a Dutch Chinese from Netherlands and we knew each other from the company that I interned at. He is currently studying in Korea as an exchange student until June so I just thought why not I make a trip to Korea to visit him and it's also just in time to catch the cherry blossoms in Seoul too! And I tagged my brother along too so that he can be our personal photographer hahahaha. \n",
      "\n",
      "During my recent trip to Seoul (2nd April - 10th April), I revisited some of my favourite places and also discovered some new hipster cafes! And I also went to both Lotte World and Everland this time hahaha *will never get enough of theme parks \n",
      "\n",
      "So this is basically my itinerary for this trip - \n",
      "\n",
      "Day 1: Hongdae\n",
      "\n",
      "Day 2: Dongdaemun, Garosugil \n",
      "\n",
      "Day 3: Lotte World Theme Park \n",
      "\n",
      "Day 4: Bukchon Hanok Village (hanbok experience), Ewha Women's University Shopping Street, Noryangjin Fish Market \n",
      "\n",
      "Day 5: Seokchon Lake, Common Ground, Myeongdong \n",
      "\n",
      "Day 6: Everland Theme Park \n",
      "\n",
      "Day 7: Itaewon, Ewha Women's University Shopping Street (final round shopping haha) \n",
      "\n",
      "OUR ACCOMMODATION \n",
      "\n",
      "We stayed in Hotel Maui DDM throughout our trip. It's a newly-opened budget hotel which is located in the vicinity of Dongdaemun. \n",
      "--- s3 -----\n",
      "Hi guys  I'm back from my Korea trip with my brother  It's my second time in Seoul  the last time I visited Seoul was last year May  and to be honest  I still couldn't get enough of this city  This time around  I didn't go to a lot of tourist spots like how I did during my first Korea trip  So if you haven't been to Seoul and are looking for a Seoul travel itinerary   tips for first timers  you can read my Korea Travel Guide  which I wrote last year \n",
      "\n",
      "OK  if you are following my Instagram  you would have probably already seen my pictures with my boyfriend  which I haven't really shared announced on my blog  I am not sure if you guys could remember  but my previous blog post \"The Last Hug\" was actually about him  Just to clear off some of your doubts  my boyfriend is not a Korean oppa lolol  He is a Dutch Chinese from Netherlands and we knew each other from the company that I interned at  He is currently studying in Korea as an exchange student until June so I just thought why not I make a trip to Korea to visit him and it's also just in time to catch the cherry blossoms in Seoul too  And I tagged my brother along too so that he can be our personal photographer hahahaha  \n",
      "\n",
      "During my recent trip to Seoul  2nd April   10th April   I revisited some of my favourite places and also discovered some new hipster cafes  And I also went to both Lotte World and Everland this time hahaha *will never get enough of theme parks \n",
      "\n",
      "So this is basically my itinerary for this trip   \n",
      "\n",
      "Day 1  Hongdae\n",
      "\n",
      "Day 2  Dongdaemun  Garosugil \n",
      "\n",
      "Day 3  Lotte World Theme Park \n",
      "\n",
      "Day 4  Bukchon Hanok Village  hanbok experience   Ewha Women's University Shopping Street  Noryangjin Fish Market \n",
      "\n",
      "Day 5  Seokchon Lake  Common Ground  Myeongdong \n",
      "\n",
      "Day 6  Everland Theme Park \n",
      "\n",
      "Day 7  Itaewon  Ewha Women's University Shopping Street  final round shopping haha  \n",
      "\n",
      "OUR ACCOMMODATION \n",
      "\n",
      "We stayed in Hotel Maui DDM throughout our trip  It's a newly opened budget hotel which is located in the vicinity of Dongdaemun  \n"
     ]
    }
   ],
   "source": [
    "# Construct and print s2\n",
    "\n",
    "s2 = ''\n",
    "s2 = post2[:2000]\n",
    "print('--- s2 -----')\n",
    "# print your result\n",
    "print(s2)\n",
    "\n",
    "\n",
    "# Uncomment the following lines to show the result of s3.\n",
    "s3 = re.sub('[-!,\\(\\).+/:\\[\\]–]',' ', s2)\n",
    "print('--- s3 -----')\n",
    "print(s3)\n",
    "\n",
    "# What does the line to get s3, in particular the re.sub() function call, do? \n",
    "# The re.sub() function removes strings from s2 that matches/contains the defined pattern([-!,\\(\\).+/:\\[\\]–]) with a space (' ')"
   ]
  },
  {
   "cell_type": "markdown",
   "metadata": {},
   "source": [
    "<div class=\"alert alert-success\">\n",
    "**Checkpoint**: When you have completed Part 1, upload your progress to eLearn. eLearn only accepts the latest notebooks so if you have an existing notebook, your latest upload will **override** it.\n",
    "</div>\n",
    "### Part 2 (9 Marks)\n",
    "Mark breakdowns are stated in the question e.g. **`[1]`**. <span style=\"color:darkblue\">**Where stated, both the <u>code</u> and <u>typed answers</u> must be provided to receive full credit.**</span>"
   ]
  },
  {
   "cell_type": "markdown",
   "metadata": {},
   "source": [
    "The words in each blogpost from Part 1 are stored as a list of terms in `blogpost-1-terms.csv` and `blogpost-2-terms.csv` respectively. Note that the `term` appearing in the first line for all 2 files is the header. \n",
    "\n",
    "**2A.** Using the `pandas` library, `csv` library or otherwise, \n",
    "\n",
    "1. read the the terms from `blogpost-1-terms.csv` into a list of terms `blog1_terms`\n",
    "2. read the terms from `blogspot-2-terms.csv` into a list of terms `blog2_terms`\n",
    "\n",
    "In other words, the first $5$ terms of `blog1_terms` and `blog2_terms` respectively are:\n",
    "\n",
    "```python\n",
    "blog1_terms[:5] == ['in', 'this', 'seoul', 'travel', 'guide']\n",
    "blog2_terms[:5] == ['hi', 'guys', 'im', 'back', 'from']\n",
    "```\n",
    "**`[1]`**"
   ]
  },
  {
   "cell_type": "code",
   "execution_count": 8,
   "metadata": {
    "ExecuteTime": {
     "end_time": "2018-10-02T15:28:59.773828Z",
     "start_time": "2018-10-02T15:28:59.756382Z"
    }
   },
   "outputs": [
    {
     "name": "stdout",
     "output_type": "stream",
     "text": [
      "['in', 'this', 'seoul', 'travel', 'guide']\n",
      "['hi', 'guys', 'im', 'back', 'from']\n"
     ]
    }
   ],
   "source": [
    "# Read the the terms from blogpost-1-terms.csv into a list blog1_terms\n",
    "blogpost_1_terms = pd.read_csv('blogpost-1-terms.csv')\n",
    "\n",
    "blog1_terms = []\n",
    "for terms in blogpost_1_terms[\"term\"].tolist():\n",
    "    blog1_terms.append(terms)\n",
    "    \n",
    "print(blog1_terms[:5])\n",
    "\n",
    "# Read the the terms from blogpost-2-terms.csv into a list blog2_terms\n",
    "blogpost_2_terms = pd.read_csv('blogpost-2-terms.csv')\n",
    "\n",
    "blog2_terms = []\n",
    "for terms in blogpost_2_terms[\"term\"].tolist():\n",
    "    blog2_terms.append(terms)\n",
    "    \n",
    "print(blog2_terms[:5])"
   ]
  },
  {
   "cell_type": "markdown",
   "metadata": {},
   "source": [
    "**2B.** In the `nltk` library, there is a corpus called the `stopwords` corpus. Using [this Stackoverflow answer](https://stackoverflow.com/questions/19130512/stopword-removal-with-nltk) or otherwise, extract only the English stopwords from `stopwords` and store it as a list called `blog_stopwords`. **`[0.5]`**"
   ]
  },
  {
   "cell_type": "code",
   "execution_count": 9,
   "metadata": {
    "ExecuteTime": {
     "end_time": "2018-10-02T15:28:59.791900Z",
     "start_time": "2018-10-02T15:28:59.780494Z"
    }
   },
   "outputs": [],
   "source": [
    "# Using stopwords from nltk.corpus, store all English stopwords into blog_stopwords\n",
    "blog_stopwords = set(stopwords.words('english'))"
   ]
  },
  {
   "cell_type": "markdown",
   "metadata": {},
   "source": [
    "**2C.** How many terms are there in `blog1_terms` and `blog2_terms`? Use `len()` of a `list` to find out. **`[0.5]`**"
   ]
  },
  {
   "cell_type": "code",
   "execution_count": 16,
   "metadata": {
    "ExecuteTime": {
     "end_time": "2018-10-02T15:28:59.807881Z",
     "start_time": "2018-10-02T15:28:59.796489Z"
    },
    "scrolled": true
   },
   "outputs": [
    {
     "name": "stdout",
     "output_type": "stream",
     "text": [
      "2954\n",
      "1299\n"
     ]
    }
   ],
   "source": [
    "# How many terms are there in blog1_terms and blog2_terms?\n",
    "\n",
    "# Write your code here\n",
    "print(len(blog1_terms))\n",
    "\n",
    "#There are 2954 terms in blog1_terms\n",
    "\n",
    "print(len(blog2_terms))\n",
    "\n",
    "#There are 1299 terms in blog1_terms"
   ]
  },
  {
   "cell_type": "markdown",
   "metadata": {},
   "source": [
    "**2D. (Stemming, follwed by finding unique words)** \n",
    "\n",
    "**i)** Instantiate a new list called `blog1_terms_step1`. Iterate through all the terms in `blog1_terms` and store the stemmed term using `PorterStemmer.stem(word)` in `blog1_terms_step1`. Do the same for `blog2_terms`. Store the list of stemmed words into `blog2_terms_step1`.  **`[1]`**"
   ]
  },
  {
   "cell_type": "code",
   "execution_count": 17,
   "metadata": {
    "ExecuteTime": {
     "end_time": "2018-10-02T15:28:59.964547Z",
     "start_time": "2018-10-02T15:28:59.811944Z"
    }
   },
   "outputs": [],
   "source": [
    "# Create the lists blog1_terms_step1 and blog2_terms_step1\n",
    "s = PorterStemmer()\n",
    "\n",
    "blog1_terms_step1 = []\n",
    "\n",
    "for word in blog1_terms:\n",
    "    blog1_terms_step1.append(s.stem(word))\n",
    "\n",
    "blog2_terms_step1 = []\n",
    "\n",
    "for word in blog2_terms:\n",
    "    blog2_terms_step1.append(s.stem(word))\n"
   ]
  },
  {
   "cell_type": "markdown",
   "metadata": {},
   "source": [
    "**ii).** Find the **unique** terms in `blog1_terms_step1`\n",
    "and `blog2_terms_step1` and store them **as a** `list`. Specifically, store the unique terms in `blog1_terms_step1` in a list called `uniq_blog1_terms_step1` and store the unique terms in `blog2_terms_step1` in a `list` called `uniq_blog2_terms_step1`. \n",
    "\n",
    "Clue: You can use the `set()` function, or iterate through every term using a \n",
    "\n",
    "```python\n",
    "for t in blog1_terms_step1``` \n",
    "\n",
    "loop. Other methods are also accepted. **`[1]`**"
   ]
  },
  {
   "cell_type": "code",
   "execution_count": 20,
   "metadata": {
    "ExecuteTime": {
     "end_time": "2018-10-02T15:28:59.979186Z",
     "start_time": "2018-10-02T15:28:59.968116Z"
    }
   },
   "outputs": [
    {
     "name": "stdout",
     "output_type": "stream",
     "text": [
      "<class 'list'>\n",
      "<class 'list'>\n"
     ]
    }
   ],
   "source": [
    "# Create the lists uniq_blog1_terms_step1 and uniq_blog2_terms_step1\n",
    "uniq_blog1_terms_step1 = list(set(blog1_terms_step1))\n",
    "\n",
    "#For checking Type\n",
    "print(type(uniq_blog1_terms_step1))\n",
    "\n",
    "\n",
    "uniq_blog2_terms_step1 = list(set(blog2_terms_step1))\n",
    "\n",
    "#For checking Type\n",
    "print(type(uniq_blog2_terms_step1))\n"
   ]
  },
  {
   "cell_type": "markdown",
   "metadata": {},
   "source": [
    "**iii) ** How many terms are there in `uniq_blog1_terms_step1` and `uniq_blog2_terms_step1`? Use `len()` of a `list` to find out. **`[0.5]`**"
   ]
  },
  {
   "cell_type": "code",
   "execution_count": 23,
   "metadata": {
    "ExecuteTime": {
     "end_time": "2018-10-02T15:28:59.989778Z",
     "start_time": "2018-10-02T15:28:59.983593Z"
    }
   },
   "outputs": [
    {
     "name": "stdout",
     "output_type": "stream",
     "text": [
      "722\n",
      "488\n"
     ]
    }
   ],
   "source": [
    "# How many terms are there in blog1_terms and blog2_terms?\n",
    "print(len(uniq_blog1_terms_step1))\n",
    "# There are 722 terms in uniq_blog1_terms_step1\n",
    "\n",
    "print(len(uniq_blog2_terms_step1))\n",
    "# There are 488 terms in uniq_blog2_terms_step1"
   ]
  },
  {
   "cell_type": "markdown",
   "metadata": {},
   "source": [
    "**2E. (Removal of stopwords)**\n",
    "\n",
    "**i)** Instantiate a new list called `blog1_terms_step2`. Iterate through all the terms in `uniq_blog1_terms_step1` and store the term in `blog1_terms_step2` if the length of the word is **2 and above** **and** the word is **not in the list** `blog_stopwords`. (You have already got `blog_stopwords` from question **2B**. Do the same for `blog2_terms_step1`. Store the filtered list into `blog2_terms_step2`.  You may choose to use the function `is_valid_word()`. **`[1]`**"
   ]
  },
  {
   "cell_type": "code",
   "execution_count": 24,
   "metadata": {
    "ExecuteTime": {
     "end_time": "2018-10-06T06:39:10.877888Z",
     "start_time": "2018-10-06T06:39:10.870800Z"
    }
   },
   "outputs": [],
   "source": [
    "# You may choose to use this function to help you\n",
    "def is_valid_word(word, list_of_reject_words, min_length):\n",
    "    '''\n",
    "        Takes in 3 parameters: the word to check, \n",
    "        the list of words to reject and the minimum length of the word.\n",
    "        \n",
    "        Returns True if the word is at least the min_length and does not belong\n",
    "        to the list of rejected words.\n",
    "    '''\n",
    "    return len(word) >= min_length and word not in list_of_reject_words"
   ]
  },
  {
   "cell_type": "code",
   "execution_count": 25,
   "metadata": {
    "ExecuteTime": {
     "end_time": "2018-10-02T15:32:29.854725Z",
     "start_time": "2018-10-02T15:32:29.843735Z"
    }
   },
   "outputs": [],
   "source": [
    "# Create the lists blog1_terms_step2 and blog2_terms_step2\n",
    "\n",
    "blog1_terms_step2 = []\n",
    "\n",
    "for word in blog1_terms_step1:\n",
    "    if(is_valid_word(word, blog_stopwords, 2) == True):\n",
    "        blog1_terms_step2.append(word)\n",
    "\n",
    "blog2_terms_step2 = []\n",
    "\n",
    "for word in blog2_terms_step1:\n",
    "    if(is_valid_word(word, blog_stopwords, 2) == True):\n",
    "        blog2_terms_step2.append(word)\n"
   ]
  },
  {
   "cell_type": "markdown",
   "metadata": {},
   "source": [
    "**2F. (Finding common words in both blogs)** Instantiate a new list called `blog_common_words`. This stores all **unique** words that appears in both lists `blog1_terms_step2` and `blog2_terms_step2`. How many terms are there in `blog_common_words`? **`[1]`**"
   ]
  },
  {
   "cell_type": "code",
   "execution_count": 26,
   "metadata": {
    "ExecuteTime": {
     "end_time": "2018-10-02T15:40:14.475484Z",
     "start_time": "2018-10-02T15:40:14.462146Z"
    }
   },
   "outputs": [
    {
     "name": "stdout",
     "output_type": "stream",
     "text": [
      "155\n"
     ]
    }
   ],
   "source": [
    "# Create the list blog_common_words \n",
    "blog_common_words = []\n",
    "\n",
    "# How many terms are there in blog_common_words? \n",
    "\n",
    "blog_common_words = list(set(blog1_terms_step2)&set(blog2_terms_step2)) # we don't need to list3 to actually be a list\n",
    "\n",
    "print(len(blog_common_words))\n",
    "# There are 155 terms in blog_common_words\n"
   ]
  },
  {
   "cell_type": "markdown",
   "metadata": {},
   "source": [
    "**2G. (Finding words related to Korean travel)** The `words` corpus has all the known English words in the dictionary. They are retrieved using `words.words()`, and are stored in a list `english_words` for you."
   ]
  },
  {
   "cell_type": "code",
   "execution_count": 27,
   "metadata": {
    "ExecuteTime": {
     "end_time": "2018-10-02T15:47:39.972979Z",
     "start_time": "2018-10-02T15:47:39.850850Z"
    }
   },
   "outputs": [
    {
     "data": {
      "text/plain": [
       "236736"
      ]
     },
     "execution_count": 27,
     "metadata": {},
     "output_type": "execute_result"
    }
   ],
   "source": [
    "# Uncomment the following lines to get all words in english_words.\n",
    "english_words = words.words()\n",
    "len(english_words)"
   ]
  },
  {
   "cell_type": "markdown",
   "metadata": {},
   "source": [
    "**i)** Store all words in `blog_common_words` that do not exist in `english_words` in a list called `non_eng_blog_words`. `print` the list `non_eng_blog_words`. **`[0.5]`**"
   ]
  },
  {
   "cell_type": "code",
   "execution_count": 28,
   "metadata": {
    "ExecuteTime": {
     "end_time": "2018-10-02T15:50:05.133141Z",
     "start_time": "2018-10-02T15:50:04.712557Z"
    }
   },
   "outputs": [
    {
     "name": "stdout",
     "output_type": "stream",
     "text": [
      "['21', 'bbq', 'explor', '14', 'befor', 'guid', 'gu', 'dongdaemun', 'conveni', 'hongda', 'villag', 'univers', 'blog', 'wifi', '000', 'gil', 'entir', 'seoul', 'bukchon', 'directli', '15', 'anoth', 'whi', 'korean', 'thi', 'myeongdong', 'experi', 'complet', 'french', 'expens', 'korea', 'im', 'citi', '110', 'peopl', 'sinsa', 'anguk', 'pretti', '10', 'hanok', 'realli', 'togeth', 'locat', 'ok', 'becaus', 'accommod']\n"
     ]
    }
   ],
   "source": [
    "# print all words from blog_common_words that do not exist in english_words\n",
    "non_eng_blog_words = []\n",
    "\n",
    "for word in blog_common_words:\n",
    "    if word not in english_words:\n",
    "        non_eng_blog_words.append(word)\n",
    "\n",
    "print(non_eng_blog_words)"
   ]
  },
  {
   "cell_type": "markdown",
   "metadata": {},
   "source": [
    "**2H.** The following plots are given to you. They are two bar plots plotting the frequency of a list of words.\n",
    "\n",
    "- Suggest appropriate titles for the plot. **`[1]`**\n",
    "- Why do the words (denoted in the $x$-axis) change from the first to the second bar plot? What does this tell you about the stopwords (that are also in the English dictionary) in relation to their frequency and meaning in English text? **`[1]`**"
   ]
  },
  {
   "cell_type": "code",
   "execution_count": 30,
   "metadata": {
    "ExecuteTime": {
     "end_time": "2018-10-02T15:29:00.084394Z",
     "start_time": "2018-10-02T15:29:00.076973Z"
    },
    "scrolled": false
   },
   "outputs": [
    {
     "data": {
      "image/png": "[encoded data removed]",
      "text/plain": [
       "<Figure size 1152x1296 with 2 Axes>"
      ]
     },
     "metadata": {
      "needs_background": "light"
     },
     "output_type": "display_data"
    }
   ],
   "source": [
    "# Collect terms\n",
    "blog_new = blog1_terms_step1 + blog2_terms_step1\n",
    "\n",
    "blog_new_filtered = []\n",
    "for term in blog_new:\n",
    "    if term not in english_words:\n",
    "        blog_new_filtered.append(term)\n",
    "\n",
    "# Create the 2 DataFrames\n",
    "blog_df = pd.DataFrame(blog_new, columns=['term'])\n",
    "blog_filtered_df = pd.DataFrame(blog_new_filtered, columns=['term'])\n",
    "\n",
    "# Aggregation & Sorting\n",
    "blog_df_agg_df = blog_df.groupby('term').size().reset_index(name='n')\n",
    "blog_df_agg_df.sort_values('n', ascending=False, inplace=True)\n",
    "\n",
    "blog_df_filtered_agg_df = blog_filtered_df.groupby('term').size().reset_index(name='n')\n",
    "blog_df_filtered_agg_df.sort_values('n', ascending=False, inplace=True)\n",
    "\n",
    "# Plotting\n",
    "fig = plt.figure(figsize=(16, 18))\n",
    "ax = fig.add_subplot(211)\n",
    "# Suggest an appropriate title for the plot. The title must contain this logic for full credit.\n",
    "#\n",
    "blog_df_agg_df[:20].plot(kind='bar', x='term', y='n', ax=ax)\n",
    "ax.set_title(\"Top 20 Frequency (n) of ALL words in Blogpost 1 & 2\")\n",
    "\n",
    "ax2 = fig.add_subplot(212)\n",
    "# Suggest an appropriate title for the plot. The title must contain this logic for full credit.\n",
    "#\n",
    "blog_df_filtered_agg_df[:20].plot(kind='bar', x='term', y='n', ax=ax2)\n",
    "ax2.set_title(\"Top 20 Frequency (n) of words in Blogpost 1 & 2 that are UNKNOWN in the english dictionary\")\n",
    "              \n",
    "plt.show()\n",
    "\n",
    "# For Plot 1, an appropriate title will be Top 20 Frequency (n) of all words in Blogpost 1 & 2\n",
    "# For Plot 2, an appropriate title will be Top 20 Frequency (n) of words in Blogpost 1 & 2 that are unknown in the english dictionary\n",
    "\n",
    "# Why do the words (denoted in the x-axis) change from the first to the second bar plot? \n",
    "# For the first plot, the x-axis refers to ALL the words in Blogpost 1 & 2 that are not filtered, which means that they are inclusive of KNOWN words in the English Dictionary.\n",
    "# In Contrast, for the second plot, the x-axis refers to the filterd words in Blogpost 1 & 2 that are NOT IN the known words of the English Dictionary.\n",
    "\n",
    "# What does this tell you about the stopwords in relation to extracting real meaning?\n",
    "\n",
    "# Stopwords appears very frequently, if not, the most frequent in English Text (As seen from plot 1), and this tends to take away the true meaning from the text.\n",
    "# For Blog post 1 & 2, the main focus of the text is about Seoul and wihout the removal of stopwords, the words \"seoul\" and other words relating to \"seoul\" appears less frequently than multiple stopwords (plot1), making it hard to perform a keyword analysis on the text (for this case which is retrieving keywords that are useful for a traveller who intends to plan for his/her holiday to S. Korea.) \n",
    "# By removing the stopwords, we can see that useful keywords relating to S.Korea such as \"Seoul\", \"korea\",\"dongdaemun\", \"hanbok\" , \"cafe\", etc. becomes the words with the top frequency (Plot 2), and this made it to perform keyword analysis on the text (for this case, making it easier to retrieve and analyze keywords that are useful for a traveller who intends to plan for his/her holiday to S. Korea.)\n"
   ]
  },
  {
   "cell_type": "markdown",
   "metadata": {},
   "source": [
    "<div class=\"alert alert-success\">\n",
    "**Checkpoint**: When you have completed Part 2, upload your progress to eLearn. eLearn only accepts the latest notebooks so if you have an existing notebook, your latest upload will **override** it.\n",
    "</div>"
   ]
  }
 ],
 "metadata": {
  "kernelspec": {
   "display_name": "Python 3",
   "language": "python",
   "name": "python3"
  },
  "language_info": {
   "codemirror_mode": {
    "name": "ipython",
    "version": 3
   },
   "file_extension": ".py",
   "mimetype": "text/x-python",
   "name": "python",
   "nbconvert_exporter": "python",
   "pygments_lexer": "ipython3",
   "version": "3.7.2"
  }
 },
 "nbformat": 4,
 "nbformat_minor": 2
}
