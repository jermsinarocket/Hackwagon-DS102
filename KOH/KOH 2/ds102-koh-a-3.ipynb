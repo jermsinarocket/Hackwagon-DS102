{
 "cells": [
  {
   "cell_type": "markdown",
   "metadata": {},
   "source": [
    "<center><h2>DS102 King of the Hill (KOH) - 3</h2></center>\n",
    "**Hackwagon Academy**\n",
    "\n",
    "`HWA-DS102-KOH-A-3`\n",
    "<hr>"
   ]
  },
  {
   "cell_type": "markdown",
   "metadata": {},
   "source": [
    "## The Dataset\n",
    "\n",
    "This dataset is a record of every building or building unit (apartment, etc.) sold in the New York City property market over a 12-month period. It is taken from [Kaggle](https://www.kaggle.com/new-york-city/nyc-property-sales/home). The dataset is stored in `nyc-building-sales-25k.csv` and the the respective columns are:\n",
    "\n",
    "\n",
    "`nyc-building-sales-25k.csv`\n",
    "\n",
    "|column name|description|data type|example|\n",
    "|:---:|:---:|:---:|:---:|\n",
    "|BOROUGH|The borough a building is in|int|4|\n",
    "|NEIGHBORHOOD|The neighborhood a building is in|str|CLINTON HILL|\n",
    "|BUILDING CLASS CATEGORY|The class category of a build|str|01 ONE FAMILY DWELLINGS|\n",
    "|BLOCK|The block of a building|int|923|\n",
    "|ADDRESS|The address of a building|str|1541 METROPOLITAN AVENUE|\n",
    "|RESIDENTIAL UNITS|The number of residential units a building has|int|4|\n",
    "|COMMERCIAL UNITS| The number of commercial units a building has|int|1|\n",
    "|LAND SQUARE FEET| The net square feet is the total square footage of all the rooms/areas on a floor. This includes assignable and non-assignable rooms|int|1967|\n",
    "|GROSS SQUARE FEET|The gross square feet is calculated from the outside of the exterior walls and is inclusive of all space within minus areas that are open to below|int|2400\n",
    "|YEAR BUILT|The year a building was built|int|1901|\n",
    "|SALE PRICE|The sale price of a building|int|995000|"
   ]
  },
  {
   "cell_type": "markdown",
   "metadata": {},
   "source": [
    "## The Task\n",
    "\n",
    "There is one challenge in this KOH, broken into 3 parts. Complete all parts to plot the final line graph."
   ]
  },
  {
   "cell_type": "code",
   "execution_count": 7,
   "metadata": {
    "ExecuteTime": {
     "end_time": "2019-08-03T09:20:06.320982Z",
     "start_time": "2019-08-03T09:20:06.316945Z"
    }
   },
   "outputs": [],
   "source": [
    "import pandas as pd\n",
    "import matplotlib.pyplot as plt\n",
    "pd.options.display.float_format = '{:.2f}'.format"
   ]
  },
  {
   "cell_type": "markdown",
   "metadata": {},
   "source": [
    "### Read from CSV to `df`\n",
    "First, read the dataset into a `DataFrame`. Also, perform sanity checks on the dataset."
   ]
  },
  {
   "cell_type": "code",
   "execution_count": 8,
   "metadata": {
    "ExecuteTime": {
     "end_time": "2019-08-03T09:20:06.775763Z",
     "start_time": "2019-08-03T09:20:06.708896Z"
    }
   },
   "outputs": [],
   "source": [
    "df = pd.read_csv('nyc-building-sales-25k.csv')"
   ]
  },
  {
   "cell_type": "code",
   "execution_count": 9,
   "metadata": {
    "ExecuteTime": {
     "end_time": "2019-08-03T09:20:07.419890Z",
     "start_time": "2019-08-03T09:20:07.402897Z"
    }
   },
   "outputs": [
    {
     "data": {
      "text/html": [
       "<div>\n",
       "<style scoped>\n",
       "    .dataframe tbody tr th:only-of-type {\n",
       "        vertical-align: middle;\n",
       "    }\n",
       "\n",
       "    .dataframe tbody tr th {\n",
       "        vertical-align: top;\n",
       "    }\n",
       "\n",
       "    .dataframe thead th {\n",
       "        text-align: right;\n",
       "    }\n",
       "</style>\n",
       "<table border=\"1\" class=\"dataframe\">\n",
       "  <thead>\n",
       "    <tr style=\"text-align: right;\">\n",
       "      <th></th>\n",
       "      <th>BOROUGH</th>\n",
       "      <th>NEIGHBORHOOD</th>\n",
       "      <th>BUILDING CLASS CATEGORY</th>\n",
       "      <th>BLOCK</th>\n",
       "      <th>ADDRESS</th>\n",
       "      <th>RESIDENTIAL UNITS</th>\n",
       "      <th>COMMERCIAL UNITS</th>\n",
       "      <th>LAND SQUARE FEET</th>\n",
       "      <th>GROSS SQUARE FEET</th>\n",
       "      <th>YEAR BUILT</th>\n",
       "      <th>SALE PRICE</th>\n",
       "    </tr>\n",
       "  </thead>\n",
       "  <tbody>\n",
       "    <tr>\n",
       "      <th>0</th>\n",
       "      <td>5</td>\n",
       "      <td>WILLOWBROOK</td>\n",
       "      <td>02 TWO FAMILY DWELLINGS</td>\n",
       "      <td>1982</td>\n",
       "      <td>39 BOONE STREET</td>\n",
       "      <td>2</td>\n",
       "      <td>0</td>\n",
       "      <td>4600</td>\n",
       "      <td>2188</td>\n",
       "      <td>1960</td>\n",
       "      <td>720000</td>\n",
       "    </tr>\n",
       "    <tr>\n",
       "      <th>1</th>\n",
       "      <td>3</td>\n",
       "      <td>WINDSOR TERRACE</td>\n",
       "      <td>02 TWO FAMILY DWELLINGS</td>\n",
       "      <td>1115</td>\n",
       "      <td>230 WINDSOR PLACE</td>\n",
       "      <td>2</td>\n",
       "      <td>0</td>\n",
       "      <td>2000</td>\n",
       "      <td>2128</td>\n",
       "      <td>1901</td>\n",
       "      <td>0</td>\n",
       "    </tr>\n",
       "    <tr>\n",
       "      <th>2</th>\n",
       "      <td>5</td>\n",
       "      <td>WEST NEW BRIGHTON</td>\n",
       "      <td>02 TWO FAMILY DWELLINGS</td>\n",
       "      <td>228</td>\n",
       "      <td>45 FLOYD STREET</td>\n",
       "      <td>2</td>\n",
       "      <td>0</td>\n",
       "      <td>3900</td>\n",
       "      <td>2400</td>\n",
       "      <td>1920</td>\n",
       "      <td>515000</td>\n",
       "    </tr>\n",
       "  </tbody>\n",
       "</table>\n",
       "</div>"
      ],
      "text/plain": [
       "   BOROUGH       NEIGHBORHOOD                      BUILDING CLASS CATEGORY  \\\n",
       "0        5        WILLOWBROOK  02 TWO FAMILY DWELLINGS                       \n",
       "1        3    WINDSOR TERRACE  02 TWO FAMILY DWELLINGS                       \n",
       "2        5  WEST NEW BRIGHTON  02 TWO FAMILY DWELLINGS                       \n",
       "\n",
       "   BLOCK            ADDRESS  RESIDENTIAL UNITS  COMMERCIAL UNITS  \\\n",
       "0   1982    39 BOONE STREET                  2                 0   \n",
       "1   1115  230 WINDSOR PLACE                  2                 0   \n",
       "2    228    45 FLOYD STREET                  2                 0   \n",
       "\n",
       "   LAND SQUARE FEET  GROSS SQUARE FEET  YEAR BUILT  SALE PRICE  \n",
       "0              4600               2188        1960      720000  \n",
       "1              2000               2128        1901           0  \n",
       "2              3900               2400        1920      515000  "
      ]
     },
     "execution_count": 9,
     "metadata": {},
     "output_type": "execute_result"
    }
   ],
   "source": [
    "df.head(3)"
   ]
  },
  {
   "cell_type": "code",
   "execution_count": 10,
   "metadata": {
    "ExecuteTime": {
     "end_time": "2019-08-03T09:20:07.959978Z",
     "start_time": "2019-08-03T09:20:07.931093Z"
    }
   },
   "outputs": [
    {
     "name": "stdout",
     "output_type": "stream",
     "text": [
      "<class 'pandas.core.frame.DataFrame'>\n",
      "RangeIndex: 25000 entries, 0 to 24999\n",
      "Data columns (total 11 columns):\n",
      "BOROUGH                    25000 non-null int64\n",
      "NEIGHBORHOOD               25000 non-null object\n",
      "BUILDING CLASS CATEGORY    25000 non-null object\n",
      "BLOCK                      25000 non-null int64\n",
      "ADDRESS                    25000 non-null object\n",
      "RESIDENTIAL UNITS          25000 non-null int64\n",
      "COMMERCIAL UNITS           25000 non-null int64\n",
      "LAND SQUARE FEET           25000 non-null int64\n",
      "GROSS SQUARE FEET          25000 non-null int64\n",
      "YEAR BUILT                 25000 non-null int64\n",
      "SALE PRICE                 25000 non-null int64\n",
      "dtypes: int64(8), object(3)\n",
      "memory usage: 2.1+ MB\n"
     ]
    }
   ],
   "source": [
    "df.info()"
   ]
  },
  {
   "cell_type": "code",
   "execution_count": 11,
   "metadata": {
    "ExecuteTime": {
     "end_time": "2019-08-03T09:20:08.425578Z",
     "start_time": "2019-08-03T09:20:08.390672Z"
    },
    "scrolled": true
   },
   "outputs": [
    {
     "data": {
      "text/html": [
       "<div>\n",
       "<style scoped>\n",
       "    .dataframe tbody tr th:only-of-type {\n",
       "        vertical-align: middle;\n",
       "    }\n",
       "\n",
       "    .dataframe tbody tr th {\n",
       "        vertical-align: top;\n",
       "    }\n",
       "\n",
       "    .dataframe thead th {\n",
       "        text-align: right;\n",
       "    }\n",
       "</style>\n",
       "<table border=\"1\" class=\"dataframe\">\n",
       "  <thead>\n",
       "    <tr style=\"text-align: right;\">\n",
       "      <th></th>\n",
       "      <th>RESIDENTIAL UNITS</th>\n",
       "      <th>COMMERCIAL UNITS</th>\n",
       "      <th>LAND SQUARE FEET</th>\n",
       "      <th>GROSS SQUARE FEET</th>\n",
       "      <th>SALE PRICE</th>\n",
       "    </tr>\n",
       "  </thead>\n",
       "  <tbody>\n",
       "    <tr>\n",
       "      <th>count</th>\n",
       "      <td>25000.00</td>\n",
       "      <td>25000.00</td>\n",
       "      <td>25000.00</td>\n",
       "      <td>25000.00</td>\n",
       "      <td>25000.00</td>\n",
       "    </tr>\n",
       "    <tr>\n",
       "      <th>mean</th>\n",
       "      <td>2.52</td>\n",
       "      <td>0.32</td>\n",
       "      <td>3264.84</td>\n",
       "      <td>3771.05</td>\n",
       "      <td>1258180.54</td>\n",
       "    </tr>\n",
       "    <tr>\n",
       "      <th>std</th>\n",
       "      <td>17.76</td>\n",
       "      <td>15.13</td>\n",
       "      <td>31715.63</td>\n",
       "      <td>35212.43</td>\n",
       "      <td>17828273.77</td>\n",
       "    </tr>\n",
       "    <tr>\n",
       "      <th>min</th>\n",
       "      <td>0.00</td>\n",
       "      <td>0.00</td>\n",
       "      <td>0.00</td>\n",
       "      <td>0.00</td>\n",
       "      <td>0.00</td>\n",
       "    </tr>\n",
       "    <tr>\n",
       "      <th>25%</th>\n",
       "      <td>1.00</td>\n",
       "      <td>0.00</td>\n",
       "      <td>1433.00</td>\n",
       "      <td>840.00</td>\n",
       "      <td>88000.00</td>\n",
       "    </tr>\n",
       "    <tr>\n",
       "      <th>50%</th>\n",
       "      <td>1.00</td>\n",
       "      <td>0.00</td>\n",
       "      <td>2133.00</td>\n",
       "      <td>1620.00</td>\n",
       "      <td>480000.00</td>\n",
       "    </tr>\n",
       "    <tr>\n",
       "      <th>75%</th>\n",
       "      <td>2.00</td>\n",
       "      <td>0.00</td>\n",
       "      <td>3090.00</td>\n",
       "      <td>2520.00</td>\n",
       "      <td>830000.00</td>\n",
       "    </tr>\n",
       "    <tr>\n",
       "      <th>max</th>\n",
       "      <td>1844.00</td>\n",
       "      <td>2261.00</td>\n",
       "      <td>4228300.00</td>\n",
       "      <td>3750565.00</td>\n",
       "      <td>2210000000.00</td>\n",
       "    </tr>\n",
       "  </tbody>\n",
       "</table>\n",
       "</div>"
      ],
      "text/plain": [
       "       RESIDENTIAL UNITS  COMMERCIAL UNITS  LAND SQUARE FEET  \\\n",
       "count           25000.00          25000.00          25000.00   \n",
       "mean                2.52              0.32           3264.84   \n",
       "std                17.76             15.13          31715.63   \n",
       "min                 0.00              0.00              0.00   \n",
       "25%                 1.00              0.00           1433.00   \n",
       "50%                 1.00              0.00           2133.00   \n",
       "75%                 2.00              0.00           3090.00   \n",
       "max              1844.00           2261.00        4228300.00   \n",
       "\n",
       "       GROSS SQUARE FEET    SALE PRICE  \n",
       "count           25000.00      25000.00  \n",
       "mean             3771.05    1258180.54  \n",
       "std             35212.43   17828273.77  \n",
       "min                 0.00          0.00  \n",
       "25%               840.00      88000.00  \n",
       "50%              1620.00     480000.00  \n",
       "75%              2520.00     830000.00  \n",
       "max           3750565.00 2210000000.00  "
      ]
     },
     "execution_count": 11,
     "metadata": {},
     "output_type": "execute_result"
    }
   ],
   "source": [
    "# Summary statistics of key numeric variables\n",
    "df[['RESIDENTIAL UNITS', 'COMMERCIAL UNITS', 'LAND SQUARE FEET', 'GROSS SQUARE FEET', 'SALE PRICE']].describe()"
   ]
  },
  {
   "cell_type": "markdown",
   "metadata": {},
   "source": [
    "### Challenge\n",
    "\n",
    "Plot a line graph to show how the mean of `GROSS SQUARE FEET` of buildings have changed over time, from 2007 to 2017.\n",
    "\n",
    "1. Filter for all buildings built from 2007 to 2017 (inclusive). Keep all buildings where the `GROSS SQUARE FEET` $ >0$.\n",
    "2. Create an aggregated `df` where the first column is the `YEAR BUILT` and the second column is the **mean** of the `GROSS SQUARE FEET` of all buildings built in that year.\n",
    "3. Plot a **line graph** where the $x$-axis is the **year built** and the $y$-axis is the **mean gross square feet**. Be sure to include the title, $x$-axis label, $y$-axis label and legend. "
   ]
  },
  {
   "cell_type": "code",
   "execution_count": 29,
   "metadata": {
    "ExecuteTime": {
     "end_time": "2019-08-03T09:32:43.413881Z",
     "start_time": "2019-08-03T09:32:43.404875Z"
    }
   },
   "outputs": [
    {
     "name": "stderr",
     "output_type": "stream",
     "text": [
      "c:\\users\\jerms\\appdata\\local\\programs\\python\\python37\\lib\\site-packages\\ipykernel_launcher.py:10: UserWarning: Boolean Series key will be reindexed to match DataFrame index.\n",
      "  # Remove the CWD from sys.path while we load stuff.\n"
     ]
    }
   ],
   "source": [
    "# step 1\n",
    "\n",
    "df_filt = df['YEAR BUILT'] >= 2007\n",
    "df_filt2 = df['YEAR BUILT'] <= 2017\n",
    "\n",
    "df_filter  = df[df_filt & df_filt2 ]\n",
    "\n",
    "df_filt3 = df['GROSS SQUARE FEET'] > 0\n",
    "\n",
    "df_filter = df_filter[df_filt3]"
   ]
  },
  {
   "cell_type": "code",
   "execution_count": 30,
   "metadata": {
    "ExecuteTime": {
     "end_time": "2019-08-03T09:32:44.388646Z",
     "start_time": "2019-08-03T09:32:44.381618Z"
    }
   },
   "outputs": [],
   "source": [
    "# Step 2\n",
    "df_group = df_filter.groupby(['YEAR BUILT'], as_index=False).agg({\"GROSS SQUARE FEET\": \"mean\"})\n"
   ]
  },
  {
   "cell_type": "code",
   "execution_count": 33,
   "metadata": {
    "ExecuteTime": {
     "end_time": "2019-08-03T09:34:58.019423Z",
     "start_time": "2019-08-03T09:34:57.855246Z"
    }
   },
   "outputs": [
    {
     "data": {
      "text/plain": [
       "Text(0, 0.5, 'Mean Gross Square Feet')"
      ]
     },
     "execution_count": 33,
     "metadata": {},
     "output_type": "execute_result"
    },
    {
     "data": {
      "image/png": "[encoded data removed]",
      "text/plain": [
       "<Figure size 1152x504 with 1 Axes>"
      ]
     },
     "metadata": {
      "needs_background": "light"
     },
     "output_type": "display_data"
    }
   ],
   "source": [
    "# Step 3\n",
    "fig = plt.figure(figsize=(16,6))\n",
    "ax = fig.add_subplot(111)\n",
    "\n",
    "# Set the title here\n",
    "ax.set_title(\"Gross Mean Sqaure Feet of Buildings by Year Built, 2007 - 2017\")\n",
    "\n",
    "df_group.plot(kind='line',x='YEAR BUILT', y='GROSS SQUARE FEET', ax=ax, marker=\"x\",figsize=(16, 7))\n",
    "\n",
    "#Set the y axis label here\n",
    "ax.set_xlabel(\"Year Built\")\n",
    "ax.set_ylabel(\"Mean Gross Square Feet\")\n"
   ]
  },
  {
   "cell_type": "markdown",
   "metadata": {},
   "source": [
    "## Submit Plot\n",
    "\n",
    "When you have completed plotting the graph, show it to the teaching team. Did you get the correct plot to the KOH this week?"
   ]
  }
 ],
 "metadata": {
  "kernelspec": {
   "display_name": "Python 3",
   "language": "python",
   "name": "python3"
  },
  "language_info": {
   "codemirror_mode": {
    "name": "ipython",
    "version": 3
   },
   "file_extension": ".py",
   "mimetype": "text/x-python",
   "name": "python",
   "nbconvert_exporter": "python",
   "pygments_lexer": "ipython3",
   "version": "3.7.2"
  }
 },
 "nbformat": 4,
 "nbformat_minor": 2
}
