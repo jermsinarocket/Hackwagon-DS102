{
 "cells": [
  {
   "cell_type": "markdown",
   "metadata": {},
   "source": [
    "<center><h2>DS102 King of the Hill (KOH) - 2</h2></center>\n",
    "**Hackwagon Academy**\n",
    "\n",
    "`HWA-DS102-KOH-A-2`\n",
    "<hr>"
   ]
  },
  {
   "cell_type": "markdown",
   "metadata": {},
   "source": [
    "## The Dataset\n",
    "\n",
    "This dataset is a record of every building or building unit (apartment, etc.) sold in the New York City property market over a 12-month period. It is taken from [Kaggle](https://www.kaggle.com/new-york-city/nyc-property-sales/home). The dataset is stored in `nyc-building-sales-25k.csv` and the the respective columns are:\n",
    "\n",
    "\n",
    "`nyc-building-sales-25k.csv`\n",
    "\n",
    "|column name|description|data type|example|\n",
    "|:---:|:---:|:---:|:---:|\n",
    "|BOROUGH|The borough a building is in|int|4|\n",
    "|NEIGHBORHOOD|The neighborhood a building is in|str|CLINTON HILL|\n",
    "|BUILDING CLASS CATEGORY|The class category of a build|str|01 ONE FAMILY DWELLINGS|\n",
    "|BLOCK|The block of a building|int|923|\n",
    "|ADDRESS|The address of a building|str|1541 METROPOLITAN AVENUE|\n",
    "|RESIDENTIAL UNITS|The number of residential units a building has|int|4|\n",
    "|COMMERCIAL UNITS| The number of commercial units a building has|int|1|\n",
    "|LAND SQUARE FEET| The net square feet is the total square footage of all the rooms/areas on a floor. This includes assignable and non-assignable rooms|int|1967|\n",
    "|GROSS SQUARE FEET|The gross square feet is calculated from the outside of the exterior walls and is inclusive of all space within minus areas that are open to below|int|2400\n",
    "|YEAR BUILT|The year a building was built|int|1901|\n",
    "|SALE PRICE|The sale price of a building|int|995000|"
   ]
  },
  {
   "cell_type": "markdown",
   "metadata": {},
   "source": [
    "## The Task\n",
    "\n",
    "There are three challenges in this KOH. Complete each challenge to obtain a 3-digit number. Combine them in the correct order to reveal a 9-digit passcode."
   ]
  },
  {
   "cell_type": "code",
   "execution_count": null,
   "metadata": {
    "ExecuteTime": {
     "end_time": "2018-09-16T03:36:59.472914Z",
     "start_time": "2018-09-16T03:36:59.128622Z"
    }
   },
   "outputs": [],
   "source": [
    "import pandas as pd\n",
    "pd.options.display.float_format = '{:.2f}'.format"
   ]
  },
  {
   "cell_type": "markdown",
   "metadata": {},
   "source": [
    "### Read from CSV to `df`\n",
    "First, read the dataset into a `DataFrame`. Also, perform sanity checks on the dataset."
   ]
  },
  {
   "cell_type": "code",
   "execution_count": null,
   "metadata": {
    "ExecuteTime": {
     "end_time": "2018-09-16T03:36:59.547142Z",
     "start_time": "2018-09-16T03:36:59.475518Z"
    }
   },
   "outputs": [],
   "source": [
    "# read file here "
   ]
  },
  {
   "cell_type": "code",
   "execution_count": null,
   "metadata": {
    "ExecuteTime": {
     "end_time": "2018-09-16T03:36:59.611819Z",
     "start_time": "2018-09-16T03:36:59.589435Z"
    }
   },
   "outputs": [],
   "source": [
    "df.info()"
   ]
  },
  {
   "cell_type": "code",
   "execution_count": null,
   "metadata": {
    "ExecuteTime": {
     "end_time": "2018-09-16T03:36:59.685780Z",
     "start_time": "2018-09-16T03:36:59.615250Z"
    },
    "scrolled": true
   },
   "outputs": [],
   "source": [
    "# Summary statistics of key numeric variables\n",
    "df[['RESIDENTIAL UNITS', 'COMMERCIAL UNITS', 'LAND SQUARE FEET', 'GROSS SQUARE FEET', 'SALE PRICE']].describe()"
   ]
  },
  {
   "cell_type": "markdown",
   "metadata": {},
   "source": [
    "### Challenge 1\n",
    "\n",
    "What is the median of `GROSS SQUARE FEET` for all buildings with $1 \\text{ or } 2$ `RESIDENTIAL UNIT`s? \n",
    "<div class=\"alert alert-info\">The solution is a float. The <b>first 3 digits</b> will form the first part of the passcode.</div>"
   ]
  },
  {
   "cell_type": "code",
   "execution_count": null,
   "metadata": {
    "ExecuteTime": {
     "end_time": "2018-09-16T03:36:59.700954Z",
     "start_time": "2018-09-16T03:36:59.691402Z"
    }
   },
   "outputs": [],
   "source": [
    "# Challenge 1"
   ]
  },
  {
   "cell_type": "markdown",
   "metadata": {},
   "source": [
    "### Challenge 2\n",
    "\n",
    "Using the `YEAR BUILT` column, How many buildings in `BOROUGH` $5$ were built from 1995 to 2010 (inclusive) ?\n",
    "<div class=\"alert alert-info\">The solution is a 3-digit number. <b>All 3 digits</b> will form the second part of the passcode.</div>"
   ]
  },
  {
   "cell_type": "code",
   "execution_count": null,
   "metadata": {
    "ExecuteTime": {
     "end_time": "2018-09-16T03:36:59.709873Z",
     "start_time": "2018-09-16T03:36:59.705035Z"
    },
    "scrolled": true
   },
   "outputs": [],
   "source": [
    "# Challenge 2"
   ]
  },
  {
   "cell_type": "markdown",
   "metadata": {},
   "source": [
    "### Challenge 3\n",
    "\n",
    "How many more `RESIDENTIAL UNIT`s than `COMMERCIAL UNIT`s are there in the whole dataset?\n",
    "\n",
    "<div class=\"alert alert-info\">The solution is a 5-digit number. The <b>first 3 digits</b> will form the third part of the passcode.</div>"
   ]
  },
  {
   "cell_type": "code",
   "execution_count": null,
   "metadata": {
    "ExecuteTime": {
     "end_time": "2018-09-16T03:36:59.722785Z",
     "start_time": "2018-09-16T03:36:59.717809Z"
    }
   },
   "outputs": [],
   "source": [
    "# Challenge 3"
   ]
  },
  {
   "cell_type": "markdown",
   "metadata": {},
   "source": [
    "## Submit Passcode\n",
    "\n",
    "When you have completed forming the passcode, submit the result to your teaching team. Did you crack the code to this KOH this week?"
   ]
  },
  {
   "cell_type": "code",
   "execution_count": null,
   "metadata": {},
   "outputs": [],
   "source": []
  }
 ],
 "metadata": {
  "kernelspec": {
   "display_name": "Python 3",
   "language": "python",
   "name": "python3"
  },
  "language_info": {
   "codemirror_mode": {
    "name": "ipython",
    "version": 3
   },
   "file_extension": ".py",
   "mimetype": "text/x-python",
   "name": "python",
   "nbconvert_exporter": "python",
   "pygments_lexer": "ipython3",
   "version": "3.7.2"
  }
 },
 "nbformat": 4,
 "nbformat_minor": 2
}
