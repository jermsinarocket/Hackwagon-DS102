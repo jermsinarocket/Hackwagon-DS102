{
 "cells": [
  {
   "cell_type": "markdown",
   "metadata": {},
   "source": [
    "### DS102 | In Class Practice Week 1A - Python Revision\n",
    "<hr>\n",
    "## Learning Objectives\n",
    "At the end of the lesson, you will be able to:\n",
    "\n",
    "1. declare and manipulate variables, lists and dictionaries\n",
    "\n",
    "2. implement control flow using `if...else` statements and conditionals\n",
    "\n",
    "3. implement looping using `for` loops\n",
    "\n",
    "4. implement simple filtering using a combination of looping and `if...else` statements\n",
    "\n",
    "5. solve data analytics business problems using Python"
   ]
  },
  {
   "cell_type": "markdown",
   "metadata": {},
   "source": [
    "### Variables & Datatypes\n",
    "There are four primitive or basic datatypes in Python: `str`, `int`, `float` and `bool`. Use `type` to validate the datatype."
   ]
  },
  {
   "cell_type": "code",
   "execution_count": 1,
   "metadata": {},
   "outputs": [
    {
     "name": "stdout",
     "output_type": "stream",
     "text": [
      "<class 'str'>\n",
      "<class 'int'>\n",
      "<class 'float'>\n",
      "<class 'bool'>\n"
     ]
    }
   ],
   "source": [
    "# Variables & Datatypes\n",
    "Title = 'Pirates of the Caribbean' # str or string\n",
    "print(type(Title))\n",
    "Likes = 23009 # int or integer\n",
    "print(type(Likes))\n",
    "Rating = 4.7 # float\n",
    "print(type(Rating))\n",
    "Popular = True # boolean\n",
    "print(type(Popular))"
   ]
  },
  {
   "cell_type": "markdown",
   "metadata": {},
   "source": [
    "There are three types of Collections in Python: `tuple`, `list` and `dict`. For `tuple`s and `list`s, retrieve elements using numeric indices. Recall that indices start from `0`, not `1`. For `dict`s, specify the key to retrieve its value."
   ]
  },
  {
   "cell_type": "code",
   "execution_count": 8,
   "metadata": {},
   "outputs": [
    {
     "name": "stdout",
     "output_type": "stream",
     "text": [
      "<class 'tuple'>\n",
      "11\n",
      "<class 'list'>\n",
      "1\n",
      "6\n",
      "<class 'dict'>\n",
      "fluffy\n"
     ]
    }
   ],
   "source": [
    "# tuple\n",
    "prime_numbers = (11,13,17)\n",
    "print(type(prime_numbers))\n",
    "# Your turn: how do you get 11 from this tuple?\n",
    "print(prime_numbers[0])\n",
    "\n",
    "# list\n",
    "even_numbers = [4, 6, 8]\n",
    "print(type(even_numbers))\n",
    "# Your turn: how do you get 6 from this list?\n",
    "print(even_numbers.index(6))\n",
    "print(even_numbers[1])\n",
    "\n",
    "# dict\n",
    "animals = {'cat': 'furry', 'dog': 'fluffy'}\n",
    "print(type(animals))\n",
    "# Your turn: how do you get 'fluffy' from this dictionary?\n",
    "print(animals['dog'])"
   ]
  },
  {
   "cell_type": "markdown",
   "metadata": {},
   "source": [
    "### Arithmetic Operations\n",
    "The following table summarises arithmetic operations in Python:\n",
    "\n",
    "| Operator | Function | Example Usage | Calculation | Example Output\n",
    "|------|------|--|--|------|\n",
    "|`+`| Addition| `2 + 3` | $2 + 3$ | `5`\n",
    "|`-`|Subtraction | `2-3` | $2 - 3$| `-1`\n",
    "|`*`|Multiplication | `2*3` | $2 \\times 3$| `6`\n",
    "|`**`|To the Power of | `2**3` | $ 2^3$| `8`\n",
    "|`/`|Division | `8/3` | $8\\div 3$| `2.6666666666666665`\n",
    "|`//`|Division (Round down) | `8//3` | round down $8\\div3$| `2`\n",
    "|`%`|Modulus | `8%3` | $8 \\mod 3$| `2`"
   ]
  },
  {
   "cell_type": "code",
   "execution_count": null,
   "metadata": {},
   "outputs": [],
   "source": [
    "# Copy another expression and validate the output.\n",
    "print(2+3)"
   ]
  },
  {
   "cell_type": "code",
   "execution_count": 9,
   "metadata": {},
   "outputs": [
    {
     "name": "stdout",
     "output_type": "stream",
     "text": [
      "16\n"
     ]
    }
   ],
   "source": [
    "# Your turn: What is the result of 2**4?\n",
    "print(2**4)"
   ]
  },
  {
   "cell_type": "markdown",
   "metadata": {},
   "source": [
    "### Python Comparators\n",
    "\n",
    "The following table summarises Python comparators. Note that comparators can be applied to strings too:\n",
    "\n",
    "| Expression | Comparison Function | Definition of Comparison Function | Evaluation\n",
    "|------|------|--|------|\n",
    "|`100 > 5` | `>`| Greater than  | `True`\n",
    "|`5 >= 4`|`>=` | Greater than or equal to | `True`\n",
    "|`5 < -5`|`<` | Smaller than | `False`\n",
    "|`90 <= 99`|`<=` | Smaller than or equal to | `True`\n",
    "|`400 == 405` |`==` | Equal to | `False`\n",
    "|`'Python' == 'python'` |`==` | Equal to | `False`\n",
    "|`100 != 100`|`!=` | Not Equal to | `False`"
   ]
  },
  {
   "cell_type": "code",
   "execution_count": null,
   "metadata": {},
   "outputs": [],
   "source": [
    "# Copy another expression and validate the output.\n",
    "print(100 > 5)"
   ]
  },
  {
   "cell_type": "markdown",
   "metadata": {},
   "source": [
    "**Your turn:** What is the result of `700 < 400`?"
   ]
  },
  {
   "cell_type": "code",
   "execution_count": 10,
   "metadata": {},
   "outputs": [
    {
     "name": "stdout",
     "output_type": "stream",
     "text": [
      "False\n"
     ]
    }
   ],
   "source": [
    "# Your turn: What is the result of 700 < 400\n",
    "print(700 < 400)"
   ]
  },
  {
   "cell_type": "markdown",
   "metadata": {},
   "source": [
    "### Lists Indices\n",
    "Retrieve an element in a list using its index. Recall that indices in a list start from `0`. Use the colon `:` notation to slice a list to get a smaller list."
   ]
  },
  {
   "cell_type": "markdown",
   "metadata": {},
   "source": [
    "The table below summarises retrieval / capturing elements in a Python list by index.\n",
    "\n",
    "| Expression | Definition of Expression | Example Usage | Result\n",
    "|------|------|--|------|\n",
    "|`[4]` | Retrieve elements from position 4| `more_odd_numbers[4]` | `9`\n",
    "|`[:3]` | Retrieve elements from position 0 (defaulted) to 2 (exclusive end) | `more_odd_numbers[:3]` | `[1, 3, 5]`\n",
    "|`[3:5]` | Retrieve elements from position 3 (inclusive start) to 4 (exclusive end) | `more_odd_numbers[3:5]` | `[7, 9]`\n",
    "|`[3:]` | Retrieve element from position 3 (inclusive start) to the last element (defaulted) | `more_odd_numbers[3:]` | `[7, 9, 11, 13, 15]`"
   ]
  },
  {
   "cell_type": "code",
   "execution_count": 11,
   "metadata": {},
   "outputs": [
    {
     "name": "stdout",
     "output_type": "stream",
     "text": [
      "[1, 3, 5]\n"
     ]
    }
   ],
   "source": [
    "odd_numbers = [1, 3, 5, 7, 9, 11]\n",
    "# Your turn: What is the output of odd_numbers[:3]?\n",
    "print(odd_numbers[:3])"
   ]
  },
  {
   "cell_type": "code",
   "execution_count": 12,
   "metadata": {},
   "outputs": [
    {
     "name": "stdout",
     "output_type": "stream",
     "text": [
      "[6, 8, 10]\n"
     ]
    }
   ],
   "source": [
    "# Your turn: What is the result of the following code block?\n",
    "even_numbers = [2, 4, 6, 8, 10]\n",
    "print(even_numbers[2:])\n",
    "#6,8,10"
   ]
  },
  {
   "cell_type": "code",
   "execution_count": 13,
   "metadata": {
    "ExecuteTime": {
     "end_time": "2018-10-08T12:43:02.278743Z",
     "start_time": "2018-10-08T12:43:02.273975Z"
    }
   },
   "outputs": [
    {
     "name": "stdout",
     "output_type": "stream",
     "text": [
      "[8, 10]\n"
     ]
    }
   ],
   "source": [
    "# Your turn: What is the result of the following code block?\n",
    "even_numbers = [2, 4, 6, 8, 10]\n",
    "print(even_numbers[-2:])"
   ]
  },
  {
   "cell_type": "markdown",
   "metadata": {},
   "source": [
    "### Combine iterations and control flow for lists\n",
    "Given a list, `l`, use a code signature:\n",
    "```python\n",
    "for i in l:\n",
    "```\n",
    "to iterate through all items in the **list**."
   ]
  },
  {
   "cell_type": "code",
   "execution_count": null,
   "metadata": {
    "scrolled": true
   },
   "outputs": [],
   "source": [
    "# Using a for loop to iterate through all elements\n",
    "populations = [9.3, 23.4, 66.7, 34.4, 10.2, 28.7]\n",
    "for p in populations:\n",
    "    print(p)"
   ]
  },
  {
   "cell_type": "markdown",
   "metadata": {},
   "source": [
    "Combine `if...else` control flow statements with iterations so Python makes a decision and executes code according on that decision."
   ]
  },
  {
   "cell_type": "code",
   "execution_count": null,
   "metadata": {
    "scrolled": true
   },
   "outputs": [],
   "source": [
    "# Using if...else statements\n",
    "populations = [9.3, 23.4, 66.7, 34.4, 10.2, 28.7]\n",
    "for p in populations:\n",
    "    if p < 25.0:\n",
    "        print(\"Small population\")\n",
    "    else:\n",
    "        print(\"Large population\")"
   ]
  },
  {
   "cell_type": "markdown",
   "metadata": {},
   "source": [
    "Similarly, use `if...else` statements to filter for elements in the lists of interest:"
   ]
  },
  {
   "cell_type": "code",
   "execution_count": null,
   "metadata": {},
   "outputs": [],
   "source": [
    "# Filtering using for loops and if...else statements\n",
    "populations = [9.3, 23.4, 66.7, 34.4, 10.2, 28.7]\n",
    "large_populations = []\n",
    "for p in populations:\n",
    "    if p < 25.0:\n",
    "        print(\"Small population\")\n",
    "    else:\n",
    "        large_populations.append(p)\n",
    "        print(\"Large population\")\n",
    "print(large_populations)"
   ]
  },
  {
   "cell_type": "markdown",
   "metadata": {},
   "source": [
    "### Class Exercises"
   ]
  },
  {
   "cell_type": "markdown",
   "metadata": {},
   "source": [
    "#### Exercise 1 - House Prices\n",
    "The variable `house_prices` contains the price of $40$ house, in $\\times 1000 \\text{ SGD}$. What are values in are more than the average house price? Sort them in **descending order**.\n",
    "\n",
    "Clues:\n",
    "\n",
    "- You need to calculate the average house price first. To do so, add all the values in the list using `sum(house_prices)`. Then, divide this total by the number of elements in the list using `len(house_prices)`\n",
    "\n",
    "- To sort in `house_prices` descending order, use `house_prices.sort(reverse=True)`. You can apply this to any Python list"
   ]
  },
  {
   "cell_type": "code",
   "execution_count": null,
   "metadata": {},
   "outputs": [],
   "source": [
    "#Exercise 1\n",
    "house_prices = [190.5, 152.5, 145.0, 73.5, 136.5, 172.5, \n",
    "              132.0, 125.5, 63.0, 121.0, 167.0, 130.0, 125.5, \n",
    "              69.5, 119.5, 169.5, 150.5, 133.5, 64.5, 128.0, 175.0, \n",
    "              138.5, 126.0, 77.5, 135.5, 177.5, 142.5, 142.5, 71.5, 131.0, \n",
    "              179.5, 142.5, 127.5, 70.5, 134.5, 179.5, 138.0, 133.5, 73.5, 132.5]\n",
    "\n",
    "# Try it: Type your code here\n",
    "#"
   ]
  },
  {
   "cell_type": "markdown",
   "metadata": {},
   "source": [
    "#### Exercise 2 - Song Titles\n",
    "\n",
    "The variable `song_titles` contains the title of popular songs. Each song is a list of strings. The number of words in the song is the length of the list. How many song titles have exactly $4$ words?"
   ]
  },
  {
   "cell_type": "code",
   "execution_count": null,
   "metadata": {},
   "outputs": [],
   "source": [
    "#Exercise 2\n",
    "song_titles =  [['shape', 'of', 'you'],\n",
    "                ['despacito', 'featuring', 'daddy', 'yankee'],\n",
    "                ['something', 'just', 'like', 'this'],\n",
    "                ['thats', 'what', 'i', 'like'],\n",
    "                ['paris'],\n",
    "                ['stay', 'with', 'alessia', 'cara'],\n",
    "                ['attention'],\n",
    "                ['mask', 'off'],\n",
    "                ['congratulations'],\n",
    "                ['castle', 'on', 'the', 'hill'],\n",
    "                ['rockabye', 'feat', 'sean', 'paul', 'annemarie'],\n",
    "                ['believer'],\n",
    "                ['mi', 'gente'],\n",
    "                ['thunder'],\n",
    "                ['say', 'you', 'wont', 'let', 'go'],\n",
    "                ['theres', 'nothing', 'holdin', 'me', 'back'],\n",
    "                ['scared', 'to', 'be', 'lonely'],]\n",
    "\n",
    "# Try it: Type your code here\n",
    "#"
   ]
  },
  {
   "cell_type": "markdown",
   "metadata": {},
   "source": [
    "#### Exercise 3 - Per Capita Water Consumption\n",
    "\n",
    "The dictionary `per_capita_water_consumption` contains the average annual water consumption, in cubic metres of 1 person in 1 year from 2002 to 2016 for an Asian city.\n",
    "\n",
    "In what years was the average annual water consumption between $400$ and $700$ cubic metres? Sort the years **in ascending order**.\n",
    "\n",
    "Clue: A way to iterate a Python dictionary using `per_capita_water_consumption.items()` is given to you. Modify the code to get the answers."
   ]
  },
  {
   "cell_type": "code",
   "execution_count": null,
   "metadata": {},
   "outputs": [],
   "source": [
    "#Exercise 3\n",
    "per_capita_water_consumption = {\n",
    "    2002: 353.5, 2003: 350.8, 2004: 357.5, 2005: 382.0,\n",
    "    2006: 424.3, 2007: 502.6, 2008: 539.7, 2009: 553.7,\n",
    "    2010: 662.4, 2011: 671.2, 2012: 739.6, 2013: 854.9,\n",
    "    2014: 912.3, 2015: 1008.1, 2016: 1060.0}\n",
    "# Try it: In what years was the average annual water consumption between 400 and 700 cubic metres?\n",
    "#"
   ]
  },
  {
   "cell_type": "markdown",
   "metadata": {},
   "source": [
    "<hr>\n",
    "`HWA-DS102-INCLASS-1A-201810`"
   ]
  }
 ],
 "metadata": {
  "kernelspec": {
   "display_name": "Python 3",
   "language": "python",
   "name": "python3"
  },
  "language_info": {
   "codemirror_mode": {
    "name": "ipython",
    "version": 3
   },
   "file_extension": ".py",
   "mimetype": "text/x-python",
   "name": "python",
   "nbconvert_exporter": "python",
   "pygments_lexer": "ipython3",
   "version": "3.7.2"
  }
 },
 "nbformat": 4,
 "nbformat_minor": 2
}
