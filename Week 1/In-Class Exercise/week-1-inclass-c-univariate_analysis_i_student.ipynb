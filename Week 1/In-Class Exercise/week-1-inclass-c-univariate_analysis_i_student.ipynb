{
 "cells": [
  {
   "cell_type": "markdown",
   "metadata": {},
   "source": [
    "### DS102 | In Class Practice Week 1C - Univariate Analysis I\n",
    "<hr>\n",
    "## Learning Objectives\n",
    "At the end of the lesson, you will be able to:\n",
    "1. Find summary statistics of a dataset using `describe()`\n",
    "\n",
    "2. Calculate and interpret the **mean**, **median** and **mode** of a sample using `mean()`, `median()` and `mode()`\n",
    "\n",
    "3. Calculate and interpret **variance** and **standard deviation** of a sample using `var()` and `std()`\n",
    "\n",
    "4. Calculate and interpret **skewness** and **kurtosis** of a sample using `skew()` and `kurt()`\n",
    "\n",
    "### Datasets Required for this In Class\n",
    "1. `wines-3k.csv`"
   ]
  },
  {
   "cell_type": "markdown",
   "metadata": {},
   "source": [
    "### Import `pandas`, `numpy` and read the CSV file into a `df`"
   ]
  },
  {
   "cell_type": "code",
   "execution_count": null,
   "metadata": {
    "ExecuteTime": {
     "end_time": "2018-10-08T15:54:13.860544Z",
     "start_time": "2018-10-08T15:54:12.826943Z"
    }
   },
   "outputs": [],
   "source": [
    "# Import libraries\n",
    "import pandas as pd\n",
    "import numpy as np\n",
    "\n",
    "#For plotting\n",
    "import matplotlib.pyplot as plt\n",
    "import matplotlib\n",
    "import seaborn as sns\n",
    "from scipy.stats import norm\n",
    "sns.set()"
   ]
  },
  {
   "cell_type": "markdown",
   "metadata": {},
   "source": [
    "Read the dataset from `wines-3k.csv` into a `df`. Specify the `sep` parameter as the separator right now is no longer a comma."
   ]
  },
  {
   "cell_type": "code",
   "execution_count": null,
   "metadata": {
    "ExecuteTime": {
     "end_time": "2018-10-08T15:54:13.879497Z",
     "start_time": "2018-10-08T15:54:13.863443Z"
    }
   },
   "outputs": [],
   "source": [
    "# Read CSV file to a df.\n",
    "#\n",
    "df = pd.read_csv('wines-3k.csv', sep='|')"
   ]
  },
  {
   "cell_type": "markdown",
   "metadata": {},
   "source": [
    "It is good practice to do some preliminary analysis on the newly created `df`."
   ]
  },
  {
   "cell_type": "code",
   "execution_count": null,
   "metadata": {
    "ExecuteTime": {
     "end_time": "2018-10-08T15:54:13.900148Z",
     "start_time": "2018-10-08T15:54:13.884689Z"
    },
    "scrolled": false
   },
   "outputs": [],
   "source": [
    "# Exercise: print the shape of the df\n",
    "#\n",
    "print()\n",
    "# Exercise: print the dtypes of the df\n",
    "#\n",
    "print()\n",
    "# Exercise: print the columns of the df\n",
    "#"
   ]
  },
  {
   "cell_type": "code",
   "execution_count": null,
   "metadata": {
    "ExecuteTime": {
     "end_time": "2018-10-08T15:54:13.936531Z",
     "start_time": "2018-10-08T15:54:13.908030Z"
    },
    "scrolled": true
   },
   "outputs": [],
   "source": [
    "# Exercise: Display the first 5 records of the df\n",
    "#"
   ]
  },
  {
   "cell_type": "markdown",
   "metadata": {},
   "source": [
    "### Retrieve Summary Statistics\n",
    "Use `describe()` to find out summary statistics of each of the columns in a `df`. Take note of what each row means. In particular, the quartiles and the percentiles."
   ]
  },
  {
   "cell_type": "code",
   "execution_count": null,
   "metadata": {
    "ExecuteTime": {
     "end_time": "2018-10-08T15:54:13.986729Z",
     "start_time": "2018-10-08T15:54:13.941054Z"
    },
    "scrolled": false
   },
   "outputs": [],
   "source": [
    "# Use describe() to show summary statistics\n",
    "df.describe()"
   ]
  },
  {
   "cell_type": "markdown",
   "metadata": {},
   "source": [
    "Country is a **categorical field**, which means it takes a (string) value, selected from a list. Use `df['country'].describe()` to show summary statistics of a categorical field. Here's how you interpret the result:\n",
    "\n",
    "- `unique` represents the number of **unique values** of the column\n",
    "\n",
    "- `top` represents the **most frequent value** in the column\n",
    "\n",
    "- `freq` represents the **count of the most frequent value** in the column"
   ]
  },
  {
   "cell_type": "code",
   "execution_count": null,
   "metadata": {
    "ExecuteTime": {
     "end_time": "2018-10-08T15:54:14.001907Z",
     "start_time": "2018-10-08T15:54:13.990507Z"
    },
    "scrolled": true
   },
   "outputs": [],
   "source": [
    "# Perform describe() on one column.\n",
    "df['country'].describe()\n",
    "\n",
    "# Note how the display is different from that of a numerical Series\n",
    "# Exercise: How will you jointly interpret the value for 'top' and 'freq' with reference to the dataset?\n",
    "# "
   ]
  },
  {
   "cell_type": "markdown",
   "metadata": {},
   "source": [
    "To find all the unique values of `country`, use `df['country'].unique()` ."
   ]
  },
  {
   "cell_type": "code",
   "execution_count": null,
   "metadata": {
    "ExecuteTime": {
     "end_time": "2018-10-08T15:54:14.017933Z",
     "start_time": "2018-10-08T15:54:14.004928Z"
    }
   },
   "outputs": [],
   "source": [
    "# Use Series.unique() to see all the unique values.\n",
    "#"
   ]
  },
  {
   "cell_type": "markdown",
   "metadata": {},
   "source": [
    "To find the number of unique `country`(ies), use `df['country'].nunique()`. This is the same as finding the number of elements in `df['country']` using `len()`."
   ]
  },
  {
   "cell_type": "code",
   "execution_count": null,
   "metadata": {
    "ExecuteTime": {
     "end_time": "2018-10-08T15:54:14.033119Z",
     "start_time": "2018-10-08T15:54:14.024670Z"
    }
   },
   "outputs": [],
   "source": [
    "# Find the no. of unique values using nunique()\n",
    "#\n",
    "\n",
    "# Find the no. of unique values using len()\n",
    "#"
   ]
  },
  {
   "cell_type": "markdown",
   "metadata": {},
   "source": [
    "### Simple Aggregation"
   ]
  },
  {
   "cell_type": "code",
   "execution_count": null,
   "metadata": {
    "ExecuteTime": {
     "end_time": "2018-10-08T15:54:14.046560Z",
     "start_time": "2018-10-08T15:54:14.036949Z"
    }
   },
   "outputs": [],
   "source": [
    "# Exercise: Store all the wines made in Chile in a df called chile_df\n",
    "#"
   ]
  },
  {
   "cell_type": "markdown",
   "metadata": {},
   "source": [
    "Use `sum()` to find the sum of all values in a column."
   ]
  },
  {
   "cell_type": "code",
   "execution_count": null,
   "metadata": {
    "ExecuteTime": {
     "end_time": "2018-10-08T15:54:14.059379Z",
     "start_time": "2018-10-08T15:54:14.050713Z"
    }
   },
   "outputs": [],
   "source": [
    "# Q. How much would it cost to buy 1 bottle of each wine produced from Chile?\n",
    "#"
   ]
  },
  {
   "cell_type": "markdown",
   "metadata": {},
   "source": [
    "Use `min()` to get the minimum value in a column."
   ]
  },
  {
   "cell_type": "code",
   "execution_count": null,
   "metadata": {
    "ExecuteTime": {
     "end_time": "2018-10-08T15:54:14.072485Z",
     "start_time": "2018-10-08T15:54:14.063269Z"
    }
   },
   "outputs": [],
   "source": [
    "# Q. How much does the cheapest bottle of wine produced in Chile cost?\n",
    "#"
   ]
  },
  {
   "cell_type": "markdown",
   "metadata": {},
   "source": [
    "Use `max()` to get the maximum value in a column."
   ]
  },
  {
   "cell_type": "code",
   "execution_count": null,
   "metadata": {
    "ExecuteTime": {
     "end_time": "2018-10-08T15:54:14.086551Z",
     "start_time": "2018-10-08T15:54:14.076452Z"
    }
   },
   "outputs": [],
   "source": [
    "# Q. What is the highest score given to any bottle of wine produced in Chile?\n",
    "#"
   ]
  },
  {
   "cell_type": "markdown",
   "metadata": {},
   "source": [
    "Use `count()` to find the number of records in a `Series`."
   ]
  },
  {
   "cell_type": "code",
   "execution_count": null,
   "metadata": {
    "ExecuteTime": {
     "end_time": "2018-10-08T15:54:14.101442Z",
     "start_time": "2018-10-08T15:54:14.090377Z"
    }
   },
   "outputs": [],
   "source": [
    "# Q. How many different wines were produced in France?\n",
    "#\n",
    "# Copy the df\n",
    "france_df = df.copy()\n",
    "\n",
    "# Filter for all wines from France\n",
    "#\n",
    "# Use the count() function\n",
    "#"
   ]
  },
  {
   "cell_type": "markdown",
   "metadata": {},
   "source": [
    "### Measures of Central Tendency - Mean, Median, Mode"
   ]
  },
  {
   "cell_type": "markdown",
   "metadata": {},
   "source": [
    "**Mean of a sample, $\\bar{x}$**\n",
    "The formula for this is\n",
    "$$\\frac{\\sum_i x_i}{n}$$\n",
    "where $x_i$ is the point value for the $i$-th wine and $n$ is the number of wines in the dataset."
   ]
  },
  {
   "cell_type": "code",
   "execution_count": null,
   "metadata": {
    "ExecuteTime": {
     "end_time": "2018-10-08T15:54:14.113650Z",
     "start_time": "2018-10-08T15:54:14.105664Z"
    }
   },
   "outputs": [],
   "source": [
    "# Q. What is the mean of the points of all wines?\n",
    "#"
   ]
  },
  {
   "cell_type": "markdown",
   "metadata": {},
   "source": [
    "**Median of a sample, or $50\\text{th percentile}$ of a sample**\n",
    "\n",
    "The value output here simply means $50\\%$ of the observations is equal to or above this value, and the other $50\\%$ of the observations is below this value."
   ]
  },
  {
   "cell_type": "code",
   "execution_count": null,
   "metadata": {
    "ExecuteTime": {
     "end_time": "2018-10-08T15:54:14.124887Z",
     "start_time": "2018-10-08T15:54:14.116652Z"
    }
   },
   "outputs": [],
   "source": [
    "# Q. What is the median of the points of all wines?\n",
    "#"
   ]
  },
  {
   "cell_type": "markdown",
   "metadata": {},
   "source": [
    "**Mode of a sample**, or most frequently occuring value"
   ]
  },
  {
   "cell_type": "code",
   "execution_count": null,
   "metadata": {
    "ExecuteTime": {
     "end_time": "2018-10-08T15:54:14.149247Z",
     "start_time": "2018-10-08T15:54:14.129338Z"
    }
   },
   "outputs": [],
   "source": [
    "# Q. What is the mode of points of all wines?\n",
    "#"
   ]
  },
  {
   "cell_type": "markdown",
   "metadata": {},
   "source": [
    "Validate the value above against the against the aggregation result and histogram plot below.\n",
    "<div class=\"alert alert-info\">\n",
    "<b>DS102 Learning Guidelines: </b> `groupby()` will only be covered in Week 2. Plotting will only be covered in Week 3. You are only expected to <b>interpret</b> the results.\n",
    "</div>"
   ]
  },
  {
   "cell_type": "code",
   "execution_count": null,
   "metadata": {
    "ExecuteTime": {
     "end_time": "2018-10-08T15:54:14.645755Z",
     "start_time": "2018-10-08T15:54:14.154990Z"
    },
    "scrolled": false
   },
   "outputs": [],
   "source": [
    "# Use groupby() to aggregate the dataset and then use size() to get the number of records.\n",
    "# Convert this result to a df, where the size() column is renamed to 'n'\n",
    "df_p_agg = df.groupby('points').size().reset_index(name='n')\n",
    "# print(df_p_agg) # Uncomment this line to see the results of the aggregation\n",
    "\n",
    "# Plot the graph\n",
    "fig, ax = plt.subplots()\n",
    "df_p_agg.plot(kind='bar', x='points', y='n', ax=ax, figsize=(16, 6), color='tomato',)\n",
    "# Add the x-axis label, y-axis label (name of the axes) and the title\n",
    "ax.set_ylabel(\"No. of wines\")\n",
    "ax.set_xlabel(\"Points\")\n",
    "plt.title(\"Distribution of points for wines\", fontsize=16)\n",
    "# Show the result\n",
    "plt.show()"
   ]
  },
  {
   "cell_type": "markdown",
   "metadata": {},
   "source": [
    "### Measures of Spread - Variance, Standard Deviation"
   ]
  },
  {
   "cell_type": "markdown",
   "metadata": {},
   "source": [
    "**Variance, $\\sigma^2$**\n",
    "\n",
    "Variance is measured by taking the average of all distances of each observation from the mean. The larger the variance, the more spread out the dataset is. Mathematically,\n",
    "\n",
    "$$\\sigma^2 = \\frac{\\sum_i (x_i - \\bar x)^2}{n}$$\n",
    "\n",
    "where $n$ is the number of wines.\n",
    "\n",
    "**Be careful!** Specify `axis=0` as you are calculating the variance of a column. `axis=1` will represent calculating across a row."
   ]
  },
  {
   "cell_type": "code",
   "execution_count": null,
   "metadata": {
    "ExecuteTime": {
     "end_time": "2018-10-08T15:54:14.656150Z",
     "start_time": "2018-10-08T15:54:14.648999Z"
    }
   },
   "outputs": [],
   "source": [
    "# Use Series.var(axis=0) to get the variance of the Series. \n",
    "#"
   ]
  },
  {
   "cell_type": "markdown",
   "metadata": {},
   "source": [
    "**Standard Deviation, $\\sigma$**\n",
    "Use `Series.std(axis=0)` to find the standard deviation of a numerical `Series`. Since the standard deviation is the square-root of the variance, taking variance, $\\sigma^2$ to the power of $\\frac 12$ will also return the standard deviation. Mathematically,\n",
    "\n",
    "$$\\sigma = \\sqrt {\\sigma^2} = \\sqrt{\\frac{\\sum_i (x_i - \\bar x)^2}{n}}$$"
   ]
  },
  {
   "cell_type": "code",
   "execution_count": null,
   "metadata": {
    "ExecuteTime": {
     "end_time": "2018-10-08T15:54:14.667094Z",
     "start_time": "2018-10-08T15:54:14.659694Z"
    }
   },
   "outputs": [],
   "source": [
    "# Use Series.std(axis=0) to get the variance of the Series. \n",
    "#"
   ]
  },
  {
   "cell_type": "code",
   "execution_count": null,
   "metadata": {
    "ExecuteTime": {
     "end_time": "2018-10-08T15:54:14.680881Z",
     "start_time": "2018-10-08T15:54:14.670871Z"
    },
    "scrolled": true
   },
   "outputs": [],
   "source": [
    "# The LHS of this is the calculated standard deviation while \n",
    "# the RHS is the square root of the variance. They are equal.\n",
    "# Your turn: What do you need to the RHS so that the expression is True?\n",
    "\n",
    "df['points'].std(axis=0) == df['points'].var(axis=0)"
   ]
  },
  {
   "cell_type": "markdown",
   "metadata": {},
   "source": [
    "### Advanced Sample Statistics - Skewness"
   ]
  },
  {
   "cell_type": "markdown",
   "metadata": {},
   "source": [
    "Use `Series.skew()` to find the skewness of the dataset. This will mean if the dataset is left-tailed or right-tailed. If the dataset is left-tailed, then more datapoints are higher than the mean. If the dataset is right-tailed, more datapoints are lower than the mean.\n",
    "\n",
    "Interpret the skewness score as follows:\n",
    "- If the skewness is $0$ then the observations are symmetrical. \n",
    "- If the skewness is positive $(>0)$ then the dataset is skewed right (right-tailed). \n",
    "- If the skewness is negative $(<0)$then the dataset is left-skewed (left-tailed)."
   ]
  },
  {
   "cell_type": "code",
   "execution_count": null,
   "metadata": {
    "ExecuteTime": {
     "end_time": "2018-10-08T15:54:14.698608Z",
     "start_time": "2018-10-08T15:54:14.689444Z"
    },
    "scrolled": true
   },
   "outputs": [],
   "source": [
    "# Use Series.skew() to find the skewness of 'price\n",
    "#\n",
    "# Q. Using the results, which series is (relatively) symmetrical? \n",
    "#\n",
    "# Q. In which direction is 'price' skewed?\n",
    "#"
   ]
  },
  {
   "cell_type": "markdown",
   "metadata": {},
   "source": [
    "<div class=\"alert alert-info\">\n",
    "<b>DS102 Learning Guidelines: </b> Plotting will only be covered in Week 3. You are only expected to <b>interpret</b> the results.\n",
    "</div>"
   ]
  },
  {
   "cell_type": "code",
   "execution_count": null,
   "metadata": {
    "ExecuteTime": {
     "end_time": "2018-10-08T15:54:15.125894Z",
     "start_time": "2018-10-08T15:54:14.703428Z"
    },
    "scrolled": false
   },
   "outputs": [],
   "source": [
    "# Create the figure and the subplots\n",
    "plt.figure(figsize=(18, 6))\n",
    "#Plot the histogram for 'price'. \n",
    "ax1 = plt.subplot(111)\n",
    "df['price'].plot(kind='hist', bins=50 , ax=ax1)\n",
    "ax1.set_xlabel(\"price\", fontsize=14)\n",
    "plt.title(\"Histogram for price of wines, 50 bins\")\n",
    "# Show the plot\n",
    "plt.show()"
   ]
  },
  {
   "cell_type": "markdown",
   "metadata": {},
   "source": [
    "### Advanced Sample Statistics - Kurtosis\n",
    "\n",
    "Use `Series.kurt()` to find the kurtosis score of the dataset. This will mean how heavy the tails are, compared to a normal distribution.\n",
    "\n",
    "Compared to a (fitted) normal distribution, if the observations have excessively fat tails, the kurtosis is positive. The kurtosis of a normal distribution is $0$. If the observations a very light tail, then the kurtosis is negative."
   ]
  },
  {
   "cell_type": "code",
   "execution_count": null,
   "metadata": {
    "ExecuteTime": {
     "end_time": "2018-10-08T15:54:15.139000Z",
     "start_time": "2018-10-08T15:54:15.130129Z"
    },
    "scrolled": true
   },
   "outputs": [],
   "source": [
    "# Find the kurtosis score of 'points'\n",
    "df['points'].kurt()"
   ]
  },
  {
   "cell_type": "markdown",
   "metadata": {},
   "source": [
    "<div class=\"alert alert-info\">\n",
    "<b>DS102 Learning Guidelines: </b> Plotting will only be covered in Week 3. Plotting a fitted curve is not covered in DS102. You are only expected to <b>interpret</b> the results.\n",
    "</div>"
   ]
  },
  {
   "cell_type": "code",
   "execution_count": null,
   "metadata": {
    "ExecuteTime": {
     "end_time": "2018-10-08T15:54:15.821589Z",
     "start_time": "2018-10-08T15:54:15.143331Z"
    }
   },
   "outputs": [],
   "source": [
    "# Plots will be covered in Week 3\n",
    "plt.figure(figsize=(18, 14))\n",
    "# Plot the histogram\n",
    "ax1 = plt.subplot(111)\n",
    "sns.kdeplot(df['points'])\n",
    "ax1.set_xlabel(\"price\")\n",
    "plt.title(\"KDE plot for points of wines\")\n",
    "\n",
    "# Uncomment the lines below to show the fitted normal plot\n",
    "# Note: Plotting a fitted plot is not in the DS102 syllabus\n",
    "# Get the limits of the plot\n",
    "xmin, xmax = plt.xlim()\n",
    "# Extend the limits by 4 on both ends. In this limit, create 120 evenly spaced points representing\n",
    "# a series of 120 x-coordinates. This is to clearly see how the tail-end of the distribution looks like\n",
    "# to determine kurtosis\n",
    "x = np.linspace(xmin-4, xmax+4, 120)\n",
    "# Given the parameters of a normal distribution, calculate the y-coordinates\n",
    "p = norm.pdf(x, df['points'].mean(), df['points'].std())\n",
    "# Plot this fitted normal curve on the same subplot\n",
    "plt.plot(x, p, 'k', linewidth=2, color='black')\n",
    "\n",
    "# Show the plot\n",
    "plt.show()"
   ]
  },
  {
   "cell_type": "markdown",
   "metadata": {},
   "source": [
    "**Credits**\n",
    "- [Wine Reviews, Kaggle](https://www.kaggle.com/zynicide/wine-reviews) for the dataset\n",
    "<hr>\n",
    "`HWA-DS102-INCLASS-1C-201810`"
   ]
  }
 ],
 "metadata": {
  "kernelspec": {
   "display_name": "Python 3",
   "language": "python",
   "name": "python3"
  },
  "language_info": {
   "codemirror_mode": {
    "name": "ipython",
    "version": 3
   },
   "file_extension": ".py",
   "mimetype": "text/x-python",
   "name": "python",
   "nbconvert_exporter": "python",
   "pygments_lexer": "ipython3",
   "version": "3.6.5"
  }
 },
 "nbformat": 4,
 "nbformat_minor": 2
}
