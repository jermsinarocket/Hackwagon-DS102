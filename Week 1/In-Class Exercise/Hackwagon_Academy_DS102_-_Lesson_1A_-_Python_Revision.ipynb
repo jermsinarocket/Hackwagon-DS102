{
 "cells": [
  {
   "cell_type": "markdown",
   "metadata": {},
   "source": [
    "<center><img src=\"https://i2.wp.com/hackwagon.com/wp-content/uploads/2017/02/Logo-Web-Export.png?ssl=1\" width=200/></center>\n",
    "<h1> Hackwagon Academy DS101 Lesson 1A </h1>\n",
    "<h2> Variables & Data Types</h2> \n",
    "<h3> Lesson Outline </h3>\n",
    "\n",
    "- 1. [Python Data Types & Variables](#1)\n",
    "- 2. [Decision Control](#2)\n",
    "- 3. [Loops](#3)\n",
    "- 4. [Functions](#4)\n",
    "- 5. [Libraries](#5)"
   ]
  },
  {
   "cell_type": "markdown",
   "metadata": {},
   "source": [
    "<hr/>\n",
    "\n",
    "<a id='1'><h2><img src=\"https://images.vexels.com/media/users/3/153978/isolated/preview/483ef8b10a46e28d02293a31570c8c56-warning-sign-colored-stroke-icon-by-vexels.png\" width=23 align=\"left\"><font color=\"salmon\">&nbsp;1.</font><font color=\"salmon\"> Python Data Types & Variables </font> </h2></a>\n",
    "\n",
    "### Basic Data Types\n",
    "\n",
    "There are four primitive or basic datatypes in Python: `str`, `int`, `float` and `bool`. Use `type` to validate the datatype."
   ]
  },
  {
   "cell_type": "code",
   "execution_count": null,
   "metadata": {},
   "outputs": [],
   "source": [
    "# Variables & Datatypes\n",
    "Title = 'Pirates of the Caribbean' # str or string\n",
    "print(type(Title))\n",
    "Likes = 23009 # int or integer\n",
    "print(type(Likes))\n",
    "Rating = 4.7 # float\n",
    "print(type(Rating))\n",
    "Popular = True # boolean\n",
    "print(type(Popular))"
   ]
  },
  {
   "cell_type": "markdown",
   "metadata": {},
   "source": [
    "### Collections\n",
    "\n",
    "There are three types of Collections in Python: `tuple`, `list` and `dict`. For `tuple`s and `list`s, retrieve elements using numeric indices. Recall that indices start from `0`, not `1`. For `dict`s, specify the key to retrieve its value."
   ]
  },
  {
   "cell_type": "code",
   "execution_count": null,
   "metadata": {},
   "outputs": [],
   "source": [
    "# tuple\n",
    "prime_numbers = (11,13,17)\n",
    "print(type(prime_numbers))\n",
    "# Your turn: how do you get 11 from this tuple?\n",
    "print(prime_numbers[0])\n",
    "\n",
    "# list\n",
    "even_numbers = [4, 6, 8]\n",
    "print(type(even_numbers))\n",
    "# Your turn: how do you get 6 from this list?\n",
    "print(even_numbers[1])\n",
    "\n",
    "# dict\n",
    "animals = {\n",
    "    'cat': 'furry', \n",
    "    'dog': 'fluffy'\n",
    "}\n",
    "\n",
    "# Your turn: how do you get 'fluffy' from this dictionary?\n",
    "print(animals['dog'])\n"
   ]
  },
  {
   "cell_type": "markdown",
   "metadata": {},
   "source": [
    "<a id='2'><h2><img src=\"https://images.vexels.com/media/users/3/153978/isolated/preview/483ef8b10a46e28d02293a31570c8c56-warning-sign-colored-stroke-icon-by-vexels.png\" width=23 align=\"left\"><font color=\"salmon\">&nbsp;2.</font><font color=\"salmon\"> Decision Structure </font> </h2></a>\n",
    "\n",
    "The concept of an decision structure is simple. Based on the answer to a True/False question (`bool`), execute code differently.\n",
    "\n",
    "In layman terms, think of it like a gate that swings to the left or the right depending on whether the answer is true / false\n",
    "\n",
    "<img src=\"https://i.imgur.com/1dU9MX9.png\" width=\"300\"/>\n",
    "\n",
    "\n",
    "```python\n",
    "\n",
    "if ________:\n",
    "    \n",
    "    # Do something\n",
    "    # ...\n",
    "\n",
    "else:\n",
    "    \n",
    "    # Do something else\n",
    "    # ...\n",
    "    \n",
    "```\n",
    "Note: `________` here refers to a condition\n",
    "\n",
    "\n",
    "<img src=\"https://i.imgur.com/OliUH1O.png\" width=\"500\"/>\n",
    "    "
   ]
  },
  {
   "cell_type": "code",
   "execution_count": 8,
   "metadata": {},
   "outputs": [
    {
     "name": "stdout",
     "output_type": "stream",
     "text": [
      "Give 200\n"
     ]
    }
   ],
   "source": [
    "senior_citizen = True\n",
    "income = 100000\n",
    "\n",
    "if(senior_citizen):\n",
    "    if(income>40000):\n",
    "        print(\"Give 200\")\n",
    "    else:\n",
    "        print(\"Give 300\")\n",
    "else:\n",
    "    if(income > 60000):\n",
    "        print(\"Give 500\")\n",
    "    else:\n",
    "        print(\"Give 1000\")"
   ]
  },
  {
   "cell_type": "markdown",
   "metadata": {},
   "source": [
    "<a id='3'><h2><img src=\"https://images.vexels.com/media/users/3/153978/isolated/preview/483ef8b10a46e28d02293a31570c8c56-warning-sign-colored-stroke-icon-by-vexels.png\" width=23 align=\"left\"><font color=\"salmon\">&nbsp;3.</font><font color=\"salmon\"> Iterations (Loops) </font> </h2></a>\n",
    "\n",
    "<img src=\"https://i.imgur.com/iOASCWP.png\" width=\"500\">\n",
    "\n",
    "The naming of the `value` is dependent on the context (will be elaborated later). \n",
    "The `container_of_many_values` is a collection data type. \n",
    "\n",
    "Important to note:\n",
    "* Shift codes to the right by 4 spaces (indent)\n",
    "* Put a <b>colon</b> after the list\n",
    "* Use a variable that is a list to loop through\n",
    "\n",
    "With the use of for loops, we are able to solve many problems that deal with reptition and more specifically big data.\n",
    "The Create, Iterate, Test, Update (CITU) Framework is an important framework to understand in order to solve most of the fundamental problems in programming.\n",
    "\n",
    "1. <b>Create</b> the results container\n",
    "2. <b>Iterate</b> the input data/list\n",
    "3. <b>Test</b> conditions of each value\n",
    "4. <b>Update</b> the results container when condition is fulfilled\n",
    "\n",
    "Let's replicate the `sum()` function.\n",
    "\n",
    "Visually how does that work?\n",
    "\n",
    "<img src=\"https://i.imgur.com/QRWX45n.png\" width=300>"
   ]
  },
  {
   "cell_type": "code",
   "execution_count": 9,
   "metadata": {},
   "outputs": [
    {
     "name": "stdout",
     "output_type": "stream",
     "text": [
      "-37\n"
     ]
    }
   ],
   "source": [
    "data = [3, -4, 12, 9, -72, 0, 15]\n",
    "\n",
    "sum = 0\n",
    "\n",
    "for number in data:\n",
    "    sum += number\n",
    "\n",
    "print(sum)"
   ]
  },
  {
   "cell_type": "markdown",
   "metadata": {},
   "source": [
    "### Loop Dictionaries \n",
    "\n",
    "\n",
    "Below is a database contenting people's names and their respective transactions. <b>Collect</b> the names of people with positive bank balances and print them out\n",
    "\n",
    "**Expected output:**\n",
    "    \n",
    "    ['Jon','KT']"
   ]
  },
  {
   "cell_type": "code",
   "execution_count": 12,
   "metadata": {},
   "outputs": [
    {
     "name": "stdout",
     "output_type": "stream",
     "text": [
      "KT\n",
      "[0, 1, 5, 3]\n",
      "Henry\n",
      "[0, -1, -7, 3]\n",
      "Jon\n",
      "[0, 1, 2, 3]\n"
     ]
    }
   ],
   "source": [
    "bank_accounts = {\n",
    "    'KT': [0, 1, 5, 3],\n",
    "    'Henry': [0, -1, -7, 3],\n",
    "    'Jon': [0, 1, 2, 3],\n",
    "}\n",
    "\n",
    "for name, balance in bank_accounts.items():\n",
    "    print(name)\n",
    "    print(balance)"
   ]
  },
  {
   "cell_type": "markdown",
   "metadata": {},
   "source": [
    "<a id='4'><h2><img src=\"https://images.vexels.com/media/users/3/153978/isolated/preview/483ef8b10a46e28d02293a31570c8c56-warning-sign-colored-stroke-icon-by-vexels.png\" width=23 align=\"left\"><font color=\"salmon\">&nbsp;4.</font><font color=\"salmon\"> Functions </font> </h2></a>\n",
    "\n",
    "You can think of creating your own functions like building your own factories.\n",
    "\n",
    "<img src=\"https://i.imgur.com/lTSsOAj.png\" width=\"400\">\n",
    "\n",
    "Here will learn how build our own functions. Here is the syntax for building functions: \n",
    "<img src='https://i.imgur.com/jhpovl8.png' width=\"350\">\n",
    "\n",
    "Why do we want to build functions:\n",
    "1. Makes code reusable\n",
    "2. Provides structure to longer codes\n",
    "3. Makes it easier for other programmers to understand your work\n",
    "\n",
    "<b>It is important to realise that any function, once created, is stored in your computer's memory.</b> Therefore, you can always keep using the function by **'calling' its' name**. "
   ]
  },
  {
   "cell_type": "code",
   "execution_count": null,
   "metadata": {},
   "outputs": [],
   "source": [
    "def get_welcome_word():\n",
    "    return \"Welcome\""
   ]
  },
  {
   "cell_type": "code",
   "execution_count": null,
   "metadata": {},
   "outputs": [],
   "source": [
    "To use the function, just type the exact name of the function `get_welcome_word()`. "
   ]
  },
  {
   "cell_type": "code",
   "execution_count": null,
   "metadata": {},
   "outputs": [],
   "source": [
    "name = \"Your name here\"\n",
    "welcome_msg = get_welcome_word() # << \n",
    "print(welcome_msg, name, \"!\")"
   ]
  },
  {
   "cell_type": "markdown",
   "metadata": {},
   "source": [
    "### Parameters\n",
    "\n",
    "`Parameters` / `Arguments` are the function's <font color=\"darkorange\">**INPUTS**</font>, the <font color=\"navy\">**OUTPUT**</font> is the function's `return` value.\n",
    "\n",
    "Functions can take any number of parameters (inputs) by placing them in the brackets. Let's see the following as an example. \n",
    "\n",
    "\n",
    "\n",
    "<img src=\"https://www.cyberphysics.co.uk/graphics/graphs/ymxc.gif\" width=\"300\">\n",
    "\n",
    "<img src=\"https://i.imgur.com/gOrGBvL.png\" width=\"500\">"
   ]
  },
  {
   "cell_type": "code",
   "execution_count": null,
   "metadata": {},
   "outputs": [],
   "source": [
    "def y_1(m, x, c):\n",
    "    return m * x + c"
   ]
  },
  {
   "cell_type": "code",
   "execution_count": null,
   "metadata": {},
   "outputs": [],
   "source": [
    "# Position of  the arguments matter \n",
    "result = y_1(10, 2, 5)\n",
    "print(result)\n",
    "\n",
    "# Cannot omit any arguments\n",
    "result = y_1(10)\n",
    "print(result)"
   ]
  },
  {
   "cell_type": "markdown",
   "metadata": {},
   "source": [
    "<h3>Default Parameters</h3>\n",
    "\n",
    "We can also specify default parameters within a function. So for example, if we to omitt all the parameters, the default values will take over instead, thus the function will still work as it is.\n",
    "\n",
    "<img src=\"https://i.imgur.com/UeglqcQ.png\" width=500>"
   ]
  },
  {
   "cell_type": "code",
   "execution_count": null,
   "metadata": {},
   "outputs": [],
   "source": [
    "def y_2(m=2, x=2, c=2):\n",
    "    return m * x + c"
   ]
  },
  {
   "cell_type": "code",
   "execution_count": null,
   "metadata": {},
   "outputs": [],
   "source": [
    "result = y_2()\n",
    "print(result)"
   ]
  },
  {
   "cell_type": "markdown",
   "metadata": {},
   "source": [
    "<a id='5'><h2><img src=\"https://images.vexels.com/media/users/3/153978/isolated/preview/483ef8b10a46e28d02293a31570c8c56-warning-sign-colored-stroke-icon-by-vexels.png\" width=23 align=\"left\"><font color=\"salmon\">&nbsp;5.</font><font color=\"salmon\"> Libraries and Documentations </font> </h2></a>\n",
    "\n",
    "\n",
    "Libraries are what makes Python one of the most popular languages for Data Science. Libraries are just a collection of many functions that are already written. In order to use libraries, we need to understand how to read documentation on libraries. \n",
    "\n",
    "Below are some of the most popular libraries in Data Science.\n",
    "\n",
    "<img src=\"https://discoversdkcdn.azureedge.net/postscontent/python/python-data-science2.png\" width=400> \n",
    "\n",
    "1. [Numpy](https://www.numpy.org) - Numerical Computation\n",
    "2. [Matplotlib](https://matplotlib.org) - Data Visualisations\n",
    "3. [Pandas](http://pandas.pydata.org/pandas-docs/stable/) - Data Cleaning / Wrangling \n",
    "4. [Scikit](http://scikit-learn.github.io/stable) - Machine Learning\n",
    "\n",
    "and so many more...\n",
    "\n",
    "<img src=\"https://i.imgur.com/YKSJ4wq.png\" width=\"600\">"
   ]
  },
  {
   "cell_type": "markdown",
   "metadata": {},
   "source": [
    "<a id='2'><h2><img src=\"https://images.vexels.com/media/users/3/153978/isolated/preview/483ef8b10a46e28d02293a31570c8c56-warning-sign-colored-stroke-icon-by-vexels.png\" width=25 align=\"left\"><font color=\"salmon\">&nbsp;2.</font><font color=\"salmon\"> Documentation Reading </font> </h2></a>\n",
    "\n",
    "<img src=\"https://i.imgur.com/1x7RL15.png\" width=500>"
   ]
  },
  {
   "cell_type": "markdown",
   "metadata": {},
   "source": [
    "<a id=\"2.1\"> <h3>Math Library</h3></a>\n",
    "\n",
    "This library allows you to use some math functions unavailable by default on Python. \n",
    "Read the documentation here: https://docs.python.org/3/library/math.html \n",
    "\n",
    "For example, we would like to use the `math` library and use the function `exp()`. To understand how to use this function, we must read the documentation of the library. "
   ]
  },
  {
   "cell_type": "code",
   "execution_count": null,
   "metadata": {},
   "outputs": [],
   "source": [
    "import math\n",
    "\n",
    "#first call name of library, followed by a dot and the name of method, \n",
    "# followed by passing in your values within the parenthesis\n",
    "\n",
    "print(math.exp(10))"
   ]
  }
 ],
 "metadata": {
  "kernelspec": {
   "display_name": "Python 3",
   "language": "python",
   "name": "python3"
  },
  "language_info": {
   "codemirror_mode": {
    "name": "ipython",
    "version": 3
   },
   "file_extension": ".py",
   "mimetype": "text/x-python",
   "name": "python",
   "nbconvert_exporter": "python",
   "pygments_lexer": "ipython3",
   "version": "3.7.2"
  }
 },
 "nbformat": 4,
 "nbformat_minor": 2
}
