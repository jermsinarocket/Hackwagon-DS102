{
 "cells": [
  {
   "cell_type": "markdown",
   "metadata": {},
   "source": [
    "### DS102 | In Class Practice Week 1B - Pandas & Numpy I\n",
    "<hr>\n",
    "## Learning Objectives\n",
    "At the end of the lesson, you will be able to:\n",
    "\n",
    "- read a CSV file into a `DataFrame` with default `sep` parameters as separators\n",
    "\n",
    "- find out key properties (`shape`, `columns`, `dtypes`) of a `DataFrame`.\n",
    "\n",
    "- Use `head()` and `sample()` to look at a subset of the dataset\n",
    "\n",
    "\n",
    "- retrieve a row from a `DataFrame` using indices and `.iloc`\n",
    "\n",
    "- retrieve a column from a `DataFrame`, recognising this gives a `Series` \n",
    "\n",
    "\n",
    "- filter data using numeric comparators e.g. `>=1000`\n",
    "\n",
    "- filter data using string equality comparators e.g. `== 'RED'`\n",
    "\n",
    "- filter data using multiple conditions using `.isin()` e.g. `.isin([1, 2, 3])`\n",
    "\n",
    "- filter data using two conditions, using the AND clause\n",
    "\n",
    "\n",
    "### Datasets Required for this In Class\n",
    "1. `employees-1k.csv`"
   ]
  },
  {
   "cell_type": "markdown",
   "metadata": {},
   "source": [
    "#### Import `pandas` and `numpy`"
   ]
  },
  {
   "cell_type": "code",
   "execution_count": null,
   "metadata": {
    "ExecuteTime": {
     "end_time": "2018-10-08T15:07:41.500298Z",
     "start_time": "2018-10-08T15:07:41.142440Z"
    }
   },
   "outputs": [],
   "source": [
    "import pandas as pd\n",
    "import numpy as np"
   ]
  },
  {
   "cell_type": "markdown",
   "metadata": {},
   "source": [
    "### Instantiate a `DataFrame`"
   ]
  },
  {
   "cell_type": "markdown",
   "metadata": {},
   "source": [
    "**Instantiate a `DataFrame` from an external CSV file**\n",
    "To manipulate data as a `DataFrame`, use `pd.read_csv()` to read the CSV file into a `DataFrame`. Refer to the documentation [here](https://pandas.pydata.org/pandas-docs/stable/generated/pandas.read_csv.html#pandas.read_csv)."
   ]
  },
  {
   "cell_type": "code",
   "execution_count": null,
   "metadata": {
    "ExecuteTime": {
     "end_time": "2018-10-08T15:07:41.511964Z",
     "start_time": "2018-10-08T15:07:41.502820Z"
    }
   },
   "outputs": [],
   "source": [
    "# Read from CSV file\n",
    "#"
   ]
  },
  {
   "cell_type": "markdown",
   "metadata": {},
   "source": [
    "Find out the no. of rows and columns using `df.shape`"
   ]
  },
  {
   "cell_type": "code",
   "execution_count": null,
   "metadata": {
    "ExecuteTime": {
     "end_time": "2018-10-08T15:07:41.537816Z",
     "start_time": "2018-10-08T15:07:41.517565Z"
    }
   },
   "outputs": [],
   "source": [
    "# Find no. of rows and columns\n",
    "#"
   ]
  },
  {
   "cell_type": "markdown",
   "metadata": {},
   "source": [
    "Check the columns in the `DataFrame` using `df.dtypes` and `df.columns`"
   ]
  },
  {
   "cell_type": "code",
   "execution_count": null,
   "metadata": {
    "ExecuteTime": {
     "end_time": "2018-10-08T15:07:41.549462Z",
     "start_time": "2018-10-08T15:07:41.541148Z"
    }
   },
   "outputs": [],
   "source": [
    "# Check the columns using dtypes\n",
    "#"
   ]
  },
  {
   "cell_type": "code",
   "execution_count": null,
   "metadata": {
    "ExecuteTime": {
     "end_time": "2018-10-08T15:07:41.559553Z",
     "start_time": "2018-10-08T15:07:41.553226Z"
    },
    "scrolled": true
   },
   "outputs": [],
   "source": [
    "# Check the columns using columns\n",
    "#"
   ]
  },
  {
   "cell_type": "markdown",
   "metadata": {},
   "source": [
    "Find out what's in the dataset using `head()` or `sample()`. `head()` will show the first 5 records by default, while `sample()` will randomly select and show 1 record by default."
   ]
  },
  {
   "cell_type": "code",
   "execution_count": null,
   "metadata": {
    "ExecuteTime": {
     "end_time": "2018-10-08T15:07:41.589725Z",
     "start_time": "2018-10-08T15:07:41.563148Z"
    }
   },
   "outputs": [],
   "source": [
    "# Find the first few records with .head()\n",
    "#"
   ]
  },
  {
   "cell_type": "code",
   "execution_count": null,
   "metadata": {
    "ExecuteTime": {
     "end_time": "2018-10-08T15:07:41.608842Z",
     "start_time": "2018-10-08T15:07:41.593633Z"
    }
   },
   "outputs": [],
   "source": [
    "# Randomly sample (without replacement) with .sample()\n",
    "#"
   ]
  },
  {
   "cell_type": "markdown",
   "metadata": {},
   "source": [
    "### Retrieve records & columns from a `DataFrame`"
   ]
  },
  {
   "cell_type": "markdown",
   "metadata": {},
   "source": [
    "#### Retrieve a column from a `DataFrame`\n",
    "We will now retrieve all the `annual_inc` data from the `df`. Use the column name to retrieve the column and store that as a new variable `annual_incs`. This is known as a `Series`. \n",
    "<div class=\"alert alert-info\">\n",
    "<b>DS102 Learning Guidelines: </b>For DS102, only store <u>1 column</u> in a `Series`. Refer to [the documentation](https://pandas.pydata.org/pandas-docs/stable/advanced.html) for other ways a `Series` can be represented.\n",
    "</div>"
   ]
  },
  {
   "cell_type": "code",
   "execution_count": null,
   "metadata": {
    "ExecuteTime": {
     "end_time": "2018-10-08T15:07:41.618608Z",
     "start_time": "2018-10-08T15:07:41.612575Z"
    }
   },
   "outputs": [],
   "source": [
    "# Retrieve a series from a dataframe and verify that the datatype is a Series\n",
    "#"
   ]
  },
  {
   "cell_type": "code",
   "execution_count": null,
   "metadata": {
    "ExecuteTime": {
     "end_time": "2018-10-08T15:07:41.639600Z",
     "start_time": "2018-10-08T15:07:41.623611Z"
    }
   },
   "outputs": [],
   "source": [
    "# Use Series.head() to show the first records\n",
    "#"
   ]
  },
  {
   "cell_type": "code",
   "execution_count": null,
   "metadata": {
    "ExecuteTime": {
     "end_time": "2018-10-08T15:07:41.654292Z",
     "start_time": "2018-10-08T15:07:41.644420Z"
    }
   },
   "outputs": [],
   "source": [
    "# Use Series.sample() to sample records from the Series\n",
    "# (Note the indices of the Series. They are random.)\n",
    "#"
   ]
  },
  {
   "cell_type": "code",
   "execution_count": null,
   "metadata": {
    "ExecuteTime": {
     "end_time": "2018-10-08T15:07:41.668638Z",
     "start_time": "2018-10-08T15:07:41.661258Z"
    }
   },
   "outputs": [],
   "source": [
    "# Verify that the datatype is a Series\n",
    "#"
   ]
  },
  {
   "cell_type": "markdown",
   "metadata": {},
   "source": [
    "#### Retrieve a record from a `DataFrame`\n",
    "To retrieve just 1 record from the `DataFrame`, use `.iloc` and specify the index of the record. Put this value in the square brackets `[]`.\n",
    "\n",
    "Note: When you do this, the datatype of the result is a `Series`. Use the index in the `Series` to retrieve the value."
   ]
  },
  {
   "cell_type": "code",
   "execution_count": null,
   "metadata": {
    "ExecuteTime": {
     "end_time": "2018-10-08T15:07:41.693503Z",
     "start_time": "2018-10-08T15:07:41.672872Z"
    }
   },
   "outputs": [],
   "source": [
    "# Exercise: How do you show the first 5 records of the df?\n",
    "# "
   ]
  },
  {
   "cell_type": "code",
   "execution_count": null,
   "metadata": {
    "ExecuteTime": {
     "end_time": "2018-10-08T15:07:41.711777Z",
     "start_time": "2018-10-08T15:07:41.700057Z"
    },
    "scrolled": true
   },
   "outputs": [],
   "source": [
    "# Retrieve the second record from the df using .iloc[] and validate the result. \n",
    "# Store this in a variable called row_2\n",
    "#"
   ]
  },
  {
   "cell_type": "code",
   "execution_count": null,
   "metadata": {
    "ExecuteTime": {
     "end_time": "2018-10-08T15:07:41.722197Z",
     "start_time": "2018-10-08T15:07:41.715220Z"
    }
   },
   "outputs": [],
   "source": [
    "# Verify that the datatype is a Series, where the index are now the column names.\n",
    "#"
   ]
  },
  {
   "cell_type": "code",
   "execution_count": null,
   "metadata": {
    "ExecuteTime": {
     "end_time": "2018-10-08T15:07:41.733514Z",
     "start_time": "2018-10-08T15:07:41.725916Z"
    }
   },
   "outputs": [],
   "source": [
    "# Complete the following code to retrieve the employee_id and employee_title.\n",
    "emp_id = 0\n",
    "emp_title = ''\n",
    "\n",
    "# Then, fill in the blanks in the following statement.\n",
    "print('The employee with ID ' + str(emp_id) + ' has the job title ' + emp_title + '.')"
   ]
  },
  {
   "cell_type": "code",
   "execution_count": null,
   "metadata": {
    "ExecuteTime": {
     "end_time": "2018-10-08T15:07:41.749835Z",
     "start_time": "2018-10-08T15:07:41.737783Z"
    }
   },
   "outputs": [],
   "source": [
    "# Your turn: What is the employee ID and annual income of the 10th employee (index=9)\n",
    "# Write your code here\n",
    "#\n",
    "emp_9id = 0\n",
    "emp_9annual_inc = 0.0\n",
    "\n",
    "# Then, fill in the blanks in the following statement. Debug the code by \n",
    "# specifying the correct datatypes of the variables.\n",
    "print('The employee with ID ' + emp_9id + ' has an annual income of ' + emp_9annual_inc + '.')"
   ]
  },
  {
   "cell_type": "markdown",
   "metadata": {},
   "source": [
    "### Filter records from a `DataFrame`"
   ]
  },
  {
   "cell_type": "markdown",
   "metadata": {},
   "source": [
    "#### Filtering by one condition, numeric\n",
    "\n",
    "To perform filtering by numeric values, first **check that the column is a numeric column (`int64` or `float64`)**. It was already done when you used `df.dtypes`. Then, use the following signature to do so:\n",
    "```python\n",
    "df[df['column'] <conditional operator> <value>]\n",
    "```\n",
    "Take note of the open & close square brackets, and how a condition is expressed, where you use a **column name**, a **conditional operator** and a **value**."
   ]
  },
  {
   "cell_type": "code",
   "execution_count": null,
   "metadata": {
    "ExecuteTime": {
     "end_time": "2018-10-08T15:07:41.777110Z",
     "start_time": "2018-10-08T15:07:41.753890Z"
    }
   },
   "outputs": [],
   "source": [
    "# Before filtering, it is a good practice to use copy() first. This is done\n",
    "# so modifications do not get reflected in the original df\n",
    "df_above_300k = df.copy()\n",
    "\n",
    "# Q. Identify all records in the df where the annual_inc is 300000 or greater.\n",
    "#"
   ]
  },
  {
   "cell_type": "markdown",
   "metadata": {},
   "source": [
    "#### Filtering by one condition, using string comparators\n",
    "\n",
    "To perform filtering using a string function, use `==` e.g. `== 'OWN'`. Follow the above notation using a column, a comparator and a value in the same order."
   ]
  },
  {
   "cell_type": "code",
   "execution_count": null,
   "metadata": {
    "ExecuteTime": {
     "end_time": "2018-10-08T15:07:41.839388Z",
     "start_time": "2018-10-08T15:07:41.780394Z"
    },
    "scrolled": true
   },
   "outputs": [],
   "source": [
    "# Copy the df\n",
    "df_home_ownership_own = df.copy()\n",
    "\n",
    "# Filter for all records where homeownership has the value 'OWN'\n",
    "#"
   ]
  },
  {
   "cell_type": "markdown",
   "metadata": {},
   "source": [
    "You can find records satisfying multiple string matches with the `isin` function. First state the **column** you would want to filter on. Then, like calling a function, use a `.` symbol followed by `.isin()`. Finally, put the values of interest **as a list**. Put this list as a parameter of the `isin()` function."
   ]
  },
  {
   "cell_type": "code",
   "execution_count": null,
   "metadata": {
    "ExecuteTime": {
     "end_time": "2018-10-08T15:07:41.886788Z",
     "start_time": "2018-10-08T15:07:41.849323Z"
    }
   },
   "outputs": [],
   "source": [
    "# Copy the df\n",
    "#\n",
    "\n",
    "# Filter for all records where employee_title is 'Accountant' or 'Sales'\n",
    "#"
   ]
  },
  {
   "cell_type": "markdown",
   "metadata": {},
   "source": [
    "#### Filtering by two conditions using the AND logic\n",
    "\n",
    "If you would like to filter for two conditions, using `AND` as the logical operator, put a `&` in your expression. For every condition, surround them with round brackets `(` and `)`."
   ]
  },
  {
   "cell_type": "code",
   "execution_count": null,
   "metadata": {
    "ExecuteTime": {
     "end_time": "2018-10-08T15:07:41.919673Z",
     "start_time": "2018-10-08T15:07:41.891703Z"
    },
    "scrolled": true
   },
   "outputs": [],
   "source": [
    "# Copy the df\n",
    "df_of_interest = df.copy()\n",
    "\n",
    "# Filter for all records where the employee_title is President and the annual_inc is 225000 or greater\n",
    "#"
   ]
  },
  {
   "cell_type": "code",
   "execution_count": null,
   "metadata": {
    "ExecuteTime": {
     "end_time": "2018-10-08T15:07:41.954288Z",
     "start_time": "2018-10-08T15:07:41.926993Z"
    }
   },
   "outputs": [],
   "source": [
    "# Contrast this with the following filter:\n",
    "# Q. Find all employees with the title 'President'\n",
    "# Your turn: Can you solve this in-class exercise?\n",
    "#"
   ]
  },
  {
   "cell_type": "code",
   "execution_count": null,
   "metadata": {
    "ExecuteTime": {
     "end_time": "2018-10-08T15:07:41.985073Z",
     "start_time": "2018-10-08T15:07:41.958617Z"
    }
   },
   "outputs": [],
   "source": [
    "# Contrast this with the following filter:\n",
    "# Q. Find all employees who have an annual_inc of 225000 or more.\n",
    "# Your turn: Can you solve this in-class exercise?\n",
    "#"
   ]
  },
  {
   "cell_type": "markdown",
   "metadata": {},
   "source": [
    "**Credits**\n",
    "- [Lending Club Loan Data, Kaggle](https://www.kaggle.com/wendykan/lending-club-loan-data) for the dataset\n",
    "<hr>\n",
    "`HWA-DS102-INCLASS-1B-201810`"
   ]
  }
 ],
 "metadata": {
  "kernelspec": {
   "display_name": "Python 3",
   "language": "python",
   "name": "python3"
  },
  "language_info": {
   "codemirror_mode": {
    "name": "ipython",
    "version": 3
   },
   "file_extension": ".py",
   "mimetype": "text/x-python",
   "name": "python",
   "nbconvert_exporter": "python",
   "pygments_lexer": "ipython3",
   "version": "3.6.5"
  }
 },
 "nbformat": 4,
 "nbformat_minor": 2
}
