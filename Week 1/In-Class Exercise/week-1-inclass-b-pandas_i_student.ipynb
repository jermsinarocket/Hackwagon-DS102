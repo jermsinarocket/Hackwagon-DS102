{
 "cells": [
  {
   "cell_type": "markdown",
   "metadata": {},
   "source": [
    "### DS102 | In Class Practice Week 1B - Pandas & Numpy I\n",
    "<hr>\n",
    "## Learning Objectives\n",
    "At the end of the lesson, you will be able to:\n",
    "\n",
    "- read a CSV file into a `DataFrame` with default `sep` parameters as separators\n",
    "\n",
    "- find out key properties (`shape`, `columns`, `dtypes`) of a `DataFrame`.\n",
    "\n",
    "- Use `head()` and `sample()` to look at a subset of the dataset\n",
    "\n",
    "\n",
    "- retrieve a row from a `DataFrame` using indices and `.iloc`\n",
    "\n",
    "- retrieve a column from a `DataFrame`, recognising this gives a `Series` \n",
    "\n",
    "\n",
    "- filter data using numeric comparators e.g. `>=1000`\n",
    "\n",
    "- filter data using string equality comparators e.g. `== 'RED'`\n",
    "\n",
    "- filter data using multiple conditions using `.isin()` e.g. `.isin([1, 2, 3])`\n",
    "\n",
    "- filter data using two conditions, using the AND clause\n",
    "\n",
    "\n",
    "### Datasets Required for this In Class\n",
    "1. `employees-1k.csv`"
   ]
  },
  {
   "cell_type": "markdown",
   "metadata": {},
   "source": [
    "#### Import `pandas` and `numpy`"
   ]
  },
  {
   "cell_type": "code",
   "execution_count": 1,
   "metadata": {
    "ExecuteTime": {
     "end_time": "2018-10-08T15:07:41.500298Z",
     "start_time": "2018-10-08T15:07:41.142440Z"
    }
   },
   "outputs": [],
   "source": [
    "import pandas as pd\n",
    "import numpy as np"
   ]
  },
  {
   "cell_type": "markdown",
   "metadata": {},
   "source": [
    "### Instantiate a `DataFrame`"
   ]
  },
  {
   "cell_type": "markdown",
   "metadata": {},
   "source": [
    "**Instantiate a `DataFrame` from an external CSV file**\n",
    "To manipulate data as a `DataFrame`, use `pd.read_csv()` to read the CSV file into a `DataFrame`. Refer to the documentation [here](https://pandas.pydata.org/pandas-docs/stable/generated/pandas.read_csv.html#pandas.read_csv)."
   ]
  },
  {
   "cell_type": "code",
   "execution_count": 4,
   "metadata": {
    "ExecuteTime": {
     "end_time": "2018-10-08T15:07:41.511964Z",
     "start_time": "2018-10-08T15:07:41.502820Z"
    }
   },
   "outputs": [],
   "source": [
    "# Read from CSV file\n",
    "df = pd.read_csv('employees-1k.csv')\n"
   ]
  },
  {
   "cell_type": "markdown",
   "metadata": {},
   "source": [
    "Find out the no. of rows and columns using `df.shape`"
   ]
  },
  {
   "cell_type": "code",
   "execution_count": 6,
   "metadata": {
    "ExecuteTime": {
     "end_time": "2018-10-08T15:07:41.537816Z",
     "start_time": "2018-10-08T15:07:41.517565Z"
    }
   },
   "outputs": [
    {
     "data": {
      "text/plain": [
       "(1000, 4)"
      ]
     },
     "execution_count": 6,
     "metadata": {},
     "output_type": "execute_result"
    }
   ],
   "source": [
    "# Find no. of rows and columns\n",
    "df.shape"
   ]
  },
  {
   "cell_type": "markdown",
   "metadata": {},
   "source": [
    "Check the columns in the `DataFrame` using `df.dtypes` and `df.columns`"
   ]
  },
  {
   "cell_type": "code",
   "execution_count": 14,
   "metadata": {
    "ExecuteTime": {
     "end_time": "2018-10-08T15:07:41.549462Z",
     "start_time": "2018-10-08T15:07:41.541148Z"
    }
   },
   "outputs": [
    {
     "data": {
      "text/plain": [
       "employee_id         int64\n",
       "annual_inc        float64\n",
       "employee_title     object\n",
       "home_ownership     object\n",
       "dtype: object"
      ]
     },
     "execution_count": 14,
     "metadata": {},
     "output_type": "execute_result"
    }
   ],
   "source": [
    "# Check the columns using dtypes\n",
    "df.dtypes"
   ]
  },
  {
   "cell_type": "code",
   "execution_count": 15,
   "metadata": {
    "ExecuteTime": {
     "end_time": "2018-10-08T15:07:41.559553Z",
     "start_time": "2018-10-08T15:07:41.553226Z"
    },
    "scrolled": true
   },
   "outputs": [
    {
     "data": {
      "text/plain": [
       "Index(['employee_id', 'annual_inc', 'employee_title', 'home_ownership'], dtype='object')"
      ]
     },
     "execution_count": 15,
     "metadata": {},
     "output_type": "execute_result"
    }
   ],
   "source": [
    "# Check the columns using columns\n",
    "df.columns"
   ]
  },
  {
   "cell_type": "markdown",
   "metadata": {},
   "source": [
    "Find out what's in the dataset using `head()` or `sample()`. `head()` will show the first 5 records by default, while `sample()` will randomly select and show 1 record by default."
   ]
  },
  {
   "cell_type": "code",
   "execution_count": 16,
   "metadata": {
    "ExecuteTime": {
     "end_time": "2018-10-08T15:07:41.589725Z",
     "start_time": "2018-10-08T15:07:41.563148Z"
    }
   },
   "outputs": [
    {
     "data": {
      "text/html": [
       "<div>\n",
       "<style scoped>\n",
       "    .dataframe tbody tr th:only-of-type {\n",
       "        vertical-align: middle;\n",
       "    }\n",
       "\n",
       "    .dataframe tbody tr th {\n",
       "        vertical-align: top;\n",
       "    }\n",
       "\n",
       "    .dataframe thead th {\n",
       "        text-align: right;\n",
       "    }\n",
       "</style>\n",
       "<table border=\"1\" class=\"dataframe\">\n",
       "  <thead>\n",
       "    <tr style=\"text-align: right;\">\n",
       "      <th></th>\n",
       "      <th>employee_id</th>\n",
       "      <th>annual_inc</th>\n",
       "      <th>employee_title</th>\n",
       "      <th>home_ownership</th>\n",
       "    </tr>\n",
       "  </thead>\n",
       "  <tbody>\n",
       "    <tr>\n",
       "      <th>0</th>\n",
       "      <td>44037036</td>\n",
       "      <td>55000.0</td>\n",
       "      <td>Account Specialist</td>\n",
       "      <td>OWN</td>\n",
       "    </tr>\n",
       "    <tr>\n",
       "      <th>1</th>\n",
       "      <td>41036228</td>\n",
       "      <td>184000.0</td>\n",
       "      <td>IT Architect</td>\n",
       "      <td>MORTGAGE</td>\n",
       "    </tr>\n",
       "    <tr>\n",
       "      <th>2</th>\n",
       "      <td>67601397</td>\n",
       "      <td>30000.0</td>\n",
       "      <td>night auditor</td>\n",
       "      <td>RENT</td>\n",
       "    </tr>\n",
       "    <tr>\n",
       "      <th>3</th>\n",
       "      <td>64972576</td>\n",
       "      <td>72000.0</td>\n",
       "      <td>Field Service Representative</td>\n",
       "      <td>MORTGAGE</td>\n",
       "    </tr>\n",
       "    <tr>\n",
       "      <th>4</th>\n",
       "      <td>59922079</td>\n",
       "      <td>84000.0</td>\n",
       "      <td>Senior Pastor</td>\n",
       "      <td>MORTGAGE</td>\n",
       "    </tr>\n",
       "  </tbody>\n",
       "</table>\n",
       "</div>"
      ],
      "text/plain": [
       "   employee_id  annual_inc                employee_title home_ownership\n",
       "0     44037036     55000.0            Account Specialist            OWN\n",
       "1     41036228    184000.0                  IT Architect       MORTGAGE\n",
       "2     67601397     30000.0                 night auditor           RENT\n",
       "3     64972576     72000.0  Field Service Representative       MORTGAGE\n",
       "4     59922079     84000.0                 Senior Pastor       MORTGAGE"
      ]
     },
     "execution_count": 16,
     "metadata": {},
     "output_type": "execute_result"
    }
   ],
   "source": [
    "# Find the first few records with .head()\n",
    "df.head()"
   ]
  },
  {
   "cell_type": "code",
   "execution_count": 23,
   "metadata": {
    "ExecuteTime": {
     "end_time": "2018-10-08T15:07:41.608842Z",
     "start_time": "2018-10-08T15:07:41.593633Z"
    }
   },
   "outputs": [
    {
     "data": {
      "text/html": [
       "<div>\n",
       "<style scoped>\n",
       "    .dataframe tbody tr th:only-of-type {\n",
       "        vertical-align: middle;\n",
       "    }\n",
       "\n",
       "    .dataframe tbody tr th {\n",
       "        vertical-align: top;\n",
       "    }\n",
       "\n",
       "    .dataframe thead th {\n",
       "        text-align: right;\n",
       "    }\n",
       "</style>\n",
       "<table border=\"1\" class=\"dataframe\">\n",
       "  <thead>\n",
       "    <tr style=\"text-align: right;\">\n",
       "      <th></th>\n",
       "      <th>employee_id</th>\n",
       "      <th>annual_inc</th>\n",
       "      <th>employee_title</th>\n",
       "      <th>home_ownership</th>\n",
       "    </tr>\n",
       "  </thead>\n",
       "  <tbody>\n",
       "    <tr>\n",
       "      <th>718</th>\n",
       "      <td>67409994</td>\n",
       "      <td>33000.0</td>\n",
       "      <td>NaN</td>\n",
       "      <td>MORTGAGE</td>\n",
       "    </tr>\n",
       "  </tbody>\n",
       "</table>\n",
       "</div>"
      ],
      "text/plain": [
       "     employee_id  annual_inc employee_title home_ownership\n",
       "718     67409994     33000.0            NaN       MORTGAGE"
      ]
     },
     "execution_count": 23,
     "metadata": {},
     "output_type": "execute_result"
    }
   ],
   "source": [
    "# Randomly sample (without replacement) with .sample()\n",
    "df.sample()"
   ]
  },
  {
   "cell_type": "markdown",
   "metadata": {},
   "source": [
    "### Retrieve records & columns from a `DataFrame`"
   ]
  },
  {
   "cell_type": "markdown",
   "metadata": {},
   "source": [
    "#### Retrieve a column from a `DataFrame`\n",
    "We will now retrieve all the `annual_inc` data from the `df`. Use the column name to retrieve the column and store that as a new variable `annual_incs`. This is known as a `Series`. \n",
    "<div class=\"alert alert-info\">\n",
    "<b>DS102 Learning Guidelines: </b>For DS102, only store <u>1 column</u> in a `Series`. Refer to [the documentation](https://pandas.pydata.org/pandas-docs/stable/advanced.html) for other ways a `Series` can be represented.\n",
    "</div>"
   ]
  },
  {
   "cell_type": "code",
   "execution_count": 28,
   "metadata": {
    "ExecuteTime": {
     "end_time": "2018-10-08T15:07:41.618608Z",
     "start_time": "2018-10-08T15:07:41.612575Z"
    }
   },
   "outputs": [
    {
     "data": {
      "text/plain": [
       "0     55000.0\n",
       "1    184000.0\n",
       "2     30000.0\n",
       "3     72000.0\n",
       "4     84000.0\n",
       "Name: annual_inc, dtype: float64"
      ]
     },
     "execution_count": 28,
     "metadata": {},
     "output_type": "execute_result"
    }
   ],
   "source": [
    "#Retrieve a series from a dataframe and verify that the datatype is a Series\n",
    "\n",
    "annual_inc = df['annual_inc']\n"
   ]
  },
  {
   "cell_type": "code",
   "execution_count": 31,
   "metadata": {
    "ExecuteTime": {
     "end_time": "2018-10-08T15:07:41.639600Z",
     "start_time": "2018-10-08T15:07:41.623611Z"
    }
   },
   "outputs": [
    {
     "data": {
      "text/plain": [
       "0     55000.0\n",
       "1    184000.0\n",
       "2     30000.0\n",
       "3     72000.0\n",
       "4     84000.0\n",
       "Name: annual_inc, dtype: float64"
      ]
     },
     "execution_count": 31,
     "metadata": {},
     "output_type": "execute_result"
    }
   ],
   "source": [
    "# Use Series.head() to show the first records\n",
    "annual_inc.head(n=5)"
   ]
  },
  {
   "cell_type": "code",
   "execution_count": 30,
   "metadata": {
    "ExecuteTime": {
     "end_time": "2018-10-08T15:07:41.654292Z",
     "start_time": "2018-10-08T15:07:41.644420Z"
    }
   },
   "outputs": [
    {
     "data": {
      "text/plain": [
       "989    57600.0\n",
       "Name: annual_inc, dtype: float64"
      ]
     },
     "execution_count": 30,
     "metadata": {},
     "output_type": "execute_result"
    }
   ],
   "source": [
    "# Use Series.sample() to sample records from the Series\n",
    "# (Note the indices of the Series. They are random.)\n",
    "annual_inc.sample()"
   ]
  },
  {
   "cell_type": "code",
   "execution_count": 32,
   "metadata": {
    "ExecuteTime": {
     "end_time": "2018-10-08T15:07:41.668638Z",
     "start_time": "2018-10-08T15:07:41.661258Z"
    }
   },
   "outputs": [
    {
     "data": {
      "text/plain": [
       "pandas.core.series.Series"
      ]
     },
     "execution_count": 32,
     "metadata": {},
     "output_type": "execute_result"
    }
   ],
   "source": [
    "# Verify that the datatype is a Series\n",
    "type(annual_inc)"
   ]
  },
  {
   "cell_type": "markdown",
   "metadata": {},
   "source": [
    "#### Retrieve a record from a `DataFrame`\n",
    "To retrieve just 1 record from the `DataFrame`, use `.iloc` and specify the index of the record. Put this value in the square brackets `[]`.\n",
    "\n",
    "Note: When you do this, the datatype of the result is a `Series`. Use the index in the `Series` to retrieve the value."
   ]
  },
  {
   "cell_type": "code",
   "execution_count": 36,
   "metadata": {
    "ExecuteTime": {
     "end_time": "2018-10-08T15:07:41.693503Z",
     "start_time": "2018-10-08T15:07:41.672872Z"
    }
   },
   "outputs": [
    {
     "data": {
      "text/html": [
       "<div>\n",
       "<style scoped>\n",
       "    .dataframe tbody tr th:only-of-type {\n",
       "        vertical-align: middle;\n",
       "    }\n",
       "\n",
       "    .dataframe tbody tr th {\n",
       "        vertical-align: top;\n",
       "    }\n",
       "\n",
       "    .dataframe thead th {\n",
       "        text-align: right;\n",
       "    }\n",
       "</style>\n",
       "<table border=\"1\" class=\"dataframe\">\n",
       "  <thead>\n",
       "    <tr style=\"text-align: right;\">\n",
       "      <th></th>\n",
       "      <th>employee_id</th>\n",
       "      <th>annual_inc</th>\n",
       "      <th>employee_title</th>\n",
       "      <th>home_ownership</th>\n",
       "    </tr>\n",
       "  </thead>\n",
       "  <tbody>\n",
       "    <tr>\n",
       "      <th>0</th>\n",
       "      <td>44037036</td>\n",
       "      <td>55000.0</td>\n",
       "      <td>Account Specialist</td>\n",
       "      <td>OWN</td>\n",
       "    </tr>\n",
       "    <tr>\n",
       "      <th>1</th>\n",
       "      <td>41036228</td>\n",
       "      <td>184000.0</td>\n",
       "      <td>IT Architect</td>\n",
       "      <td>MORTGAGE</td>\n",
       "    </tr>\n",
       "    <tr>\n",
       "      <th>2</th>\n",
       "      <td>67601397</td>\n",
       "      <td>30000.0</td>\n",
       "      <td>night auditor</td>\n",
       "      <td>RENT</td>\n",
       "    </tr>\n",
       "    <tr>\n",
       "      <th>3</th>\n",
       "      <td>64972576</td>\n",
       "      <td>72000.0</td>\n",
       "      <td>Field Service Representative</td>\n",
       "      <td>MORTGAGE</td>\n",
       "    </tr>\n",
       "    <tr>\n",
       "      <th>4</th>\n",
       "      <td>59922079</td>\n",
       "      <td>84000.0</td>\n",
       "      <td>Senior Pastor</td>\n",
       "      <td>MORTGAGE</td>\n",
       "    </tr>\n",
       "  </tbody>\n",
       "</table>\n",
       "</div>"
      ],
      "text/plain": [
       "   employee_id  annual_inc                employee_title home_ownership\n",
       "0     44037036     55000.0            Account Specialist            OWN\n",
       "1     41036228    184000.0                  IT Architect       MORTGAGE\n",
       "2     67601397     30000.0                 night auditor           RENT\n",
       "3     64972576     72000.0  Field Service Representative       MORTGAGE\n",
       "4     59922079     84000.0                 Senior Pastor       MORTGAGE"
      ]
     },
     "execution_count": 36,
     "metadata": {},
     "output_type": "execute_result"
    }
   ],
   "source": [
    "# Exercise: How do you show the first 5 records of the df?\n",
    "df.iloc[:5]"
   ]
  },
  {
   "cell_type": "code",
   "execution_count": 38,
   "metadata": {
    "ExecuteTime": {
     "end_time": "2018-10-08T15:07:41.711777Z",
     "start_time": "2018-10-08T15:07:41.700057Z"
    },
    "scrolled": true
   },
   "outputs": [
    {
     "name": "stdout",
     "output_type": "stream",
     "text": [
      "employee_id           41036228\n",
      "annual_inc              184000\n",
      "employee_title    IT Architect\n",
      "home_ownership        MORTGAGE\n",
      "Name: 1, dtype: object\n"
     ]
    }
   ],
   "source": [
    "# Retrieve the second record from the df using .iloc[] and validate the result. \n",
    "# Store this in a variable called row_2\n",
    "row2 = df.iloc[1]\n",
    "\n",
    "print(row2)"
   ]
  },
  {
   "cell_type": "code",
   "execution_count": 39,
   "metadata": {
    "ExecuteTime": {
     "end_time": "2018-10-08T15:07:41.722197Z",
     "start_time": "2018-10-08T15:07:41.715220Z"
    }
   },
   "outputs": [
    {
     "data": {
      "text/plain": [
       "pandas.core.series.Series"
      ]
     },
     "execution_count": 39,
     "metadata": {},
     "output_type": "execute_result"
    }
   ],
   "source": [
    "# Verify that the datatype is a Series, where the index are now the column names\n",
    "type(row2)"
   ]
  },
  {
   "cell_type": "code",
   "execution_count": 44,
   "metadata": {
    "ExecuteTime": {
     "end_time": "2018-10-08T15:07:41.733514Z",
     "start_time": "2018-10-08T15:07:41.725916Z"
    }
   },
   "outputs": [
    {
     "name": "stdout",
     "output_type": "stream",
     "text": [
      "The employee with ID 44037036 has the job title Account Specialist.\n"
     ]
    }
   ],
   "source": [
    "# Complete the following code to retrieve the employee_id and employee_title.\n",
    "emp_id = 44037036\n",
    "\n",
    "emp_title = df[(df['employee_id'] == emp_id)]['employee_title'].values[0]\n",
    "\n",
    "# Then, fill in the blanks in the following statement.\n",
    "print('The employee with ID ' + str(emp_id) + ' has the job title ' + emp_title + '.')"
   ]
  },
  {
   "cell_type": "code",
   "execution_count": 76,
   "metadata": {
    "ExecuteTime": {
     "end_time": "2018-10-08T15:07:41.749835Z",
     "start_time": "2018-10-08T15:07:41.737783Z"
    }
   },
   "outputs": [
    {
     "name": "stdout",
     "output_type": "stream",
     "text": [
      "The employee with ID 22974788 has an annual income of 190000.0.\n"
     ]
    }
   ],
   "source": [
    "# Your turn: What is the employee ID and annual income of the 10th employee (index=9)\n",
    "# Write your code here\n",
    "\n",
    "row9 = df.iloc[9]\n",
    "emp_9id = row9['employee_id']\n",
    "emp_9annual_inc= row9['annual_inc']\n",
    "# Then, fill in the blanks in the following statement. Debug the code by \n",
    "# specifying the correct datatypes of the variables.\n",
    "print('The employee with ID ' + str(emp_9id) + ' has an annual income of ' + str(emp_9annual_inc) + '.')"
   ]
  },
  {
   "cell_type": "markdown",
   "metadata": {},
   "source": [
    "### Filter records from a `DataFrame`"
   ]
  },
  {
   "cell_type": "markdown",
   "metadata": {},
   "source": [
    "#### Filtering by one condition, numeric\n",
    "\n",
    "To perform filtering by numeric values, first **check that the column is a numeric column (`int64` or `float64`)**. It was already done when you used `df.dtypes`. Then, use the following signature to do so:\n",
    "```python\n",
    "df[df['column'] <conditional operator> <value>]\n",
    "```\n",
    "Take note of the open & close square brackets, and how a condition is expressed, where you use a **column name**, a **conditional operator** and a **value**."
   ]
  },
  {
   "cell_type": "code",
   "execution_count": 78,
   "metadata": {
    "ExecuteTime": {
     "end_time": "2018-10-08T15:07:41.777110Z",
     "start_time": "2018-10-08T15:07:41.753890Z"
    }
   },
   "outputs": [
    {
     "data": {
      "text/html": [
       "<div>\n",
       "<style scoped>\n",
       "    .dataframe tbody tr th:only-of-type {\n",
       "        vertical-align: middle;\n",
       "    }\n",
       "\n",
       "    .dataframe tbody tr th {\n",
       "        vertical-align: top;\n",
       "    }\n",
       "\n",
       "    .dataframe thead th {\n",
       "        text-align: right;\n",
       "    }\n",
       "</style>\n",
       "<table border=\"1\" class=\"dataframe\">\n",
       "  <thead>\n",
       "    <tr style=\"text-align: right;\">\n",
       "      <th></th>\n",
       "      <th>employee_id</th>\n",
       "      <th>annual_inc</th>\n",
       "      <th>employee_title</th>\n",
       "      <th>home_ownership</th>\n",
       "    </tr>\n",
       "  </thead>\n",
       "  <tbody>\n",
       "    <tr>\n",
       "      <th>127</th>\n",
       "      <td>31127612</td>\n",
       "      <td>500000.0</td>\n",
       "      <td>CEO</td>\n",
       "      <td>MORTGAGE</td>\n",
       "    </tr>\n",
       "    <tr>\n",
       "      <th>627</th>\n",
       "      <td>35843557</td>\n",
       "      <td>345000.0</td>\n",
       "      <td>Director</td>\n",
       "      <td>MORTGAGE</td>\n",
       "    </tr>\n",
       "    <tr>\n",
       "      <th>657</th>\n",
       "      <td>4629113</td>\n",
       "      <td>340000.0</td>\n",
       "      <td>Citigroup</td>\n",
       "      <td>RENT</td>\n",
       "    </tr>\n",
       "    <tr>\n",
       "      <th>695</th>\n",
       "      <td>7757331</td>\n",
       "      <td>600000.0</td>\n",
       "      <td>Kildare Capital</td>\n",
       "      <td>RENT</td>\n",
       "    </tr>\n",
       "    <tr>\n",
       "      <th>843</th>\n",
       "      <td>65509222</td>\n",
       "      <td>325000.0</td>\n",
       "      <td>Global solutions leader</td>\n",
       "      <td>MORTGAGE</td>\n",
       "    </tr>\n",
       "    <tr>\n",
       "      <th>863</th>\n",
       "      <td>49282491</td>\n",
       "      <td>500000.0</td>\n",
       "      <td>Vice President</td>\n",
       "      <td>RENT</td>\n",
       "    </tr>\n",
       "    <tr>\n",
       "      <th>946</th>\n",
       "      <td>57415353</td>\n",
       "      <td>310000.0</td>\n",
       "      <td>Senior Vice President</td>\n",
       "      <td>RENT</td>\n",
       "    </tr>\n",
       "  </tbody>\n",
       "</table>\n",
       "</div>"
      ],
      "text/plain": [
       "     employee_id  annual_inc           employee_title home_ownership\n",
       "127     31127612    500000.0                      CEO       MORTGAGE\n",
       "627     35843557    345000.0                 Director       MORTGAGE\n",
       "657      4629113    340000.0                Citigroup           RENT\n",
       "695      7757331    600000.0          Kildare Capital           RENT\n",
       "843     65509222    325000.0  Global solutions leader       MORTGAGE\n",
       "863     49282491    500000.0           Vice President           RENT\n",
       "946     57415353    310000.0    Senior Vice President           RENT"
      ]
     },
     "execution_count": 78,
     "metadata": {},
     "output_type": "execute_result"
    }
   ],
   "source": [
    "# Before filtering, it is a good practice to use copy() first. This is done\n",
    "# so modifications do not get reflected in the original df\n",
    "df_above_300k = df.copy()\n",
    "\n",
    "# Q. Identify all records in the df where the annual_inc is 300000 or greater.\n",
    "df_above_300k[(df_above_300k['annual_inc']) >= 300000]"
   ]
  },
  {
   "cell_type": "markdown",
   "metadata": {},
   "source": [
    "#### Filtering by one condition, using string comparators\n",
    "\n",
    "To perform filtering using a string function, use `==` e.g. `== 'OWN'`. Follow the above notation using a column, a comparator and a value in the same order."
   ]
  },
  {
   "cell_type": "code",
   "execution_count": 79,
   "metadata": {
    "ExecuteTime": {
     "end_time": "2018-10-08T15:07:41.839388Z",
     "start_time": "2018-10-08T15:07:41.780394Z"
    },
    "scrolled": true
   },
   "outputs": [
    {
     "data": {
      "text/html": [
       "<div>\n",
       "<style scoped>\n",
       "    .dataframe tbody tr th:only-of-type {\n",
       "        vertical-align: middle;\n",
       "    }\n",
       "\n",
       "    .dataframe tbody tr th {\n",
       "        vertical-align: top;\n",
       "    }\n",
       "\n",
       "    .dataframe thead th {\n",
       "        text-align: right;\n",
       "    }\n",
       "</style>\n",
       "<table border=\"1\" class=\"dataframe\">\n",
       "  <thead>\n",
       "    <tr style=\"text-align: right;\">\n",
       "      <th></th>\n",
       "      <th>employee_id</th>\n",
       "      <th>annual_inc</th>\n",
       "      <th>employee_title</th>\n",
       "      <th>home_ownership</th>\n",
       "    </tr>\n",
       "  </thead>\n",
       "  <tbody>\n",
       "    <tr>\n",
       "      <th>0</th>\n",
       "      <td>44037036</td>\n",
       "      <td>55000.00</td>\n",
       "      <td>Account Specialist</td>\n",
       "      <td>OWN</td>\n",
       "    </tr>\n",
       "    <tr>\n",
       "      <th>19</th>\n",
       "      <td>35845083</td>\n",
       "      <td>45000.00</td>\n",
       "      <td>claims</td>\n",
       "      <td>OWN</td>\n",
       "    </tr>\n",
       "    <tr>\n",
       "      <th>25</th>\n",
       "      <td>34691613</td>\n",
       "      <td>50000.00</td>\n",
       "      <td>General mgr</td>\n",
       "      <td>OWN</td>\n",
       "    </tr>\n",
       "    <tr>\n",
       "      <th>32</th>\n",
       "      <td>36665106</td>\n",
       "      <td>73000.00</td>\n",
       "      <td>VP Operations</td>\n",
       "      <td>OWN</td>\n",
       "    </tr>\n",
       "    <tr>\n",
       "      <th>43</th>\n",
       "      <td>10018508</td>\n",
       "      <td>75000.00</td>\n",
       "      <td>Police Officer</td>\n",
       "      <td>OWN</td>\n",
       "    </tr>\n",
       "    <tr>\n",
       "      <th>57</th>\n",
       "      <td>29242569</td>\n",
       "      <td>30000.00</td>\n",
       "      <td>IT Adminjstrator</td>\n",
       "      <td>OWN</td>\n",
       "    </tr>\n",
       "    <tr>\n",
       "      <th>66</th>\n",
       "      <td>899241</td>\n",
       "      <td>153000.00</td>\n",
       "      <td>united states air force</td>\n",
       "      <td>OWN</td>\n",
       "    </tr>\n",
       "    <tr>\n",
       "      <th>82</th>\n",
       "      <td>42134060</td>\n",
       "      <td>55000.00</td>\n",
       "      <td>Career and Tech Ed Specialist</td>\n",
       "      <td>OWN</td>\n",
       "    </tr>\n",
       "    <tr>\n",
       "      <th>97</th>\n",
       "      <td>21047758</td>\n",
       "      <td>98000.00</td>\n",
       "      <td>Assistant Vice President</td>\n",
       "      <td>OWN</td>\n",
       "    </tr>\n",
       "    <tr>\n",
       "      <th>106</th>\n",
       "      <td>9111888</td>\n",
       "      <td>90000.00</td>\n",
       "      <td>EQ Mechanic</td>\n",
       "      <td>OWN</td>\n",
       "    </tr>\n",
       "    <tr>\n",
       "      <th>108</th>\n",
       "      <td>72549688</td>\n",
       "      <td>65000.00</td>\n",
       "      <td>Chef</td>\n",
       "      <td>OWN</td>\n",
       "    </tr>\n",
       "    <tr>\n",
       "      <th>110</th>\n",
       "      <td>1448392</td>\n",
       "      <td>72000.00</td>\n",
       "      <td>HRA</td>\n",
       "      <td>OWN</td>\n",
       "    </tr>\n",
       "    <tr>\n",
       "      <th>113</th>\n",
       "      <td>69192617</td>\n",
       "      <td>65000.00</td>\n",
       "      <td>P&amp;D DRIVER</td>\n",
       "      <td>OWN</td>\n",
       "    </tr>\n",
       "    <tr>\n",
       "      <th>117</th>\n",
       "      <td>66752505</td>\n",
       "      <td>39000.00</td>\n",
       "      <td>Office Manager</td>\n",
       "      <td>OWN</td>\n",
       "    </tr>\n",
       "    <tr>\n",
       "      <th>120</th>\n",
       "      <td>49664280</td>\n",
       "      <td>30000.00</td>\n",
       "      <td>Teller</td>\n",
       "      <td>OWN</td>\n",
       "    </tr>\n",
       "    <tr>\n",
       "      <th>121</th>\n",
       "      <td>23071512</td>\n",
       "      <td>60000.00</td>\n",
       "      <td>production department</td>\n",
       "      <td>OWN</td>\n",
       "    </tr>\n",
       "    <tr>\n",
       "      <th>126</th>\n",
       "      <td>21860210</td>\n",
       "      <td>78800.00</td>\n",
       "      <td>Manager, Benefits Services</td>\n",
       "      <td>OWN</td>\n",
       "    </tr>\n",
       "    <tr>\n",
       "      <th>128</th>\n",
       "      <td>411839</td>\n",
       "      <td>61200.00</td>\n",
       "      <td>Halliburton Energy Services</td>\n",
       "      <td>OWN</td>\n",
       "    </tr>\n",
       "    <tr>\n",
       "      <th>131</th>\n",
       "      <td>6508818</td>\n",
       "      <td>52000.00</td>\n",
       "      <td>County of San Bernardino</td>\n",
       "      <td>OWN</td>\n",
       "    </tr>\n",
       "    <tr>\n",
       "      <th>139</th>\n",
       "      <td>59044750</td>\n",
       "      <td>30000.00</td>\n",
       "      <td>Rig Hand</td>\n",
       "      <td>OWN</td>\n",
       "    </tr>\n",
       "    <tr>\n",
       "      <th>140</th>\n",
       "      <td>70368683</td>\n",
       "      <td>106000.00</td>\n",
       "      <td>solution architect</td>\n",
       "      <td>OWN</td>\n",
       "    </tr>\n",
       "    <tr>\n",
       "      <th>150</th>\n",
       "      <td>66075587</td>\n",
       "      <td>65000.00</td>\n",
       "      <td>product Manager</td>\n",
       "      <td>OWN</td>\n",
       "    </tr>\n",
       "    <tr>\n",
       "      <th>159</th>\n",
       "      <td>13697027</td>\n",
       "      <td>15600.00</td>\n",
       "      <td>NaN</td>\n",
       "      <td>OWN</td>\n",
       "    </tr>\n",
       "    <tr>\n",
       "      <th>174</th>\n",
       "      <td>38358826</td>\n",
       "      <td>72750.00</td>\n",
       "      <td>IT Service Delivery Manager</td>\n",
       "      <td>OWN</td>\n",
       "    </tr>\n",
       "    <tr>\n",
       "      <th>180</th>\n",
       "      <td>46446143</td>\n",
       "      <td>68000.00</td>\n",
       "      <td>Sales Manaer</td>\n",
       "      <td>OWN</td>\n",
       "    </tr>\n",
       "    <tr>\n",
       "      <th>182</th>\n",
       "      <td>9307893</td>\n",
       "      <td>43000.00</td>\n",
       "      <td>NaN</td>\n",
       "      <td>OWN</td>\n",
       "    </tr>\n",
       "    <tr>\n",
       "      <th>200</th>\n",
       "      <td>25325650</td>\n",
       "      <td>36000.00</td>\n",
       "      <td>home health assistant</td>\n",
       "      <td>OWN</td>\n",
       "    </tr>\n",
       "    <tr>\n",
       "      <th>208</th>\n",
       "      <td>54916455</td>\n",
       "      <td>45337.00</td>\n",
       "      <td>NaN</td>\n",
       "      <td>OWN</td>\n",
       "    </tr>\n",
       "    <tr>\n",
       "      <th>210</th>\n",
       "      <td>73375122</td>\n",
       "      <td>200000.00</td>\n",
       "      <td>buyer</td>\n",
       "      <td>OWN</td>\n",
       "    </tr>\n",
       "    <tr>\n",
       "      <th>236</th>\n",
       "      <td>33589136</td>\n",
       "      <td>49800.00</td>\n",
       "      <td>Designer</td>\n",
       "      <td>OWN</td>\n",
       "    </tr>\n",
       "    <tr>\n",
       "      <th>...</th>\n",
       "      <td>...</td>\n",
       "      <td>...</td>\n",
       "      <td>...</td>\n",
       "      <td>...</td>\n",
       "    </tr>\n",
       "    <tr>\n",
       "      <th>724</th>\n",
       "      <td>32718328</td>\n",
       "      <td>84200.00</td>\n",
       "      <td>International Sales Manager</td>\n",
       "      <td>OWN</td>\n",
       "    </tr>\n",
       "    <tr>\n",
       "      <th>733</th>\n",
       "      <td>42535707</td>\n",
       "      <td>113000.00</td>\n",
       "      <td>DIRECTOR, INFORMATION TECHNOLOGY</td>\n",
       "      <td>OWN</td>\n",
       "    </tr>\n",
       "    <tr>\n",
       "      <th>737</th>\n",
       "      <td>64382855</td>\n",
       "      <td>75000.00</td>\n",
       "      <td>CHEMICAL OPERATOR</td>\n",
       "      <td>OWN</td>\n",
       "    </tr>\n",
       "    <tr>\n",
       "      <th>763</th>\n",
       "      <td>49931387</td>\n",
       "      <td>28000.00</td>\n",
       "      <td>Clerk</td>\n",
       "      <td>OWN</td>\n",
       "    </tr>\n",
       "    <tr>\n",
       "      <th>772</th>\n",
       "      <td>1660836</td>\n",
       "      <td>58000.00</td>\n",
       "      <td>Shuman McCuskey Slicer PLLC</td>\n",
       "      <td>OWN</td>\n",
       "    </tr>\n",
       "    <tr>\n",
       "      <th>778</th>\n",
       "      <td>6332201</td>\n",
       "      <td>60000.00</td>\n",
       "      <td>TYK AMERICA</td>\n",
       "      <td>OWN</td>\n",
       "    </tr>\n",
       "    <tr>\n",
       "      <th>795</th>\n",
       "      <td>5547044</td>\n",
       "      <td>60000.00</td>\n",
       "      <td>Sovran Acquisition/Uncle bobs</td>\n",
       "      <td>OWN</td>\n",
       "    </tr>\n",
       "    <tr>\n",
       "      <th>817</th>\n",
       "      <td>55476671</td>\n",
       "      <td>17000.00</td>\n",
       "      <td>Caregiver</td>\n",
       "      <td>OWN</td>\n",
       "    </tr>\n",
       "    <tr>\n",
       "      <th>829</th>\n",
       "      <td>71308030</td>\n",
       "      <td>105000.00</td>\n",
       "      <td>Aviation Business Process Manager</td>\n",
       "      <td>OWN</td>\n",
       "    </tr>\n",
       "    <tr>\n",
       "      <th>844</th>\n",
       "      <td>64383454</td>\n",
       "      <td>90000.00</td>\n",
       "      <td>Superviser</td>\n",
       "      <td>OWN</td>\n",
       "    </tr>\n",
       "    <tr>\n",
       "      <th>848</th>\n",
       "      <td>65500329</td>\n",
       "      <td>40000.00</td>\n",
       "      <td>Assembly</td>\n",
       "      <td>OWN</td>\n",
       "    </tr>\n",
       "    <tr>\n",
       "      <th>849</th>\n",
       "      <td>43847103</td>\n",
       "      <td>104000.00</td>\n",
       "      <td>Contractor</td>\n",
       "      <td>OWN</td>\n",
       "    </tr>\n",
       "    <tr>\n",
       "      <th>854</th>\n",
       "      <td>9028883</td>\n",
       "      <td>35351.28</td>\n",
       "      <td>Ft. Elliot C.I.S.D.</td>\n",
       "      <td>OWN</td>\n",
       "    </tr>\n",
       "    <tr>\n",
       "      <th>885</th>\n",
       "      <td>59714246</td>\n",
       "      <td>46000.00</td>\n",
       "      <td>Office Manager</td>\n",
       "      <td>OWN</td>\n",
       "    </tr>\n",
       "    <tr>\n",
       "      <th>893</th>\n",
       "      <td>63117781</td>\n",
       "      <td>87300.00</td>\n",
       "      <td>Purchasing Manager</td>\n",
       "      <td>OWN</td>\n",
       "    </tr>\n",
       "    <tr>\n",
       "      <th>901</th>\n",
       "      <td>55247730</td>\n",
       "      <td>66161.00</td>\n",
       "      <td>rural carrier</td>\n",
       "      <td>OWN</td>\n",
       "    </tr>\n",
       "    <tr>\n",
       "      <th>902</th>\n",
       "      <td>69495774</td>\n",
       "      <td>135000.00</td>\n",
       "      <td>Equipment operator</td>\n",
       "      <td>OWN</td>\n",
       "    </tr>\n",
       "    <tr>\n",
       "      <th>908</th>\n",
       "      <td>71318221</td>\n",
       "      <td>125000.00</td>\n",
       "      <td>Talent Recruiter</td>\n",
       "      <td>OWN</td>\n",
       "    </tr>\n",
       "    <tr>\n",
       "      <th>915</th>\n",
       "      <td>59672185</td>\n",
       "      <td>19641.00</td>\n",
       "      <td>cook</td>\n",
       "      <td>OWN</td>\n",
       "    </tr>\n",
       "    <tr>\n",
       "      <th>918</th>\n",
       "      <td>71319000</td>\n",
       "      <td>70000.00</td>\n",
       "      <td>Software Developer</td>\n",
       "      <td>OWN</td>\n",
       "    </tr>\n",
       "    <tr>\n",
       "      <th>929</th>\n",
       "      <td>60897058</td>\n",
       "      <td>90000.00</td>\n",
       "      <td>SR. Mechanical Technician</td>\n",
       "      <td>OWN</td>\n",
       "    </tr>\n",
       "    <tr>\n",
       "      <th>930</th>\n",
       "      <td>8997492</td>\n",
       "      <td>60000.00</td>\n",
       "      <td>maintenance</td>\n",
       "      <td>OWN</td>\n",
       "    </tr>\n",
       "    <tr>\n",
       "      <th>932</th>\n",
       "      <td>48034499</td>\n",
       "      <td>55000.00</td>\n",
       "      <td>benefit advisor</td>\n",
       "      <td>OWN</td>\n",
       "    </tr>\n",
       "    <tr>\n",
       "      <th>933</th>\n",
       "      <td>62553089</td>\n",
       "      <td>48000.00</td>\n",
       "      <td>Teacher</td>\n",
       "      <td>OWN</td>\n",
       "    </tr>\n",
       "    <tr>\n",
       "      <th>943</th>\n",
       "      <td>68340057</td>\n",
       "      <td>114900.00</td>\n",
       "      <td>analyst</td>\n",
       "      <td>OWN</td>\n",
       "    </tr>\n",
       "    <tr>\n",
       "      <th>947</th>\n",
       "      <td>59582209</td>\n",
       "      <td>36000.00</td>\n",
       "      <td>Adjunct Professor \\ Administrator</td>\n",
       "      <td>OWN</td>\n",
       "    </tr>\n",
       "    <tr>\n",
       "      <th>954</th>\n",
       "      <td>54259265</td>\n",
       "      <td>73000.00</td>\n",
       "      <td>Administrative Assistant</td>\n",
       "      <td>OWN</td>\n",
       "    </tr>\n",
       "    <tr>\n",
       "      <th>963</th>\n",
       "      <td>13667253</td>\n",
       "      <td>52178.00</td>\n",
       "      <td>Sr. Adm. Secretary</td>\n",
       "      <td>OWN</td>\n",
       "    </tr>\n",
       "    <tr>\n",
       "      <th>968</th>\n",
       "      <td>71340592</td>\n",
       "      <td>25000.00</td>\n",
       "      <td>Truck Driver</td>\n",
       "      <td>OWN</td>\n",
       "    </tr>\n",
       "    <tr>\n",
       "      <th>976</th>\n",
       "      <td>57779211</td>\n",
       "      <td>185000.00</td>\n",
       "      <td>Legal Administrator</td>\n",
       "      <td>OWN</td>\n",
       "    </tr>\n",
       "  </tbody>\n",
       "</table>\n",
       "<p>110 rows × 4 columns</p>\n",
       "</div>"
      ],
      "text/plain": [
       "     employee_id  annual_inc                     employee_title home_ownership\n",
       "0       44037036    55000.00                 Account Specialist            OWN\n",
       "19      35845083    45000.00                             claims            OWN\n",
       "25      34691613    50000.00                        General mgr            OWN\n",
       "32      36665106    73000.00                      VP Operations            OWN\n",
       "43      10018508    75000.00                     Police Officer            OWN\n",
       "57      29242569    30000.00                   IT Adminjstrator            OWN\n",
       "66        899241   153000.00            united states air force            OWN\n",
       "82      42134060    55000.00      Career and Tech Ed Specialist            OWN\n",
       "97      21047758    98000.00           Assistant Vice President            OWN\n",
       "106      9111888    90000.00                        EQ Mechanic            OWN\n",
       "108     72549688    65000.00                               Chef            OWN\n",
       "110      1448392    72000.00                                HRA            OWN\n",
       "113     69192617    65000.00                         P&D DRIVER            OWN\n",
       "117     66752505    39000.00                     Office Manager            OWN\n",
       "120     49664280    30000.00                             Teller            OWN\n",
       "121     23071512    60000.00              production department            OWN\n",
       "126     21860210    78800.00         Manager, Benefits Services            OWN\n",
       "128       411839    61200.00        Halliburton Energy Services            OWN\n",
       "131      6508818    52000.00           County of San Bernardino            OWN\n",
       "139     59044750    30000.00                           Rig Hand            OWN\n",
       "140     70368683   106000.00                solution architect             OWN\n",
       "150     66075587    65000.00                   product Manager             OWN\n",
       "159     13697027    15600.00                                NaN            OWN\n",
       "174     38358826    72750.00        IT Service Delivery Manager            OWN\n",
       "180     46446143    68000.00                       Sales Manaer            OWN\n",
       "182      9307893    43000.00                                NaN            OWN\n",
       "200     25325650    36000.00              home health assistant            OWN\n",
       "208     54916455    45337.00                                NaN            OWN\n",
       "210     73375122   200000.00                              buyer            OWN\n",
       "236     33589136    49800.00                           Designer            OWN\n",
       "..           ...         ...                                ...            ...\n",
       "724     32718328    84200.00        International Sales Manager            OWN\n",
       "733     42535707   113000.00   DIRECTOR, INFORMATION TECHNOLOGY            OWN\n",
       "737     64382855    75000.00                  CHEMICAL OPERATOR            OWN\n",
       "763     49931387    28000.00                              Clerk            OWN\n",
       "772      1660836    58000.00        Shuman McCuskey Slicer PLLC            OWN\n",
       "778      6332201    60000.00                        TYK AMERICA            OWN\n",
       "795      5547044    60000.00      Sovran Acquisition/Uncle bobs            OWN\n",
       "817     55476671    17000.00                          Caregiver            OWN\n",
       "829     71308030   105000.00  Aviation Business Process Manager            OWN\n",
       "844     64383454    90000.00                         Superviser            OWN\n",
       "848     65500329    40000.00                           Assembly            OWN\n",
       "849     43847103   104000.00                         Contractor            OWN\n",
       "854      9028883    35351.28                Ft. Elliot C.I.S.D.            OWN\n",
       "885     59714246    46000.00                     Office Manager            OWN\n",
       "893     63117781    87300.00                 Purchasing Manager            OWN\n",
       "901     55247730    66161.00                      rural carrier            OWN\n",
       "902     69495774   135000.00                 Equipment operator            OWN\n",
       "908     71318221   125000.00                   Talent Recruiter            OWN\n",
       "915     59672185    19641.00                               cook            OWN\n",
       "918     71319000    70000.00                 Software Developer            OWN\n",
       "929     60897058    90000.00          SR. Mechanical Technician            OWN\n",
       "930      8997492    60000.00                        maintenance            OWN\n",
       "932     48034499    55000.00                    benefit advisor            OWN\n",
       "933     62553089    48000.00                            Teacher            OWN\n",
       "943     68340057   114900.00                            analyst            OWN\n",
       "947     59582209    36000.00  Adjunct Professor \\ Administrator            OWN\n",
       "954     54259265    73000.00           Administrative Assistant            OWN\n",
       "963     13667253    52178.00                 Sr. Adm. Secretary            OWN\n",
       "968     71340592    25000.00                      Truck Driver             OWN\n",
       "976     57779211   185000.00                Legal Administrator            OWN\n",
       "\n",
       "[110 rows x 4 columns]"
      ]
     },
     "execution_count": 79,
     "metadata": {},
     "output_type": "execute_result"
    }
   ],
   "source": [
    "# Copy the df\n",
    "df_home_ownership_own = df.copy()\n",
    "\n",
    "# Filter for all records where homeownership has the value 'OWN'\n",
    "df_above_300k[(df_above_300k['home_ownership']) == 'OWN']"
   ]
  },
  {
   "cell_type": "markdown",
   "metadata": {},
   "source": [
    "You can find records satisfying multiple string matches with the `isin` function. First state the **column** you would want to filter on. Then, like calling a function, use a `.` symbol followed by `.isin()`. Finally, put the values of interest **as a list**. Put this list as a parameter of the `isin()` function."
   ]
  },
  {
   "cell_type": "code",
   "execution_count": 92,
   "metadata": {
    "ExecuteTime": {
     "end_time": "2018-10-08T15:07:41.886788Z",
     "start_time": "2018-10-08T15:07:41.849323Z"
    }
   },
   "outputs": [
    {
     "data": {
      "text/html": [
       "<div>\n",
       "<style scoped>\n",
       "    .dataframe tbody tr th:only-of-type {\n",
       "        vertical-align: middle;\n",
       "    }\n",
       "\n",
       "    .dataframe tbody tr th {\n",
       "        vertical-align: top;\n",
       "    }\n",
       "\n",
       "    .dataframe thead th {\n",
       "        text-align: right;\n",
       "    }\n",
       "</style>\n",
       "<table border=\"1\" class=\"dataframe\">\n",
       "  <thead>\n",
       "    <tr style=\"text-align: right;\">\n",
       "      <th></th>\n",
       "      <th>employee_id</th>\n",
       "      <th>annual_inc</th>\n",
       "      <th>employee_title</th>\n",
       "      <th>home_ownership</th>\n",
       "    </tr>\n",
       "  </thead>\n",
       "  <tbody>\n",
       "    <tr>\n",
       "      <th>93</th>\n",
       "      <td>70641473</td>\n",
       "      <td>100000.0</td>\n",
       "      <td>Sales</td>\n",
       "      <td>MORTGAGE</td>\n",
       "    </tr>\n",
       "    <tr>\n",
       "      <th>98</th>\n",
       "      <td>65559791</td>\n",
       "      <td>85000.0</td>\n",
       "      <td>Sales</td>\n",
       "      <td>MORTGAGE</td>\n",
       "    </tr>\n",
       "    <tr>\n",
       "      <th>170</th>\n",
       "      <td>63773407</td>\n",
       "      <td>55000.0</td>\n",
       "      <td>Sales</td>\n",
       "      <td>MORTGAGE</td>\n",
       "    </tr>\n",
       "    <tr>\n",
       "      <th>247</th>\n",
       "      <td>47357024</td>\n",
       "      <td>55000.0</td>\n",
       "      <td>Sales</td>\n",
       "      <td>RENT</td>\n",
       "    </tr>\n",
       "    <tr>\n",
       "      <th>485</th>\n",
       "      <td>35924591</td>\n",
       "      <td>130000.0</td>\n",
       "      <td>Sales</td>\n",
       "      <td>MORTGAGE</td>\n",
       "    </tr>\n",
       "    <tr>\n",
       "      <th>582</th>\n",
       "      <td>19867982</td>\n",
       "      <td>62000.0</td>\n",
       "      <td>Sales</td>\n",
       "      <td>RENT</td>\n",
       "    </tr>\n",
       "    <tr>\n",
       "      <th>807</th>\n",
       "      <td>31726709</td>\n",
       "      <td>85000.0</td>\n",
       "      <td>Accountant</td>\n",
       "      <td>RENT</td>\n",
       "    </tr>\n",
       "    <tr>\n",
       "      <th>811</th>\n",
       "      <td>67688327</td>\n",
       "      <td>72000.0</td>\n",
       "      <td>Sales</td>\n",
       "      <td>MORTGAGE</td>\n",
       "    </tr>\n",
       "    <tr>\n",
       "      <th>839</th>\n",
       "      <td>63613406</td>\n",
       "      <td>60000.0</td>\n",
       "      <td>Accountant</td>\n",
       "      <td>RENT</td>\n",
       "    </tr>\n",
       "    <tr>\n",
       "      <th>913</th>\n",
       "      <td>70334794</td>\n",
       "      <td>120000.0</td>\n",
       "      <td>Sales</td>\n",
       "      <td>RENT</td>\n",
       "    </tr>\n",
       "    <tr>\n",
       "      <th>982</th>\n",
       "      <td>13937604</td>\n",
       "      <td>44500.0</td>\n",
       "      <td>Accountant</td>\n",
       "      <td>MORTGAGE</td>\n",
       "    </tr>\n",
       "  </tbody>\n",
       "</table>\n",
       "</div>"
      ],
      "text/plain": [
       "     employee_id  annual_inc employee_title home_ownership\n",
       "93      70641473    100000.0          Sales       MORTGAGE\n",
       "98      65559791     85000.0          Sales       MORTGAGE\n",
       "170     63773407     55000.0          Sales       MORTGAGE\n",
       "247     47357024     55000.0          Sales           RENT\n",
       "485     35924591    130000.0          Sales       MORTGAGE\n",
       "582     19867982     62000.0          Sales           RENT\n",
       "807     31726709     85000.0     Accountant           RENT\n",
       "811     67688327     72000.0          Sales       MORTGAGE\n",
       "839     63613406     60000.0     Accountant           RENT\n",
       "913     70334794    120000.0          Sales           RENT\n",
       "982     13937604     44500.0     Accountant       MORTGAGE"
      ]
     },
     "execution_count": 92,
     "metadata": {},
     "output_type": "execute_result"
    }
   ],
   "source": [
    "# Copy the df\n",
    "df_employee_title = df.copy()\n",
    "\n",
    "# Filter for al records where employee_title is 'Accountant' or 'Sales'\n",
    "df_employee_title[df_employee_title['employee_title'].isin({'Accountant','Sales'})]\n"
   ]
  },
  {
   "cell_type": "markdown",
   "metadata": {},
   "source": [
    "#### Filtering by two conditions using the AND logic\n",
    "\n",
    "If you would like to filter for two conditions, using `AND` as the logical operator, put a `&` in your expression. For every condition, surround them with round brackets `(` and `)`."
   ]
  },
  {
   "cell_type": "code",
   "execution_count": 94,
   "metadata": {
    "ExecuteTime": {
     "end_time": "2018-10-08T15:07:41.919673Z",
     "start_time": "2018-10-08T15:07:41.891703Z"
    },
    "scrolled": true
   },
   "outputs": [
    {
     "data": {
      "text/html": [
       "<div>\n",
       "<style scoped>\n",
       "    .dataframe tbody tr th:only-of-type {\n",
       "        vertical-align: middle;\n",
       "    }\n",
       "\n",
       "    .dataframe tbody tr th {\n",
       "        vertical-align: top;\n",
       "    }\n",
       "\n",
       "    .dataframe thead th {\n",
       "        text-align: right;\n",
       "    }\n",
       "</style>\n",
       "<table border=\"1\" class=\"dataframe\">\n",
       "  <thead>\n",
       "    <tr style=\"text-align: right;\">\n",
       "      <th></th>\n",
       "      <th>employee_id</th>\n",
       "      <th>annual_inc</th>\n",
       "      <th>employee_title</th>\n",
       "      <th>home_ownership</th>\n",
       "    </tr>\n",
       "  </thead>\n",
       "  <tbody>\n",
       "    <tr>\n",
       "      <th>238</th>\n",
       "      <td>370086</td>\n",
       "      <td>250000.0</td>\n",
       "      <td>President</td>\n",
       "      <td>MORTGAGE</td>\n",
       "    </tr>\n",
       "  </tbody>\n",
       "</table>\n",
       "</div>"
      ],
      "text/plain": [
       "     employee_id  annual_inc employee_title home_ownership\n",
       "238       370086    250000.0      President       MORTGAGE"
      ]
     },
     "execution_count": 94,
     "metadata": {},
     "output_type": "execute_result"
    }
   ],
   "source": [
    "# Copy the df\n",
    "df_of_interest = df.copy()\n",
    "\n",
    "# Filter for all records where the employee_title is President and the annual_inc is 225000 or greater\n",
    "\n",
    "df_of_interest[(df_of_interest['employee_title'] == 'President') & \n",
    "               (df_of_interest['annual_inc'] >= 225000)]"
   ]
  },
  {
   "cell_type": "code",
   "execution_count": 95,
   "metadata": {
    "ExecuteTime": {
     "end_time": "2018-10-08T15:07:41.954288Z",
     "start_time": "2018-10-08T15:07:41.926993Z"
    }
   },
   "outputs": [
    {
     "data": {
      "text/html": [
       "<div>\n",
       "<style scoped>\n",
       "    .dataframe tbody tr th:only-of-type {\n",
       "        vertical-align: middle;\n",
       "    }\n",
       "\n",
       "    .dataframe tbody tr th {\n",
       "        vertical-align: top;\n",
       "    }\n",
       "\n",
       "    .dataframe thead th {\n",
       "        text-align: right;\n",
       "    }\n",
       "</style>\n",
       "<table border=\"1\" class=\"dataframe\">\n",
       "  <thead>\n",
       "    <tr style=\"text-align: right;\">\n",
       "      <th></th>\n",
       "      <th>employee_id</th>\n",
       "      <th>annual_inc</th>\n",
       "      <th>employee_title</th>\n",
       "      <th>home_ownership</th>\n",
       "    </tr>\n",
       "  </thead>\n",
       "  <tbody>\n",
       "    <tr>\n",
       "      <th>7</th>\n",
       "      <td>37075903</td>\n",
       "      <td>108000.0</td>\n",
       "      <td>President</td>\n",
       "      <td>RENT</td>\n",
       "    </tr>\n",
       "    <tr>\n",
       "      <th>72</th>\n",
       "      <td>64555876</td>\n",
       "      <td>100000.0</td>\n",
       "      <td>President</td>\n",
       "      <td>MORTGAGE</td>\n",
       "    </tr>\n",
       "    <tr>\n",
       "      <th>238</th>\n",
       "      <td>370086</td>\n",
       "      <td>250000.0</td>\n",
       "      <td>President</td>\n",
       "      <td>MORTGAGE</td>\n",
       "    </tr>\n",
       "    <tr>\n",
       "      <th>293</th>\n",
       "      <td>23052676</td>\n",
       "      <td>100000.0</td>\n",
       "      <td>President</td>\n",
       "      <td>RENT</td>\n",
       "    </tr>\n",
       "    <tr>\n",
       "      <th>515</th>\n",
       "      <td>66185317</td>\n",
       "      <td>80000.0</td>\n",
       "      <td>President</td>\n",
       "      <td>OWN</td>\n",
       "    </tr>\n",
       "    <tr>\n",
       "      <th>775</th>\n",
       "      <td>11217187</td>\n",
       "      <td>72000.0</td>\n",
       "      <td>President</td>\n",
       "      <td>RENT</td>\n",
       "    </tr>\n",
       "  </tbody>\n",
       "</table>\n",
       "</div>"
      ],
      "text/plain": [
       "     employee_id  annual_inc employee_title home_ownership\n",
       "7       37075903    108000.0      President           RENT\n",
       "72      64555876    100000.0      President       MORTGAGE\n",
       "238       370086    250000.0      President       MORTGAGE\n",
       "293     23052676    100000.0      President           RENT\n",
       "515     66185317     80000.0      President            OWN\n",
       "775     11217187     72000.0      President           RENT"
      ]
     },
     "execution_count": 95,
     "metadata": {},
     "output_type": "execute_result"
    }
   ],
   "source": [
    "# Contrast this with the following filter:\n",
    "# Q. Find all employees with the title 'President'\n",
    "# Your turn: Can you solve this in-class exercise?\n",
    "df_employee_pres = df.copy()\n",
    "\n",
    "df_employee_pres[df_employee_pres['employee_title'].isin({'President'})]"
   ]
  },
  {
   "cell_type": "code",
   "execution_count": 98,
   "metadata": {
    "ExecuteTime": {
     "end_time": "2018-10-08T15:07:41.985073Z",
     "start_time": "2018-10-08T15:07:41.958617Z"
    }
   },
   "outputs": [
    {
     "data": {
      "text/html": [
       "<div>\n",
       "<style scoped>\n",
       "    .dataframe tbody tr th:only-of-type {\n",
       "        vertical-align: middle;\n",
       "    }\n",
       "\n",
       "    .dataframe tbody tr th {\n",
       "        vertical-align: top;\n",
       "    }\n",
       "\n",
       "    .dataframe thead th {\n",
       "        text-align: right;\n",
       "    }\n",
       "</style>\n",
       "<table border=\"1\" class=\"dataframe\">\n",
       "  <thead>\n",
       "    <tr style=\"text-align: right;\">\n",
       "      <th></th>\n",
       "      <th>employee_id</th>\n",
       "      <th>annual_inc</th>\n",
       "      <th>employee_title</th>\n",
       "      <th>home_ownership</th>\n",
       "    </tr>\n",
       "  </thead>\n",
       "  <tbody>\n",
       "    <tr>\n",
       "      <th>116</th>\n",
       "      <td>41302339</td>\n",
       "      <td>235000.0</td>\n",
       "      <td>Account Manager</td>\n",
       "      <td>MORTGAGE</td>\n",
       "    </tr>\n",
       "    <tr>\n",
       "      <th>127</th>\n",
       "      <td>31127612</td>\n",
       "      <td>500000.0</td>\n",
       "      <td>CEO</td>\n",
       "      <td>MORTGAGE</td>\n",
       "    </tr>\n",
       "    <tr>\n",
       "      <th>238</th>\n",
       "      <td>370086</td>\n",
       "      <td>250000.0</td>\n",
       "      <td>President</td>\n",
       "      <td>MORTGAGE</td>\n",
       "    </tr>\n",
       "    <tr>\n",
       "      <th>338</th>\n",
       "      <td>43848504</td>\n",
       "      <td>248000.0</td>\n",
       "      <td>Editor</td>\n",
       "      <td>RENT</td>\n",
       "    </tr>\n",
       "    <tr>\n",
       "      <th>370</th>\n",
       "      <td>68317904</td>\n",
       "      <td>250000.0</td>\n",
       "      <td>Speech Therapist</td>\n",
       "      <td>MORTGAGE</td>\n",
       "    </tr>\n",
       "    <tr>\n",
       "      <th>411</th>\n",
       "      <td>31706813</td>\n",
       "      <td>260000.0</td>\n",
       "      <td>Advisor</td>\n",
       "      <td>MORTGAGE</td>\n",
       "    </tr>\n",
       "    <tr>\n",
       "      <th>505</th>\n",
       "      <td>42454613</td>\n",
       "      <td>250000.0</td>\n",
       "      <td>Chief Technology Officer</td>\n",
       "      <td>MORTGAGE</td>\n",
       "    </tr>\n",
       "    <tr>\n",
       "      <th>627</th>\n",
       "      <td>35843557</td>\n",
       "      <td>345000.0</td>\n",
       "      <td>Director</td>\n",
       "      <td>MORTGAGE</td>\n",
       "    </tr>\n",
       "    <tr>\n",
       "      <th>657</th>\n",
       "      <td>4629113</td>\n",
       "      <td>340000.0</td>\n",
       "      <td>Citigroup</td>\n",
       "      <td>RENT</td>\n",
       "    </tr>\n",
       "    <tr>\n",
       "      <th>695</th>\n",
       "      <td>7757331</td>\n",
       "      <td>600000.0</td>\n",
       "      <td>Kildare Capital</td>\n",
       "      <td>RENT</td>\n",
       "    </tr>\n",
       "    <tr>\n",
       "      <th>843</th>\n",
       "      <td>65509222</td>\n",
       "      <td>325000.0</td>\n",
       "      <td>Global solutions leader</td>\n",
       "      <td>MORTGAGE</td>\n",
       "    </tr>\n",
       "    <tr>\n",
       "      <th>855</th>\n",
       "      <td>65651843</td>\n",
       "      <td>225000.0</td>\n",
       "      <td>Dentist</td>\n",
       "      <td>RENT</td>\n",
       "    </tr>\n",
       "    <tr>\n",
       "      <th>863</th>\n",
       "      <td>49282491</td>\n",
       "      <td>500000.0</td>\n",
       "      <td>Vice President</td>\n",
       "      <td>RENT</td>\n",
       "    </tr>\n",
       "    <tr>\n",
       "      <th>873</th>\n",
       "      <td>8332071</td>\n",
       "      <td>265000.0</td>\n",
       "      <td>Cisco Systems</td>\n",
       "      <td>RENT</td>\n",
       "    </tr>\n",
       "    <tr>\n",
       "      <th>946</th>\n",
       "      <td>57415353</td>\n",
       "      <td>310000.0</td>\n",
       "      <td>Senior Vice President</td>\n",
       "      <td>RENT</td>\n",
       "    </tr>\n",
       "    <tr>\n",
       "      <th>950</th>\n",
       "      <td>4026946</td>\n",
       "      <td>275000.0</td>\n",
       "      <td>Sheridan healthcare</td>\n",
       "      <td>MORTGAGE</td>\n",
       "    </tr>\n",
       "    <tr>\n",
       "      <th>955</th>\n",
       "      <td>54259311</td>\n",
       "      <td>225000.0</td>\n",
       "      <td>CEO</td>\n",
       "      <td>MORTGAGE</td>\n",
       "    </tr>\n",
       "  </tbody>\n",
       "</table>\n",
       "</div>"
      ],
      "text/plain": [
       "     employee_id  annual_inc            employee_title home_ownership\n",
       "116     41302339    235000.0           Account Manager       MORTGAGE\n",
       "127     31127612    500000.0                       CEO       MORTGAGE\n",
       "238       370086    250000.0                 President       MORTGAGE\n",
       "338     43848504    248000.0                    Editor           RENT\n",
       "370     68317904    250000.0          Speech Therapist       MORTGAGE\n",
       "411     31706813    260000.0                   Advisor       MORTGAGE\n",
       "505     42454613    250000.0  Chief Technology Officer       MORTGAGE\n",
       "627     35843557    345000.0                  Director       MORTGAGE\n",
       "657      4629113    340000.0                 Citigroup           RENT\n",
       "695      7757331    600000.0           Kildare Capital           RENT\n",
       "843     65509222    325000.0   Global solutions leader       MORTGAGE\n",
       "855     65651843    225000.0                   Dentist           RENT\n",
       "863     49282491    500000.0            Vice President           RENT\n",
       "873      8332071    265000.0             Cisco Systems           RENT\n",
       "946     57415353    310000.0     Senior Vice President           RENT\n",
       "950      4026946    275000.0       Sheridan healthcare       MORTGAGE\n",
       "955     54259311    225000.0                       CEO       MORTGAGE"
      ]
     },
     "execution_count": 98,
     "metadata": {},
     "output_type": "execute_result"
    }
   ],
   "source": [
    "# Contrast this with the following filter:\n",
    "# Q. Find all employees who have an annual_inc of 225000 or more.\n",
    "# Your turn: Can you solve this in-class exercise?\n",
    "df_annual_inc = df.copy()\n",
    "\n",
    "df_annual_inc[(df_annual_inc['annual_inc'] >= 225000)]"
   ]
  },
  {
   "cell_type": "markdown",
   "metadata": {},
   "source": [
    "**Credits**\n",
    "- [Lending Club Loan Data, Kaggle](https://www.kaggle.com/wendykan/lending-club-loan-data) for the dataset\n",
    "<hr>\n",
    "`HWA-DS102-INCLASS-1B-201810`"
   ]
  }
 ],
 "metadata": {
  "kernelspec": {
   "display_name": "Python 3",
   "language": "python",
   "name": "python3"
  },
  "language_info": {
   "codemirror_mode": {
    "name": "ipython",
    "version": 3
   },
   "file_extension": ".py",
   "mimetype": "text/x-python",
   "name": "python",
   "nbconvert_exporter": "python",
   "pygments_lexer": "ipython3",
   "version": "3.7.2"
  }
 },
 "nbformat": 4,
 "nbformat_minor": 2
}
