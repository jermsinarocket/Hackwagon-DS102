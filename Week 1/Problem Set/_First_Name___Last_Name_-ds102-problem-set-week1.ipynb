{
 "cells": [
  {
   "cell_type": "markdown",
   "metadata": {},
   "source": [
    "<center><h2>DS102 Problem Set - Week 1</h2></center>\n",
    "**Hackwagon Academy**\n",
    "\n",
    "`HWA-DS102-PS1-201810`\n",
    "<hr>\n",
    "\n",
    "If you have any questions to the Problem Set, feel free to send a message to your TAs or Instructors in the Telegram chat. You are encouraged to also discuss the problem sets within your own groups.\n",
    "\n",
    "<div class=\"alert alert-success\">Before you start, fill in your details for this notebook and rename the notebook to `<your_name>-problem-set-week-1`, for example `jane-doe-problem-set-week-1`.</div>"
   ]
  },
  {
   "cell_type": "code",
   "execution_count": null,
   "metadata": {
    "ExecuteTime": {
     "end_time": "2018-09-25T00:58:17.680076Z",
     "start_time": "2018-09-25T00:58:17.658209Z"
    }
   },
   "outputs": [],
   "source": [
    "# Rename the notebook. Then, fill in your details here.\n",
    "# Name  : \n",
    "# Class : "
   ]
  },
  {
   "cell_type": "markdown",
   "metadata": {},
   "source": [
    "#### Datasets Required:\n",
    "\n",
    "- `kor-tourist-arrivals.csv`\n",
    "\n",
    "- `kor-tourist-departures.csv`\n",
    "\n",
    "- `spotify-100.csv`\n"
   ]
  },
  {
   "cell_type": "markdown",
   "metadata": {},
   "source": [
    "### Part 1 (7 Marks)\n",
    "\n",
    "The datasets `kor-tourist-arrivals.csv` and `kor-tourist-departures.csv` are given to you. They are taken from the [Korean Tourism Organization](https://kto.visitkorea.or.kr/eng/tourismStatics/keyFacts/KoreaMonthlyStatistics.kto) website. The definition of each column is as follows:\n",
    "\n",
    "<p></p>\n",
    "<center>`kor-tourist-arrivals.csv`</center>\n",
    "\n",
    "\n",
    "| col name | definition | datatype | example |\n",
    "| -------- | ---------- | -------- | ------- |\n",
    "| visitor_arrivals | The number of visitor arrivals | int | 3683779 |\n",
    "| year | The year of tourist arrivals | int | 2010 |\n",
    "\n",
    "\n",
    "<p></p>\n",
    "<p></p>\n",
    "<center>`kor-tourist-departures.csv`</center>\n",
    "\n",
    "| col name | definition | datatype | example |\n",
    "| -------- | ---------- | -------- | ------- |\n",
    "| visitor_departures | The number of visitor departures | int | 13736976 |\n",
    "| year | The year of tourist departures | int | 2010 |\n",
    "\n",
    "Using the datasets, answer the following questions. Mark breakdowns are stated in the question e.g. **`[1]`**. <span style=\"color:darkblue\">**Where stated, both the <u>code</u> and <u>typed answers</u> must be provided to receive full credit.**</span>"
   ]
  },
  {
   "cell_type": "code",
   "execution_count": null,
   "metadata": {
    "ExecuteTime": {
     "end_time": "2018-09-25T00:58:18.630113Z",
     "start_time": "2018-09-25T00:58:17.703922Z"
    }
   },
   "outputs": [],
   "source": [
    "# import the relevant packages\n",
    "import pandas as pd\n",
    "import numpy as np\n",
    "import matplotlib.pyplot as plt"
   ]
  },
  {
   "cell_type": "markdown",
   "metadata": {},
   "source": [
    "** Read from CSV to `df`**\n",
    "\n",
    "Read the data from the `kor-tourist-arrivals.csv` CSV file into a `DataFrame` called `kor_arrivals_df`. Also read the data from the `kor-tourist-departures.csv` CSV file into a `DataFrame` called `kor_departures_df`."
   ]
  },
  {
   "cell_type": "code",
   "execution_count": null,
   "metadata": {
    "ExecuteTime": {
     "end_time": "2018-09-25T00:58:18.643622Z",
     "start_time": "2018-09-25T00:58:18.632913Z"
    }
   },
   "outputs": [],
   "source": [
    "# Read from CSV to df\n",
    "# Write your code here. The code for kor_arrivals_df is done for you.\n",
    "kor_arrivals_df = pd.read_csv('kor-tourist-arrivals.csv')"
   ]
  },
  {
   "cell_type": "markdown",
   "metadata": {},
   "source": [
    "**1A.** \n",
    "\n",
    "**i)** How many records are there in `kor_arrivals_df`? **`[0.5]`**"
   ]
  },
  {
   "cell_type": "code",
   "execution_count": null,
   "metadata": {
    "ExecuteTime": {
     "end_time": "2018-09-25T00:58:18.656680Z",
     "start_time": "2018-09-25T00:58:18.649925Z"
    }
   },
   "outputs": [],
   "source": [
    "# How many records are there in kor_arrivals_df?\n",
    "# Write your code here\n",
    "# \n",
    "\n",
    "# (Type your answer here)\n",
    "# "
   ]
  },
  {
   "cell_type": "markdown",
   "metadata": {},
   "source": [
    "**ii)** What is the earliest and latest year in the tourist arrivals dataset? **`[0.5]`**"
   ]
  },
  {
   "cell_type": "code",
   "execution_count": null,
   "metadata": {
    "ExecuteTime": {
     "end_time": "2018-09-25T00:58:18.671857Z",
     "start_time": "2018-09-25T00:58:18.665134Z"
    }
   },
   "outputs": [],
   "source": [
    "# How many records are there in kor_arrivals_df?\n",
    "# Write your code here\n",
    "# \n",
    "\n",
    "# (Type your answer here)\n",
    "# "
   ]
  },
  {
   "cell_type": "markdown",
   "metadata": {},
   "source": [
    "**1B.** \n",
    "\n",
    "**i)** How many records are there in `kor_departures_df`? **`[0.5]`**"
   ]
  },
  {
   "cell_type": "code",
   "execution_count": null,
   "metadata": {
    "ExecuteTime": {
     "end_time": "2018-09-25T00:58:18.688616Z",
     "start_time": "2018-09-25T00:58:18.676510Z"
    }
   },
   "outputs": [],
   "source": [
    "# How many records are there in kor_departures_df?\n",
    "# Write your code here\n",
    "# \n",
    "\n",
    "# (Type your answer here)\n",
    "# "
   ]
  },
  {
   "cell_type": "markdown",
   "metadata": {},
   "source": [
    "**ii)** What is the earliest and latest year in the tourist departures dataset? **`[0.5]`**"
   ]
  },
  {
   "cell_type": "code",
   "execution_count": null,
   "metadata": {
    "ExecuteTime": {
     "end_time": "2018-09-25T00:58:18.699737Z",
     "start_time": "2018-09-25T00:58:18.692187Z"
    }
   },
   "outputs": [],
   "source": [
    "# What is the earliest and latest year in the tourist departures dataset?\n",
    "# Write your code here\n",
    "# \n",
    "\n",
    "# (Type your answer here)\n",
    "# "
   ]
  },
  {
   "cell_type": "markdown",
   "metadata": {},
   "source": [
    "**1C**. From $2005$ to $2010$, what was the average (mean) number of tourist departures per year? **`[1]`**"
   ]
  },
  {
   "cell_type": "code",
   "execution_count": null,
   "metadata": {
    "ExecuteTime": {
     "end_time": "2018-09-25T00:58:18.714989Z",
     "start_time": "2018-09-25T00:58:18.703499Z"
    }
   },
   "outputs": [],
   "source": [
    "# From 2005 to 2010, what is the average (mean) number of tourist departures per year?\n",
    "# Write your code here\n",
    "# \n",
    "\n",
    "# (Type your answer here)\n",
    "# "
   ]
  },
  {
   "cell_type": "markdown",
   "metadata": {},
   "source": [
    "**1D.** \n",
    "\n",
    "**i)** How many tourist arrivals were there in the year $2004$? **`[0.5]`**"
   ]
  },
  {
   "cell_type": "code",
   "execution_count": null,
   "metadata": {
    "ExecuteTime": {
     "end_time": "2018-09-25T00:58:18.735599Z",
     "start_time": "2018-09-25T00:58:18.718446Z"
    }
   },
   "outputs": [],
   "source": [
    "# How many tourist arrivals were there in the year 2004?\n",
    "# Write your code here\n",
    "# \n",
    "\n",
    "# (Type your answer here)\n",
    "# "
   ]
  },
  {
   "cell_type": "markdown",
   "metadata": {
    "ExecuteTime": {
     "end_time": "2018-09-24T12:54:19.603047Z",
     "start_time": "2018-09-24T12:54:19.598229Z"
    }
   },
   "source": [
    "**ii)** In which year were there $5,347,468$ tourist arrivals? **`[0.5]`**"
   ]
  },
  {
   "cell_type": "code",
   "execution_count": null,
   "metadata": {
    "ExecuteTime": {
     "end_time": "2018-09-25T00:58:18.763842Z",
     "start_time": "2018-09-25T00:58:18.747567Z"
    },
    "scrolled": true
   },
   "outputs": [],
   "source": [
    "# In which year were there 5347468 tourist arrivals?\n",
    "# Write your code here\n",
    "# \n",
    "\n",
    "# (Type your answer here)\n",
    "# "
   ]
  },
  {
   "cell_type": "markdown",
   "metadata": {},
   "source": [
    "**1E**. From 1996 to 2014, in what years were the number of tourist arrivals between $6,000,000$ and $12,000,000$? **`[1]`**"
   ]
  },
  {
   "cell_type": "code",
   "execution_count": null,
   "metadata": {
    "ExecuteTime": {
     "end_time": "2018-09-25T00:58:18.800864Z",
     "start_time": "2018-09-25T00:58:18.767607Z"
    },
    "scrolled": true
   },
   "outputs": [],
   "source": [
    "# From 1996 to 2014, in what years was the number of tourist arrivals between 6000000 and 12000000?\n",
    "# Write your code here\n",
    "# \n",
    "\n",
    "# (Type your answer here)\n",
    "# "
   ]
  },
  {
   "cell_type": "markdown",
   "metadata": {},
   "source": [
    "**1F**. What was the year with the <u>lowest</u> number of departures? **`[1]`**"
   ]
  },
  {
   "cell_type": "code",
   "execution_count": null,
   "metadata": {
    "ExecuteTime": {
     "end_time": "2018-09-25T00:58:18.822694Z",
     "start_time": "2018-09-25T00:58:18.804576Z"
    },
    "scrolled": true
   },
   "outputs": [],
   "source": [
    "# What was the year with the lowest number of departures?\n",
    "# Write your code here\n",
    "# \n",
    "\n",
    "# (Type your answer here)\n",
    "# "
   ]
  },
  {
   "cell_type": "markdown",
   "metadata": {},
   "source": [
    "**1G**. In 2012, how many more / less departures were there, compared to arrivals? **`[1]`**"
   ]
  },
  {
   "cell_type": "code",
   "execution_count": null,
   "metadata": {
    "ExecuteTime": {
     "end_time": "2018-09-25T00:58:18.838439Z",
     "start_time": "2018-09-25T00:58:18.826051Z"
    }
   },
   "outputs": [],
   "source": [
    "# How many more / less departures were there, compared to arrivals in 2012?\n",
    "# Write your code here\n",
    "# \n",
    "\n",
    "# (Type your answer here)\n",
    "# "
   ]
  },
  {
   "cell_type": "markdown",
   "metadata": {},
   "source": [
    "<div class=\"alert alert-success\">\n",
    "**Checkpoint**: When you have completed Part 1, upload your progress to eLearn. eLearn only accepts the latest notebooks so if you have an existing notebook, your latest upload will **override** it.\n",
    "</div>\n",
    "\n",
    "### Part 2 (5 Marks)\n",
    "\n",
    "The dataset `spotify-100.csv` is given to you. They are taken from Kaggle's [Top Spotify Tracks of 2017](https://www.kaggle.com/nadintamer/top-tracks-of-2017). The definition of each column is as follows:\n",
    "\n",
    "<p></p>\n",
    "<center>`spotify-100.csv`</center>\n",
    "\n",
    "| col name | definition | datatype | example |\n",
    "| -------- | ---------- | -------- | ------- |\n",
    "| id | The id of a song | str | 1x5sYLZiu9r5E43kMlt9f |\n",
    "| name | The name of a song | str | Just Hold On |\n",
    "| artists | The artist/s that sang the song | str | Drake |\n",
    "| danceability | Danceability describes how suitable a track is for dancing based on a combination of musical elements including tempo, rhythm stability, beat strength, and overall regularity. A value of 0.0 is least danceable and 1.0 is most danceable. | float | 0.707 | \n",
    "| energy | Energy is a measure from 0.0 to 1.0 and represents a perceptual measure of intensity and activity. Typically, energetic tracks feel fast, loud, and noisy. For example, death metal has high energy, while a Bach prelude scores low on the scale. Perceptual features contributing to this attribute include dynamic range, perceived loudness, timbre, onset rate, and general entropy. | float | 0.932 |\n",
    "| key | The key the track is in. Integers map to pitches using standard Pitch Class notation. E.g. 0 = C, 1 = C♯/D♭, 2 = D, and so on. | float | 11.0 |\n",
    "| instrumentals | Predicts whether a track contains no vocals. \"Ooh\" and \"aah\" sounds are treated as instrumental in this context. Rap or spoken word tracks are clearly \"vocal\". The closer the instrumentalness value is to 1.0, the greater likelihood the track contains no vocal content. Values above 0.5 are intended to represent instrumental tracks, but confidence is higher as the value approaches 1.0. | float | 0.000016 |\n",
    "| duration_ms | The duration of the track in milliseconds. | float | 212459.0 | \n",
    "\n",
    "Using the dataset, answer the following questions. Mark breakdowns are stated in the question e.g. **`[1]`**. <span style=\"color:darkblue\">**Where stated, both the <u>code</u> and <u>typed answers</u> must be provided to receive full credit.**</span>"
   ]
  },
  {
   "cell_type": "markdown",
   "metadata": {},
   "source": [
    "** Read from CSV to `df`**\n",
    "\n",
    "Read the data from `spotify-100.csv` into `DataFrame` called `songs_df`. Specify the `sep` parameter accordingly. Refer to [the documentation](https://pandas.pydata.org/pandas-docs/stable/generated/pandas.read_csv.html) to help you."
   ]
  },
  {
   "cell_type": "code",
   "execution_count": null,
   "metadata": {
    "ExecuteTime": {
     "end_time": "2018-09-25T00:58:18.858184Z",
     "start_time": "2018-09-25T00:58:18.842193Z"
    }
   },
   "outputs": [],
   "source": [
    "# Read from CSV to df\n",
    "# Write your code here. Specify the sep parameter accordingly.\n",
    "#"
   ]
  },
  {
   "cell_type": "markdown",
   "metadata": {},
   "source": [
    "**2A.** What is the song with the lowest `duration_ms` in the dataset? **`[1]`**"
   ]
  },
  {
   "cell_type": "code",
   "execution_count": null,
   "metadata": {
    "ExecuteTime": {
     "end_time": "2018-09-25T00:58:18.872339Z",
     "start_time": "2018-09-25T00:58:18.862611Z"
    }
   },
   "outputs": [],
   "source": [
    "# What is the song with the lowest duration_ms?\n",
    "# Write your code here\n",
    "# \n",
    "\n",
    "# (Type your answer here)\n",
    "# "
   ]
  },
  {
   "cell_type": "markdown",
   "metadata": {},
   "source": [
    "**2B.** What is the mean of the `duration_ms` column in the dataset, ** in seconds**? **`[1]`**"
   ]
  },
  {
   "cell_type": "code",
   "execution_count": null,
   "metadata": {
    "ExecuteTime": {
     "end_time": "2018-09-25T00:58:18.882248Z",
     "start_time": "2018-09-25T00:58:18.877094Z"
    }
   },
   "outputs": [],
   "source": [
    "# What is the mean of the duration_ms column, in seconds?\n",
    "# Write your code here\n",
    "#\n",
    "\n",
    "# (Type your answer here)\n",
    "#"
   ]
  },
  {
   "cell_type": "markdown",
   "metadata": {},
   "source": [
    "**2C.** What is the standard deviation of the `duration_ms` column in the dataset, ** in seconds**? **`[1]`**"
   ]
  },
  {
   "cell_type": "code",
   "execution_count": null,
   "metadata": {
    "ExecuteTime": {
     "end_time": "2018-09-25T00:58:18.899736Z",
     "start_time": "2018-09-25T00:58:18.885963Z"
    }
   },
   "outputs": [],
   "source": [
    "# What is the standard deviation of the duration_ms column, in seconds?\n",
    "# Write your code here\n",
    "#\n",
    "\n",
    "# (Type your answer here)\n",
    "#"
   ]
  },
  {
   "cell_type": "markdown",
   "metadata": {},
   "source": [
    "**2D.** What is the skewness of the `danceability` column in the dataset? Does it mean that the series is right-tailed or left-tailed? **`[1]`**"
   ]
  },
  {
   "cell_type": "code",
   "execution_count": null,
   "metadata": {
    "ExecuteTime": {
     "end_time": "2018-09-25T00:58:18.915768Z",
     "start_time": "2018-09-25T00:58:18.904172Z"
    }
   },
   "outputs": [],
   "source": [
    "# What is the skewness of the danceability column in the dataset?\n",
    "# Write your code here\n",
    "#\n",
    "\n",
    "# (Type your answer here)\n",
    "# \n",
    "\n",
    "# Is the series right-tailed or left-tailed?\n",
    "# (Type your answer here)\n",
    "#"
   ]
  },
  {
   "cell_type": "markdown",
   "metadata": {},
   "source": [
    "**2E.** What is the kurtosis calculation for the `energy` column in the dataset?  **`[1]`**"
   ]
  },
  {
   "cell_type": "code",
   "execution_count": null,
   "metadata": {
    "ExecuteTime": {
     "end_time": "2018-09-25T00:58:18.930432Z",
     "start_time": "2018-09-25T00:58:18.920181Z"
    }
   },
   "outputs": [],
   "source": [
    "# What is the kurtosis calculation for the energy column?\n",
    "# Write your code here\n",
    "#\n",
    "\n",
    "# (Type your answer here)\n",
    "#\n",
    "#"
   ]
  },
  {
   "cell_type": "markdown",
   "metadata": {},
   "source": [
    "<div class=\"alert alert-success\">\n",
    "**Checkpoint**: When you have completed Part 2, upload your progress to eLearn. eLearn only accepts the latest notebooks so if you have an existing notebook, your latest upload will **override** it.\n",
    "</div>"
   ]
  }
 ],
 "metadata": {
  "kernelspec": {
   "display_name": "Python 3",
   "language": "python",
   "name": "python3"
  },
  "language_info": {
   "codemirror_mode": {
    "name": "ipython",
    "version": 3
   },
   "file_extension": ".py",
   "mimetype": "text/x-python",
   "name": "python",
   "nbconvert_exporter": "python",
   "pygments_lexer": "ipython3",
   "version": "3.4.8"
  }
 },
 "nbformat": 4,
 "nbformat_minor": 2
}
